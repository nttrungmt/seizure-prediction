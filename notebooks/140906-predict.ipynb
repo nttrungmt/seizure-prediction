{
 "metadata": {
  "name": "",
  "signature": "sha256:40e301855558efebc0aa41a84beb393dea6c5a6a0d790d4331d57b60b0421fa4"
 },
 "nbformat": 3,
 "nbformat_minor": 0,
 "worksheets": [
  {
   "cells": [
    {
     "cell_type": "code",
     "collapsed": false,
     "input": [
      "%matplotlib inline\n",
      "from matplotlib import pylab as pl\n",
      "import cPickle as pickle\n",
      "import pandas as pd\n",
      "import numpy as np\n",
      "import os\n",
      "import random"
     ],
     "language": "python",
     "metadata": {},
     "outputs": [],
     "prompt_number": 1
    },
    {
     "cell_type": "code",
     "collapsed": false,
     "input": [
      "import sys\n",
      "sys.path.append('..')"
     ],
     "language": "python",
     "metadata": {},
     "outputs": [],
     "prompt_number": 2
    },
    {
     "cell_type": "heading",
     "level": 1,
     "metadata": {},
     "source": [
      "Read precomputed features"
     ]
    },
    {
     "cell_type": "markdown",
     "metadata": {},
     "source": [
      "uncommoent the relevant pipeline in `../seizure_detection.py` and run\n",
      "```bash\n",
      "cd ..\n",
      "./doall predict\n",
      "```"
     ]
    },
    {
     "cell_type": "code",
     "collapsed": false,
     "input": [
      "FEATURES = 'gen4_medianwindow-fft-with-time-freq-corr-1-48-r400-usf-w600'"
     ],
     "language": "python",
     "metadata": {},
     "outputs": [],
     "prompt_number": 3
    },
    {
     "cell_type": "code",
     "collapsed": false,
     "input": [
      "from common.data import CachedDataLoader\n",
      "cached_data_loader = CachedDataLoader('../data-cache')"
     ],
     "language": "python",
     "metadata": {},
     "outputs": [],
     "prompt_number": 4
    },
    {
     "cell_type": "code",
     "collapsed": false,
     "input": [
      "def read_data(target, data_type):\n",
      "    return cached_data_loader.load('data_%s_%s_%s'%(data_type,target,FEATURES),None)"
     ],
     "language": "python",
     "metadata": {},
     "outputs": [],
     "prompt_number": 5
    },
    {
     "cell_type": "heading",
     "level": 1,
     "metadata": {},
     "source": [
      "Predict"
     ]
    },
    {
     "cell_type": "code",
     "collapsed": false,
     "input": [
      "from sklearn.ensemble import RandomForestClassifier\n",
      "from sklearn.cross_validation import StratifiedKFold\n",
      "from sklearn.metrics import roc_auc_score\n",
      "from sklearn.linear_model import LogisticRegression as LR\n",
      "\n",
      "clf = RandomForestClassifier(n_estimators=3000, min_samples_split=1, max_depth=10,\n",
      "                             n_jobs=-1)"
     ],
     "language": "python",
     "metadata": {},
     "outputs": [],
     "prompt_number": 6
    },
    {
     "cell_type": "code",
     "collapsed": false,
     "input": [
      "fpout = open('../submissions/140906-predict.csv','w')\n",
      "print >>fpout,'clip,preictal'"
     ],
     "language": "python",
     "metadata": {},
     "outputs": [],
     "prompt_number": 7
    },
    {
     "cell_type": "code",
     "collapsed": false,
     "input": [
      "for target in ['Dog_1', 'Dog_2', 'Dog_3', 'Dog_4', 'Dog_5', 'Patient_1', 'Patient_2']:\n",
      "    pdata = read_data(target, 'preictal') # positive examples\n",
      "    ndata = read_data(target, 'interictal') # negative examples\n",
      "    X = np.concatenate((pdata.X, ndata.X))\n",
      "    y = np.zeros(X.shape[0])\n",
      "    y[:pdata.X.shape[0]] = 1\n",
      "    # shuffle\n",
      "    idxs=range(len(y))\n",
      "    random.shuffle(idxs)\n",
      "    X = X[idxs,:]\n",
      "    y = y[idxs]\n",
      "    #CV\n",
      "    skf = StratifiedKFold(y, n_folds=3)\n",
      "    y_all_proba = np.zeros(y.shape)\n",
      "    y_all_count = np.zeros(y.shape)\n",
      "\n",
      "    for train, test in skf:\n",
      "        clf.fit(X[train,:],y[train])\n",
      "        y_proba = clf.predict_proba(X[test,:])[:,1]\n",
      "        auc = roc_auc_score(y[test], y_proba)\n",
      "        y_all_proba[test] += y_proba\n",
      "        y_all_count[test] += 1\n",
      "        print auc\n",
      "    y_all_proba /= y_all_count\n",
      "    print target, roc_auc_score(y, y_all_proba)\n",
      "    # calibration model\n",
      "    lr = LR()                                                       \n",
      "    lr.fit( y_all_proba.reshape( -1, 1 ), y )     # LR needs X to be 2-dimensional\n",
      "    # model\n",
      "    clf.fit(X,y)\n",
      "    # predict\n",
      "    tdata = read_data(target, 'test') # test examples\n",
      "    y_proba = clf.predict_proba(tdata.X)[:,1]\n",
      "    y_calibrated = lr.predict_proba(y_proba.reshape( -1, 1 ))[:,1]\n",
      "    # write results\n",
      "    for i,p in enumerate(y_calibrated):\n",
      "        print >>fpout,'%s_test_segment_%04d.mat,%.15f' % (target, i+1, p)"
     ],
     "language": "python",
     "metadata": {},
     "outputs": [
      {
       "output_type": "stream",
       "stream": "stdout",
       "text": [
        "Loaded ../data-cache/data_preictal_Dog_1_gen4_medianwindow-fft-with-time-freq-corr-1-48-r400-usf-w600.hkl in 0s\n",
        "Loaded ../data-cache/data_interictal_Dog_1_gen4_medianwindow-fft-with-time-freq-corr-1-48-r400-usf-w600.hkl in 0s"
       ]
      },
      {
       "output_type": "stream",
       "stream": "stdout",
       "text": [
        "\n",
        "0.980714285714"
       ]
      },
      {
       "output_type": "stream",
       "stream": "stdout",
       "text": [
        "\n",
        "0.955714285714"
       ]
      },
      {
       "output_type": "stream",
       "stream": "stdout",
       "text": [
        "\n",
        "0.992095588235"
       ]
      },
      {
       "output_type": "stream",
       "stream": "stdout",
       "text": [
        "\n",
        "Dog_1 0.974399038462\n",
        "Loaded ../data-cache/data_test_Dog_1_gen4_medianwindow-fft-with-time-freq-corr-1-48-r400-usf-w600.hkl in 0s"
       ]
      },
      {
       "output_type": "stream",
       "stream": "stdout",
       "text": [
        "\n",
        "Loaded ../data-cache/data_preictal_Dog_2_gen4_medianwindow-fft-with-time-freq-corr-1-48-r400-usf-w600.hkl in 0s"
       ]
      },
      {
       "output_type": "stream",
       "stream": "stdout",
       "text": [
        "\n",
        "Loaded ../data-cache/data_interictal_Dog_2_gen4_medianwindow-fft-with-time-freq-corr-1-48-r400-usf-w600.hkl in 0s\n",
        "0.999705507019"
       ]
      },
      {
       "output_type": "stream",
       "stream": "stdout",
       "text": [
        "\n",
        "0.999901835673"
       ]
      },
      {
       "output_type": "stream",
       "stream": "stdout",
       "text": [
        "\n",
        "1.0"
       ]
      },
      {
       "output_type": "stream",
       "stream": "stdout",
       "text": [
        "\n",
        "Dog_2 0.999549450549\n",
        "Loaded ../data-cache/data_test_Dog_2_gen4_medianwindow-fft-with-time-freq-corr-1-48-r400-usf-w600.hkl in 0s"
       ]
      },
      {
       "output_type": "stream",
       "stream": "stdout",
       "text": [
        "\n",
        "Loaded ../data-cache/data_preictal_Dog_3_gen4_medianwindow-fft-with-time-freq-corr-1-48-r400-usf-w600.hkl in 0s"
       ]
      },
      {
       "output_type": "stream",
       "stream": "stdout",
       "text": [
        "\n",
        "Loaded ../data-cache/data_interictal_Dog_3_gen4_medianwindow-fft-with-time-freq-corr-1-48-r400-usf-w600.hkl in 0s"
       ]
      },
      {
       "output_type": "stream",
       "stream": "stdout",
       "text": [
        "\n",
        "0.989342948718"
       ]
      },
      {
       "output_type": "stream",
       "stream": "stdout",
       "text": [
        "\n",
        "0.995813301282"
       ]
      },
      {
       "output_type": "stream",
       "stream": "stdout",
       "text": [
        "\n",
        "0.981069711538"
       ]
      },
      {
       "output_type": "stream",
       "stream": "stdout",
       "text": [
        "\n",
        "Dog_3 0.9888065349\n",
        "Loaded ../data-cache/data_test_Dog_3_gen4_medianwindow-fft-with-time-freq-corr-1-48-r400-usf-w600.hkl in 0s"
       ]
      },
      {
       "output_type": "stream",
       "stream": "stdout",
       "text": [
        "\n",
        "Loaded ../data-cache/data_preictal_Dog_4_gen4_medianwindow-fft-with-time-freq-corr-1-48-r400-usf-w600.hkl in 0s"
       ]
      },
      {
       "output_type": "stream",
       "stream": "stdout",
       "text": [
        "\n",
        "Loaded ../data-cache/data_interictal_Dog_4_gen4_medianwindow-fft-with-time-freq-corr-1-48-r400-usf-w600.hkl in 0s"
       ]
      },
      {
       "output_type": "stream",
       "stream": "stdout",
       "text": [
        "\n",
        "0.990550842908"
       ]
      },
      {
       "output_type": "stream",
       "stream": "stdout",
       "text": [
        "\n",
        "0.984242456781"
       ]
      },
      {
       "output_type": "stream",
       "stream": "stdout",
       "text": [
        "\n",
        "0.988537528186"
       ]
      },
      {
       "output_type": "stream",
       "stream": "stdout",
       "text": [
        "\n",
        "Dog_4 0.987556223678\n",
        "Loaded ../data-cache/data_test_Dog_4_gen4_medianwindow-fft-with-time-freq-corr-1-48-r400-usf-w600.hkl in 0s"
       ]
      },
      {
       "output_type": "stream",
       "stream": "stdout",
       "text": [
        "\n",
        "Loaded ../data-cache/data_preictal_Dog_5_gen4_medianwindow-fft-with-time-freq-corr-1-48-r400-usf-w600.hkl in 0s"
       ]
      },
      {
       "output_type": "stream",
       "stream": "stdout",
       "text": [
        "\n",
        "Loaded ../data-cache/data_interictal_Dog_5_gen4_medianwindow-fft-with-time-freq-corr-1-48-r400-usf-w600.hkl in 0s\n",
        "0.998939393939"
       ]
      },
      {
       "output_type": "stream",
       "stream": "stdout",
       "text": [
        "\n",
        "1.0"
       ]
      },
      {
       "output_type": "stream",
       "stream": "stdout",
       "text": [
        "\n",
        "0.999069767442"
       ]
      },
      {
       "output_type": "stream",
       "stream": "stdout",
       "text": [
        "\n",
        "Dog_5 0.999299145299\n",
        "Loaded ../data-cache/data_test_Dog_5_gen4_medianwindow-fft-with-time-freq-corr-1-48-r400-usf-w600.hkl in 0s"
       ]
      },
      {
       "output_type": "stream",
       "stream": "stdout",
       "text": [
        "\n",
        "Loaded ../data-cache/data_preictal_Patient_1_gen4_medianwindow-fft-with-time-freq-corr-1-48-r400-usf-w600.hkl in 0s"
       ]
      },
      {
       "output_type": "stream",
       "stream": "stdout",
       "text": [
        "\n",
        "Loaded ../data-cache/data_interictal_Patient_1_gen4_medianwindow-fft-with-time-freq-corr-1-48-r400-usf-w600.hkl in 0s\n",
        "1.0"
       ]
      },
      {
       "output_type": "stream",
       "stream": "stdout",
       "text": [
        "\n",
        "1.0"
       ]
      },
      {
       "output_type": "stream",
       "stream": "stdout",
       "text": [
        "\n",
        "1.0"
       ]
      },
      {
       "output_type": "stream",
       "stream": "stdout",
       "text": [
        "\n",
        "Patient_1 0.999743589744\n",
        "Loaded ../data-cache/data_test_Patient_1_gen4_medianwindow-fft-with-time-freq-corr-1-48-r400-usf-w600.hkl in 0s"
       ]
      },
      {
       "output_type": "stream",
       "stream": "stdout",
       "text": [
        "\n",
        "Loaded ../data-cache/data_preictal_Patient_2_gen4_medianwindow-fft-with-time-freq-corr-1-48-r400-usf-w600.hkl in 0s"
       ]
      },
      {
       "output_type": "stream",
       "stream": "stdout",
       "text": [
        "\n",
        "Loaded ../data-cache/data_interictal_Patient_2_gen4_medianwindow-fft-with-time-freq-corr-1-48-r400-usf-w600.hkl in 0s\n",
        "1.0"
       ]
      },
      {
       "output_type": "stream",
       "stream": "stdout",
       "text": [
        "\n",
        "1.0"
       ]
      },
      {
       "output_type": "stream",
       "stream": "stdout",
       "text": [
        "\n",
        "0.989010989011"
       ]
      },
      {
       "output_type": "stream",
       "stream": "stdout",
       "text": [
        "\n",
        "Patient_2 0.9942002442\n",
        "Loaded ../data-cache/data_test_Patient_2_gen4_medianwindow-fft-with-time-freq-corr-1-48-r400-usf-w600.hkl in 0s"
       ]
      },
      {
       "output_type": "stream",
       "stream": "stdout",
       "text": [
        "\n"
       ]
      }
     ],
     "prompt_number": 8
    },
    {
     "cell_type": "code",
     "collapsed": false,
     "input": [
      "fpout.close()"
     ],
     "language": "python",
     "metadata": {},
     "outputs": [],
     "prompt_number": 9
    },
    {
     "cell_type": "code",
     "collapsed": false,
     "input": [],
     "language": "python",
     "metadata": {},
     "outputs": []
    }
   ],
   "metadata": {}
  }
 ]
}