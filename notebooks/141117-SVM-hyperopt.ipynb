{
 "metadata": {
  "name": "",
  "signature": "sha256:0c2573593ba6804ba57366e72a0007a22bd5b42fc6483142002fd08efa4ae650"
 },
 "nbformat": 3,
 "nbformat_minor": 0,
 "worksheets": [
  {
   "cells": [
    {
     "cell_type": "markdown",
     "metadata": {},
     "source": [
      "Manually run this notebooks on all targets"
     ]
    },
    {
     "cell_type": "code",
     "collapsed": false,
     "input": [
      "target = 'Dog_1'"
     ],
     "language": "python",
     "metadata": {},
     "outputs": [],
     "prompt_number": 149
    },
    {
     "cell_type": "code",
     "collapsed": false,
     "input": [
      "%matplotlib inline\n",
      "from matplotlib import pylab as pl\n",
      "import cPickle as pickle\n",
      "import pandas as pd\n",
      "import numpy as np\n",
      "import os\n",
      "import re\n",
      "import math\n",
      "import sys\n",
      "import random\n",
      "from collections import defaultdict"
     ],
     "language": "python",
     "metadata": {},
     "outputs": [],
     "prompt_number": 150
    },
    {
     "cell_type": "code",
     "collapsed": false,
     "input": [
      "import sys\n",
      "sys.path.append('..')\n",
      "from common.data import CachedDataLoader\n",
      "cached_data_loader = CachedDataLoader('../data-cache')\n",
      "def read_data(target, data_type, features):\n",
      "    return cached_data_loader.load('data_%s_%s_%s'%(data_type,target,features),None)"
     ],
     "language": "python",
     "metadata": {},
     "outputs": [],
     "prompt_number": 151
    },
    {
     "cell_type": "heading",
     "level": 1,
     "metadata": {},
     "source": [
      "Read data"
     ]
    },
    {
     "cell_type": "code",
     "collapsed": false,
     "input": [
      "FEATURES = 'gen-8_allbands2-usf-w60-b0.2-b4-b8-b12-b30-b70'\n",
      "FEATURES1 = 'gen-8_maxdiff-60'\n",
      "\n",
      "nbands = 0\n",
      "nwindows = 0\n",
      "for p in FEATURES.split('-'):\n",
      "    if p[0] == 'b':\n",
      "        nbands += 1\n",
      "    elif p[0] == 'w':\n",
      "        nwindows = int(p[1:])\n",
      "\n",
      "nbands -= 1\n",
      "nbands, nwindows"
     ],
     "language": "python",
     "metadata": {},
     "outputs": [
      {
       "metadata": {},
       "output_type": "pyout",
       "prompt_number": 152,
       "text": [
        "(5, 60)"
       ]
      }
     ],
     "prompt_number": 152
    },
    {
     "cell_type": "markdown",
     "metadata": {},
     "source": [
      "each target receive a different model"
     ]
    },
    {
     "cell_type": "markdown",
     "metadata": {},
     "source": [
      "positive examples. The positive examles were upsampled (using `gen_ictal=-8`)"
     ]
    },
    {
     "cell_type": "code",
     "collapsed": false,
     "input": [
      "from common.data import CachedDataLoader\n",
      "cached_data_loader = CachedDataLoader('../data-cache')\n",
      "\n",
      "def read_data(target, data_type, features=FEATURES):\n",
      "    fname = 'data_%s_%s_%s'%(data_type,target,features)\n",
      "    print fname\n",
      "    return cached_data_loader.load(fname,None)\n",
      "\n",
      "def process(X, X1, percentile=[0.05,0.95], nunits=2, mask_level=5000):\n",
      "    N, Nf = X.shape\n",
      "    print '# samples',N,'# power points', Nf\n",
      "    nchannels = Nf / (nbands*nwindows)\n",
      "    print '# channels', nchannels\n",
      "\n",
      "    fix = defaultdict(int)\n",
      "    newX = []\n",
      "    for i in range(N):\n",
      "        nw = nwindows//nunits\n",
      "        windows = X[i,:].reshape((nunits,nw,-1))\n",
      "        mask = X1[i,:].reshape((nunits,nw,-1)) # max value for each channel\n",
      "        for j in range(nunits):\n",
      "            for k in range(nchannels):\n",
      "                m = mask[j,:,k] > mask_level # find large windows\n",
      "                if np.any(m):\n",
      "#                     print 'FIX', sum(m)\n",
      "                    fix[sum(m)] += 1\n",
      "                    if not np.all(m): # make sure we had at least one good window so we can re use its values\n",
      "                        # replace the bands of a large windows with the mean of the bands in all other windows\n",
      "                        windows[j,m,k*nbands:(k+1)*nbands] = np.mean(windows[j,~m,k*nbands:(k+1)*nbands], axis=0)\n",
      "        sorted_windows = np.sort(windows, axis=1)\n",
      "        features = np.concatenate([sorted_windows[:,int(p*nw),:] for p in percentile], axis=-1)\n",
      "        newX.append(features.ravel())\n",
      "    newX = np.array(newX)\n",
      "    print sorted(fix.items())\n",
      "    return newX\n",
      "\n",
      "def getsegments(pdata):\n",
      "    segments = []\n",
      "    start = 0\n",
      "    last_l = 0\n",
      "    for i,l in enumerate(pdata.latencies):\n",
      "        if l<last_l:\n",
      "            segments.append(range(start,i))\n",
      "            start = i\n",
      "        last_l = l\n",
      "    segments.append(range(start,i+1))\n",
      "    return segments\n",
      "\n",
      "def getdata():\n",
      "    pdata = read_data(target, 'preictal') # positive examples\n",
      "    Np, _ = pdata.X.shape\n",
      "    print 'Positive examples',Np,\n",
      "    psegments = getsegments(pdata)\n",
      "    Nps = len(psegments)\n",
      "    print 'sequences:',Nps\n",
      "    \n",
      "\n",
      "    ndata = read_data(target, 'interictal') # negative examples\n",
      "    Nn, _ = ndata.X.shape\n",
      "    print 'Negative',Nn,\n",
      "    nsegments = getsegments(ndata)\n",
      "    Nns = len(nsegments)\n",
      "    print 'sequences:',Nns\n",
      "\n",
      "    X = np.concatenate((pdata.X, ndata.X))\n",
      "    print 'p-ratio',float(Np)/(Np+Nn), 'sequences p-ratio:',float(Nps)/(Nps+Nns)\n",
      "    nsegments = [[s+Np for s in ns] for ns in nsegments]\n",
      "    latencies = np.concatenate((pdata.latencies,ndata.latencies))\n",
      "\n",
      "    pdata1 = read_data(target, 'preictal', FEATURES1) # positive examples\n",
      "    ndata1 = read_data(target, 'interictal', FEATURES1) # negative examples\n",
      "    X1 = np.concatenate((pdata1.X, ndata1.X))\n",
      "\n",
      "    print 'Training:'\n",
      "    X = process(X, X1)\n",
      "    \n",
      "    \n",
      "    y = np.zeros(X.shape[0])\n",
      "    y[:Np] = 1\n",
      "    \n",
      "    print 'Test:'\n",
      "    tdata = read_data(target, 'test') # test examples\n",
      "    tdata1 = read_data(target, 'test', FEATURES1) # test examples\n",
      "    Xt = process(tdata.X, tdata1.X)\n",
      "    \n",
      "    return X,y,Xt,psegments,nsegments,latencies"
     ],
     "language": "python",
     "metadata": {},
     "outputs": [],
     "prompt_number": 153
    },
    {
     "cell_type": "markdown",
     "metadata": {},
     "source": [
      "data is broken into segments that should be taken together when splitting to training and validation"
     ]
    },
    {
     "cell_type": "code",
     "collapsed": false,
     "input": [
      "X,y,Xt,psegments,nsegments,latencies = getdata()"
     ],
     "language": "python",
     "metadata": {},
     "outputs": [
      {
       "output_type": "stream",
       "stream": "stdout",
       "text": [
        "data_preictal_Dog_1_gen-8_allbands2-usf-w60-b0.2-b4-b8-b12-b30-b70\n",
        "Positive examples 184 sequences: 4\n",
        "data_interictal_Dog_1_gen-8_allbands2-usf-w60-b0.2-b4-b8-b12-b30-b70\n",
        "Negative"
       ]
      },
      {
       "output_type": "stream",
       "stream": "stdout",
       "text": [
        " 480 sequences: 80\n",
        "p-ratio 0.277108433735 sequences p-ratio: 0.047619047619\n",
        "data_preictal_Dog_1_gen-8_maxdiff-60\n",
        "data_interictal_Dog_1_gen-8_maxdiff-60\n",
        "Training:\n",
        "# samples 664 # power points 4800\n",
        "# channels 16\n",
        "[]"
       ]
      },
      {
       "output_type": "stream",
       "stream": "stdout",
       "text": [
        "\n",
        "Test:\n",
        "data_test_Dog_1_gen-8_allbands2-usf-w60-b0.2-b4-b8-b12-b30-b70\n",
        "data_test_Dog_1_gen-8_maxdiff-60\n",
        "# samples"
       ]
      },
      {
       "output_type": "stream",
       "stream": "stdout",
       "text": [
        " 502 # power points 4800\n",
        "# channels 16\n",
        "[]"
       ]
      },
      {
       "output_type": "stream",
       "stream": "stdout",
       "text": [
        "\n"
       ]
      }
     ],
     "prompt_number": 154
    },
    {
     "cell_type": "code",
     "collapsed": false,
     "input": [
      "N, NF = X.shape\n",
      "N, NF"
     ],
     "language": "python",
     "metadata": {},
     "outputs": [
      {
       "metadata": {},
       "output_type": "pyout",
       "prompt_number": 155,
       "text": [
        "(664, 320)"
       ]
      }
     ],
     "prompt_number": 155
    },
    {
     "cell_type": "heading",
     "level": 1,
     "metadata": {},
     "source": [
      "Feature Importance"
     ]
    },
    {
     "cell_type": "heading",
     "level": 2,
     "metadata": {},
     "source": [
      "Positive/Negative feature importance"
     ]
    },
    {
     "cell_type": "markdown",
     "metadata": {},
     "source": [
      "I am using RF because it needs very little (hyper) parameter tuning. On purpose I am using a small depth, because I am not interested in the best prediction (which is already high) but with the feature importance after taking into account pair interactions."
     ]
    },
    {
     "cell_type": "code",
     "collapsed": false,
     "input": [
      "from sklearn.ensemble import RandomForestClassifier\n",
      "\n",
      "rf = RandomForestClassifier(n_estimators=1000, n_jobs=-1, oob_score=True, max_depth=2)\n",
      "rf.fit(X, y)"
     ],
     "language": "python",
     "metadata": {},
     "outputs": [
      {
       "metadata": {},
       "output_type": "pyout",
       "prompt_number": 156,
       "text": [
        "RandomForestClassifier(bootstrap=True, compute_importances=None,\n",
        "            criterion='gini', max_depth=2, max_features='auto',\n",
        "            max_leaf_nodes=None, min_density=None, min_samples_leaf=1,\n",
        "            min_samples_split=2, n_estimators=1000, n_jobs=-1,\n",
        "            oob_score=True, random_state=None, verbose=0)"
       ]
      }
     ],
     "prompt_number": 156
    },
    {
     "cell_type": "code",
     "collapsed": false,
     "input": [
      "rf.oob_score_"
     ],
     "language": "python",
     "metadata": {},
     "outputs": [
      {
       "metadata": {},
       "output_type": "pyout",
       "prompt_number": 157,
       "text": [
        "0.72891566265060237"
       ]
      }
     ],
     "prompt_number": 157
    },
    {
     "cell_type": "code",
     "collapsed": false,
     "input": [
      "pnweights = rf.feature_importances_\n",
      "pn_importance_order = pnweights.argsort()[::-1]\n",
      "pl.plot(rf.feature_importances_[pn_importance_order])"
     ],
     "language": "python",
     "metadata": {},
     "outputs": [
      {
       "metadata": {},
       "output_type": "pyout",
       "prompt_number": 158,
       "text": [
        "[<matplotlib.lines.Line2D at 0x114186990>]"
       ]
      },
      {
       "metadata": {},
       "output_type": "display_data",
       "png": "[encoded data removed]",
       "text": [
        "<matplotlib.figure.Figure at 0x11b2f7290>"
       ]
      }
     ],
     "prompt_number": 158
    },
    {
     "cell_type": "heading",
     "level": 1,
     "metadata": {},
     "source": [
      "Classification"
     ]
    },
    {
     "cell_type": "heading",
     "level": 2,
     "metadata": {},
     "source": [
      "hyperopt"
     ]
    },
    {
     "cell_type": "markdown",
     "metadata": {},
     "source": [
      "we will use [Gradient Boosting Classifier](http://scikit-learn.org/stable/modules/generated/sklearn.ensemble.GradientBoostingClassifier.html) which usually gives better results than L1 or RF. In addition, like RF, it does not require normalization or PCA. However, unlike RF or L1 it has many hyper parameters that can effect its performance. In addition we need to decide how many features we want to use which is another hyper-parameter. Instead of manually guessing, we can use the [hyperopt](http://hyperopt.github.io/hyperopt/) to do the guesing for us"
     ]
    },
    {
     "cell_type": "markdown",
     "metadata": {},
     "source": [
      "we will perform several hyperopt search in parallel each running on a different bootstrap sample of the data"
     ]
    },
    {
     "cell_type": "heading",
     "level": 3,
     "metadata": {},
     "source": [
      "shared memory"
     ]
    },
    {
     "cell_type": "markdown",
     "metadata": {},
     "source": [
      "The data itself is identical so there is no need to duplicate it for each process and we will use shared memory (shmem)"
     ]
    },
    {
     "cell_type": "code",
     "collapsed": false,
     "input": [
      "!rm /tmp/X.mmap\n",
      "mmX = np.memmap('/tmp/X.mmap', shape=X.shape, dtype=np.float32, mode='w+')\n",
      "mmX[:,:] = X[:,pn_importance_order]\n",
      "del mmX # flush to disk"
     ],
     "language": "python",
     "metadata": {},
     "outputs": [],
     "prompt_number": 159
    },
    {
     "cell_type": "heading",
     "level": 3,
     "metadata": {},
     "source": [
      "parallel"
     ]
    },
    {
     "cell_type": "markdown",
     "metadata": {},
     "source": [
      "We will use ipython parallel processing infrastructure. Visit [Clusters tab in the Home page of ipython](../tree#clusters) and start 8 engines (or as many cores you have on your machine) from the default profile"
     ]
    },
    {
     "cell_type": "markdown",
     "metadata": {},
     "source": [
      "OR you can run the command line:"
     ]
    },
    {
     "cell_type": "markdown",
     "metadata": {},
     "source": [
      "```bash\n",
      "ipcluster start --n=8\n",
      "```"
     ]
    },
    {
     "cell_type": "markdown",
     "metadata": {},
     "source": [
      "wait a little bit (otherwise you will get an error on next cell)"
     ]
    },
    {
     "cell_type": "code",
     "collapsed": false,
     "input": [
      "#!sleep 30"
     ],
     "language": "python",
     "metadata": {},
     "outputs": [],
     "prompt_number": 160
    },
    {
     "cell_type": "code",
     "collapsed": false,
     "input": [
      "from IPython.parallel import Client\n",
      "client = Client()\n",
      "lv = client.load_balanced_view()\n",
      "#lv.set_flags(block = False, retries = 0)\n",
      "clients=client[:]\n",
      "Ncores = len(clients)\n",
      "Ncores"
     ],
     "language": "python",
     "metadata": {},
     "outputs": [
      {
       "metadata": {},
       "output_type": "pyout",
       "prompt_number": 161,
       "text": [
        "8"
       ]
      }
     ],
     "prompt_number": 161
    },
    {
     "cell_type": "markdown",
     "metadata": {},
     "source": [
      "copy some information to all engines"
     ]
    },
    {
     "cell_type": "code",
     "collapsed": false,
     "input": [
      "X_shape = X.shape\n",
      "clients['X_shape'] = X_shape\n",
      "clients['y'] = y\n",
      "clients['psegments'] = psegments\n",
      "clients['nsegments'] = nsegments"
     ],
     "language": "python",
     "metadata": {},
     "outputs": [],
     "prompt_number": 162
    },
    {
     "cell_type": "markdown",
     "metadata": {},
     "source": [
      "load the shared memory on all engines"
     ]
    },
    {
     "cell_type": "code",
     "collapsed": false,
     "input": [
      "%%px\n",
      "import numpy as np\n",
      "N, NF = X_shape\n",
      "X = np.memmap('/tmp/X.mmap', shape=X_shape, dtype=np.float32, mode='r')"
     ],
     "language": "python",
     "metadata": {},
     "outputs": [],
     "prompt_number": 163
    },
    {
     "cell_type": "code",
     "collapsed": false,
     "input": [
      "%%px\n",
      "import random, itertools\n",
      "def random_train_validation_split(psegments=psegments, nsegments=nsegments, N=N, pratio=1):\n",
      "    \"\"\"Randomly pick one positive segment for validation and a matching number of negative segments\"\"\"\n",
      "    Nps = len(psegments)\n",
      "    assert Nps > 1\n",
      "    Nns = len(nsegments)\n",
      "    assert Nns > 1\n",
      "    npsratio = float(Nns)/Nps\n",
      "    Ntrainps = 1\n",
      "    Ntrainns = min(max(1,int(Ntrainps*npsratio+0.5)), Nns-1) # make sure we have something to train\n",
      "    \n",
      "    s = random.choice(psegments)\n",
      "    ns = random.sample(nsegments,Ntrainns) # sequence based\n",
      "    n = list(itertools.chain(*ns)) # .ravel does not work - elements of nsegments are not of equal length\n",
      "    sample_validate = s + n\n",
      "    random.shuffle(sample_validate)\n",
      "    \n",
      "    \n",
      "    all_p = list(itertools.chain(*psegments))\n",
      "    all_n = list(itertools.chain(*nsegments))\n",
      "\n",
      "    testp = list(set(all_p) - set(s))\n",
      "    if pratio != 1:\n",
      "        testp *= pratio\n",
      "#         ntestp = len(testp)\n",
      "#         boot_ntestp = int(ntestp*pratio)\n",
      "#         w = np.ones(ntestp)/float(ntestp)\n",
      "#         testp = [testp[i] for i, n in enumerate(np.random.multinomial(boot_ntestp, w))\n",
      "#                  for k in xrange(n)]\n",
      "        \n",
      "    testn = list(set(all_n) - set(n))\n",
      "    sample_test = testp + testn\n",
      "    random.shuffle(sample_test)\n",
      "\n",
      "    return sample_test, sample_validate"
     ],
     "language": "python",
     "metadata": {},
     "outputs": [],
     "prompt_number": 164
    },
    {
     "cell_type": "markdown",
     "metadata": {},
     "source": [
      "We will optimize AUC"
     ]
    },
    {
     "cell_type": "code",
     "collapsed": false,
     "input": [
      "%%px\n",
      "import os\n",
      "def hyperopt_work(args):\n",
      "    from lockfile import LockFile\n",
      "    space = args.get('space')\n",
      "    pratio = int(space['pratio'])\n",
      "    sample_train, sample_validate = random_train_validation_split(pratio=pratio)    \n",
      "\n",
      "    X_trn = X[sample_train,:]\n",
      "    y_trn = y[sample_train]\n",
      "    assert y_trn.mean() > 0.01 and y_trn.mean() < 0.99\n",
      "\n",
      "    X_val = X[sample_validate,:]\n",
      "    y_val = y[sample_validate]\n",
      "    \n",
      "    def t_est(args):\n",
      "        try:\n",
      "            from sklearn import svm\n",
      "            from sklearn.pipeline import Pipeline\n",
      "            from sklearn.preprocessing import StandardScaler\n",
      "            svc_clf = svm.SVC(C=70, probability=True)\n",
      "            nrm = StandardScaler()\n",
      "            est = Pipeline([('norm', nrm), ('svc', svc_clf)])\n",
      "\n",
      "            params = dict((k,int(v) if isinstance(v, float) and abs(v - int(v)) < 1e-5 else v)\n",
      "                          for k, v in args.iteritems() if k not in ['nf', 'pratio'])\n",
      "            est.set_params(**params)\n",
      "\n",
      "            nf = int(args['nf'])\n",
      "            est.fit(X_trn[:,:nf].copy(), y_trn)\n",
      "            \n",
      "            y_train = est.predict_proba(X_trn[:,:nf].copy())[:,1]\n",
      "            y_validate = est.predict_proba(X_val[:,:nf].copy())[:,1]\n",
      "            \n",
      "            from sklearn.metrics import roc_auc_score\n",
      "            train_score = roc_auc_score(y_trn, y_train)\n",
      "            validate_score = roc_auc_score(y_val, y_validate)\n",
      "            \n",
      "            lock = LockFile('.lock')\n",
      "            with lock:\n",
      "                with open('../data-cache/hyperopt.txt','a') as fp:\n",
      "                    print >>fp, validate_score, train_score, os.getpid(), args\n",
      "            from hyperopt import STATUS_OK\n",
      "            return {'loss':1.-validate_score, 'status':STATUS_OK, 'pid':os.getpid(),\n",
      "                    'train_score':train_score, 'validate_score':validate_score}\n",
      "        except Exception as e:\n",
      "            lock = LockFile('.lock')\n",
      "            with lock:\n",
      "                with open('../data-cache/hyperopt.txt','a') as fp:\n",
      "                    print >>fp, 'failed', e, args\n",
      "            from hyperopt import STATUS_FAIL\n",
      "            return {'status':STATUS_FAIL, 'loss':1.} # 'loss' is mandatory\n",
      "            \n",
      "    \n",
      "    max_evals = args.get('max_evals', 100)\n",
      "    from hyperopt import fmin, tpe, Trials\n",
      "#     trials = Trials()\n",
      "    best = fmin( t_est, space, algo=tpe.suggest, max_evals=max_evals) #, trials=trials)\n",
      "#     import cPickle as pickle\n",
      "#     lock = LockFile('.lock')\n",
      "#     with lock:\n",
      "#         with open('../data-cache/hyperopt.spkl','ab') as fp:\n",
      "#                 pickle.dump(trials, fp, -1)\n",
      "    return best"
     ],
     "language": "python",
     "metadata": {},
     "outputs": [],
     "prompt_number": 165
    },
    {
     "cell_type": "markdown",
     "metadata": {},
     "source": [
      "Define statistical space in which we will do our hyper-parameter search"
     ]
    },
    {
     "cell_type": "code",
     "collapsed": false,
     "input": [
      "%%px\n",
      "from hyperopt import hp\n",
      "from math import log\n",
      "space = {\n",
      "    'pratio': 1,\n",
      "    'svc__C': hp.loguniform('svc__C', np.log(0.01), np.log(100.)),\n",
      "    'svc__kernel': 'linear', #'sigmoid',# # , 'rbf']),\n",
      "#     'svc__gamma': hp.lognormal('svm_gamma', 0, 1),\n",
      "#     'svc__coef0': hp.lognormal('svc__coef0', 0, 1),\n",
      "#     'svc__shrinking': False,\n",
      "#     'svc__tol': hp.loguniform('svc__tol', np.log(1e-4), np.log(1e-2)),\n",
      "    'nf': hp.quniform( 'nf', 10, NF, 1),\n",
      "}"
     ],
     "language": "python",
     "metadata": {},
     "outputs": [],
     "prompt_number": 166
    },
    {
     "cell_type": "code",
     "collapsed": false,
     "input": [
      "!rm ../data-cache/hyperopt.*"
     ],
     "language": "python",
     "metadata": {},
     "outputs": [],
     "prompt_number": 167
    },
    {
     "cell_type": "markdown",
     "metadata": {},
     "source": [
      "run hyperopt searches in parallel on all cores.\n",
      "Each hyperopt search will do 100 evaluations of the hyper parameters."
     ]
    },
    {
     "cell_type": "code",
     "collapsed": false,
     "input": [
      "%%px\n",
      "hyperopt_work({'space':space, 'max_evals':100})"
     ],
     "language": "python",
     "metadata": {},
     "outputs": [
      {
       "metadata": {},
       "output_type": "display_data",
       "text": [
        "\u001b[0;31mOut[0:152]: \u001b[0m{'nf': 22.0, 'svc__C': 0.01444454605031127}"
       ]
      },
      {
       "metadata": {},
       "output_type": "display_data",
       "text": [
        "\u001b[0;31mOut[1:152]: \u001b[0m{'nf': 16.0, 'svc__C': 0.011004493759453504}"
       ]
      },
      {
       "metadata": {},
       "output_type": "display_data",
       "text": [
        "\u001b[0;31mOut[2:152]: \u001b[0m{'nf': 18.0, 'svc__C': 0.012314140200072128}"
       ]
      },
      {
       "metadata": {},
       "output_type": "display_data",
       "text": [
        "\u001b[0;31mOut[3:152]: \u001b[0m{'nf': 168.0, 'svc__C': 0.01189213723654311}"
       ]
      },
      {
       "metadata": {},
       "output_type": "display_data",
       "text": [
        "\u001b[0;31mOut[4:152]: \u001b[0m{'nf': 276.0, 'svc__C': 16.404797368963067}"
       ]
      },
      {
       "metadata": {},
       "output_type": "display_data",
       "text": [
        "\u001b[0;31mOut[5:152]: \u001b[0m{'nf': 57.0, 'svc__C': 0.059273522584821006}"
       ]
      },
      {
       "metadata": {},
       "output_type": "display_data",
       "text": [
        "\u001b[0;31mOut[6:152]: \u001b[0m{'nf': 16.0, 'svc__C': 0.02012373027467772}"
       ]
      },
      {
       "metadata": {},
       "output_type": "display_data",
       "text": [
        "\u001b[0;31mOut[7:152]: \u001b[0m{'nf': 16.0, 'svc__C': 0.015494710665886055}"
       ]
      }
     ],
     "prompt_number": 168
    },
    {
     "cell_type": "markdown",
     "metadata": {},
     "source": [
      "wait for the jobs to end. This will take some time. Also your computer can get really hot, so use the time to arange some cooling to it."
     ]
    },
    {
     "cell_type": "code",
     "collapsed": false,
     "input": [
      "!sort -n -r ../data-cache/hyperopt.txt > ../data-cache/hyperopt.sort.txt\n",
      "!head -n 5 ../data-cache/hyperopt.sort.txt"
     ],
     "language": "python",
     "metadata": {},
     "outputs": [
      {
       "output_type": "stream",
       "stream": "stdout",
       "text": [
        "0.928260869565 0.90134863124 3079 {'svc__kernel': 'linear', 'svc__C': 0.059273522584821006, 'nf': 57.0, 'pratio': 1}\r\n",
        "0.924275362319 0.901821658615 3079 {'svc__kernel': 'linear', 'svc__C': 0.1824011363027172, 'nf': 52.0, 'pratio': 1}\r\n",
        "0.923007246377 0.898601046699 3079 {'svc__kernel': 'linear', 'svc__C': 0.05240363846153534, 'nf': 58.0, 'pratio': 1}\r\n",
        "0.921739130435 0.90845410628 3079 {'svc__kernel': 'linear', 'svc__C': 0.09376531882041579, 'nf': 61.0, 'pratio': 1}\r\n",
        "0.918297101449 0.907145732689 3079 {'svc__kernel': 'linear', 'svc__C': 0.5651165768018234, 'nf': 55.0, 'pratio': 1}\r\n"
       ]
      }
     ],
     "prompt_number": 169
    },
    {
     "cell_type": "code",
     "collapsed": false,
     "input": [
      "fp = open('../data-cache/hyperopt.sort.txt')\n",
      "hyeropt_results = []\n",
      "for l in fp:\n",
      "    if l.startswith('failed'):\n",
      "        continue\n",
      "    l = l.split()\n",
      "    validate_score = float(l[0])\n",
      "    train_score = float(l[1])\n",
      "    pid = int(l[2])\n",
      "    args = eval(''.join(l[3:]))\n",
      "    hyeropt_results.append((validate_score, train_score, pid, args))\n",
      "fp.close()\n",
      "len(hyeropt_results)"
     ],
     "language": "python",
     "metadata": {},
     "outputs": [
      {
       "metadata": {},
       "output_type": "pyout",
       "prompt_number": 170,
       "text": [
        "800"
       ]
      }
     ],
     "prompt_number": 170
    },
    {
     "cell_type": "heading",
     "level": 2,
     "metadata": {},
     "source": [
      "Predicition/Bagging/Validation"
     ]
    },
    {
     "cell_type": "code",
     "collapsed": false,
     "input": [
      "Nt, NFF = Xt.shape\n",
      "assert NF == NFF\n",
      "Nt, NFF"
     ],
     "language": "python",
     "metadata": {},
     "outputs": [
      {
       "metadata": {},
       "output_type": "pyout",
       "prompt_number": 171,
       "text": [
        "(502, 320)"
       ]
      }
     ],
     "prompt_number": 171
    },
    {
     "cell_type": "code",
     "collapsed": false,
     "input": [
      "!rm /tmp/Xt.mmap\n",
      "Xt_shape = (Nt, NF)\n",
      "mmXt = np.memmap('/tmp/Xt.mmap', shape=Xt_shape, dtype=np.float32, mode='w+')\n",
      "mmXt[:,:] = Xt[:,pn_importance_order]\n",
      "del mmXt # flush to disk"
     ],
     "language": "python",
     "metadata": {},
     "outputs": [],
     "prompt_number": 172
    },
    {
     "cell_type": "code",
     "collapsed": false,
     "input": [
      "clients['Xt_shape'] = Xt_shape\n",
      "clients['target'] = target"
     ],
     "language": "python",
     "metadata": {},
     "outputs": [],
     "prompt_number": 173
    },
    {
     "cell_type": "code",
     "collapsed": false,
     "input": [
      "%%px\n",
      "Xt = np.memmap('/tmp/Xt.mmap', shape=Xt_shape, dtype=np.float32, mode='r')"
     ],
     "language": "python",
     "metadata": {},
     "outputs": [],
     "prompt_number": 174
    },
    {
     "cell_type": "code",
     "collapsed": false,
     "input": [
      "def predict_work(args):\n",
      "    from lockfile import LockFile\n",
      "    from sklearn.ensemble import GradientBoostingClassifier \n",
      "    import cPickle as pickle\n",
      "\n",
      "    N = X_shape[0]\n",
      "    NF = int(args.get('nf', X_shape[1]))\n",
      "    pratio = int(args.get('pratio',1))\n",
      "    # use out-of-bag samples to estimate the generalization error\n",
      "    sample_train, sample_validate = random_train_validation_split(pratio=pratio)    \n",
      "\n",
      "    X_trn = X[sample_train,:NF]\n",
      "    y_trn = y[sample_train]\n",
      "    \n",
      "    X_val = X[sample_validate,:NF]\n",
      "    y_val = y[sample_validate]\n",
      "    \n",
      "    X_test = Xt[:,:NF]\n",
      "    \n",
      "\n",
      "    from sklearn import svm\n",
      "    from sklearn.pipeline import Pipeline\n",
      "    from sklearn.preprocessing import StandardScaler\n",
      "    svc_clf = svm.SVC(C=70, probability=True)\n",
      "    nrm = StandardScaler()\n",
      "    est = Pipeline([('norm', nrm), ('svc', svc_clf)])\n",
      "\n",
      "    params = dict((k,int(v) if isinstance(v, float) and abs(v - int(v)) < 1e-3 else v)\n",
      "                          for k, v in args.iteritems() if k not in ['nf', 'pratio'])\n",
      "    est.set_params(**params)\n",
      "#     est.loss__ = NAUC(2)\n",
      "    try:\n",
      "        est.fit(X_trn.copy(), y_trn)\n",
      "\n",
      "        y_val_est = est.predict_proba(X_val.copy())[:,1]\n",
      "        \n",
      "        y_test_est = est.predict_proba(X_test.copy())[:,1]\n",
      "\n",
      "        lock = LockFile('.lock')\n",
      "        with lock:\n",
      "            with open('../data-cache/validate.spkl','ab') as fp:\n",
      "                # in a later stage we will use the OOB samples to make predictions on all samples\n",
      "                # so keep a record of the index of each OOB sample\n",
      "                pickle.dump((sample_validate,y_val_est), fp, -1)\n",
      "            with open('../data-cache/%s_test.spkl'%target,'ab') as fp:\n",
      "                # in a later stage we will use the OOB samples to make predictions on all samples\n",
      "                # so keep a record of the index of each OOB sample\n",
      "                pickle.dump(y_test_est, fp, -1)\n",
      "    except Exception as e:\n",
      "        return e\n",
      "    from sklearn.metrics import roc_auc_score\n",
      "    #  (their p_ratio will be different) so this error measure is not completely accurate\n",
      "    return roc_auc_score(y_val, y_val_est)"
     ],
     "language": "python",
     "metadata": {},
     "outputs": [],
     "prompt_number": 175
    },
    {
     "cell_type": "code",
     "collapsed": false,
     "input": [
      "!rm ../data-cache/validate.spkl\n",
      "!rm ../data-cache/{target}_test.spkl"
     ],
     "language": "python",
     "metadata": {},
     "outputs": [],
     "prompt_number": 176
    },
    {
     "cell_type": "code",
     "collapsed": false,
     "input": [
      "from collections import defaultdict\n",
      "pid2args_list = defaultdict(list)\n",
      "for res in hyeropt_results:\n",
      "    validation_score = res[0]\n",
      "    test_score = res[1]\n",
      "    pid = res[2]\n",
      "    args = res[3]\n",
      "    pid2args_list[pid].append((validation_score, args))"
     ],
     "language": "python",
     "metadata": {},
     "outputs": [],
     "prompt_number": 177
    },
    {
     "cell_type": "code",
     "collapsed": false,
     "input": [
      "args_list = []\n",
      "for v in pid2args_list.values():\n",
      "    print v[1]\n",
      "    for vv in v[:4]:\n",
      "        args_list.append(vv[1])"
     ],
     "language": "python",
     "metadata": {},
     "outputs": [
      {
       "output_type": "stream",
       "stream": "stdout",
       "text": [
        "(0.924275362319, {'svc__kernel': 'linear', 'svc__C': 0.1824011363027172, 'nf': 52.0, 'pratio': 1})\n",
        "(0.88768115942, {'svc__kernel': 'linear', 'svc__C': 16.404797368963067, 'nf': 276.0, 'pratio': 1})\n",
        "(0.90018115942, {'svc__kernel': 'linear', 'svc__C': 0.02428217248125759, 'nf': 168.0, 'pratio': 1})\n",
        "(0.778804347826, {'svc__kernel': 'linear', 'svc__C': 0.01789815737414057, 'nf': 15.0, 'pratio': 1})\n",
        "(0.796376811594, {'svc__kernel': 'linear', 'svc__C': 0.010561614469297568, 'nf': 13.0, 'pratio': 1})\n",
        "(0.734420289855, {'svc__kernel': 'linear', 'svc__C': 0.03557220024296285, 'nf': 17.0, 'pratio': 1})\n",
        "(0.723188405797, {'svc__kernel': 'linear', 'svc__C': 0.022790862901953337, 'nf': 17.0, 'pratio': 1})\n",
        "(0.692028985507, {'svc__kernel': 'linear', 'svc__C': 0.03742719830581668, 'nf': 18.0, 'pratio': 1})\n"
       ]
      }
     ],
     "prompt_number": 178
    },
    {
     "cell_type": "code",
     "collapsed": false,
     "input": [
      "args_list"
     ],
     "language": "python",
     "metadata": {},
     "outputs": [
      {
       "metadata": {},
       "output_type": "pyout",
       "prompt_number": 179,
       "text": [
        "[{'nf': 57.0,\n",
        "  'pratio': 1,\n",
        "  'svc__C': 0.059273522584821006,\n",
        "  'svc__kernel': 'linear'},\n",
        " {'nf': 52.0,\n",
        "  'pratio': 1,\n",
        "  'svc__C': 0.1824011363027172,\n",
        "  'svc__kernel': 'linear'},\n",
        " {'nf': 58.0,\n",
        "  'pratio': 1,\n",
        "  'svc__C': 0.05240363846153534,\n",
        "  'svc__kernel': 'linear'},\n",
        " {'nf': 61.0,\n",
        "  'pratio': 1,\n",
        "  'svc__C': 0.09376531882041579,\n",
        "  'svc__kernel': 'linear'},\n",
        " {'nf': 276.0,\n",
        "  'pratio': 1,\n",
        "  'svc__C': 23.111102411527316,\n",
        "  'svc__kernel': 'linear'},\n",
        " {'nf': 276.0,\n",
        "  'pratio': 1,\n",
        "  'svc__C': 16.404797368963067,\n",
        "  'svc__kernel': 'linear'},\n",
        " {'nf': 275.0,\n",
        "  'pratio': 1,\n",
        "  'svc__C': 0.45316867801451505,\n",
        "  'svc__kernel': 'linear'},\n",
        " {'nf': 271.0,\n",
        "  'pratio': 1,\n",
        "  'svc__C': 13.165954917787275,\n",
        "  'svc__kernel': 'linear'},\n",
        " {'nf': 168.0,\n",
        "  'pratio': 1,\n",
        "  'svc__C': 0.01189213723654311,\n",
        "  'svc__kernel': 'linear'},\n",
        " {'nf': 168.0,\n",
        "  'pratio': 1,\n",
        "  'svc__C': 0.02428217248125759,\n",
        "  'svc__kernel': 'linear'},\n",
        " {'nf': 169.0,\n",
        "  'pratio': 1,\n",
        "  'svc__C': 0.011184399766794181,\n",
        "  'svc__kernel': 'linear'},\n",
        " {'nf': 172.0,\n",
        "  'pratio': 1,\n",
        "  'svc__C': 0.030851292060746455,\n",
        "  'svc__kernel': 'linear'},\n",
        " {'nf': 16.0,\n",
        "  'pratio': 1,\n",
        "  'svc__C': 0.011004493759453504,\n",
        "  'svc__kernel': 'linear'},\n",
        " {'nf': 15.0,\n",
        "  'pratio': 1,\n",
        "  'svc__C': 0.01789815737414057,\n",
        "  'svc__kernel': 'linear'},\n",
        " {'nf': 22.0,\n",
        "  'pratio': 1,\n",
        "  'svc__C': 0.01077362311541191,\n",
        "  'svc__kernel': 'linear'},\n",
        " {'nf': 24.0,\n",
        "  'pratio': 1,\n",
        "  'svc__C': 0.03219579622916524,\n",
        "  'svc__kernel': 'linear'},\n",
        " {'nf': 22.0,\n",
        "  'pratio': 1,\n",
        "  'svc__C': 0.01444454605031127,\n",
        "  'svc__kernel': 'linear'},\n",
        " {'nf': 13.0,\n",
        "  'pratio': 1,\n",
        "  'svc__C': 0.010561614469297568,\n",
        "  'svc__kernel': 'linear'},\n",
        " {'nf': 14.0,\n",
        "  'pratio': 1,\n",
        "  'svc__C': 0.01152716206627307,\n",
        "  'svc__kernel': 'linear'},\n",
        " {'nf': 11.0,\n",
        "  'pratio': 1,\n",
        "  'svc__C': 0.010315994744334986,\n",
        "  'svc__kernel': 'linear'},\n",
        " {'nf': 16.0,\n",
        "  'pratio': 1,\n",
        "  'svc__C': 0.015494710665886055,\n",
        "  'svc__kernel': 'linear'},\n",
        " {'nf': 17.0,\n",
        "  'pratio': 1,\n",
        "  'svc__C': 0.03557220024296285,\n",
        "  'svc__kernel': 'linear'},\n",
        " {'nf': 15.0,\n",
        "  'pratio': 1,\n",
        "  'svc__C': 0.011719304857896106,\n",
        "  'svc__kernel': 'linear'},\n",
        " {'nf': 15.0,\n",
        "  'pratio': 1,\n",
        "  'svc__C': 0.04603425987974184,\n",
        "  'svc__kernel': 'linear'},\n",
        " {'nf': 18.0,\n",
        "  'pratio': 1,\n",
        "  'svc__C': 0.012314140200072128,\n",
        "  'svc__kernel': 'linear'},\n",
        " {'nf': 17.0,\n",
        "  'pratio': 1,\n",
        "  'svc__C': 0.022790862901953337,\n",
        "  'svc__kernel': 'linear'},\n",
        " {'nf': 11.0,\n",
        "  'pratio': 1,\n",
        "  'svc__C': 0.012309100981176956,\n",
        "  'svc__kernel': 'linear'},\n",
        " {'nf': 11.0,\n",
        "  'pratio': 1,\n",
        "  'svc__C': 0.027988893623160288,\n",
        "  'svc__kernel': 'linear'},\n",
        " {'nf': 16.0,\n",
        "  'pratio': 1,\n",
        "  'svc__C': 0.02012373027467772,\n",
        "  'svc__kernel': 'linear'},\n",
        " {'nf': 18.0,\n",
        "  'pratio': 1,\n",
        "  'svc__C': 0.03742719830581668,\n",
        "  'svc__kernel': 'linear'},\n",
        " {'nf': 13.0,\n",
        "  'pratio': 1,\n",
        "  'svc__C': 0.010432278778815621,\n",
        "  'svc__kernel': 'linear'},\n",
        " {'nf': 12.0,\n",
        "  'pratio': 1,\n",
        "  'svc__C': 0.01208956011600015,\n",
        "  'svc__kernel': 'linear'}]"
       ]
      }
     ],
     "prompt_number": 179
    },
    {
     "cell_type": "code",
     "collapsed": false,
     "input": [
      "results = lv.map(predict_work, args_list*Ncores)"
     ],
     "language": "python",
     "metadata": {},
     "outputs": [],
     "prompt_number": 180
    },
    {
     "cell_type": "code",
     "collapsed": false,
     "input": [
      "import IPython\n",
      "itr = results.__iter__()\n",
      "while True:\n",
      "    try:\n",
      "        r = itr.next()\n",
      "    except StopIteration:\n",
      "        print 'stopped'\n",
      "        break\n",
      "    except IPython.parallel.error.RemoteError as e:\n",
      "        print e\n",
      "        continue\n",
      "    except Exception as e:\n",
      "        print e.__class__\n",
      "        continue\n",
      "    print r"
     ],
     "language": "python",
     "metadata": {},
     "outputs": [
      {
       "output_type": "stream",
       "stream": "stdout",
       "text": [
        "0.645471014493\n",
        "0.758514492754\n",
        "0.54402173913\n",
        "0.396376811594\n",
        "0.637137681159\n",
        "0.485597826087\n",
        "0.721557971014\n",
        "0.615942028986\n",
        "0.423369565217\n",
        "0.884963768116\n",
        "0.882065217391\n",
        "0.511956521739\n",
        "0.78768115942"
       ]
      },
      {
       "output_type": "stream",
       "stream": "stdout",
       "text": [
        "\n",
        "0.803351449275\n",
        "0.580615942029\n",
        "0.838405797101\n",
        "0.722373188406\n",
        "0.739492753623\n",
        "0.68097826087\n",
        "0.78115942029\n",
        "0.764130434783\n",
        "0.848188405797\n",
        "0.83115942029\n",
        "0.791123188406\n",
        "0.867391304348\n",
        "0.750724637681\n",
        "0.732608695652\n",
        "0.757789855072\n",
        "0.797282608696\n",
        "0.764855072464\n",
        "0.71856884058\n",
        "0.746557971014\n",
        "0.610144927536\n",
        "0.718115942029\n",
        "0.438586956522\n",
        "0.554166666667"
       ]
      },
      {
       "output_type": "stream",
       "stream": "stdout",
       "text": [
        "\n",
        "0.81268115942"
       ]
      },
      {
       "output_type": "stream",
       "stream": "stdout",
       "text": [
        "\n",
        "0.797826086957"
       ]
      },
      {
       "output_type": "stream",
       "stream": "stdout",
       "text": [
        "\n",
        "0.771014492754\n",
        "0.817391304348\n",
        "0.510869565217\n",
        "0.623913043478\n",
        "0.452717391304\n",
        "0.860144927536\n",
        "0.888677536232\n",
        "0.850362318841\n",
        "0.778985507246\n",
        "0.797101449275\n",
        "0.865036231884\n",
        "0.784963768116\n",
        "0.688405797101\n",
        "0.852898550725\n",
        "0.766666666667\n",
        "0.700362318841\n",
        "0.797826086957"
       ]
      },
      {
       "output_type": "stream",
       "stream": "stdout",
       "text": [
        "\n",
        "0.644202898551\n",
        "0.736684782609\n",
        "0.871195652174\n",
        "0.720652173913\n",
        "0.827626811594"
       ]
      },
      {
       "output_type": "stream",
       "stream": "stdout",
       "text": [
        "\n",
        "0.791123188406\n",
        "0.723822463768\n",
        "0.544565217391\n",
        "0.865760869565\n",
        "0.653442028986\n",
        "0.640942028986\n",
        "0.876721014493\n",
        "0.866485507246\n",
        "0.623731884058"
       ]
      },
      {
       "output_type": "stream",
       "stream": "stdout",
       "text": [
        "\n",
        "0.70597826087"
       ]
      },
      {
       "output_type": "stream",
       "stream": "stdout",
       "text": [
        "\n",
        "0.50615942029\n",
        "0.822463768116"
       ]
      },
      {
       "output_type": "stream",
       "stream": "stdout",
       "text": [
        "\n",
        "0.547463768116\n",
        "0.675724637681\n",
        "0.709601449275\n",
        "0.885416666667\n",
        "0.797010869565\n",
        "0.839492753623\n",
        "0.861775362319\n",
        "0.732065217391"
       ]
      },
      {
       "output_type": "stream",
       "stream": "stdout",
       "text": [
        "\n",
        "0.641485507246\n",
        "0.725724637681\n",
        "0.705072463768\n",
        "0.764492753623\n",
        "0.775\n",
        "0.823188405797\n",
        "0.646014492754\n",
        "0.845652173913\n",
        "0.645471014493\n",
        "0.899275362319\n",
        "0.569565217391\n",
        "0.775362318841\n",
        "0.821920289855\n",
        "0.739311594203\n",
        "0.84365942029\n",
        "0.713405797101\n",
        "0.511956521739\n",
        "0.839855072464\n",
        "0.589673913043\n",
        "0.851177536232"
       ]
      },
      {
       "output_type": "stream",
       "stream": "stdout",
       "text": [
        "\n",
        "0.869565217391"
       ]
      },
      {
       "output_type": "stream",
       "stream": "stdout",
       "text": [
        "\n",
        "0.810326086957\n",
        "0.733695652174\n",
        "0.84365942029"
       ]
      },
      {
       "output_type": "stream",
       "stream": "stdout",
       "text": [
        "\n",
        "0.907155797101\n",
        "0.891304347826\n",
        "0.474094202899\n",
        "0.687137681159\n",
        "0.791123188406\n",
        "0.784057971014\n",
        "0.745833333333\n",
        "0.817028985507\n",
        "0.780434782609\n",
        "0.780615942029\n",
        "0.728623188406\n",
        "0.722735507246\n",
        "0.889402173913\n",
        "0.627898550725"
       ]
      },
      {
       "output_type": "stream",
       "stream": "stdout",
       "text": [
        "\n",
        "0.787137681159\n",
        "0.821920289855\n",
        "0.893115942029\n",
        "0.838405797101\n",
        "0.730525362319\n",
        "0.798369565217\n",
        "0.83134057971\n",
        "0.713405797101\n",
        "0.78097826087\n",
        "0.722826086957\n",
        "0.839855072464\n",
        "0.523369565217\n",
        "0.56231884058\n",
        "0.710688405797\n",
        "0.441847826087"
       ]
      },
      {
       "output_type": "stream",
       "stream": "stdout",
       "text": [
        "\n",
        "0.873369565217"
       ]
      },
      {
       "output_type": "stream",
       "stream": "stdout",
       "text": [
        "\n",
        "0.801630434783"
       ]
      },
      {
       "output_type": "stream",
       "stream": "stdout",
       "text": [
        "\n",
        "0.748731884058\n",
        "0.67518115942\n",
        "0.532427536232\n",
        "0.623188405797\n",
        "0.760507246377\n",
        "0.737137681159\n",
        "0.8125\n",
        "0.790217391304\n",
        "0.442753623188\n",
        "0.838586956522\n",
        "0.771195652174\n",
        "0.711413043478"
       ]
      },
      {
       "output_type": "stream",
       "stream": "stdout",
       "text": [
        "\n",
        "0.725\n",
        "0.788949275362\n",
        "0.688224637681\n",
        "0.818297101449\n",
        "0.822916666667\n",
        "0.814492753623\n",
        "0.770108695652\n",
        "0.658695652174\n",
        "0.849637681159\n",
        "0.820380434783\n",
        "0.800996376812\n",
        "0.846195652174\n",
        "0.803804347826\n",
        "0.668115942029\n",
        "0.522282608696\n",
        "0.662137681159"
       ]
      },
      {
       "output_type": "stream",
       "stream": "stdout",
       "text": [
        "\n",
        "0.530797101449\n",
        "0.754438405797"
       ]
      },
      {
       "output_type": "stream",
       "stream": "stdout",
       "text": [
        "\n",
        "0.551811594203\n",
        "0.786050724638\n",
        "0.702173913043\n",
        "0.842210144928\n",
        "0.441123188406\n",
        "0.634963768116\n",
        "0.539492753623\n",
        "0.56902173913\n",
        "0.827173913043\n",
        "0.878442028986\n",
        "0.845108695652\n",
        "0.773550724638\n",
        "0.655434782609\n",
        "0.745652173913\n",
        "0.621920289855\n",
        "0.817481884058\n",
        "0.740942028986\n",
        "0.730797101449\n",
        "0.925543478261\n",
        "0.807065217391\n",
        "0.826630434783\n",
        "0.841304347826\n",
        "0.853804347826\n",
        "0.871376811594\n",
        "0.863768115942"
       ]
      },
      {
       "output_type": "stream",
       "stream": "stdout",
       "text": [
        "\n",
        "0.792119565217"
       ]
      },
      {
       "output_type": "stream",
       "stream": "stdout",
       "text": [
        "\n",
        "0.615579710145\n",
        "0.732246376812\n",
        "0.734963768116\n",
        "0.566485507246\n",
        "0.569112318841\n",
        "0.794746376812"
       ]
      },
      {
       "output_type": "stream",
       "stream": "stdout",
       "text": [
        "\n",
        "0.344384057971\n",
        "0.447010869565\n",
        "0.814130434783"
       ]
      },
      {
       "output_type": "stream",
       "stream": "stdout",
       "text": [
        "\n",
        "0.474456521739\n",
        "0.7125\n",
        "0.447101449275\n",
        "0.5625\n",
        "0.725362318841\n",
        "0.844565217391\n",
        "0.727355072464\n",
        "0.56268115942\n",
        "0.596376811594\n",
        "0.902717391304\n",
        "0.739673913043\n",
        "0.809782608696"
       ]
      },
      {
       "output_type": "stream",
       "stream": "stdout",
       "text": [
        "\n",
        "0.717572463768\n",
        "0.727717391304\n",
        "0.869202898551\n",
        "0.783333333333\n",
        "0.761050724638\n",
        "0.875543478261\n",
        "0.748913043478\n",
        "0.741032608696\n",
        "0.836956521739\n",
        "0.771195652174\n",
        "0.815217391304\n",
        "0.745652173913\n",
        "0.586775362319\n",
        "0.68097826087\n",
        "0.748550724638\n",
        "0.58143115942\n",
        "0.414583333333"
       ]
      },
      {
       "output_type": "stream",
       "stream": "stdout",
       "text": [
        "\n",
        "0.503442028986\n",
        "0.570108695652"
       ]
      },
      {
       "output_type": "stream",
       "stream": "stdout",
       "text": [
        "\n",
        "0.759239130435\n",
        "0.840579710145\n",
        "0.691666666667\n",
        "0.238586956522\n",
        "0.486956521739\n",
        "0.79393115942\n",
        "0.647101449275\n",
        "0.729528985507\n",
        "0.75606884058\n",
        "0.546557971014\n",
        "0.679891304348\n",
        "0.740036231884\n",
        "0.693297101449\n",
        "0.715217391304\n",
        "0.661775362319\n",
        "0.702536231884\n",
        "0.795289855072\n",
        "0.867663043478\n",
        "0.803260869565\n",
        "0.512137681159\n",
        "0.840851449275\n",
        "0.669384057971\n",
        "0.705253623188\n",
        "0.69347826087\n",
        "0.702536231884\n",
        "stopped\n"
       ]
      }
     ],
     "prompt_number": 181
    },
    {
     "cell_type": "code",
     "collapsed": false,
     "input": [
      "fp = open('../data-cache/validate.spkl','rb')\n",
      "count = 0\n",
      "y_est = np.zeros(N)\n",
      "y_count = np.zeros(N)\n",
      "vals = []\n",
      "while True:\n",
      "    try:\n",
      "        sample_validate,y_val_est = pickle.load(fp)\n",
      "    except:\n",
      "        break\n",
      "    count += 1\n",
      "    y_est[sample_validate] += y_val_est\n",
      "    y_count[sample_validate] += 1\n",
      "\n",
      "    idx = y_val_est.argsort()[::-1]\n",
      "    n = len(y_val_est)\n",
      "    val_recall_support = np.zeros(n)\n",
      "    p_sum = 0.\n",
      "    for i,j in enumerate(idx):\n",
      "        p_sum += float(y[sample_validate[j]])\n",
      "        val_recall_support[i] = p_sum\n",
      "    val_x = np.linspace(0.,100.,n)\n",
      "    vals.append((val_x, val_recall_support))\n",
      "\n",
      "y_est /= y_count"
     ],
     "language": "python",
     "metadata": {},
     "outputs": [],
     "prompt_number": 182
    },
    {
     "cell_type": "code",
     "collapsed": false,
     "input": [
      "np.sum(y_count == 0)"
     ],
     "language": "python",
     "metadata": {},
     "outputs": [
      {
       "metadata": {},
       "output_type": "pyout",
       "prompt_number": 183,
       "text": [
        "0"
       ]
      }
     ],
     "prompt_number": 183
    },
    {
     "cell_type": "code",
     "collapsed": false,
     "input": [
      "from sklearn.metrics import roc_auc_score\n",
      "y_no_overlap = [r for r,l in zip(y, latencies) if abs(l-int(l)) < 0.01]\n",
      "y_est_no_overlap = [r for r,l in zip(y_est, latencies) if abs(l-int(l)) < 0.01]\n",
      "roc_auc_score(y_no_overlap, y_est_no_overlap)"
     ],
     "language": "python",
     "metadata": {},
     "outputs": [
      {
       "metadata": {},
       "output_type": "pyout",
       "prompt_number": 184,
       "text": [
        "0.72473958333333333"
       ]
      }
     ],
     "prompt_number": 184
    },
    {
     "cell_type": "code",
     "collapsed": false,
     "input": [
      "with open('../data-cache/%s_predict.spkl'%target,'wb') as fp:\n",
      "    pickle.dump((y_no_overlap, y_est_no_overlap), fp, -1)"
     ],
     "language": "python",
     "metadata": {},
     "outputs": [],
     "prompt_number": 185
    },
    {
     "cell_type": "markdown",
     "metadata": {},
     "source": [
      "after running the entire notebook, again and again, on all targets - continue to 141107-GBC-combine"
     ]
    },
    {
     "cell_type": "code",
     "collapsed": false,
     "input": [],
     "language": "python",
     "metadata": {},
     "outputs": [],
     "prompt_number": 185
    }
   ],
   "metadata": {}
  }
 ]
}