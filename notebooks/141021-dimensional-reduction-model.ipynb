{
 "metadata": {
  "name": "",
  "signature": "sha256:da554b922f3574394fcfc142cbac5a0414efaea3352cd31d4fd14b80c516f2e0"
 },
 "nbformat": 3,
 "nbformat_minor": 0,
 "worksheets": [
  {
   "cells": [
    {
     "cell_type": "code",
     "collapsed": false,
     "input": [
      "import sklearn\n",
      "sklearn.__version__"
     ],
     "language": "python",
     "metadata": {},
     "outputs": []
    },
    {
     "cell_type": "code",
     "collapsed": false,
     "input": [
      "import cPickle as pickle\n",
      "import hickle as hkl"
     ],
     "language": "python",
     "metadata": {},
     "outputs": []
    },
    {
     "cell_type": "code",
     "collapsed": false,
     "input": [
      "import sys\n",
      "sys.path.append('..')\n",
      "import seizure.tasks\n",
      "seizure.tasks.task_predict = True\n",
      "\n",
      "from seizure.tasks import load_mat_data, count_mat_data"
     ],
     "language": "python",
     "metadata": {},
     "outputs": []
    },
    {
     "cell_type": "code",
     "collapsed": false,
     "input": [
      "skip = 20"
     ],
     "language": "python",
     "metadata": {},
     "outputs": []
    },
    {
     "cell_type": "code",
     "collapsed": false,
     "input": [
      "data_dir='../filtered-seizure-data'\n"
     ],
     "language": "python",
     "metadata": {},
     "outputs": []
    },
    {
     "cell_type": "code",
     "collapsed": false,
     "input": [
      "for target in ['Dog_1', 'Dog_2', 'Dog_3', 'Dog_4', 'Dog_5', 'Patient_1', 'Patient_2']:\n",
      "    print target\n",
      "    # input size\n",
      "    data_types = ['preictal', 'interictal']\n",
      "    Ns = 0\n",
      "    for data_type in data_types:\n",
      "        for i in count_mat_data(data_dir, target, data_type):\n",
      "            Ns += 1\n",
      "    print 'Number of segments', Ns\n",
      "    \n",
      "    # sample input\n",
      "    Nf = None\n",
      "    i = 0\n",
      "    scount = 0\n",
      "    for data_type in data_types:\n",
      "        mat_data = load_mat_data(data_dir, target, data_type)\n",
      "        for segment in mat_data:\n",
      "            for key in segment.keys():\n",
      "                if not key.startswith('_'):\n",
      "                    break\n",
      "            data = segment[key]['data'][0,0]\n",
      "            if Nf is None:\n",
      "                Nf, N0 = data[:,::skip].shape\n",
      "                N = Ns*N0\n",
      "                print 'Number of channels', Nf, N\n",
      "                X = np.empty((N, Nf))\n",
      "            X[i:i+N0,:] = data[:,::skip].T\n",
      "            i += N0\n",
      "            \n",
      "    # build model from sampled data\n",
      "    import sklearn.decomposition\n",
      "    m = sklearn.decomposition.FastICA()\n",
      "    #m = sklearn.decomposition.PCA(whiten=True)\n",
      "    # m = sklearn.decomposition.RandomizedPCA()\n",
      "    m.fit(X)\n",
      "    \n",
      "    # transform all data\n",
      "    outdir = '../ica-seizure-data/%s'%target\n",
      "    !mkdir -p {outdir}\n",
      "    for data_type in ['preictal', 'interictal', 'test']:\n",
      "        mat_data = load_mat_data(data_dir, target, data_type)\n",
      "        for isegment, segment in enumerate(mat_data):\n",
      "            for key in segment.keys():\n",
      "                if not key.startswith('_'):\n",
      "                    break\n",
      "            try:\n",
      "                sequence = segment[key]['sequence'][0,0][0,0]\n",
      "            except:\n",
      "                sequence = 1\n",
      "            data = segment[key]['data'][0,0]\n",
      "            data = m.transform(data.T).T\n",
      "            foutname = outdir + '/%s_%s_segment_%04d_%d.hkl'%(target, data_type, isegment + 1, sequence)\n",
      "            hkl.dump(data, foutname, mode=\"w\", compression='gzip')"
     ],
     "language": "python",
     "metadata": {},
     "outputs": []
    },
    {
     "cell_type": "code",
     "collapsed": false,
     "input": [],
     "language": "python",
     "metadata": {},
     "outputs": []
    }
   ],
   "metadata": {}
  }
 ]
}