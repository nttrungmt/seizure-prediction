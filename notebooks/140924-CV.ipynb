{
 "metadata": {
  "name": "",
  "signature": "sha256:6be9c665b9179b9deeb751a2ef88b2dbf398ce59e28a40320b68ae3c4609f26e"
 },
 "nbformat": 3,
 "nbformat_minor": 0,
 "worksheets": [
  {
   "cells": [
    {
     "cell_type": "code",
     "collapsed": false,
     "input": [
      "%matplotlib inline\n",
      "from matplotlib import pylab as pl\n",
      "import cPickle as pickle\n",
      "import pandas as pd\n",
      "import numpy as np\n",
      "import os\n",
      "import random\n",
      "from collections import defaultdict"
     ],
     "language": "python",
     "metadata": {},
     "outputs": [],
     "prompt_number": 1
    },
    {
     "cell_type": "code",
     "collapsed": false,
     "input": [
      "import sys\n",
      "sys.path.append('..')"
     ],
     "language": "python",
     "metadata": {},
     "outputs": [],
     "prompt_number": 2
    },
    {
     "cell_type": "heading",
     "level": 1,
     "metadata": {},
     "source": [
      "Read precomputed features"
     ]
    },
    {
     "cell_type": "markdown",
     "metadata": {},
     "source": [
      "uncommoent the relevant pipeline in `../seizure_detection.py` and run\n",
      "```bash\n",
      "cd ..\n",
      "./doall data\n",
      "```"
     ]
    },
    {
     "cell_type": "code",
     "collapsed": false,
     "input": [
      "FEATURES = 'gen-8_medianwindow-bands-usf-w60-b0.2-b4-b8-b12-b30-b70-0.1-0.5-0.9'"
     ],
     "language": "python",
     "metadata": {},
     "outputs": [],
     "prompt_number": 3
    },
    {
     "cell_type": "code",
     "collapsed": false,
     "input": [
      "from common.data import CachedDataLoader\n",
      "cached_data_loader = CachedDataLoader('../data-cache')"
     ],
     "language": "python",
     "metadata": {},
     "outputs": [],
     "prompt_number": 4
    },
    {
     "cell_type": "code",
     "collapsed": false,
     "input": [
      "def read_data(target, data_type):\n",
      "    return cached_data_loader.load('data_%s_%s_%s'%(data_type,target,FEATURES),None)"
     ],
     "language": "python",
     "metadata": {},
     "outputs": [],
     "prompt_number": 5
    },
    {
     "cell_type": "heading",
     "level": 1,
     "metadata": {},
     "source": [
      "Predict"
     ]
    },
    {
     "cell_type": "code",
     "collapsed": false,
     "input": [
      "from sklearn.ensemble import RandomForestClassifier\n",
      "from sklearn.cross_validation import StratifiedKFold\n",
      "from sklearn.metrics import roc_auc_score\n",
      "from sklearn.linear_model import LogisticRegression as LR\n",
      "\n",
      "clf = RandomForestClassifier(n_estimators=3000, min_samples_split=1, bootstrap=False,max_depth=10,\n",
      "                             n_jobs=-1) #"
     ],
     "language": "python",
     "metadata": {},
     "outputs": [],
     "prompt_number": 25
    },
    {
     "cell_type": "code",
     "collapsed": false,
     "input": [
      "with_weights = False\n",
      "suffix = 'max_depth10.'"
     ],
     "language": "python",
     "metadata": {},
     "outputs": [],
     "prompt_number": 26
    },
    {
     "cell_type": "markdown",
     "metadata": {},
     "source": [
      "Compute AUC for each target separatly"
     ]
    },
    {
     "cell_type": "code",
     "collapsed": false,
     "input": [
      "target2iter2ys = {}\n",
      "for target in ['Dog_1', 'Dog_2', 'Dog_3', 'Dog_4', 'Dog_5', 'Patient_1', 'Patient_2']:\n",
      "    # positive examples\n",
      "    pdata = read_data(target, 'preictal')\n",
      "    Np = pdata.X.shape[0]\n",
      "\n",
      "    # split the positive examples into segments, each from the same event\n",
      "    # in each CV-split we will take all examples from the same segment to either train or validate\n",
      "    segments = []\n",
      "    start = 0\n",
      "    last_l = 0\n",
      "    for i,l in enumerate(pdata.latencies):\n",
      "        if l<last_l:\n",
      "            segments.append(np.arange(start,i))\n",
      "            start = i\n",
      "        last_l = l\n",
      "    segments.append(np.arange(start,i+1))\n",
      "    Ns = len(segments)\n",
      "\n",
      "    # negative examples\n",
      "    ndata = read_data(target, 'interictal')\n",
      "    Nn = ndata.X.shape[0]\n",
      "    \n",
      "    npratio = float(Nn)/Np\n",
      "    print target,1/(1+npratio),Ns,Np,Nn\n",
      "\n",
      "    iter2ys = defaultdict(list) # {niter: Ns *[(ytest,y_proba)]\n",
      "    for s in segments:\n",
      "        for niter in range(3):\n",
      "            # each time, take one segment for testing and randomly pick negative examples\n",
      "            Xtestp = pdata.X[s,:]\n",
      "            weightstest = pdata.latencies[s] # latency for first segment is 1\n",
      "\n",
      "            Ntrainp = len(s)\n",
      "            Ntrainn = int(Ntrainp*npratio)\n",
      "            n = np.array(random.sample(xrange(Nn),Ntrainn))\n",
      "            Xtestn = ndata.X[n,:]\n",
      "\n",
      "            Xtrainp = pdata.X[-s,:]\n",
      "            weightsp = pdata.latencies[-s] # latency for first segment is 1\n",
      "            Xtrainn = ndata.X[-n,:]\n",
      "            weightsn = np.ones(Xtrainn.shape[0]) \n",
      "\n",
      "            Xtrain = np.concatenate((Xtrainp,Xtrainn))\n",
      "            weights = np.concatenate((weightsp,weightsn))\n",
      "            ytrain = np.concatenate((np.ones(Ntrainp),np.zeros(Ntrainn)))\n",
      "            perm = np.random.permutation(len(ytrain))\n",
      "            ytrain = ytrain[perm]\n",
      "            Xtrain = Xtrain[perm,:]\n",
      "            weights = weights[perm]\n",
      "\n",
      "            Xtest = np.concatenate((Xtestp,Xtestn))\n",
      "            ytest = np.concatenate((np.ones(Xtestp.shape[0]),np.zeros(Xtestn.shape[0])))\n",
      "\n",
      "            if with_weights:\n",
      "                clf.fit(Xtrain, ytrain, sample_weight=weights)\n",
      "            else:\n",
      "                clf.fit(Xtrain, ytrain)\n",
      "\n",
      "            y_proba = clf.predict_proba(Xtest)[:,1]\n",
      "            iter2ys[niter].append((ytest, y_proba))\n",
      "            \n",
      "            auc = roc_auc_score(ytest, y_proba)\n",
      "            print '%.3f'%auc,Ntrainp,np.mean(weightstest)\n",
      "    target2iter2ys[target] = iter2ys\n",
      "    print"
     ],
     "language": "python",
     "metadata": {},
     "outputs": [
      {
       "output_type": "stream",
       "stream": "stdout",
       "text": [
        "Dog_1 0.277108433735 4 184 480\n",
        "0.864"
       ]
      },
      {
       "output_type": "stream",
       "stream": "stdout",
       "text": [
        " 46 3.5\n",
        "0.824"
       ]
      },
      {
       "output_type": "stream",
       "stream": "stdout",
       "text": [
        " 46 3.5\n",
        "0.875"
       ]
      },
      {
       "output_type": "stream",
       "stream": "stdout",
       "text": [
        " 46 3.5\n",
        "0.332"
       ]
      },
      {
       "output_type": "stream",
       "stream": "stdout",
       "text": [
        " 46 3.5\n",
        "0.378"
       ]
      },
      {
       "output_type": "stream",
       "stream": "stdout",
       "text": [
        " 46 3.5\n",
        "0.354"
       ]
      },
      {
       "output_type": "stream",
       "stream": "stdout",
       "text": [
        " 46 3.5\n",
        "0.615"
       ]
      },
      {
       "output_type": "stream",
       "stream": "stdout",
       "text": [
        " 46 3.5\n",
        "0.632"
       ]
      },
      {
       "output_type": "stream",
       "stream": "stdout",
       "text": [
        " 46 3.5\n",
        "0.532"
       ]
      },
      {
       "output_type": "stream",
       "stream": "stdout",
       "text": [
        " 46 3.5\n",
        "0.596"
       ]
      },
      {
       "output_type": "stream",
       "stream": "stdout",
       "text": [
        " 46 3.5\n",
        "0.607"
       ]
      },
      {
       "output_type": "stream",
       "stream": "stdout",
       "text": [
        " 46 3.5\n",
        "0.660"
       ]
      },
      {
       "output_type": "stream",
       "stream": "stdout",
       "text": [
        " 46 3.5\n",
        "\n",
        "Dog_2 0.391727493917 7 322 500\n",
        "0.998"
       ]
      },
      {
       "output_type": "stream",
       "stream": "stdout",
       "text": [
        " 46 3.5\n",
        "0.993"
       ]
      },
      {
       "output_type": "stream",
       "stream": "stdout",
       "text": [
        " 46 3.5\n",
        "0.984"
       ]
      },
      {
       "output_type": "stream",
       "stream": "stdout",
       "text": [
        " 46 3.5\n",
        "0.968"
       ]
      },
      {
       "output_type": "stream",
       "stream": "stdout",
       "text": [
        " 46 3.5\n",
        "0.976"
       ]
      },
      {
       "output_type": "stream",
       "stream": "stdout",
       "text": [
        " 46 3.5\n",
        "0.898"
       ]
      },
      {
       "output_type": "stream",
       "stream": "stdout",
       "text": [
        " 46 3.5\n",
        "0.966"
       ]
      },
      {
       "output_type": "stream",
       "stream": "stdout",
       "text": [
        " 46 3.5\n",
        "0.944"
       ]
      },
      {
       "output_type": "stream",
       "stream": "stdout",
       "text": [
        " 46 3.5\n",
        "0.957"
       ]
      },
      {
       "output_type": "stream",
       "stream": "stdout",
       "text": [
        " 46 3.5\n",
        "1.000"
       ]
      },
      {
       "output_type": "stream",
       "stream": "stdout",
       "text": [
        " 46 3.5\n",
        "1.000"
       ]
      },
      {
       "output_type": "stream",
       "stream": "stdout",
       "text": [
        " 46 3.5\n",
        "1.000"
       ]
      },
      {
       "output_type": "stream",
       "stream": "stdout",
       "text": [
        " 46 3.5\n",
        "0.986"
       ]
      },
      {
       "output_type": "stream",
       "stream": "stdout",
       "text": [
        " 46 3.5\n",
        "0.991"
       ]
      },
      {
       "output_type": "stream",
       "stream": "stdout",
       "text": [
        " 46 3.5\n",
        "0.932"
       ]
      },
      {
       "output_type": "stream",
       "stream": "stdout",
       "text": [
        " 46 3.5\n",
        "1.000"
       ]
      },
      {
       "output_type": "stream",
       "stream": "stdout",
       "text": [
        " 46 3.5\n",
        "1.000"
       ]
      },
      {
       "output_type": "stream",
       "stream": "stdout",
       "text": [
        " 46 3.5\n",
        "1.000"
       ]
      },
      {
       "output_type": "stream",
       "stream": "stdout",
       "text": [
        " 46 3.5\n",
        "0.781"
       ]
      },
      {
       "output_type": "stream",
       "stream": "stdout",
       "text": [
        " 46 3.5\n",
        "0.597"
       ]
      },
      {
       "output_type": "stream",
       "stream": "stdout",
       "text": [
        " 46 3.5\n",
        "0.646"
       ]
      },
      {
       "output_type": "stream",
       "stream": "stdout",
       "text": [
        " 46 3.5\n",
        "\n",
        "Dog_3 0.277108433735 12 552 1440\n",
        "0.887"
       ]
      },
      {
       "output_type": "stream",
       "stream": "stdout",
       "text": [
        " 46 3.5\n",
        "0.971"
       ]
      },
      {
       "output_type": "stream",
       "stream": "stdout",
       "text": [
        " 46 3.5\n",
        "0.915"
       ]
      },
      {
       "output_type": "stream",
       "stream": "stdout",
       "text": [
        " 46 3.5\n",
        "0.814"
       ]
      },
      {
       "output_type": "stream",
       "stream": "stdout",
       "text": [
        " 46 3.5\n",
        "0.828"
       ]
      },
      {
       "output_type": "stream",
       "stream": "stdout",
       "text": [
        " 46 3.5\n",
        "0.789"
       ]
      },
      {
       "output_type": "stream",
       "stream": "stdout",
       "text": [
        " 46 3.5\n",
        "0.889"
       ]
      },
      {
       "output_type": "stream",
       "stream": "stdout",
       "text": [
        " 46 3.5\n",
        "0.852"
       ]
      },
      {
       "output_type": "stream",
       "stream": "stdout",
       "text": [
        " 46 3.5\n",
        "0.864"
       ]
      },
      {
       "output_type": "stream",
       "stream": "stdout",
       "text": [
        " 46 3.5\n",
        "0.713"
       ]
      },
      {
       "output_type": "stream",
       "stream": "stdout",
       "text": [
        " 46 3.5\n",
        "0.735"
       ]
      },
      {
       "output_type": "stream",
       "stream": "stdout",
       "text": [
        " 46 3.5\n",
        "0.721"
       ]
      },
      {
       "output_type": "stream",
       "stream": "stdout",
       "text": [
        " 46 3.5\n",
        "0.927"
       ]
      },
      {
       "output_type": "stream",
       "stream": "stdout",
       "text": [
        " 46 3.5\n",
        "0.760"
       ]
      },
      {
       "output_type": "stream",
       "stream": "stdout",
       "text": [
        " 46 3.5\n",
        "0.636"
       ]
      },
      {
       "output_type": "stream",
       "stream": "stdout",
       "text": [
        " 46 3.5\n",
        "1.000"
       ]
      },
      {
       "output_type": "stream",
       "stream": "stdout",
       "text": [
        " 46 3.5\n",
        "1.000"
       ]
      },
      {
       "output_type": "stream",
       "stream": "stdout",
       "text": [
        " 46 3.5\n",
        "1.000"
       ]
      },
      {
       "output_type": "stream",
       "stream": "stdout",
       "text": [
        " 46 3.5\n",
        "1.000"
       ]
      },
      {
       "output_type": "stream",
       "stream": "stdout",
       "text": [
        " 46 3.5\n",
        "1.000"
       ]
      },
      {
       "output_type": "stream",
       "stream": "stdout",
       "text": [
        " 46 3.5\n",
        "1.000"
       ]
      },
      {
       "output_type": "stream",
       "stream": "stdout",
       "text": [
        " 46 3.5\n",
        "0.951"
       ]
      },
      {
       "output_type": "stream",
       "stream": "stdout",
       "text": [
        " 46 3.5\n",
        "0.976"
       ]
      },
      {
       "output_type": "stream",
       "stream": "stdout",
       "text": [
        " 46 3.5\n",
        "0.973"
       ]
      },
      {
       "output_type": "stream",
       "stream": "stdout",
       "text": [
        " 46 3.5\n",
        "0.613"
       ]
      },
      {
       "output_type": "stream",
       "stream": "stdout",
       "text": [
        " 46 3.5\n",
        "0.612"
       ]
      },
      {
       "output_type": "stream",
       "stream": "stdout",
       "text": [
        " 46 3.5\n",
        "0.650"
       ]
      },
      {
       "output_type": "stream",
       "stream": "stdout",
       "text": [
        " 46 3.5\n",
        "0.556"
       ]
      },
      {
       "output_type": "stream",
       "stream": "stdout",
       "text": [
        " 46 3.5\n",
        "0.631"
       ]
      },
      {
       "output_type": "stream",
       "stream": "stdout",
       "text": [
        " 46 3.5\n",
        "0.715"
       ]
      },
      {
       "output_type": "stream",
       "stream": "stdout",
       "text": [
        " 46 3.5\n",
        "0.779"
       ]
      },
      {
       "output_type": "stream",
       "stream": "stdout",
       "text": [
        " 46 3.5\n",
        "0.590"
       ]
      },
      {
       "output_type": "stream",
       "stream": "stdout",
       "text": [
        " 46 3.5\n",
        "0.723"
       ]
      },
      {
       "output_type": "stream",
       "stream": "stdout",
       "text": [
        " 46 3.5\n",
        "0.490"
       ]
      },
      {
       "output_type": "stream",
       "stream": "stdout",
       "text": [
        " 46 3.5\n",
        "0.530"
       ]
      },
      {
       "output_type": "stream",
       "stream": "stdout",
       "text": [
        " 46 3.5\n",
        "0.555"
       ]
      },
      {
       "output_type": "stream",
       "stream": "stdout",
       "text": [
        " 46 3.5\n",
        "\n",
        "Dog_4 0.478260869565 17 737 804\n",
        "0.943"
       ]
      },
      {
       "output_type": "stream",
       "stream": "stdout",
       "text": [
        " 46 3.5\n",
        "0.971"
       ]
      },
      {
       "output_type": "stream",
       "stream": "stdout",
       "text": [
        " 46 3.5\n",
        "0.984"
       ]
      },
      {
       "output_type": "stream",
       "stream": "stdout",
       "text": [
        " 46 3.5\n",
        "0.724"
       ]
      },
      {
       "output_type": "stream",
       "stream": "stdout",
       "text": [
        " 46 3.5\n",
        "0.622"
       ]
      },
      {
       "output_type": "stream",
       "stream": "stdout",
       "text": [
        " 46 3.5\n",
        "0.632"
       ]
      },
      {
       "output_type": "stream",
       "stream": "stdout",
       "text": [
        " 46 3.5\n",
        "0.700"
       ]
      },
      {
       "output_type": "stream",
       "stream": "stdout",
       "text": [
        " 46 3.5\n",
        "0.716"
       ]
      },
      {
       "output_type": "stream",
       "stream": "stdout",
       "text": [
        " 46 3.5\n",
        "0.583"
       ]
      },
      {
       "output_type": "stream",
       "stream": "stdout",
       "text": [
        " 46 3.5\n",
        "0.642"
       ]
      },
      {
       "output_type": "stream",
       "stream": "stdout",
       "text": [
        " 37 4.0\n",
        "0.531"
       ]
      },
      {
       "output_type": "stream",
       "stream": "stdout",
       "text": [
        " 37 4.0\n",
        "0.405"
       ]
      },
      {
       "output_type": "stream",
       "stream": "stdout",
       "text": [
        " 37 4.0\n",
        "0.550"
       ]
      },
      {
       "output_type": "stream",
       "stream": "stdout",
       "text": [
        " 19 5.0\n",
        "0.297"
       ]
      },
      {
       "output_type": "stream",
       "stream": "stdout",
       "text": [
        " 19 5.0\n",
        "0.474"
       ]
      },
      {
       "output_type": "stream",
       "stream": "stdout",
       "text": [
        " 19 5.0\n",
        "0.654"
       ]
      },
      {
       "output_type": "stream",
       "stream": "stdout",
       "text": [
        " 46 3.5\n",
        "0.708"
       ]
      },
      {
       "output_type": "stream",
       "stream": "stdout",
       "text": [
        " 46 3.5\n",
        "0.676"
       ]
      },
      {
       "output_type": "stream",
       "stream": "stdout",
       "text": [
        " 46 3.5\n",
        "0.689"
       ]
      },
      {
       "output_type": "stream",
       "stream": "stdout",
       "text": [
        " 46 3.5\n",
        "0.631"
       ]
      },
      {
       "output_type": "stream",
       "stream": "stdout",
       "text": [
        " 46 3.5\n",
        "0.628"
       ]
      },
      {
       "output_type": "stream",
       "stream": "stdout",
       "text": [
        " 46 3.5\n",
        "0.670"
       ]
      },
      {
       "output_type": "stream",
       "stream": "stdout",
       "text": [
        " 37 4.0\n",
        "0.700"
       ]
      },
      {
       "output_type": "stream",
       "stream": "stdout",
       "text": [
        " 37 4.0\n",
        "0.800"
       ]
      },
      {
       "output_type": "stream",
       "stream": "stdout",
       "text": [
        " 37 4.0\n",
        "0.569"
       ]
      },
      {
       "output_type": "stream",
       "stream": "stdout",
       "text": [
        " 46 3.5\n",
        "0.355"
       ]
      },
      {
       "output_type": "stream",
       "stream": "stdout",
       "text": [
        " 46 3.5\n",
        "0.343"
       ]
      },
      {
       "output_type": "stream",
       "stream": "stdout",
       "text": [
        " 46 3.5\n",
        "0.261"
       ]
      },
      {
       "output_type": "stream",
       "stream": "stdout",
       "text": [
        " 46 3.5\n",
        "0.360"
       ]
      },
      {
       "output_type": "stream",
       "stream": "stdout",
       "text": [
        " 46 3.5\n",
        "0.342"
       ]
      },
      {
       "output_type": "stream",
       "stream": "stdout",
       "text": [
        " 46 3.5\n",
        "0.582"
       ]
      },
      {
       "output_type": "stream",
       "stream": "stdout",
       "text": [
        " 46 3.5\n",
        "0.718"
       ]
      },
      {
       "output_type": "stream",
       "stream": "stdout",
       "text": [
        " 46 3.5\n",
        "0.671"
       ]
      },
      {
       "output_type": "stream",
       "stream": "stdout",
       "text": [
        " 46 3.5\n",
        "0.950"
       ]
      },
      {
       "output_type": "stream",
       "stream": "stdout",
       "text": [
        " 46 3.5\n",
        "0.797"
       ]
      },
      {
       "output_type": "stream",
       "stream": "stdout",
       "text": [
        " 46 3.5\n",
        "0.651"
       ]
      },
      {
       "output_type": "stream",
       "stream": "stdout",
       "text": [
        " 46 3.5\n",
        "0.510"
       ]
      },
      {
       "output_type": "stream",
       "stream": "stdout",
       "text": [
        " 46 3.5\n",
        "0.444"
       ]
      },
      {
       "output_type": "stream",
       "stream": "stdout",
       "text": [
        " 46 3.5\n",
        "0.628"
       ]
      },
      {
       "output_type": "stream",
       "stream": "stdout",
       "text": [
        " 46 3.5\n",
        "0.318"
       ]
      },
      {
       "output_type": "stream",
       "stream": "stdout",
       "text": [
        " 46 3.5\n",
        "0.246"
       ]
      },
      {
       "output_type": "stream",
       "stream": "stdout",
       "text": [
        " 46 3.5\n",
        "0.462"
       ]
      },
      {
       "output_type": "stream",
       "stream": "stdout",
       "text": [
        " 46 3.5\n",
        "0.643"
       ]
      },
      {
       "output_type": "stream",
       "stream": "stdout",
       "text": [
        " 46 3.5\n",
        "0.721"
       ]
      },
      {
       "output_type": "stream",
       "stream": "stdout",
       "text": [
        " 46 3.5\n",
        "0.699"
       ]
      },
      {
       "output_type": "stream",
       "stream": "stdout",
       "text": [
        " 46 3.5\n",
        "0.498"
       ]
      },
      {
       "output_type": "stream",
       "stream": "stdout",
       "text": [
        " 46 3.5\n",
        "0.383"
       ]
      },
      {
       "output_type": "stream",
       "stream": "stdout",
       "text": [
        " 46 3.5\n",
        "0.395"
       ]
      },
      {
       "output_type": "stream",
       "stream": "stdout",
       "text": [
        " 46 3.5\n",
        "0.624"
       ]
      },
      {
       "output_type": "stream",
       "stream": "stdout",
       "text": [
        " 46 3.5\n",
        "0.563"
       ]
      },
      {
       "output_type": "stream",
       "stream": "stdout",
       "text": [
        " 46 3.5\n",
        "0.547"
       ]
      },
      {
       "output_type": "stream",
       "stream": "stdout",
       "text": [
        " 46 3.5\n",
        "\n",
        "Dog_5 0.338235294118 5 230 450\n",
        "0.927"
       ]
      },
      {
       "output_type": "stream",
       "stream": "stdout",
       "text": [
        " 46 3.5\n",
        "0.933"
       ]
      },
      {
       "output_type": "stream",
       "stream": "stdout",
       "text": [
        " 46 3.5\n",
        "0.912"
       ]
      },
      {
       "output_type": "stream",
       "stream": "stdout",
       "text": [
        " 46 3.5\n",
        "0.962"
       ]
      },
      {
       "output_type": "stream",
       "stream": "stdout",
       "text": [
        " 46 3.5\n",
        "0.973"
       ]
      },
      {
       "output_type": "stream",
       "stream": "stdout",
       "text": [
        " 46 3.5\n",
        "0.972"
       ]
      },
      {
       "output_type": "stream",
       "stream": "stdout",
       "text": [
        " 46 3.5\n",
        "1.000"
       ]
      },
      {
       "output_type": "stream",
       "stream": "stdout",
       "text": [
        " 46 3.5\n",
        "1.000"
       ]
      },
      {
       "output_type": "stream",
       "stream": "stdout",
       "text": [
        " 46 3.5\n",
        "1.000"
       ]
      },
      {
       "output_type": "stream",
       "stream": "stdout",
       "text": [
        " 46 3.5\n",
        "0.995"
       ]
      },
      {
       "output_type": "stream",
       "stream": "stdout",
       "text": [
        " 46 3.5\n",
        "0.991"
       ]
      },
      {
       "output_type": "stream",
       "stream": "stdout",
       "text": [
        " 46 3.5\n",
        "0.983"
       ]
      },
      {
       "output_type": "stream",
       "stream": "stdout",
       "text": [
        " 46 3.5\n",
        "0.855"
       ]
      },
      {
       "output_type": "stream",
       "stream": "stdout",
       "text": [
        " 46 3.5\n",
        "0.899"
       ]
      },
      {
       "output_type": "stream",
       "stream": "stdout",
       "text": [
        " 46 3.5\n",
        "0.824"
       ]
      },
      {
       "output_type": "stream",
       "stream": "stdout",
       "text": [
        " 46 3.5\n",
        "\n",
        "Patient_1 0.734042553191 3 138 50\n",
        "0.396"
       ]
      },
      {
       "output_type": "stream",
       "stream": "stdout",
       "text": [
        " 46 3.5\n",
        "0.905"
       ]
      },
      {
       "output_type": "stream",
       "stream": "stdout",
       "text": [
        " 46 3.5\n",
        "0.897"
       ]
      },
      {
       "output_type": "stream",
       "stream": "stdout",
       "text": [
        " 46 3.5\n",
        "1.000"
       ]
      },
      {
       "output_type": "stream",
       "stream": "stdout",
       "text": [
        " 46 3.5\n",
        "1.000"
       ]
      },
      {
       "output_type": "stream",
       "stream": "stdout",
       "text": [
        " 46 3.5\n",
        "0.999"
       ]
      },
      {
       "output_type": "stream",
       "stream": "stdout",
       "text": [
        " 46 3.5\n",
        "0.554"
       ]
      },
      {
       "output_type": "stream",
       "stream": "stdout",
       "text": [
        " 46 3.5\n",
        "0.910"
       ]
      },
      {
       "output_type": "stream",
       "stream": "stdout",
       "text": [
        " 46 3.5\n",
        "0.793"
       ]
      },
      {
       "output_type": "stream",
       "stream": "stdout",
       "text": [
        " 46 3.5\n",
        "\n",
        "Patient_2 0.766666666667 3 138 42\n",
        "0.922"
       ]
      },
      {
       "output_type": "stream",
       "stream": "stdout",
       "text": [
        " 46 3.5\n",
        "1.000"
       ]
      },
      {
       "output_type": "stream",
       "stream": "stdout",
       "text": [
        " 46 3.5\n",
        "0.902"
       ]
      },
      {
       "output_type": "stream",
       "stream": "stdout",
       "text": [
        " 46 3.5\n",
        "1.000"
       ]
      },
      {
       "output_type": "stream",
       "stream": "stdout",
       "text": [
        " 46 3.5\n",
        "1.000"
       ]
      },
      {
       "output_type": "stream",
       "stream": "stdout",
       "text": [
        " 46 3.5\n",
        "1.000"
       ]
      },
      {
       "output_type": "stream",
       "stream": "stdout",
       "text": [
        " 46 3.5\n",
        "0.627"
       ]
      },
      {
       "output_type": "stream",
       "stream": "stdout",
       "text": [
        " 46 3.5\n",
        "0.528"
       ]
      },
      {
       "output_type": "stream",
       "stream": "stdout",
       "text": [
        " 46 3.5\n",
        "0.797"
       ]
      },
      {
       "output_type": "stream",
       "stream": "stdout",
       "text": [
        " 46 3.5\n",
        "\n"
       ]
      }
     ],
     "prompt_number": 27
    },
    {
     "cell_type": "code",
     "collapsed": false,
     "input": [
      "fname = '../data-cache/140907-CV.%s%s.pkl'%(suffix, FEATURES)\n",
      "with open(fname,'wb') as fp:\n",
      "    pickle.dump(target2iter2ys,fp,-1)"
     ],
     "language": "python",
     "metadata": {},
     "outputs": [],
     "prompt_number": 28
    },
    {
     "cell_type": "code",
     "collapsed": false,
     "input": [
      "fname"
     ],
     "language": "python",
     "metadata": {},
     "outputs": [
      {
       "metadata": {},
       "output_type": "pyout",
       "prompt_number": 29,
       "text": [
        "'../data-cache/140907-CV.max_depth10.gen-8_medianwindow-bands-usf-w60-b0.2-b4-b8-b12-b30-b70-0.1-0.5-0.9.pkl'"
       ]
      }
     ],
     "prompt_number": 29
    },
    {
     "cell_type": "markdown",
     "metadata": {},
     "source": [
      "Generate a single AUC score"
     ]
    },
    {
     "cell_type": "code",
     "collapsed": false,
     "input": [
      "def p(a,b):\n",
      "    return '%d E%d'%(1000*a,1000*b)\n",
      "\n",
      "for f in [\n",
      "            'max_depth2.gen-8_medianwindow-bands-usf-w60-b0.2-b4-b8-b12-b30-b70-0.1-0.5-0.9',\n",
      "            'max_depth5.gen-8_medianwindow-bands-usf-w60-b0.2-b4-b8-b12-b30-b70-0.1-0.5-0.9',\n",
      "            'max_depth10.gen-8_medianwindow-bands-usf-w60-b0.2-b4-b8-b12-b30-b70-0.1-0.5-0.9',\n",
      "            'gen-8_medianwindow-bands-usf-w60-b0.2-b4-b8-b12-b30-b70-0.1-0.5-0.9',\n",
      "            'n3.gen8_medianwindow1-fft-with-time-freq-corr-1-48-r400-usf-w600',\n",
      "#             'n3.1.gen8_medianwindow-fft-with-time-freq-corr-1-48-r400-usf-w600',\n",
      "#             'n3.w.gen8_medianwindow-fft-with-time-freq-corr-1-48-r400-usf-w600',\n",
      "#             'n3.w.gen16_medianwindow-fft-with-time-freq-corr-1-48-r400-usf-w600',\n",
      "        ]:\n",
      "    all_ytest = all_y_proba =None\n",
      "    all_aucs = []\n",
      "    with open('../data-cache/140907-CV.%s.pkl'%f,'rb') as fp:\n",
      "        target2iter2ys = pickle.load(fp)\n",
      "    for target, iter2ys in target2iter2ys.iteritems():\n",
      "        target_ytest = target_y_proba =None\n",
      "        target_aucs = []\n",
      "        print target,\n",
      "        for ys in iter2ys.itervalues():\n",
      "            ytest = y_proba =None\n",
      "            aucs = []\n",
      "            for y in ys:\n",
      "                yt, yp = y\n",
      "                ytest = yt if ytest is None else np.concatenate((ytest,yt))\n",
      "                y_proba = yp if y_proba is None else np.concatenate((y_proba,yp))\n",
      "                aucs.append(roc_auc_score(yt, yp))\n",
      "            print p(roc_auc_score(ytest, y_proba), np.mean(aucs)),\n",
      "            target_aucs += aucs\n",
      "            target_ytest = ytest if target_ytest is None else np.concatenate((target_ytest,ytest))\n",
      "            target_y_proba = y_proba if target_y_proba is None else np.concatenate((target_y_proba,y_proba))\n",
      "        print target,p(roc_auc_score(target_ytest, target_y_proba),np.mean(target_aucs))\n",
      "        all_aucs += target_aucs        \n",
      "        all_ytest = target_ytest if all_ytest is None else np.concatenate((all_ytest,target_ytest))\n",
      "        all_y_proba = target_y_proba if all_y_proba is None else np.concatenate((all_y_proba,target_y_proba))\n",
      "#         if target == 'Dog_3':\n",
      "#             pl.hist(target_aucs,alpha=0.5)\n",
      "    print f,p(roc_auc_score(all_ytest, all_y_proba),np.mean(all_aucs))\n",
      "    print\n"
     ],
     "language": "python",
     "metadata": {},
     "outputs": [
      {
       "output_type": "stream",
       "stream": "stdout",
       "text": [
        "Dog_2 848 E895 826 E854 850 E875 Dog_2 842 E875\n",
        "Dog_3 733 E758 710 E736 736 E776 Dog_3 727 E757\n",
        "Dog_1 489 E495 468 E462 501 E503 Dog_1 486 E487\n",
        "Dog_4 "
       ]
      },
      {
       "output_type": "stream",
       "stream": "stdout",
       "text": [
        "574 E609 577 E574 562 E592 Dog_4 571 E591\n",
        "Dog_5 826 E873 823 E859 837 E889 Dog_5 830 E874\n",
        "Patient_2 869 E920 923 E939 908 E920 Patient_2 903 E927\n",
        "Patient_1 823 E764 854 E808 769 E772 Patient_1 813 E781\n",
        "max_depth2.gen-8_medianwindow-bands-usf-w60-b0.2-b4-b8-b12-b30-b70-0.1-0.5-0.9 709 E720\n",
        "\n",
        "Dog_2 "
       ]
      },
      {
       "output_type": "stream",
       "stream": "stdout",
       "text": [
        "894 E925 892 E925 913 E945 Dog_2 899 E931\n",
        "Dog_3 775 E786 787 E799 777 E780 Dog_3 780 E788\n",
        "Dog_1 613 E615 585 E578 629 E624 Dog_1 609 E606\n",
        "Dog_4 640 E653 "
       ]
      },
      {
       "output_type": "stream",
       "stream": "stdout",
       "text": [
        "578 E587 599 E613 Dog_4 605 E618\n",
        "Dog_5 937 E932 943 E942 958 E962 Dog_5 946 E945\n",
        "Patient_2 923 E954 916 E973 925 E901 Patient_2 918 E942\n",
        "Patient_1 915 E881 833 E764 863 E860 Patient_1 871 E835\n",
        "max_depth5.gen-8_medianwindow-bands-usf-w60-b0.2-b4-b8-b12-b30-b70-0.1-0.5-0.9 776 E764\n",
        "\n",
        "Dog_2 894 E956 903 E928 "
       ]
      },
      {
       "output_type": "stream",
       "stream": "stdout",
       "text": [
        "875 E916 Dog_2 890 E934\n",
        "Dog_3 792 E801 772 E790 784 E795 Dog_3 784 E795\n",
        "Dog_1 606 E601 624 E610 624 E605 Dog_1 618 E605\n",
        "Dog_4 600 E619 572 E574 "
       ]
      },
      {
       "output_type": "stream",
       "stream": "stdout",
       "text": [
        "576 E583 Dog_4 583 E592\n",
        "Dog_5 948 E947 945 E959 939 E938 Dog_5 944 E948\n",
        "Patient_2 881 E849 888 E842 894 E899 Patient_2 886 E864\n",
        "Patient_1 759 E650 921 E938 887 E896 Patient_1 861 E828\n",
        "max_depth10.gen-8_medianwindow-bands-usf-w60-b0.2-b4-b8-b12-b30-b70-0.1-0.5-0.9 770 E752\n",
        "\n",
        "Dog_2 906 E940 875 E913 901 E929 Dog_2 894 E927\n",
        "Dog_3 774 E788 "
       ]
      },
      {
       "output_type": "stream",
       "stream": "stdout",
       "text": [
        "752 E768 777 E790 Dog_3 768 E782\n",
        "Dog_1 608 E591 637 E638 632 E631 Dog_1 626 E620\n",
        "Dog_4 629 E648 586 E587 578 E583 Dog_4 599 E606\n",
        "Dog_5 961 E962 947 E947 "
       ]
      },
      {
       "output_type": "stream",
       "stream": "stdout",
       "text": [
        "958 E962 Dog_5 955 E957\n",
        "Patient_2 878 E893 835 E922 876 E919 Patient_2 865 E911\n",
        "Patient_1 783 E805 715 E750 912 E911 Patient_1 810 E822\n",
        "gen-8_medianwindow-bands-usf-w60-b0.2-b4-b8-b12-b30-b70-0.1-0.5-0.9 772 E758\n",
        "\n",
        "Dog_2 912 E964 875 E924 880 E925 Dog_2 889 E937\n",
        "Dog_3 715 E724 731 E735 "
       ]
      },
      {
       "output_type": "stream",
       "stream": "stdout",
       "text": [
        "750 E751 Dog_3 732 E737\n",
        "Dog_1 638 E626 626 E633 643 E635 Dog_1 636 E632\n",
        "Dog_4 620 E658 586 E590 591 E608 Dog_4 599 E619\n",
        "Dog_5 940 E951 953 E960 934 E958 Dog_5 942 E956\n",
        "Patient_2 949 E977 "
       ]
      },
      {
       "output_type": "stream",
       "stream": "stdout",
       "text": [
        "874 E822 923 E952 Patient_2 916 E917\n",
        "Patient_1 881 E896 902 E901 915 E923 Patient_1 899 E907\n",
        "n3.gen8_medianwindow1-fft-with-time-freq-corr-1-48-r400-usf-w600 763 E759\n",
        "\n"
       ]
      }
     ],
     "prompt_number": 30
    },
    {
     "cell_type": "code",
     "collapsed": false,
     "input": [],
     "language": "python",
     "metadata": {},
     "outputs": []
    }
   ],
   "metadata": {}
  }
 ]
}