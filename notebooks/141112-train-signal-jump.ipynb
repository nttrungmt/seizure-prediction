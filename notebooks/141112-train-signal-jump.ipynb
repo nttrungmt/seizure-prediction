{
 "metadata": {
  "name": "",
  "signature": "sha256:66a0f6901e3f0688c006fefce79a448db1eecefe4772095ece65144aa2fbd04c"
 },
 "nbformat": 3,
 "nbformat_minor": 0,
 "worksheets": [
  {
   "cells": [
    {
     "cell_type": "code",
     "collapsed": false,
     "input": [
      "%matplotlib inline\n",
      "from matplotlib import pylab as pl\n",
      "import cPickle as pickle\n",
      "import pandas as pd\n",
      "import numpy as np\n",
      "import os\n",
      "import random"
     ],
     "language": "python",
     "metadata": {},
     "outputs": [],
     "prompt_number": 1
    },
    {
     "cell_type": "code",
     "collapsed": false,
     "input": [
      "import scipy.io\n",
      "W=1600\n",
      "good_jump = []\n",
      "bad_jump = []\n",
      "for target in ['Dog_5']: #['Dog_1', 'Dog_2', 'Dog_3', 'Dog_4', 'Dog_5', 'Patient_1', 'Patient_2']:\n",
      "    print target\n",
      "    for data_type in ['preictal', 'interictal']:\n",
      "        last_data = None\n",
      "        for segment in range(1,1000000):\n",
      "            fname = '../seizure-data/%s/%s_%s_segment_%04d.mat'%(target,target,data_type,segment)\n",
      "            try:\n",
      "                data = scipy.io.loadmat(fname)\n",
      "            except:\n",
      "                break\n",
      "            k = '%s_segment_%d'%(data_type,segment)\n",
      "            sequence = data[k]['sequence'][0,0][0,0]\n",
      "            d = data[k]['data'][0,0]\n",
      "\n",
      "            if last_data is not None:\n",
      "                if last_sequence+1 == sequence:\n",
      "                    good_jump.append((last_data,d[:,:W].astype(float))) # copy is critical becayse d[:] is just a window\n",
      "                else:\n",
      "                    bad_jump.append((last_data,d[:,:W].astype(float)))\n",
      "            last_sequence = sequence\n",
      "            last_data = d[:,-W:].astype(float)"
     ],
     "language": "python",
     "metadata": {},
     "outputs": [
      {
       "output_type": "stream",
       "stream": "stdout",
       "text": [
        "Dog_5\n"
       ]
      }
     ],
     "prompt_number": 53
    },
    {
     "cell_type": "code",
     "collapsed": false,
     "input": [
      "len(good_jump),len(bad_jump),np.vstack((good_jump[0][0][:,-1],good_jump[0][1][:,0])).shape"
     ],
     "language": "python",
     "metadata": {},
     "outputs": [
      {
       "metadata": {},
       "output_type": "pyout",
       "prompt_number": 54,
       "text": [
        "(400, 78, (2, 15))"
       ]
      }
     ],
     "prompt_number": 54
    },
    {
     "cell_type": "code",
     "collapsed": false,
     "input": [
      "d.shape,400*10*60"
     ],
     "language": "python",
     "metadata": {},
     "outputs": [
      {
       "metadata": {},
       "output_type": "pyout",
       "prompt_number": 61,
       "text": [
        "((15, 239766), 240000)"
       ]
      }
     ],
     "prompt_number": 61
    },
    {
     "cell_type": "code",
     "collapsed": false,
     "input": [
      "def dotscore(j1, j2):\n",
      "    return -2.*np.dot(j1,j2)/(np.dot(j1,j1) + np.dot(j2,j2))\n",
      "def mydist(v1, v2):\n",
      "    m1 = v1[:,-W:].mean(axis=1)\n",
      "    m2 = v2[:,:W].mean(axis=1)\n",
      "    j1 = v1[:,-1] - m1\n",
      "    j2 = v2[:,0] - m2\n",
      "#     j1 = v1[:,-1]\n",
      "#     j2 = v2[:,0]\n",
      "    score = dotscore(j1,j2)\n",
      "#     q1 = v1[:,-1] - v1[:,-2]\n",
      "#     q2 = v2[:,1] - v2[:,0]\n",
      "#     score = -np.dot(j1,j2)/np.sqrt(np.dot(j1,j1)*np.dot(j2,j2))\n",
      "    return score #np.sqrt(score)"
     ],
     "language": "python",
     "metadata": {},
     "outputs": [],
     "prompt_number": 55
    },
    {
     "cell_type": "code",
     "collapsed": false,
     "input": [
      "def proc(jumps, alpha=1):\n",
      "    import scipy.spatial.distance\n",
      "    jp = np.array([])\n",
      "    for jump in jumps:\n",
      "        j = mydist(jump[0], jump[1])\n",
      "#         j = scipy.spatial.distance.pdist(np.vstack((jump[0][:,-1],jump[1][:,0])),metric='cosine')\n",
      "        jp = np.hstack((jp,j))\n",
      "    print jp.shape\n",
      "    print 'mean',jp.mean()\n",
      "#     jp = np.abs(jp - jp.mean())\n",
      "    lm = np.log(2.)/np.median(jp) # or 1/jp.mean()\n",
      "    print 'lambda',lm\n",
      "    y,x,_=pl.hist(jp, bins=50, alpha=alpha,normed=True);\n",
      "    print np.sum(jp <= -0.6),np.sum(jp > -0.6)\n",
      "    #pl.plot(x,(x[1]-x[0])*len(jp)*lm*np.exp(-lm*x))"
     ],
     "language": "python",
     "metadata": {},
     "outputs": [],
     "prompt_number": 56
    },
    {
     "cell_type": "code",
     "collapsed": false,
     "input": [
      "proc(good_jump)\n",
      "proc(bad_jump, alpha=0.5)"
     ],
     "language": "python",
     "metadata": {},
     "outputs": [
      {
       "output_type": "stream",
       "stream": "stdout",
       "text": [
        "(400,)\n",
        "mean -0.808175878687\n",
        "lambda -0.768294859436\n",
        "364"
       ]
      },
      {
       "output_type": "stream",
       "stream": "stdout",
       "text": [
        " 36\n",
        "(78,)\n",
        "mean 0.00279304713503\n",
        "lambda -58.3155056291\n",
        "0"
       ]
      },
      {
       "output_type": "stream",
       "stream": "stdout",
       "text": [
        " 78\n"
       ]
      },
      {
       "metadata": {},
       "output_type": "display_data",
       "png": "[encoded data removed]",
       "text": [
        "<matplotlib.figure.Figure at 0x11892ff10>"
       ]
      }
     ],
     "prompt_number": 57
    },
    {
     "cell_type": "code",
     "collapsed": false,
     "input": [],
     "language": "python",
     "metadata": {},
     "outputs": [],
     "prompt_number": 135
    },
    {
     "cell_type": "code",
     "collapsed": false,
     "input": [],
     "language": "python",
     "metadata": {},
     "outputs": []
    }
   ],
   "metadata": {}
  }
 ]
}