{
 "metadata": {
  "name": "",
  "signature": "sha256:1bc5121a56cb766fe822a38dfe4eabd9a23c0ec0695fb6fbdac65214172a0635"
 },
 "nbformat": 3,
 "nbformat_minor": 0,
 "worksheets": [
  {
   "cells": [
    {
     "cell_type": "code",
     "collapsed": false,
     "input": [
      "%matplotlib inline\n",
      "from matplotlib import pylab as pl\n",
      "import cPickle as pickle\n",
      "import pandas as pd\n",
      "import numpy as np\n",
      "import os\n",
      "import random\n",
      "from collections import defaultdict"
     ],
     "language": "python",
     "metadata": {},
     "outputs": [],
     "prompt_number": 1
    },
    {
     "cell_type": "code",
     "collapsed": false,
     "input": [
      "from IPython.parallel import Client\n",
      "Ncores = 0\n",
      "while Ncores < 32:\n",
      "    try:\n",
      "        client = Client()\n",
      "        lv = client.load_balanced_view()\n",
      "        #lv.set_flags(block = False, retries = 0)\n",
      "        clients=client[:]\n",
      "        Ncores = len(clients)\n",
      "    except:\n",
      "        Ncores = 0\n",
      "    print Ncores"
     ],
     "language": "python",
     "metadata": {},
     "outputs": [
      {
       "output_type": "stream",
       "stream": "stdout",
       "text": [
        "32\n"
       ]
      }
     ],
     "prompt_number": 3
    },
    {
     "cell_type": "code",
     "collapsed": false,
     "input": [
      "def work(task):\n",
      "    err = 0\n",
      "    import scipy.io\n",
      "    from scipy.signal import resample, hann\n",
      "    import numpy.fft\n",
      "    import hickle as hkl\n",
      "    import numpy as np\n",
      "    \n",
      "    target = task[0]\n",
      "    data_type = task[1]\n",
      "\n",
      "    outdir = '/vol2/seizure-prediction/filtered-seizure-data/%s'%target\n",
      "    \n",
      "    last_sequence = last_data_length_sec = last_Fs = last_channels = last_d_shape = None\n",
      "    prev_data = None\n",
      "    for segment in range(10000):\n",
      "        fname = '/vol2/seizure-prediction/seizure-data/%s/%s_%s_segment_%04d.mat'%(target,target,data_type,segment+1)\n",
      "        try:\n",
      "            err = fname\n",
      "            data = scipy.io.loadmat(fname)\n",
      "            err = 2\n",
      "        except:\n",
      "            break\n",
      "\n",
      "        k = '%s_segment_%d'%(data_type,segment+1)\n",
      "        data_length_sec = data[k]['data_length_sec'][0,0][0,0]\n",
      "        try:\n",
      "            sequence = data[k]['sequence'][0,0][0,0]\n",
      "        except:\n",
      "            sequence = 1\n",
      "        Fs = float(data[k]['sampling_frequency'][0,0][0,0])\n",
      "        channels = [t[0] for t in data[k]['channels'][0,0][0]]\n",
      "        d = data[k]['data'][0,0]\n",
      "\n",
      "        assert len(channels) == d.shape[0]\n",
      "        N = d.shape[1]\n",
      "        assert int(Fs*data_length_sec + 0.5) == N,int(Fs*data_length_sec + 0.5)\n",
      "        assert last_data_length_sec is None or last_data_length_sec == data_length_sec\n",
      "        last_data_length_sec = data_length_sec\n",
      "        assert last_Fs is None or last_Fs == Fs\n",
      "        last_Fs = Fs\n",
      "        assert last_channels is None or all(c1==c2 for c1,c2 in zip(last_channels, channels))\n",
      "        last_channels = channels\n",
      "        assert last_d_shape is None or last_d_shape == d.shape\n",
      "        last_d_shape = d.shape\n",
      "\n",
      "        d = d.astype(float)\n",
      "        \n",
      "        if last_sequence is not None and last_sequence+1 != sequence:\n",
      "            prev_data = None\n",
      "        last_sequence = sequence\n",
      "\n",
      "        # remove ham and resample to 399.61Hz or 239766 samples per segment\n",
      "        if abs(Fs-5000) < 100:\n",
      "            # only Patients need offset correction\n",
      "            if prev_data is not None:\n",
      "                data_offset = d[:,0] - prev_data\n",
      "                d -= data_offset.reshape(-1,1)\n",
      "            prev_data = data[:,-1]\n",
      "\n",
      "            def mynotch(fftfreq, notchfreq=60., notchwidth=5., Fs=Fs):\n",
      "                return np.double(np.abs(np.abs(fftfreq) - notchfreq/Fs) > (notchwidth/2.)/Fs)\n",
      "            data_resamp = resample(d, 239766, axis=-1, window=mynotch)\n",
      "            F = 399.61\n",
      "    #         print np.sum(np.abs(fftfreq - h*notchfreqs) <= notchwidths)/float(N)\n",
      "        else:\n",
      "            data_resamp = d.copy()\n",
      "            F = Fs\n",
      "#             data[k]['sampling_frequency'][0,0][0,0] = F\n",
      "#             data[k]['data'][0,0] = data_resamp\n",
      "        # save result in compressed HDF5, keep the sequence number in the file name\n",
      "        foutname = outdir + '/%s_%s_segment_%04d_%d.hkl'%(target,data_type,segment+1,sequence)\n",
      "        hkl.dump(data_resamp, foutname, mode=\"w\", compression='gzip')\n",
      "    return target, data_type, segment, err"
     ],
     "language": "python",
     "metadata": {},
     "outputs": [],
     "prompt_number": 4
    },
    {
     "cell_type": "code",
     "collapsed": false,
     "input": [
      "data_types = ['preictal', 'interictal', 'test']\n",
      "targets = ['Dog_1', 'Dog_2', 'Dog_3', 'Dog_4', 'Dog_5', 'Patient_1', 'Patient_2']"
     ],
     "language": "python",
     "metadata": {},
     "outputs": [],
     "prompt_number": 5
    },
    {
     "cell_type": "code",
     "collapsed": false,
     "input": [
      "results = lv.map(work, [(t,d) for t in targets for d in data_types])"
     ],
     "language": "python",
     "metadata": {},
     "outputs": [],
     "prompt_number": 6
    },
    {
     "cell_type": "code",
     "collapsed": false,
     "input": [
      "for r in results:\n",
      "    print r"
     ],
     "language": "python",
     "metadata": {},
     "outputs": []
    },
    {
     "cell_type": "code",
     "collapsed": false,
     "input": [],
     "language": "python",
     "metadata": {},
     "outputs": []
    }
   ],
   "metadata": {}
  }
 ]
}