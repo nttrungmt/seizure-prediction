{
 "metadata": {
  "name": "",
  "signature": "sha256:ca57423f5e6346201d6650852f8ff49f903070c94a510ddd3d81095f17dd1521"
 },
 "nbformat": 3,
 "nbformat_minor": 0,
 "worksheets": [
  {
   "cells": [
    {
     "cell_type": "markdown",
     "metadata": {},
     "source": [
      "Run Random Forest after combining two feature sets"
     ]
    },
    {
     "cell_type": "code",
     "collapsed": false,
     "input": [
      "%matplotlib inline\n",
      "from matplotlib import pylab as pl\n",
      "import cPickle as pickle\n",
      "import pandas as pd\n",
      "import numpy as np\n",
      "import os\n",
      "import random"
     ],
     "language": "python",
     "metadata": {},
     "outputs": [],
     "prompt_number": 1
    },
    {
     "cell_type": "code",
     "collapsed": false,
     "input": [
      "import sys \n",
      "sys.path.append('..')"
     ],
     "language": "python",
     "metadata": {},
     "outputs": [],
     "prompt_number": 2
    },
    {
     "cell_type": "heading",
     "level": 1,
     "metadata": {},
     "source": [
      "Read precomputed features"
     ]
    },
    {
     "cell_type": "markdown",
     "metadata": {},
     "source": [
      "uncommoent the relevant pipeline in `../seizure_detection.py` and run\n",
      "```bash\n",
      "cd ..\n",
      "./doall data\n",
      "```\n",
      "or\n",
      "```bash\n",
      "./doall td\n",
      "./doall tt\n",
      "```"
     ]
    },
    {
     "cell_type": "code",
     "collapsed": false,
     "input": [
      "FEATURES0 = 'gen-8_medianwindow1-bands2-usf-w60-b0.2-b4-b8-b12-b30-b70-0.1-0.5-0.9'\n",
      "FEATURES1 = 'gen-8_medianwindow1-bands2-usf2-w60-b0.2-b4-b8-b12-b30-b70-0.1-0.5-0.9'"
     ],
     "language": "python",
     "metadata": {},
     "outputs": [],
     "prompt_number": 3
    },
    {
     "cell_type": "code",
     "collapsed": false,
     "input": [
      "from common.data import CachedDataLoader\n",
      "cached_data_loader = CachedDataLoader('../data-cache')"
     ],
     "language": "python",
     "metadata": {},
     "outputs": [],
     "prompt_number": 4
    },
    {
     "cell_type": "code",
     "collapsed": false,
     "input": [
      "def read_data(target, data_type, features):\n",
      "    fname = 'data_%s_%s_%s'%(data_type,target,features)\n",
      "    print fname\n",
      "    return cached_data_loader.load(fname,None)"
     ],
     "language": "python",
     "metadata": {},
     "outputs": [],
     "prompt_number": 5
    },
    {
     "cell_type": "heading",
     "level": 1,
     "metadata": {},
     "source": [
      "Predict"
     ]
    },
    {
     "cell_type": "code",
     "collapsed": false,
     "input": [
      "from sklearn.ensemble import RandomForestClassifier\n",
      "from sklearn.cross_validation import StratifiedKFold\n",
      "from sklearn.metrics import roc_auc_score\n",
      "from sklearn.linear_model import LogisticRegression as LR\n",
      "\n",
      "clf = RandomForestClassifier(n_estimators=3000, min_samples_split=1, bootstrap=False,max_depth=10,\n",
      "                             n_jobs=-1, max_features=15)#"
     ],
     "language": "python",
     "metadata": {},
     "outputs": [],
     "prompt_number": 6
    },
    {
     "cell_type": "code",
     "collapsed": false,
     "input": [
      "fpout = open('../submissions/141101-predict.1.csv','w')\n",
      "print >>fpout,'clip,preictal'"
     ],
     "language": "python",
     "metadata": {},
     "outputs": [],
     "prompt_number": 7
    },
    {
     "cell_type": "code",
     "collapsed": false,
     "input": [
      "for target in ['Dog_1', 'Dog_2', 'Dog_3', 'Dog_4', 'Dog_5', 'Patient_1', 'Patient_2']:\n",
      "    pdata0 = read_data(target, 'preictal', FEATURES0) # positive examples\n",
      "    ndata0 = read_data(target, 'interictal', FEATURES0) # negative examples\n",
      "    X0 = np.concatenate((pdata0.X, ndata0.X))\n",
      "    y0 = np.zeros(X0.shape[0])\n",
      "    y0[:pdata0.X.shape[0]] = 1\n",
      "    \n",
      "    pdata1 = read_data(target, 'preictal', FEATURES1) # positive examples\n",
      "    ndata1 = read_data(target, 'interictal', FEATURES1) # negative examples\n",
      "    X1 = np.concatenate((pdata1.X, ndata1.X))\n",
      "    y1 = np.zeros(X1.shape[0])\n",
      "    y1[:pdata1.X.shape[0]] = 1\n",
      "\n",
      "    X = np.hstack((X0,X1))\n",
      "    assert np.all(y0 == y1)\n",
      "    y = y0\n",
      "    \n",
      "    # shuffle\n",
      "    idxs=range(len(y))\n",
      "    random.shuffle(idxs)\n",
      "    X = X[idxs,:]\n",
      "    y = y[idxs]\n",
      "    \n",
      "    clf.fit(X,y)\n",
      "    # predict\n",
      "    tdata0 = read_data(target, 'test', FEATURES0) # test examples\n",
      "    Xt0 = tdata0.X\n",
      "    tdata1 = read_data(target, 'test', FEATURES1) # test examples\n",
      "    Xt1 = tdata1.X\n",
      "    Xt = np.hstack((Xt0, Xt1))\n",
      "    \n",
      "    y_proba = clf.predict_proba(Xt)[:,1]\n",
      "    \n",
      "    # write results\n",
      "    for i,p in enumerate(y_proba):\n",
      "        print >>fpout,'%s_test_segment_%04d.mat,%.15f' % (target, i+1, p)"
     ],
     "language": "python",
     "metadata": {},
     "outputs": [
      {
       "output_type": "stream",
       "stream": "stdout",
       "text": [
        "data_preictal_Dog_1_gen-8_medianwindow1-bands2-usf-w60-b0.2-b4-b8-b12-b30-b70-0.1-0.5-0.9\n",
        "data_interictal_Dog_1_gen-8_medianwindow1-bands2-usf-w60-b0.2-b4-b8-b12-b30-b70-0.1-0.5-0.9\n",
        "data_preictal_Dog_1_gen-8_medianwindow1-bands2-usf2-w60-b0.2-b4-b8-b12-b30-b70-0.1-0.5-0.9"
       ]
      },
      {
       "output_type": "stream",
       "stream": "stdout",
       "text": [
        "\n",
        "data_interictal_Dog_1_gen-8_medianwindow1-bands2-usf2-w60-b0.2-b4-b8-b12-b30-b70-0.1-0.5-0.9\n",
        "data_test_Dog_1_gen-8_medianwindow1-bands2-usf-w60-b0.2-b4-b8-b12-b30-b70-0.1-0.5-0.9"
       ]
      },
      {
       "output_type": "stream",
       "stream": "stdout",
       "text": [
        "\n",
        "data_test_Dog_1_gen-8_medianwindow1-bands2-usf2-w60-b0.2-b4-b8-b12-b30-b70-0.1-0.5-0.9\n",
        "data_preictal_Dog_2_gen-8_medianwindow1-bands2-usf-w60-b0.2-b4-b8-b12-b30-b70-0.1-0.5-0.9"
       ]
      },
      {
       "output_type": "stream",
       "stream": "stdout",
       "text": [
        "\n",
        "data_interictal_Dog_2_gen-8_medianwindow1-bands2-usf-w60-b0.2-b4-b8-b12-b30-b70-0.1-0.5-0.9\n",
        "data_preictal_Dog_2_gen-8_medianwindow1-bands2-usf2-w60-b0.2-b4-b8-b12-b30-b70-0.1-0.5-0.9\n",
        "data_interictal_Dog_2_gen-8_medianwindow1-bands2-usf2-w60-b0.2-b4-b8-b12-b30-b70-0.1-0.5-0.9\n",
        "data_test_Dog_2_gen-8_medianwindow1-bands2-usf-w60-b0.2-b4-b8-b12-b30-b70-0.1-0.5-0.9"
       ]
      },
      {
       "output_type": "stream",
       "stream": "stdout",
       "text": [
        "\n",
        "data_test_Dog_2_gen-8_medianwindow1-bands2-usf2-w60-b0.2-b4-b8-b12-b30-b70-0.1-0.5-0.9\n",
        "data_preictal_Dog_3_gen-8_medianwindow1-bands2-usf-w60-b0.2-b4-b8-b12-b30-b70-0.1-0.5-0.9"
       ]
      },
      {
       "output_type": "stream",
       "stream": "stdout",
       "text": [
        "\n",
        "data_interictal_Dog_3_gen-8_medianwindow1-bands2-usf-w60-b0.2-b4-b8-b12-b30-b70-0.1-0.5-0.9\n",
        "data_preictal_Dog_3_gen-8_medianwindow1-bands2-usf2-w60-b0.2-b4-b8-b12-b30-b70-0.1-0.5-0.9\n",
        "data_interictal_Dog_3_gen-8_medianwindow1-bands2-usf2-w60-b0.2-b4-b8-b12-b30-b70-0.1-0.5-0.9\n",
        "data_test_Dog_3_gen-8_medianwindow1-bands2-usf-w60-b0.2-b4-b8-b12-b30-b70-0.1-0.5-0.9"
       ]
      },
      {
       "output_type": "stream",
       "stream": "stdout",
       "text": [
        "\n",
        "data_test_Dog_3_gen-8_medianwindow1-bands2-usf2-w60-b0.2-b4-b8-b12-b30-b70-0.1-0.5-0.9\n",
        "data_preictal_Dog_4_gen-8_medianwindow1-bands2-usf-w60-b0.2-b4-b8-b12-b30-b70-0.1-0.5-0.9"
       ]
      },
      {
       "output_type": "stream",
       "stream": "stdout",
       "text": [
        "\n",
        "data_interictal_Dog_4_gen-8_medianwindow1-bands2-usf-w60-b0.2-b4-b8-b12-b30-b70-0.1-0.5-0.9\n",
        "data_preictal_Dog_4_gen-8_medianwindow1-bands2-usf2-w60-b0.2-b4-b8-b12-b30-b70-0.1-0.5-0.9\n",
        "data_interictal_Dog_4_gen-8_medianwindow1-bands2-usf2-w60-b0.2-b4-b8-b12-b30-b70-0.1-0.5-0.9"
       ]
      },
      {
       "output_type": "stream",
       "stream": "stdout",
       "text": [
        "\n",
        "data_test_Dog_4_gen-8_medianwindow1-bands2-usf-w60-b0.2-b4-b8-b12-b30-b70-0.1-0.5-0.9"
       ]
      },
      {
       "output_type": "stream",
       "stream": "stdout",
       "text": [
        "\n",
        "data_test_Dog_4_gen-8_medianwindow1-bands2-usf2-w60-b0.2-b4-b8-b12-b30-b70-0.1-0.5-0.9\n",
        "data_preictal_Dog_5_gen-8_medianwindow1-bands2-usf-w60-b0.2-b4-b8-b12-b30-b70-0.1-0.5-0.9"
       ]
      },
      {
       "output_type": "stream",
       "stream": "stdout",
       "text": [
        "\n",
        "data_interictal_Dog_5_gen-8_medianwindow1-bands2-usf-w60-b0.2-b4-b8-b12-b30-b70-0.1-0.5-0.9\n",
        "data_preictal_Dog_5_gen-8_medianwindow1-bands2-usf2-w60-b0.2-b4-b8-b12-b30-b70-0.1-0.5-0.9\n",
        "data_interictal_Dog_5_gen-8_medianwindow1-bands2-usf2-w60-b0.2-b4-b8-b12-b30-b70-0.1-0.5-0.9\n",
        "data_test_Dog_5_gen-8_medianwindow1-bands2-usf-w60-b0.2-b4-b8-b12-b30-b70-0.1-0.5-0.9"
       ]
      },
      {
       "output_type": "stream",
       "stream": "stdout",
       "text": [
        "\n",
        "data_test_Dog_5_gen-8_medianwindow1-bands2-usf2-w60-b0.2-b4-b8-b12-b30-b70-0.1-0.5-0.9\n",
        "data_preictal_Patient_1_gen-8_medianwindow1-bands2-usf-w60-b0.2-b4-b8-b12-b30-b70-0.1-0.5-0.9"
       ]
      },
      {
       "output_type": "stream",
       "stream": "stdout",
       "text": [
        "\n",
        "data_interictal_Patient_1_gen-8_medianwindow1-bands2-usf-w60-b0.2-b4-b8-b12-b30-b70-0.1-0.5-0.9\n",
        "data_preictal_Patient_1_gen-8_medianwindow1-bands2-usf2-w60-b0.2-b4-b8-b12-b30-b70-0.1-0.5-0.9\n",
        "data_interictal_Patient_1_gen-8_medianwindow1-bands2-usf2-w60-b0.2-b4-b8-b12-b30-b70-0.1-0.5-0.9\n",
        "data_test_Patient_1_gen-8_medianwindow1-bands2-usf-w60-b0.2-b4-b8-b12-b30-b70-0.1-0.5-0.9"
       ]
      },
      {
       "output_type": "stream",
       "stream": "stdout",
       "text": [
        "\n",
        "data_test_Patient_1_gen-8_medianwindow1-bands2-usf2-w60-b0.2-b4-b8-b12-b30-b70-0.1-0.5-0.9\n",
        "data_preictal_Patient_2_gen-8_medianwindow1-bands2-usf-w60-b0.2-b4-b8-b12-b30-b70-0.1-0.5-0.9"
       ]
      },
      {
       "output_type": "stream",
       "stream": "stdout",
       "text": [
        "\n",
        "data_interictal_Patient_2_gen-8_medianwindow1-bands2-usf-w60-b0.2-b4-b8-b12-b30-b70-0.1-0.5-0.9\n",
        "data_preictal_Patient_2_gen-8_medianwindow1-bands2-usf2-w60-b0.2-b4-b8-b12-b30-b70-0.1-0.5-0.9\n",
        "data_interictal_Patient_2_gen-8_medianwindow1-bands2-usf2-w60-b0.2-b4-b8-b12-b30-b70-0.1-0.5-0.9\n",
        "data_test_Patient_2_gen-8_medianwindow1-bands2-usf-w60-b0.2-b4-b8-b12-b30-b70-0.1-0.5-0.9"
       ]
      },
      {
       "output_type": "stream",
       "stream": "stdout",
       "text": [
        "\n",
        "data_test_Patient_2_gen-8_medianwindow1-bands2-usf2-w60-b0.2-b4-b8-b12-b30-b70-0.1-0.5-0.9\n"
       ]
      }
     ],
     "prompt_number": 8
    },
    {
     "cell_type": "code",
     "collapsed": false,
     "input": [
      "fpout.close()"
     ],
     "language": "python",
     "metadata": {},
     "outputs": [],
     "prompt_number": 9
    }
   ],
   "metadata": {}
  }
 ]
}