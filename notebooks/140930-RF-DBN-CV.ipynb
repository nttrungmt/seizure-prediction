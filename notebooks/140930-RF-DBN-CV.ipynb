{
 "metadata": {
  "name": "",
  "signature": "sha256:7eeac12299269a9057a08952ef5f8bfeec679aea5d02af2703cd2ba2b498b534"
 },
 "nbformat": 3,
 "nbformat_minor": 0,
 "worksheets": [
  {
   "cells": [
    {
     "cell_type": "code",
     "collapsed": false,
     "input": [
      "%matplotlib inline\n",
      "from matplotlib import pylab as pl\n",
      "import cPickle as pickle\n",
      "import pandas as pd\n",
      "import numpy as np\n",
      "import os\n",
      "import random\n",
      "from collections import defaultdict"
     ],
     "language": "python",
     "metadata": {},
     "outputs": [],
     "prompt_number": 1
    },
    {
     "cell_type": "code",
     "collapsed": false,
     "input": [
      "import sys\n",
      "sys.path.append('..')"
     ],
     "language": "python",
     "metadata": {},
     "outputs": [],
     "prompt_number": 2
    },
    {
     "cell_type": "heading",
     "level": 1,
     "metadata": {},
     "source": [
      "Read precomputed features"
     ]
    },
    {
     "cell_type": "markdown",
     "metadata": {},
     "source": [
      "uncommoent the relevant pipeline in `../seizure_detection.py` and run\n",
      "```bash\n",
      "cd ..\n",
      "./doall data\n",
      "```"
     ]
    },
    {
     "cell_type": "code",
     "collapsed": false,
     "input": [
      "FEATURES = 'gen-8.5_medianwindow1-bands2-usf-w60-b0.2-b4-b8-b12-b30-b70-0.1-0.5-0.9'"
     ],
     "language": "python",
     "metadata": {},
     "outputs": [],
     "prompt_number": 28
    },
    {
     "cell_type": "code",
     "collapsed": false,
     "input": [
      "from common.data import CachedDataLoader\n",
      "cached_data_loader = CachedDataLoader('../data-cache')"
     ],
     "language": "python",
     "metadata": {},
     "outputs": [],
     "prompt_number": 29
    },
    {
     "cell_type": "code",
     "collapsed": false,
     "input": [
      "def read_data(target, data_type):\n",
      "    return cached_data_loader.load('data_%s_%s_%s'%(data_type,target,FEATURES),None)"
     ],
     "language": "python",
     "metadata": {},
     "outputs": [],
     "prompt_number": 30
    },
    {
     "cell_type": "heading",
     "level": 1,
     "metadata": {},
     "source": [
      "Predict"
     ]
    },
    {
     "cell_type": "code",
     "collapsed": false,
     "input": [
      "RF = True\n",
      "if RF:\n",
      "    max_depth=7\n",
      "    from sklearn.ensemble import RandomForestClassifier\n",
      "\n",
      "    clf = RandomForestClassifier(n_estimators=3000, min_samples_split=1, bootstrap=False,max_depth=max_depth,\n",
      "                                 n_jobs=-1) #min_samples_leaf=4\n",
      "    \n",
      "    with_weights = False\n",
      "    PWEIGHT = 0.\n",
      "    LWEIGHT = 0.\n",
      "    suffix = 'maxdepth%d.'%max_depth\n",
      "else:\n",
      "    with_weights = False\n",
      "    PWEIGHT = 0.\n",
      "    LWEIGHT = 0.\n",
      "    suffix = 'dbn500.epochs100.'\n",
      "#     sys.path.append('/Users/udi/Downloads/github/cudamat') #slower!\n",
      "    from sklearn import preprocessing\n",
      "    from nolearn.dbn import DBN\n",
      "    from sklearn.pipeline import Pipeline\n",
      "\n",
      "    min_max_scaler = preprocessing.MinMaxScaler() # scale features to be [0..1] which is DBN requirement\n",
      "\n",
      "    dbn = DBN(\n",
      "        [-1, 300, -1], # first layer has size X.shape[1], hidden layer(s), last layer will have number of classes in y (2))\n",
      "        learn_rates=0.3,\n",
      "        learn_rate_decays=0.9,\n",
      "        epochs=100,\n",
      "        verbose=0,\n",
      "        )\n",
      "\n",
      "    clf = Pipeline([('min_max_scaler', min_max_scaler), ('dbn', dbn)])"
     ],
     "language": "python",
     "metadata": {},
     "outputs": [],
     "prompt_number": 43
    },
    {
     "cell_type": "markdown",
     "metadata": {},
     "source": [
      "split examples into segments, each from the same event\n",
      "in each CV-split we will take all examples from the same segment to either train or validate"
     ]
    },
    {
     "cell_type": "code",
     "collapsed": false,
     "input": [
      "def getsegments(pdata):\n",
      "    segments = []\n",
      "    start = 0\n",
      "    last_l = 0\n",
      "    for i,l in enumerate(pdata.latencies):\n",
      "        if l<last_l:\n",
      "            segments.append(np.arange(start,i))\n",
      "            start = i\n",
      "        last_l = l\n",
      "    segments.append(np.arange(start,i+1))\n",
      "    return np.array(segments)"
     ],
     "language": "python",
     "metadata": {},
     "outputs": [],
     "prompt_number": 44
    },
    {
     "cell_type": "markdown",
     "metadata": {},
     "source": [
      "Compute AUC for each target separatly"
     ]
    },
    {
     "cell_type": "code",
     "collapsed": false,
     "input": [
      "%%time\n",
      "import itertools\n",
      "from sklearn.metrics import roc_auc_score\n",
      "\n",
      "target2iter2ys = {}\n",
      "for target in ['Dog_1', 'Dog_2', 'Dog_3', 'Dog_4', 'Dog_5', 'Patient_1', 'Patient_2']:\n",
      "    # positive examples\n",
      "    pdata = read_data(target, 'preictal')\n",
      "    Np, NF = pdata.X.shape\n",
      "    \n",
      "    if not RF:\n",
      "        clf.set_params(dbn__layer_sizes=[NF,300,2]) # we need to reset each time because NF is different\n",
      "    \n",
      "    psegments = getsegments(pdata)\n",
      "    Nps = len(psegments)\n",
      "\n",
      "    # negative examples\n",
      "    ndata = read_data(target, 'interictal')\n",
      "    Nn, NF = ndata.X.shape\n",
      "    nsegments = getsegments(ndata)\n",
      "    Nns = len(nsegments)\n",
      "    \n",
      "    npratio = float(Nn)/Np\n",
      "    print target,1/(1+npratio),Np,Nn\n",
      "    npsratio = float(Nns)/Nps\n",
      "    print target,1/(1+npsratio),Nps,Nns\n",
      "    Ntrainps = 1\n",
      "    Ntrainns = int(Ntrainps*npsratio)\n",
      "\n",
      "    iter2ys = defaultdict(list) # {niter: Ns *[(ytest,y_proba)]\n",
      "    for s in psegments:\n",
      "        Xtestp = pdata.X[s,:]\n",
      "        weightstest = pdata.latencies[s] # latency for first segment is 1\n",
      "        \n",
      "        Ntrainp = len(s)\n",
      "        Ntrainn = int(Ntrainp*npratio)\n",
      "        \n",
      "        good_iter = 0\n",
      "        for niter in range(10):\n",
      "#             n = np.array(random.sample(xrange(Nn),Ntrainn)) # segment based\n",
      "            ns = np.array(random.sample(xrange(Nns),Ntrainns)) # sequence based\n",
      "            n = np.array(list(itertools.chain(*nsegments[ns]))) # .ravel does not work - elements of nsegments are not of equal length\n",
      "            Xtestn = ndata.X[n,:]\n",
      "\n",
      "            Xtrainp = pdata.X[-s,:]\n",
      "            Xtrainn = ndata.X[-n,:]\n",
      "\n",
      "            Xtrain = np.concatenate((Xtrainp,Xtrainn))\n",
      "            ytrain = np.concatenate((np.ones(Xtrainp.shape[0]),np.zeros(Xtrainn.shape[0])))\n",
      "            perm = np.random.permutation(len(ytrain))\n",
      "            ytrain = ytrain[perm]\n",
      "            Xtrain = Xtrain[perm,:]\n",
      "\n",
      "            Xtest = np.concatenate((Xtestp,Xtestn))\n",
      "            ytest = np.concatenate((np.ones(Xtestp.shape[0]),np.zeros(Xtestn.shape[0])))\n",
      "\n",
      "            if with_weights:\n",
      "                weightsp = PWEIGHT*np.ones(Xtrainp.shape[0])\n",
      "                weightsp += LWEIGHT * (pdata.latencies[-s]-1.) # latency for first segment is 1\n",
      "                weightsn = np.ones(Xtrainn.shape[0]) \n",
      "                weights = np.concatenate((weightsp,weightsn))\n",
      "                weights = weights[perm]\n",
      "\n",
      "            if not RF:\n",
      "                minibatch_size = 64\n",
      "                if Xtrain.shape[0] < minibatch_size:\n",
      "                    minibatch_size = Xtrain.shape[0]\n",
      "                clf.set_params(dbn__minibatch_size=minibatch_size)\n",
      "\n",
      "            if with_weights:\n",
      "                clf.fit(Xtrain, ytrain, sample_weight=weights)\n",
      "            else:\n",
      "                clf.fit(Xtrain, ytrain)\n",
      "            good_iter += 1\n",
      "\n",
      "            y_proba = clf.predict_proba(Xtest)[:,1]\n",
      "            iter2ys[good_iter].append((ytest, y_proba))\n",
      "            \n",
      "            auc = roc_auc_score(ytest, y_proba)\n",
      "            print '%.3f'%auc,Ntrainp,np.mean(weightstest)\n",
      "            if good_iter >= 2:\n",
      "                break\n",
      "    target2iter2ys[target] = iter2ys\n",
      "    print"
     ],
     "language": "python",
     "metadata": {},
     "outputs": [
      {
       "output_type": "stream",
       "stream": "stdout",
       "text": [
        "Dog_1 0.047619047619 184 3680\n",
        "Dog_1 0.047619047619 4 80\n",
        "0.740"
       ]
      },
      {
       "output_type": "stream",
       "stream": "stdout",
       "text": [
        " 46 3.5\n",
        "0.868"
       ]
      },
      {
       "output_type": "stream",
       "stream": "stdout",
       "text": [
        " 46 3.5\n",
        "0.541"
       ]
      },
      {
       "output_type": "stream",
       "stream": "stdout",
       "text": [
        " 46 3.5\n",
        "0.415"
       ]
      },
      {
       "output_type": "stream",
       "stream": "stdout",
       "text": [
        " 46 3.5\n",
        "0.524"
       ]
      },
      {
       "output_type": "stream",
       "stream": "stdout",
       "text": [
        " 46 3.5\n",
        "0.630"
       ]
      },
      {
       "output_type": "stream",
       "stream": "stdout",
       "text": [
        " 46 3.5\n",
        "0.539"
       ]
      },
      {
       "output_type": "stream",
       "stream": "stdout",
       "text": [
        " 46 3.5\n",
        "0.492"
       ]
      },
      {
       "output_type": "stream",
       "stream": "stdout",
       "text": [
        " 46 3.5\n",
        "\n",
        "Dog_2 0.0775903614458 322 3828\n",
        "Dog_2 0.0769230769231 7 84\n",
        "0.983"
       ]
      },
      {
       "output_type": "stream",
       "stream": "stdout",
       "text": [
        " 46 3.5\n",
        "0.983"
       ]
      },
      {
       "output_type": "stream",
       "stream": "stdout",
       "text": [
        " 46 3.5\n",
        "0.981"
       ]
      },
      {
       "output_type": "stream",
       "stream": "stdout",
       "text": [
        " 46 3.5\n",
        "0.958"
       ]
      },
      {
       "output_type": "stream",
       "stream": "stdout",
       "text": [
        " 46 3.5\n",
        "0.965"
       ]
      },
      {
       "output_type": "stream",
       "stream": "stdout",
       "text": [
        " 46 3.5\n",
        "0.946"
       ]
      },
      {
       "output_type": "stream",
       "stream": "stdout",
       "text": [
        " 46 3.5\n",
        "1.000"
       ]
      },
      {
       "output_type": "stream",
       "stream": "stdout",
       "text": [
        " 46 3.5\n",
        "1.000"
       ]
      },
      {
       "output_type": "stream",
       "stream": "stdout",
       "text": [
        " 46 3.5\n",
        "0.981"
       ]
      },
      {
       "output_type": "stream",
       "stream": "stdout",
       "text": [
        " 46 3.5\n",
        "0.973"
       ]
      },
      {
       "output_type": "stream",
       "stream": "stdout",
       "text": [
        " 46 3.5\n",
        "1.000"
       ]
      },
      {
       "output_type": "stream",
       "stream": "stdout",
       "text": [
        " 46 3.5\n",
        "0.997"
       ]
      },
      {
       "output_type": "stream",
       "stream": "stdout",
       "text": [
        " 46 3.5\n",
        "0.689"
       ]
      },
      {
       "output_type": "stream",
       "stream": "stdout",
       "text": [
        " 46 3.5\n",
        "0.684"
       ]
      },
      {
       "output_type": "stream",
       "stream": "stdout",
       "text": [
        " 46 3.5\n",
        "\n",
        "Dog_3 0.047619047619 552 11040\n",
        "Dog_3 0.047619047619 12 240\n",
        "0.946"
       ]
      },
      {
       "output_type": "stream",
       "stream": "stdout",
       "text": [
        " 46 3.5\n",
        "0.910"
       ]
      },
      {
       "output_type": "stream",
       "stream": "stdout",
       "text": [
        " 46 3.5\n",
        "0.827"
       ]
      },
      {
       "output_type": "stream",
       "stream": "stdout",
       "text": [
        " 46 3.5\n",
        "0.817"
       ]
      },
      {
       "output_type": "stream",
       "stream": "stdout",
       "text": [
        " 46 3.5\n",
        "0.803"
       ]
      },
      {
       "output_type": "stream",
       "stream": "stdout",
       "text": [
        " 46 3.5\n",
        "0.952"
       ]
      },
      {
       "output_type": "stream",
       "stream": "stdout",
       "text": [
        " 46 3.5\n",
        "0.388"
       ]
      },
      {
       "output_type": "stream",
       "stream": "stdout",
       "text": [
        " 46 3.5\n",
        "0.716"
       ]
      },
      {
       "output_type": "stream",
       "stream": "stdout",
       "text": [
        " 46 3.5\n",
        "0.552"
       ]
      },
      {
       "output_type": "stream",
       "stream": "stdout",
       "text": [
        " 46 3.5\n",
        "0.547"
       ]
      },
      {
       "output_type": "stream",
       "stream": "stdout",
       "text": [
        " 46 3.5\n",
        "1.000"
       ]
      },
      {
       "output_type": "stream",
       "stream": "stdout",
       "text": [
        " 46 3.5\n",
        "1.000"
       ]
      },
      {
       "output_type": "stream",
       "stream": "stdout",
       "text": [
        " 46 3.5\n",
        "1.000"
       ]
      },
      {
       "output_type": "stream",
       "stream": "stdout",
       "text": [
        " 46 3.5\n",
        "1.000"
       ]
      },
      {
       "output_type": "stream",
       "stream": "stdout",
       "text": [
        " 46 3.5\n",
        "0.976"
       ]
      },
      {
       "output_type": "stream",
       "stream": "stdout",
       "text": [
        " 46 3.5\n",
        "0.975"
       ]
      },
      {
       "output_type": "stream",
       "stream": "stdout",
       "text": [
        " 46 3.5\n",
        "0.477"
       ]
      },
      {
       "output_type": "stream",
       "stream": "stdout",
       "text": [
        " 46 3.5\n",
        "0.417"
       ]
      },
      {
       "output_type": "stream",
       "stream": "stdout",
       "text": [
        " 46 3.5\n",
        "0.835"
       ]
      },
      {
       "output_type": "stream",
       "stream": "stdout",
       "text": [
        " 46 3.5\n",
        "0.663"
       ]
      },
      {
       "output_type": "stream",
       "stream": "stdout",
       "text": [
        " 46 3.5\n",
        "0.879"
       ]
      },
      {
       "output_type": "stream",
       "stream": "stdout",
       "text": [
        " 46 3.5\n",
        "0.844"
       ]
      },
      {
       "output_type": "stream",
       "stream": "stdout",
       "text": [
        " 46 3.5\n",
        "0.315"
       ]
      },
      {
       "output_type": "stream",
       "stream": "stdout",
       "text": [
        " 46 3.5\n",
        "0.476"
       ]
      },
      {
       "output_type": "stream",
       "stream": "stdout",
       "text": [
        " 46 3.5\n",
        "\n",
        "Dog_4 0.106796116505 737 6164\n",
        "Dog_4 0.112582781457 17 134\n",
        "0.684"
       ]
      },
      {
       "output_type": "stream",
       "stream": "stdout",
       "text": [
        " 46 3.5\n",
        "0.971"
       ]
      },
      {
       "output_type": "stream",
       "stream": "stdout",
       "text": [
        " 46 3.5\n",
        "0.968"
       ]
      },
      {
       "output_type": "stream",
       "stream": "stdout",
       "text": [
        " 46 3.5\n",
        "0.732"
       ]
      },
      {
       "output_type": "stream",
       "stream": "stdout",
       "text": [
        " 46 3.5\n",
        "0.344"
       ]
      },
      {
       "output_type": "stream",
       "stream": "stdout",
       "text": [
        " 46 3.5\n",
        "0.483"
       ]
      },
      {
       "output_type": "stream",
       "stream": "stdout",
       "text": [
        " 46 3.5\n",
        "0.751"
       ]
      },
      {
       "output_type": "stream",
       "stream": "stdout",
       "text": [
        " 37 4.0\n",
        "0.577"
       ]
      },
      {
       "output_type": "stream",
       "stream": "stdout",
       "text": [
        " 37 4.0\n",
        "0.632"
       ]
      },
      {
       "output_type": "stream",
       "stream": "stdout",
       "text": [
        " 19 5.0\n",
        "0.554"
       ]
      },
      {
       "output_type": "stream",
       "stream": "stdout",
       "text": [
        " 19 5.0\n",
        "0.942"
       ]
      },
      {
       "output_type": "stream",
       "stream": "stdout",
       "text": [
        " 46 3.5\n",
        "0.408"
       ]
      },
      {
       "output_type": "stream",
       "stream": "stdout",
       "text": [
        " 46 3.5\n",
        "0.681"
       ]
      },
      {
       "output_type": "stream",
       "stream": "stdout",
       "text": [
        " 46 3.5\n",
        "0.882"
       ]
      },
      {
       "output_type": "stream",
       "stream": "stdout",
       "text": [
        " 46 3.5\n",
        "0.751"
       ]
      },
      {
       "output_type": "stream",
       "stream": "stdout",
       "text": [
        " 37 4.0\n",
        "0.597"
       ]
      },
      {
       "output_type": "stream",
       "stream": "stdout",
       "text": [
        " 37 4.0\n",
        "0.632"
       ]
      },
      {
       "output_type": "stream",
       "stream": "stdout",
       "text": [
        " 46 3.5\n",
        "0.393"
       ]
      },
      {
       "output_type": "stream",
       "stream": "stdout",
       "text": [
        " 46 3.5\n",
        "0.413"
       ]
      },
      {
       "output_type": "stream",
       "stream": "stdout",
       "text": [
        " 46 3.5\n",
        "0.232"
       ]
      },
      {
       "output_type": "stream",
       "stream": "stdout",
       "text": [
        " 46 3.5\n",
        "0.703"
       ]
      },
      {
       "output_type": "stream",
       "stream": "stdout",
       "text": [
        " 46 3.5\n",
        "0.764"
       ]
      },
      {
       "output_type": "stream",
       "stream": "stdout",
       "text": [
        " 46 3.5\n",
        "0.649"
       ]
      },
      {
       "output_type": "stream",
       "stream": "stdout",
       "text": [
        " 46 3.5\n",
        "0.186"
       ]
      },
      {
       "output_type": "stream",
       "stream": "stdout",
       "text": [
        " 46 3.5\n",
        "0.778"
       ]
      },
      {
       "output_type": "stream",
       "stream": "stdout",
       "text": [
        " 46 3.5\n",
        "0.463"
       ]
      },
      {
       "output_type": "stream",
       "stream": "stdout",
       "text": [
        " 46 3.5\n",
        "0.349"
       ]
      },
      {
       "output_type": "stream",
       "stream": "stdout",
       "text": [
        " 46 3.5\n",
        "0.357"
       ]
      },
      {
       "output_type": "stream",
       "stream": "stdout",
       "text": [
        " 46 3.5\n",
        "0.624"
       ]
      },
      {
       "output_type": "stream",
       "stream": "stdout",
       "text": [
        " 46 3.5\n",
        "0.525"
       ]
      },
      {
       "output_type": "stream",
       "stream": "stdout",
       "text": [
        " 46 3.5\n",
        "0.518"
       ]
      },
      {
       "output_type": "stream",
       "stream": "stdout",
       "text": [
        " 46 3.5\n",
        "0.472"
       ]
      },
      {
       "output_type": "stream",
       "stream": "stdout",
       "text": [
        " 46 3.5\n",
        "0.600"
       ]
      },
      {
       "output_type": "stream",
       "stream": "stdout",
       "text": [
        " 46 3.5\n",
        "0.257"
       ]
      },
      {
       "output_type": "stream",
       "stream": "stdout",
       "text": [
        " 46 3.5\n",
        "\n",
        "Dog_5 0.0625 230 3450\n",
        "Dog_5 0.0625 5 75\n",
        "0.867"
       ]
      },
      {
       "output_type": "stream",
       "stream": "stdout",
       "text": [
        " 46 3.5\n",
        "0.800"
       ]
      },
      {
       "output_type": "stream",
       "stream": "stdout",
       "text": [
        " 46 3.5\n",
        "0.899"
       ]
      },
      {
       "output_type": "stream",
       "stream": "stdout",
       "text": [
        " 46 3.5\n",
        "0.757"
       ]
      },
      {
       "output_type": "stream",
       "stream": "stdout",
       "text": [
        " 46 3.5\n",
        "1.000"
       ]
      },
      {
       "output_type": "stream",
       "stream": "stdout",
       "text": [
        " 46 3.5\n",
        "1.000"
       ]
      },
      {
       "output_type": "stream",
       "stream": "stdout",
       "text": [
        " 46 3.5\n",
        "0.996"
       ]
      },
      {
       "output_type": "stream",
       "stream": "stdout",
       "text": [
        " 46 3.5\n",
        "0.974"
       ]
      },
      {
       "output_type": "stream",
       "stream": "stdout",
       "text": [
        " 46 3.5\n",
        "1.000"
       ]
      },
      {
       "output_type": "stream",
       "stream": "stdout",
       "text": [
        " 46 3.5\n",
        "0.936"
       ]
      },
      {
       "output_type": "stream",
       "stream": "stdout",
       "text": [
        " 46 3.5\n",
        "\n",
        "Patient_1 0.267441860465 138 378\n",
        "Patient_1 0.25 3 9\n",
        "0.734"
       ]
      },
      {
       "output_type": "stream",
       "stream": "stdout",
       "text": [
        " 46 3.5\n",
        "0.732"
       ]
      },
      {
       "output_type": "stream",
       "stream": "stdout",
       "text": [
        " 46 3.5\n",
        "1.000"
       ]
      },
      {
       "output_type": "stream",
       "stream": "stdout",
       "text": [
        " 46 3.5\n",
        "1.000"
       ]
      },
      {
       "output_type": "stream",
       "stream": "stdout",
       "text": [
        " 46 3.5\n",
        "0.264"
       ]
      },
      {
       "output_type": "stream",
       "stream": "stdout",
       "text": [
        " 46 3.5\n",
        "0.736"
       ]
      },
      {
       "output_type": "stream",
       "stream": "stdout",
       "text": [
        " 46 3.5\n",
        "\n",
        "Patient_2 0.3 138 322\n",
        "Patient_2 0.3 3 7\n",
        "1.000"
       ]
      },
      {
       "output_type": "stream",
       "stream": "stdout",
       "text": [
        " 46 3.5\n",
        "0.756"
       ]
      },
      {
       "output_type": "stream",
       "stream": "stdout",
       "text": [
        " 46 3.5\n",
        "1.000"
       ]
      },
      {
       "output_type": "stream",
       "stream": "stdout",
       "text": [
        " 46 3.5\n",
        "1.000"
       ]
      },
      {
       "output_type": "stream",
       "stream": "stdout",
       "text": [
        " 46 3.5\n",
        "0.961"
       ]
      },
      {
       "output_type": "stream",
       "stream": "stdout",
       "text": [
        " 46 3.5\n",
        "0.937"
       ]
      },
      {
       "output_type": "stream",
       "stream": "stdout",
       "text": [
        " 46 3.5\n",
        "\n",
        "CPU times: user 20min 43s, sys: 29 s, total: 21min 11s\n",
        "Wall time: 5min 12s\n"
       ]
      }
     ],
     "prompt_number": 45
    },
    {
     "cell_type": "code",
     "collapsed": false,
     "input": [
      "fname = '../data-cache/140926-CV.%s%s.pkl'%(suffix, FEATURES)\n",
      "with open(fname,'wb') as fp:\n",
      "    pickle.dump(target2iter2ys,fp,-1)"
     ],
     "language": "python",
     "metadata": {},
     "outputs": [],
     "prompt_number": 46
    },
    {
     "cell_type": "code",
     "collapsed": false,
     "input": [
      "fname"
     ],
     "language": "python",
     "metadata": {},
     "outputs": [
      {
       "metadata": {},
       "output_type": "pyout",
       "prompt_number": 47,
       "text": [
        "'../data-cache/140926-CV.maxdepth7.gen-8.5_medianwindow1-bands2-usf-w60-b0.2-b4-b8-b12-b30-b70-0.1-0.5-0.9.pkl'"
       ]
      }
     ],
     "prompt_number": 47
    },
    {
     "cell_type": "markdown",
     "metadata": {},
     "source": [
      "Generate a single AUC score"
     ]
    },
    {
     "cell_type": "code",
     "collapsed": false,
     "input": [
      "from sklearn.metrics import roc_auc_score\n",
      "def p(a,b):\n",
      "    return '%d E%d'%(1000*a,1000*b)\n",
      "\n",
      "for f in [\n",
      "'maxdepth7.gen-8.5_medianwindow1-bands2-usf-w60-b0.2-b4-b8-b12-b30-b70-0.1-0.5-0.9',\n",
      "'maxdepth10.gen-8.5_medianwindow1-bands2-usf-w60-b0.2-b4-b8-b12-b30-b70-0.1-0.5-0.9',\n",
      "'maxdepth15.gen-8.5_medianwindow1-bands2-usf-w60-b0.2-b4-b8-b12-b30-b70-0.1-0.5-0.9',\n",
      "'maxdepth5.gen-8_medianwindow1-bands2-usf-w60-b0.2-b4-b8-b12-b30-b70-0.1-0.5-0.9',\n",
      "'maxdepth10.gen-8_medianwindow1-bands2-usf-w60-b0.2-b4-b8-b12-b30-b70-0.1-0.5-0.9',\n",
      "'maxdepth20.gen-8_medianwindow1-bands2-usf-w60-b0.2-b4-b8-b12-b30-b70-0.1-0.5-0.9',\n",
      "'maxdepth5.gen-8_medianwindow-bands2-usf-w60-b0.2-b4-b8-b12-b30-b70-0.1-0.5-0.9-pca',\n",
      "'maxdepth10.gen-8_medianwindow-bands2-usf-w60-b0.2-b4-b8-b12-b30-b70-0.1-0.5-0.9-pca',\n",
      "'maxdepth15.gen-8_medianwindow-bands2-usf-w60-b0.2-b4-b8-b12-b30-b70-0.1-0.5-0.9-pca',\n",
      "'maxdepth20.gen-8_medianwindow-bands2-usf-w60-b0.2-b4-b8-b12-b30-b70-0.1-0.5-0.9-pca',\n",
      "'dbn500.epochs100.gen-8_medianwindow-bands2-usf-w60-b0.2-b4-b8-b12-b30-b70-0.1-0.5-0.9',\n",
      "'dbn300.epochs100.gen-8_medianwindow-bands2-usf-w60-b0.2-b4-b8-b12-b30-b70-0.1-0.5-0.9',\n",
      "'dbn100.gen-8_medianwindow-bands2-usf-w60-b0.2-b4-b8-b12-b30-b70-0.1-0.5-0.9',\n",
      "'dbn300.gen-8_medianwindow-bands2-usf-w60-b0.2-b4-b8-b12-b30-b70-0.1-0.5-0.9',\n",
      "            'maxdepthNone.gen-8_medianwindow-bands2-usf-w10-hammingP2-b0.2-b4-b8-b12-b30-b70-0.1-0.5-0.9',\n",
      "            'maxdepth25.gen-8_medianwindow-bands2-usf-w10-hammingP2-b0.2-b4-b8-b12-b30-b70-0.1-0.5-0.9',\n",
      "            'maxdepth20.gen-8_medianwindow-bands2-usf-w10-hammingP2-b0.2-b4-b8-b12-b30-b70-0.1-0.5-0.9',\n",
      "            'maxdepth15.gen-8_medianwindow-bands2-usf-w10-hammingP2-b0.2-b4-b8-b12-b30-b70-0.1-0.5-0.9',\n",
      "            'max_depth5gen-8_medianwindow-bands2-usf-w10-hammingP2-b0.2-b4-b8-b12-b30-b70-0.1-0.5-0.9',\n",
      "            'max_depth10gen-8_medianwindow-bandsI2-usf-w60-b0.2-b4-b8-b12-b30-b50-b75-b100-b117-0.1-0.5-0.9',\n",
      "            'max_depth5gen-8_medianwindow-bandsI2-usf-w60-b0.2-b4-b8-b12-b30-b50-b75-b100-b117-0.1-0.5-0.9',\n",
      "            'max_depth5.min_samples_leaf4.gen-8_medianwindow-bands2-usf-w60-b0.2-b4-b8-b12-b30-b70-0.1-0.5-0.9',\n",
      "            'maxdepth10.gen-8_medianwindow-bands2-usf-w60-b0.2-b4-b8-b12-b30-b70-0.1-0.5-0.9',\n",
      "            'max_depth5.gen-8_medianwindow-bands2-usf-w60-b0.2-b4-b8-b12-b30-b70-0.1-0.5-0.9',\n",
      "        ]:\n",
      "    all_ytest = all_y_proba =None\n",
      "    all_aucs = []\n",
      "    with open('../data-cache/140926-CV.%s.pkl'%f,'rb') as fp:\n",
      "        target2iter2ys = pickle.load(fp)\n",
      "    for target, iter2ys in target2iter2ys.iteritems():\n",
      "        target_ytest = target_y_proba =None\n",
      "        target_aucs = []\n",
      "        print target,\n",
      "        for ys in iter2ys.itervalues():\n",
      "            ytest = y_proba =None\n",
      "            aucs = []\n",
      "            for y in ys:\n",
      "                yt, yp = y\n",
      "                ytest = yt if ytest is None else np.concatenate((ytest,yt))\n",
      "                y_proba = yp if y_proba is None else np.concatenate((y_proba,yp))\n",
      "                aucs.append(roc_auc_score(yt, yp))\n",
      "            print p(roc_auc_score(ytest, y_proba), np.mean(aucs)),\n",
      "            target_aucs += aucs\n",
      "            target_ytest = ytest if target_ytest is None else np.concatenate((target_ytest,ytest))\n",
      "            target_y_proba = y_proba if target_y_proba is None else np.concatenate((target_y_proba,y_proba))\n",
      "        print target,p(roc_auc_score(target_ytest, target_y_proba),np.mean(target_aucs))\n",
      "        all_aucs += target_aucs        \n",
      "        all_ytest = target_ytest if all_ytest is None else np.concatenate((all_ytest,target_ytest))\n",
      "        all_y_proba = target_y_proba if all_y_proba is None else np.concatenate((all_y_proba,target_y_proba))\n",
      "#         if target == 'Dog_3':\n",
      "#             pl.hist(target_aucs,alpha=0.5)\n",
      "    print f,p(roc_auc_score(all_ytest, all_y_proba),np.mean(all_aucs))\n",
      "    print\n"
     ],
     "language": "python",
     "metadata": {},
     "outputs": [
      {
       "output_type": "stream",
       "stream": "stdout",
       "text": [
        "Dog_2 888 E942 881 E934 Dog_2 884 E938\n",
        "Dog_3 759 E749 764 E776 Dog_3 761 E763\n",
        "Dog_1 593 E585 602 E601 Dog_1 597 E593\n",
        "Dog_4 616 E648 "
       ]
      },
      {
       "output_type": "stream",
       "stream": "stdout",
       "text": [
        "543 E520 Dog_4 579 E584\n",
        "Dog_5 951 E952 894 E893 Dog_5 922 E922\n",
        "Patient_2 910 E987 917 E897 Patient_2 919 E942\n",
        "Patient_1 777 E666 770 E822 Patient_1 773 E744\n",
        "maxdepth7.gen-8.5_medianwindow1-bands2-usf-w60-b0.2-b4-b8-b12-b30-b70-0.1-0.5-0.9 764 E739\n",
        "\n",
        "Dog_2 897 E919 886 E892 Dog_2 891 E906\n",
        "Dog_3 804 E778 "
       ]
      },
      {
       "output_type": "stream",
       "stream": "stdout",
       "text": [
        "717 E700 Dog_3 762 E739\n",
        "Dog_1 649 E650 628 E620 Dog_1 638 E635\n",
        "Dog_4 633 E671 632 E639 Dog_4 632 E655\n",
        "Dog_5 945 E963 941 E963 Dog_5 943 E963\n",
        "Patient_2 860 E965 970 E966 Patient_2 918 E966\n",
        "Patient_1 767 E772 762 E846 Patient_1 763 E809\n",
        "maxdepth10.gen-8.5_medianwindow1-bands2-usf-w60-b0.2-b4-b8-b12-b30-b70-0.1-0.5-0.9 "
       ]
      },
      {
       "output_type": "stream",
       "stream": "stdout",
       "text": [
        "783 E765\n",
        "\n",
        "Dog_2 898 E937 883 E898 Dog_2 889 E917\n",
        "Dog_3 742 E725 737 E723 Dog_3 740 E724\n",
        "Dog_1 646 E637 660 E645 Dog_1 653 E641\n",
        "Dog_4 "
       ]
      },
      {
       "output_type": "stream",
       "stream": "stdout",
       "text": [
        "672 E703 624 E628 Dog_4 647 E666\n",
        "Dog_5 948 E960 890 E904 Dog_5 920 E932\n",
        "Patient_2 752 E837 778 E722 Patient_2 755 E779\n",
        "Patient_1 767 E704 779 E782 Patient_1 773 E743\n",
        "maxdepth15.gen-8.5_medianwindow1-bands2-usf-w60-b0.2-b4-b8-b12-b30-b70-0.1-0.5-0.9 777 E749\n",
        "\n",
        "Dog_2 908 E944 895 E922 Dog_2 902 E933\n",
        "Dog_3 750 E758 703 E711 Dog_3 726 E735\n",
        "Dog_1 "
       ]
      },
      {
       "output_type": "stream",
       "stream": "stdout",
       "text": [
        "599 E595 572 E555 Dog_1 587 E575\n",
        "Dog_4 609 E640 591 E625 Dog_4 599 E633\n",
        "Dog_5 917 E905 916 E914 Dog_5 917 E909\n",
        "Patient_2 797 E698 995 E989 Patient_2 922 E844\n",
        "Patient_1 865 E819 763 E660 Patient_1 804 E739\n",
        "maxdepth5.gen-8_medianwindow1-bands2-usf-w60-b0.2-b4-b8-b12-b30-b70-0.1-0.5-0.9 762 E739\n",
        "\n",
        "Dog_2 887 E932 847 E900 Dog_2 866 E916\n",
        "Dog_3 714 E716 801 E790 Dog_3 757 E753\n",
        "Dog_1 669 E659 "
       ]
      },
      {
       "output_type": "stream",
       "stream": "stdout",
       "text": [
        "671 E690 Dog_1 670 E674\n",
        "Dog_4 632 E647 637 E635 Dog_4 634 E641\n",
        "Dog_5 898 E914 923 E928 Dog_5 911 E921\n",
        "Patient_2 740 E759 689 E710 Patient_2 717 E735\n",
        "Patient_1 882 E812 832 E751 Patient_1 853 E782\n",
        "maxdepth10.gen-8_medianwindow1-bands2-usf-w60-b0.2-b4-b8-b12-b30-b70-0.1-0.5-0.9 777 E749\n",
        "\n",
        "Dog_2 889 E919 908 E954 875 E914 Dog_2 890 E929\n",
        "Dog_3 794 E818 766 E787 "
       ]
      },
      {
       "output_type": "stream",
       "stream": "stdout",
       "text": [
        "771 E777 Dog_3 777 E794\n",
        "Dog_1 605 E605 538 E524 603 E605 Dog_1 581 E578\n",
        "Dog_4 595 E610 565 E569 556 E583 Dog_4 571 E587\n",
        "Dog_5 937 E926 908 E901 947 E951 Dog_5 930 E926\n",
        "Patient_2 991 E992 977 E949 858 E973 Patient_2 936 E972\n",
        "Patient_1 819 E807 886 E866 695 E636 Patient_1 797 E770\n",
        "maxdepth20.gen-8_medianwindow1-bands2-usf-w60-b0.2-b4-b8-b12-b30-b70-0.1-0.5-0.9 767 E749\n",
        "\n",
        "Dog_2 "
       ]
      },
      {
       "output_type": "stream",
       "stream": "stdout",
       "text": [
        "863 E918 881 E926 Dog_2 872 E922\n",
        "Dog_3 838 E830 813 E811 Dog_3 826 E820\n",
        "Dog_1 634 E644 513 E496 Dog_1 574 E570\n",
        "Dog_4 573 E572 535 E526 Dog_4 553 E549\n",
        "Dog_5 900 E915 873 E879 Dog_5 886 E897\n",
        "Patient_2 767 E855 789 E782 Patient_2 774 E818\n",
        "Patient_1 711 E740 690 E760 Patient_1 704 E750\n",
        "maxdepth5.gen-8_medianwindow-bands2-usf-w60-b0.2-b4-b8-b12-b30-b70-0.1-0.5-0.9-pca 746 E727\n",
        "\n",
        "Dog_2 897 E931 "
       ]
      },
      {
       "output_type": "stream",
       "stream": "stdout",
       "text": [
        "871 E928 Dog_2 884 E930\n",
        "Dog_3 836 E833 841 E840 Dog_3 839 E837\n",
        "Dog_1 541 E511 559 E555 Dog_1 553 E533\n",
        "Dog_4 518 E517 551 E580 Dog_4 535 E548\n",
        "Dog_5 924 E953 936 E964 Dog_5 930 E959\n",
        "Patient_2 880 E935 818 E946 Patient_2 852 E941\n",
        "Patient_1 624 E542 676 E719 Patient_1 659 E630\n",
        "maxdepth10.gen-8_medianwindow-bands2-usf-w60-b0.2-b4-b8-b12-b30-b70-0.1-0.5-0.9-pca 763 E735\n",
        "\n",
        "Dog_2 904 E960 880 E908 Dog_2 891 E934\n",
        "Dog_3 "
       ]
      },
      {
       "output_type": "stream",
       "stream": "stdout",
       "text": [
        "867 E858 864 E854 Dog_3 865 E856\n",
        "Dog_1 554 E533 535 E528 Dog_1 545 E531\n",
        "Dog_4 532 E530 542 E553 Dog_4 537 E541\n",
        "Dog_5 918 E935 875 E862 Dog_5 899 E899\n",
        "Patient_2 716 E773 725 E802 Patient_2 721 E788\n",
        "Patient_1 623 E626 532 E445 Patient_1 580 E536\n",
        "maxdepth15.gen-8_medianwindow-bands2-usf-w60-b0.2-b4-b8-b12-b30-b70-0.1-0.5-0.9-pca 765 E718\n",
        "\n",
        "Dog_2 860 E908 904 E944 Dog_2 882 E926\n",
        "Dog_3 794 E787 "
       ]
      },
      {
       "output_type": "stream",
       "stream": "stdout",
       "text": [
        "858 E853 Dog_3 828 E820\n",
        "Dog_1 543 E540 542 E553 Dog_1 542 E547\n",
        "Dog_4 584 E595 580 E575 Dog_4 581 E585\n",
        "Dog_5 934 E936 887 E919 Dog_5 912 E928\n",
        "Patient_2 662 E683 869 E859 Patient_2 766 E771\n",
        "Patient_1 605 E687 540 E545 Patient_1 571 E616\n",
        "maxdepth20.gen-8_medianwindow-bands2-usf-w60-b0.2-b4-b8-b12-b30-b70-0.1-0.5-0.9-pca 759 E730\n",
        "\n",
        "Dog_2 744 E749 830 E833 Dog_2 785 E791\n",
        "Dog_3 621 E642 630 E667 Dog_3 "
       ]
      },
      {
       "output_type": "stream",
       "stream": "stdout",
       "text": [
        "624 E655\n",
        "Dog_1 440 E440 382 E378 Dog_1 412 E409\n",
        "Dog_4 573 E604 602 E651 Dog_4 588 E628\n",
        "Dog_5 829 E875 765 E824 Dog_5 800 E850\n",
        "Patient_2 439 E551 560 E586 Patient_2 492 E569\n",
        "Patient_1 739 E604 911 E864 Patient_1 824 E734\n",
        "dbn500.epochs100.gen-8_medianwindow-bands2-usf-w60-b0.2-b4-b8-b12-b30-b70-0.1-0.5-0.9 619 E664\n",
        "\n",
        "Dog_2 751 E793 768 E806 Dog_2 755 E800\n",
        "Dog_3 614 E618 "
       ]
      },
      {
       "output_type": "stream",
       "stream": "stdout",
       "text": [
        "633 E677 Dog_3 625 E647\n",
        "Dog_1 402 E415 444 E481 Dog_1 426 E448\n",
        "Dog_4 575 E627 551 E534 Dog_4 563 E580\n",
        "Dog_5 781 E823 772 E814 Dog_5 778 E818\n",
        "Patient_2 493 E519 422 E549 Patient_2 460 E534\n",
        "Patient_1 746 E665 858 E820 Patient_1 798 E742\n",
        "dbn300.epochs100.gen-8_medianwindow-bands2-usf-w60-b0.2-b4-b8-b12-b30-b70-0.1-0.5-0.9 588 E646\n",
        "\n",
        "Dog_2 557 E661 635 E710 Dog_2 584 E685\n",
        "Dog_3 596 E671 "
       ]
      },
      {
       "output_type": "stream",
       "stream": "stdout",
       "text": [
        "572 E668 Dog_3 585 E669\n",
        "Dog_1 465 E408 467 E429 Dog_1 465 E418\n",
        "Dog_4 527 E525 519 E524 Dog_4 525 E524\n",
        "Dog_5 675 E760 629 E667 Dog_5 649 E714\n",
        "Patient_2 692 E745 380 E142 Patient_2 525 E443\n",
        "Patient_1 825 E863 793 E825 Patient_1 805 E844\n",
        "dbn100.gen-8_medianwindow-bands2-usf-w60-b0.2-b4-b8-b12-b30-b70-0.1-0.5-0.9 603 E605\n",
        "\n",
        "Dog_2 687 E746 699 E740 Dog_2 679 E743\n",
        "Dog_3 667 E662 "
       ]
      },
      {
       "output_type": "stream",
       "stream": "stdout",
       "text": [
        "543 E661 Dog_3 599 E661\n",
        "Dog_1 448 E454 377 E299 Dog_1 425 E377\n",
        "Dog_4 572 E587 576 E605 Dog_4 571 E596\n",
        "Dog_5 520 E544 566 E706 Dog_5 541 E625\n",
        "Patient_2 478 E383 677 E634 Patient_2 570 E508\n",
        "Patient_1 788 E800 726 E680 Patient_1 757 E740\n",
        "dbn300.gen-8_medianwindow-bands2-usf-w60-b0.2-b4-b8-b12-b30-b70-0.1-0.5-0.9 636 E620\n",
        "\n",
        "Dog_2 879 E932 893 E953 894 E941 Dog_2 889 E942\n",
        "Dog_3 759 E788 "
       ]
      },
      {
       "output_type": "stream",
       "stream": "stdout",
       "text": [
        "766 E776 774 E772 Dog_3 765 E779\n",
        "Dog_1 627 E656 666 E654 672 E679 Dog_1 653 E663\n",
        "Dog_4 579 E604 542 E575 594 E599 Dog_4 571 E593\n",
        "Dog_5 896 E930 907 E925 910 E894 Dog_5 905 E917\n",
        "Patient_2 592 E580 836 E753 736 E878 Patient_2 723 E737\n",
        "Patient_1 853 E833 874 E855 847 E780 Patient_1 844 E823\n",
        "maxdepthNone.gen-8_medianwindow-bands2-usf-w10-hammingP2-b0.2-b4-b8-b12-b30-b70-0.1-0.5-0.9 762 E744\n",
        "\n",
        "Dog_2"
       ]
      },
      {
       "output_type": "stream",
       "stream": "stdout",
       "text": [
        " 911 E955 909 E938 881 E917 Dog_2 901 E937\n",
        "Dog_3 748 E755 734 E731 746 E741 Dog_3 743 E742\n",
        "Dog_1 662 E652 533 E540 661 E653 Dog_1 619 E615\n",
        "Dog_4 596 E592 545 E541 587 E589 Dog_4 "
       ]
      },
      {
       "output_type": "stream",
       "stream": "stdout",
       "text": [
        "575 E574\n",
        "Dog_5 960 E953 928 E931 937 E941 Dog_5 942 E942\n",
        "Patient_2 980 E972 757 E842 846 E990 Patient_2 865 E935\n",
        "Patient_1 811 E759 890 E928 760 E883 Patient_1 820 E856\n",
        "maxdepth25.gen-8_medianwindow-bands2-usf-w10-hammingP2-b0.2-b4-b8-b12-b30-b70-0.1-0.5-0.9 768 E740\n",
        "\n",
        "Dog_2 906 E944 877 E931 885 E932 Dog_2 888 E936\n",
        "Dog_3 774 E783 779 E769 768 E767 Dog_3 774 E773\n",
        "Dog_1 680 E690 611 E605 "
       ]
      },
      {
       "output_type": "stream",
       "stream": "stdout",
       "text": [
        "672 E694 Dog_1 654 E663\n",
        "Dog_4 579 E606 620 E653 634 E633 Dog_4 610 E631\n",
        "Dog_5 937 E965 907 E904 944 E954 Dog_5 928 E941\n",
        "Patient_2 893 E972 764 E853 905 E981 Patient_2 837 E935\n",
        "Patient_1 888 E897 839 E864 905 E872 Patient_1 873 E877\n",
        "maxdepth20.gen-8_medianwindow-bands2-usf-w10-hammingP2-b0.2-b4-b8-b12-b30-b70-0.1-0.5-0.9 782 E771\n",
        "\n",
        "Dog_2 884 E927 898 E911 872 E911 Dog_2 885 E916"
       ]
      },
      {
       "output_type": "stream",
       "stream": "stdout",
       "text": [
        "\n",
        "Dog_3 730 E738 718 E720 736 E746 Dog_3 728 E735\n",
        "Dog_1 588 E607 609 E600 650 E657 Dog_1 618 E621\n",
        "Dog_4 525 E532 529 E524 586 E612 Dog_4 546 E556\n",
        "Dog_5 895 E883 893 E904 914 E921 Dog_5 901 E903\n",
        "Patient_2 847 E950 "
       ]
      },
      {
       "output_type": "stream",
       "stream": "stdout",
       "text": [
        "905 E831 894 E906 Patient_2 880 E896\n",
        "Patient_1 803 E807 882 E816 911 E881 Patient_1 862 E835\n",
        "maxdepth15.gen-8_medianwindow-bands2-usf-w10-hammingP2-b0.2-b4-b8-b12-b30-b70-0.1-0.5-0.9 753 E723\n",
        "\n",
        "Dog_2 887 E921 919 E955 895 E922 Dog_2 899 E933\n",
        "Dog_3 733 E758 738 E760 738 E767 Dog_3 737 E762\n",
        "Dog_1 612 E615 598 E622 618 E638 Dog_1 611 E625\n",
        "Dog_4 592 E600 "
       ]
      },
      {
       "output_type": "stream",
       "stream": "stdout",
       "text": [
        "599 E619 537 E551 Dog_4 577 E590\n",
        "Dog_5 939 E943 940 E946 913 E923 Dog_5 931 E937\n",
        "Patient_2 894 E934 840 E847 914 E980 Patient_2 884 E920\n",
        "Patient_1 705 E644 778 E765 757 E709 Patient_1 747 E706\n",
        "max_depth5gen-8_medianwindow-bands2-usf-w10-hammingP2-b0.2-b4-b8-b12-b30-b70-0.1-0.5-0.9 763 E740\n",
        "\n",
        "Dog_2 885 E910 894 E927 888 E915 Dog_2 888 E917\n",
        "Dog_3 744 E751 767 E773 "
       ]
      },
      {
       "output_type": "stream",
       "stream": "stdout",
       "text": [
        "722 E723 Dog_3 744 E749\n",
        "Dog_1 621 E585 706 E711 672 E663 Dog_1 667 E653\n",
        "Dog_4 516 E502 581 E590 533 E563 Dog_4 545 E552\n",
        "Dog_5 929 E929 912 E916 946 E961 Dog_5 927 E935\n",
        "Patient_2 754 E708 916 E883 806 E788 Patient_2 821 E793\n",
        "Patient_1 709 E686 651 E604 850 E892 Patient_1 734 E727\n",
        "max_depth10gen-8_medianwindow-bandsI2-usf-w60-b0.2-b4-b8-b12-b30-b50-b75-b100-b117-0.1-0.5-0.9 755 E718\n",
        "\n",
        "Dog_2 "
       ]
      },
      {
       "output_type": "stream",
       "stream": "stdout",
       "text": [
        "872 E912 854 E889 864 E895 Dog_2 864 E898\n",
        "Dog_3 790 E798 768 E777 742 E765 Dog_3 766 E780\n",
        "Dog_1 676 E682 640 E651 589 E606 Dog_1 635 E646\n",
        "Dog_4 591 E611 636 E684 531 E533 Dog_4 585 E609\n",
        "Dog_5 961 E967 "
       ]
      },
      {
       "output_type": "stream",
       "stream": "stdout",
       "text": [
        "927 E918 946 E934 Dog_5 945 E940\n",
        "Patient_2 968 E953 808 E972 784 E684 Patient_2 850 E870\n",
        "Patient_1 637 E667 856 E857 907 E860 Patient_1 779 E795\n",
        "max_depth5gen-8_medianwindow-bandsI2-usf-w60-b0.2-b4-b8-b12-b30-b50-b75-b100-b117-0.1-0.5-0.9 765 E751\n",
        "\n",
        "Dog_2 861 E895 861 E909 879 E916 Dog_2 866 E907\n",
        "Dog_3 716 E750 753 E756 738 E714 Dog_3 734 E740\n",
        "Dog_1 617 E628 552 E562 "
       ]
      },
      {
       "output_type": "stream",
       "stream": "stdout",
       "text": [
        "563 E594 Dog_1 575 E595\n",
        "Dog_4 617 E643 591 E605 540 E567 Dog_4 581 E605\n",
        "Dog_5 905 E893 902 E923 957 E958 Dog_5 920 E925\n",
        "Patient_2 868 E958 792 E727 676 E668 Patient_2 797 E784\n",
        "Patient_1 722 E735 872 E862 706 E694 Patient_1 766 E764\n",
        "max_depth5.min_samples_leaf4.gen-8_medianwindow-bands2-usf-w60-b0.2-b4-b8-b12-b30-b70-0.1-0.5-0.9 750 E729\n",
        "\n",
        "Dog_2 861 E895 861 E909 "
       ]
      },
      {
       "output_type": "stream",
       "stream": "stdout",
       "text": [
        "879 E916 Dog_2 866 E907\n",
        "Dog_3 716 E750 753 E756 738 E714 Dog_3 734 E740\n",
        "Dog_1 617 E628 552 E562 563 E594 Dog_1 575 E595\n",
        "Dog_4 617 E643 591 E605 540 E567 Dog_4 581 E605\n",
        "Dog_5 905 E893 902 E923 "
       ]
      },
      {
       "output_type": "stream",
       "stream": "stdout",
       "text": [
        "957 E958 Dog_5 920 E925\n",
        "Patient_2 868 E958 792 E727 676 E668 Patient_2 797 E784\n",
        "Patient_1 722 E735 872 E862 706 E694 Patient_1 766 E764\n",
        "maxdepth10.gen-8_medianwindow-bands2-usf-w60-b0.2-b4-b8-b12-b30-b70-0.1-0.5-0.9 750 E729\n",
        "\n",
        "Dog_2 889 E919 908 E954 875 E914 Dog_2 890 E929\n",
        "Dog_3 794 E818 766 E787 771 E777 Dog_3 777 E794\n",
        "Dog_1 605 E605 538 E524 "
       ]
      },
      {
       "output_type": "stream",
       "stream": "stdout",
       "text": [
        "603 E605 Dog_1 581 E578\n",
        "Dog_4 595 E610 565 E569 556 E583 Dog_4 571 E587\n",
        "Dog_5 937 E926 908 E901 947 E951 Dog_5 930 E926\n",
        "Patient_2 991 E992 977 E949 858 E973 Patient_2 936 E972\n",
        "Patient_1 819 E807 886 E866 695 E636 Patient_1 797 E770\n",
        "max_depth5.gen-8_medianwindow-bands2-usf-w60-b0.2-b4-b8-b12-b30-b70-0.1-0.5-0.9 767 E749\n",
        "\n"
       ]
      }
     ],
     "prompt_number": 48
    },
    {
     "cell_type": "code",
     "collapsed": false,
     "input": [],
     "language": "python",
     "metadata": {},
     "outputs": [],
     "prompt_number": 24
    }
   ],
   "metadata": {}
  }
 ]
}