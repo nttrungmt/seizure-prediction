{
 "metadata": {
  "name": "",
  "signature": "sha256:d84776f953833fa206e24cacc538f3e0517f717ac90f82cb9f619cfe80f248ca"
 },
 "nbformat": 3,
 "nbformat_minor": 0,
 "worksheets": [
  {
   "cells": [
    {
     "cell_type": "markdown",
     "metadata": {},
     "source": [
      "continue from 140929-target-combine"
     ]
    },
    {
     "cell_type": "code",
     "collapsed": false,
     "input": [
      "%matplotlib inline\n",
      "from matplotlib import pylab as pl\n",
      "import cPickle as pickle\n",
      "import pandas as pd\n",
      "import numpy as np\n",
      "import os\n",
      "import re\n",
      "import math\n",
      "import sys\n",
      "import random"
     ],
     "language": "python",
     "metadata": {},
     "outputs": [],
     "prompt_number": 1
    },
    {
     "cell_type": "code",
     "collapsed": false,
     "input": [
      "w_gb = 0.471"
     ],
     "language": "python",
     "metadata": {},
     "outputs": [],
     "prompt_number": 148
    },
    {
     "cell_type": "code",
     "collapsed": false,
     "input": [
      "df = pd.DataFrame()\n",
      "df['gb'] = pd.read_csv('../submissions/140929-target-combine.validate.1.csv', index_col='clip', squeeze=True)\n",
      "df['rf'] = pd.read_csv('../submissions/140929-target-combine.validate.2.csv', index_col='clip', squeeze=True)\n",
      "df['y_est'] = w_gb * df['gb'] + (1.-w_gb)*df['rf']\n",
      "df['y'] = [int(s.find('preictal') >= 0) for s in df.index.values]"
     ],
     "language": "python",
     "metadata": {},
     "outputs": [],
     "prompt_number": 149
    },
    {
     "cell_type": "code",
     "collapsed": false,
     "input": [
      "df.mean()"
     ],
     "language": "python",
     "metadata": {},
     "outputs": [
      {
       "metadata": {},
       "output_type": "pyout",
       "prompt_number": 150,
       "text": [
        "gb       0.041223\n",
        "rf       0.137927\n",
        "y_est    0.092379\n",
        "y        0.074010\n",
        "dtype: float64"
       ]
      }
     ],
     "prompt_number": 150
    },
    {
     "cell_type": "code",
     "collapsed": false,
     "input": [
      "from sklearn.metrics import roc_auc_score\n",
      "roc_auc_score(df.y, df.y_est)"
     ],
     "language": "python",
     "metadata": {},
     "outputs": [
      {
       "metadata": {},
       "output_type": "pyout",
       "prompt_number": 151,
       "text": [
        "0.86366122484269181"
       ]
      }
     ],
     "prompt_number": 151
    },
    {
     "cell_type": "markdown",
     "metadata": {},
     "source": [
      "the factor as used in 140926-mix-submissions"
     ]
    },
    {
     "cell_type": "code",
     "collapsed": false,
     "input": [
      "w_gb/(1.-w_gb)"
     ],
     "language": "python",
     "metadata": {},
     "outputs": [
      {
       "metadata": {},
       "output_type": "pyout",
       "prompt_number": 152,
       "text": [
        "0.8903591682419659"
       ]
      }
     ],
     "prompt_number": 152
    },
    {
     "cell_type": "code",
     "collapsed": false,
     "input": [],
     "language": "python",
     "metadata": {},
     "outputs": []
    }
   ],
   "metadata": {}
  }
 ]
}