{
 "metadata": {
  "name": "",
  "signature": "sha256:fbba39f804367c6958eb452118624a6c45d2303c1e25e1b472d4050ea6fd542c"
 },
 "nbformat": 3,
 "nbformat_minor": 0,
 "worksheets": [
  {
   "cells": [
    {
     "cell_type": "code",
     "collapsed": false,
     "input": [
      "%matplotlib inline\n",
      "from matplotlib import pylab as pl\n",
      "import cPickle as pickle\n",
      "import pandas as pd\n",
      "import numpy as np\n",
      "import os\n",
      "import random"
     ],
     "language": "python",
     "metadata": {},
     "outputs": [],
     "prompt_number": 3
    },
    {
     "cell_type": "code",
     "collapsed": false,
     "input": [
      "import sys\n",
      "sys.path.append('..')"
     ],
     "language": "python",
     "metadata": {},
     "outputs": [],
     "prompt_number": 4
    },
    {
     "cell_type": "code",
     "collapsed": false,
     "input": [
      "import scipy.io\n",
      "means = None\n",
      "stds = None\n",
      "jumps = None\n",
      "for target in ['Dog_1']: #['Dog_1', 'Dog_2', 'Dog_3', 'Dog_4', 'Dog_5', 'Patient_1', 'Patient_2']:\n",
      "    for data_type in ['preictal', 'interictal', 'test']:\n",
      "        print target, data_type\n",
      "        first = True\n",
      "        segment = 1 # start segment\n",
      "        last_data = last_sequence = last_data_length_sec = last_Fs = last_channels = last_d_shape = None\n",
      "        nsegments = 0\n",
      "        while True:\n",
      "            fname = '../seizure-data/%s/%s_%s_segment_%04d.mat'%(target,target,data_type,segment)\n",
      "            try:\n",
      "                data = scipy.io.loadmat(fname)\n",
      "            except:\n",
      "                break\n",
      "            k = '%s_segment_%d'%(data_type,segment)\n",
      "#             for k1 in data.keys():\n",
      "#                 if k1 != k and data[k1]:\n",
      "#                     print data[k1],\n",
      "#             print\n",
      "            data_length_sec = data[k]['data_length_sec'][0,0][0,0]\n",
      "            try:\n",
      "                sequence = data[k]['sequence'][0,0][0,0]\n",
      "            except:\n",
      "                sequence = 1 # test data\n",
      "            Fs = float(data[k]['sampling_frequency'][0,0][0,0])\n",
      "            channels = [t[0] for t in data[k]['channels'][0,0][0]]\n",
      "            d = data[k]['data'][0,0]\n",
      "#             print segment,data_length_sec,sequence,Fs,d.shape\n",
      "\n",
      "            assert len(channels) == d.shape[0]\n",
      "            assert int(Fs*data_length_sec + 0.5) == d.shape[1],int(Fs*data_length_sec + 0.5)\n",
      "            assert last_data_length_sec is None or last_data_length_sec == data_length_sec\n",
      "            last_data_length_sec = data_length_sec\n",
      "            assert last_Fs is None or last_Fs == Fs\n",
      "            last_Fs = Fs\n",
      "            assert last_channels is None or all(c1==c2 for c1,c2 in zip(last_channels, channels))\n",
      "            last_channels = channels\n",
      "            assert last_d_shape is None or last_d_shape == d.shape\n",
      "            last_d_shape = d.shape\n",
      "\n",
      "            segment_mean = d.mean(axis=-1)\n",
      "            means = segment_mean if means is None else np.hstack((means, segment_mean))\n",
      "            segment_std = d.std(axis=-1)\n",
      "            stds = segment_std if stds is None else np.hstack((stds, segment_std))\n",
      "\n",
      "            if nsegments == 0:\n",
      "                last_data = d\n",
      "                last_sequence = sequence\n",
      "                N = d.shape[1]\n",
      "                nsegments = 1\n",
      "            elif last_sequence+1 == sequence:\n",
      "                assert N == d.shape[1]\n",
      "                jump = d[:,0] - last_data[:,-1]\n",
      "                jumps = jump if jumps is None else np.hstack((jumps, jump))\n",
      "#                 break\n",
      "                last_data = d\n",
      "                last_sequence = sequence\n",
      "                nsegments += 1\n",
      "            else:\n",
      "                nsegments = 0\n",
      "            segment += 1\n",
      "        if first:\n",
      "            print data_length_sec, sequence, Fs,nsegments\n",
      "            first = False"
     ],
     "language": "python",
     "metadata": {},
     "outputs": [
      {
       "output_type": "stream",
       "stream": "stdout",
       "text": [
        "Dog_1 preictal\n",
        "600"
       ]
      },
      {
       "output_type": "stream",
       "stream": "stdout",
       "text": [
        " 6 399.609756098 5\n",
        "Dog_1 interictal\n",
        "600"
       ]
      },
      {
       "output_type": "stream",
       "stream": "stdout",
       "text": [
        " 6 399.609756098 5\n",
        "Dog_1 test\n",
        "600"
       ]
      },
      {
       "output_type": "stream",
       "stream": "stdout",
       "text": [
        " 1 399.609756098 0\n"
       ]
      }
     ],
     "prompt_number": 54
    },
    {
     "cell_type": "code",
     "collapsed": false,
     "input": [
      "d.shape"
     ],
     "language": "python",
     "metadata": {},
     "outputs": [
      {
       "metadata": {},
       "output_type": "pyout",
       "prompt_number": 55,
       "text": [
        "(16, 239766)"
       ]
      }
     ],
     "prompt_number": 55
    },
    {
     "cell_type": "code",
     "collapsed": false,
     "input": [
      "len(jumps)"
     ],
     "language": "python",
     "metadata": {},
     "outputs": [
      {
       "metadata": {},
       "output_type": "pyout",
       "prompt_number": 49,
       "text": [
        "690"
       ]
      }
     ],
     "prompt_number": 49
    },
    {
     "cell_type": "markdown",
     "metadata": {},
     "source": [
      "note that the means over all segments and channels are between $-0.5$ to $+0.5$ which looks like an integer mean was removed"
     ]
    },
    {
     "cell_type": "code",
     "collapsed": false,
     "input": [
      "pl.hist(means);"
     ],
     "language": "python",
     "metadata": {},
     "outputs": [
      {
       "metadata": {},
       "output_type": "display_data",
       "png": "[encoded data removed]",
       "text": [
        "<matplotlib.figure.Figure at 0x116f4da50>"
       ]
      }
     ],
     "prompt_number": 50
    },
    {
     "cell_type": "code",
     "collapsed": false,
     "input": [
      "pl.hist(stds,bins=50);"
     ],
     "language": "python",
     "metadata": {},
     "outputs": [
      {
       "metadata": {},
       "output_type": "display_data",
       "png": "[encoded data removed]",
       "text": [
        "<matplotlib.figure.Figure at 0x114a8d150>"
       ]
      }
     ],
     "prompt_number": 51
    },
    {
     "cell_type": "code",
     "collapsed": false,
     "input": [
      "pl.hist(jumps,bins=50);"
     ],
     "language": "python",
     "metadata": {},
     "outputs": [
      {
       "metadata": {},
       "output_type": "display_data",
       "png": "[encoded data removed]",
       "text": [
        "<matplotlib.figure.Figure at 0x114d3fe90>"
       ]
      }
     ],
     "prompt_number": 52
    },
    {
     "cell_type": "code",
     "collapsed": false,
     "input": [
      "jumps.min(),jumps.max()"
     ],
     "language": "python",
     "metadata": {},
     "outputs": [
      {
       "metadata": {},
       "output_type": "pyout",
       "prompt_number": 53,
       "text": [
        "(-6609, 4939)"
       ]
      }
     ],
     "prompt_number": 53
    },
    {
     "cell_type": "code",
     "collapsed": false,
     "input": [],
     "language": "python",
     "metadata": {},
     "outputs": []
    }
   ],
   "metadata": {}
  }
 ]
}