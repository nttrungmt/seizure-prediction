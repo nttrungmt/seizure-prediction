{
 "metadata": {
  "name": "",
  "signature": "sha256:d473ef535868318a08650a64abff57e7d82a2ffeb3e4a1ce8d74f9b11d61ffc1"
 },
 "nbformat": 3,
 "nbformat_minor": 0,
 "worksheets": [
  {
   "cells": [
    {
     "cell_type": "code",
     "collapsed": false,
     "input": [
      "%matplotlib inline\n",
      "from matplotlib import pylab as pl\n",
      "import cPickle as pickle\n",
      "import pandas as pd\n",
      "import numpy as np\n",
      "import os\n",
      "import random\n",
      "from collections import defaultdict"
     ],
     "language": "python",
     "metadata": {},
     "outputs": [],
     "prompt_number": 24
    },
    {
     "cell_type": "code",
     "collapsed": false,
     "input": [
      "from IPython.parallel import Client\n",
      "Ncores = 0\n",
      "while Ncores < 32:\n",
      "    try:\n",
      "        client = Client()\n",
      "        lv = client.load_balanced_view()\n",
      "        #lv.set_flags(block = False, retries = 0)\n",
      "        clients=client[:]\n",
      "        Ncores = len(clients)\n",
      "    except:\n",
      "        Ncores = 0\n",
      "    print Ncores\n",
      "    break"
     ],
     "language": "python",
     "metadata": {},
     "outputs": [
      {
       "output_type": "stream",
       "stream": "stdout",
       "text": [
        "32\n"
       ]
      }
     ],
     "prompt_number": 25
    },
    {
     "cell_type": "code",
     "collapsed": false,
     "input": [
      "def work(task):\n",
      "    import scipy.io\n",
      "    from scipy.signal import resample, hann\n",
      "    import numpy.fft\n",
      "    import hickle as hkl\n",
      "    import numpy as np\n",
      "    \n",
      "    target = task[0]\n",
      "    data_type = task[1]\n",
      "\n",
      "    outdir = '../filtered-seizure-data/%s'%target\n",
      "    \n",
      "    last_sequence = last_data_length_sec = last_Fs = last_channels = last_d_shape = None\n",
      "    for segment in range(10000):\n",
      "        fname = '../seizure-data/%s/%s_%s_segment_%04d.mat'%(target,target,data_type,segment+1)\n",
      "        try:\n",
      "            data = scipy.io.loadmat(fname)\n",
      "        except:\n",
      "            break\n",
      "\n",
      "        k = '%s_segment_%d'%(data_type,segment+1)\n",
      "        data_length_sec = data[k]['data_length_sec'][0,0][0,0]\n",
      "        try:\n",
      "            sequence = data[k]['sequence'][0,0][0,0]\n",
      "        except:\n",
      "            sequence = 1\n",
      "        Fs = float(data[k]['sampling_frequency'][0,0][0,0])\n",
      "        channels = [t[0] for t in data[k]['channels'][0,0][0]]\n",
      "        d = data[k]['data'][0,0]\n",
      "\n",
      "        assert len(channels) == d.shape[0]\n",
      "        N = d.shape[1]\n",
      "        assert int(Fs*data_length_sec + 0.5) == N,int(Fs*data_length_sec + 0.5)\n",
      "        assert last_data_length_sec is None or last_data_length_sec == data_length_sec\n",
      "        last_data_length_sec = data_length_sec\n",
      "        assert last_Fs is None or last_Fs == Fs\n",
      "        last_Fs = Fs\n",
      "        assert last_channels is None or all(c1==c2 for c1,c2 in zip(last_channels, channels))\n",
      "        last_channels = channels\n",
      "        assert last_d_shape is None or last_d_shape == d.shape\n",
      "        last_d_shape = d.shape\n",
      "\n",
      "        d = d.astype(float)\n",
      "\n",
      "        # remove ham and resample to 399.61Hz or 239766 samples per segment\n",
      "        if abs(Fs-5000) < 100:\n",
      "            def mynotch(fftfreq, notchfreq=60., notchwidth=5., Fs=Fs):\n",
      "                return np.double(np.abs(np.abs(fftfreq) - notchfreq/Fs) > (notchwidth/2.)/Fs)\n",
      "            data_resamp = resample(d, 239766, axis=-1, window=mynotch)\n",
      "            F = 399.61\n",
      "    #         print np.sum(np.abs(fftfreq - h*notchfreqs) <= notchwidths)/float(N)\n",
      "        else:\n",
      "            data_resamp = d.copy()\n",
      "            F = Fs\n",
      "#             data[k]['sampling_frequency'][0,0][0,0] = F\n",
      "#             data[k]['data'][0,0] = data_resamp\n",
      "        # save result in compressed HDF5, keep the sequence number in the file name\n",
      "        foutname = '../filtered-seizure-data/%s/%s_%s_segment_%04d_%d.hkl'%(target,target,data_type,segment+1,sequence)\n",
      "        hkl.dump(data_resamp, foutname, mode=\"w\", compression='gzip')\n",
      "    return segment"
     ],
     "language": "python",
     "metadata": {},
     "outputs": [],
     "prompt_number": 26
    },
    {
     "cell_type": "code",
     "collapsed": false,
     "input": [
      "data_types = ['preictal', 'interictal', 'test']\n",
      "targets = ['Dog_1', 'Dog_2', 'Dog_3', 'Dog_4', 'Dog_5', 'Patient_1', 'Patient_2']"
     ],
     "language": "python",
     "metadata": {},
     "outputs": [],
     "prompt_number": 27
    },
    {
     "cell_type": "code",
     "collapsed": false,
     "input": [
      "results = lv.map(work, [(t,d) for t in targets for d in data_types])"
     ],
     "language": "python",
     "metadata": {},
     "outputs": []
    },
    {
     "cell_type": "code",
     "collapsed": false,
     "input": [
      "for r in results:\n",
      "    print r"
     ],
     "language": "python",
     "metadata": {},
     "outputs": []
    },
    {
     "cell_type": "code",
     "collapsed": false,
     "input": [],
     "language": "python",
     "metadata": {},
     "outputs": []
    }
   ],
   "metadata": {}
  }
 ]
}