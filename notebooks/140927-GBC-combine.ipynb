{
 "metadata": {
  "name": "",
  "signature": "sha256:1e8897808758eb21a3f86955b0265fb2954857566a9355a1d7ddba755236461c"
 },
 "nbformat": 3,
 "nbformat_minor": 0,
 "worksheets": [
  {
   "cells": [
    {
     "cell_type": "markdown",
     "metadata": {},
     "source": [
      "continue from 140927-GBC"
     ]
    },
    {
     "cell_type": "code",
     "collapsed": false,
     "input": [
      "%matplotlib inline\n",
      "from matplotlib import pylab as pl\n",
      "import cPickle as pickle\n",
      "import pandas as pd\n",
      "import numpy as np\n",
      "import os\n",
      "import re\n",
      "import math\n",
      "import sys\n",
      "import random"
     ],
     "language": "python",
     "metadata": {},
     "outputs": [],
     "prompt_number": 1
    },
    {
     "cell_type": "code",
     "collapsed": false,
     "input": [
      "y = y_est = None"
     ],
     "language": "python",
     "metadata": {},
     "outputs": [],
     "prompt_number": 2
    },
    {
     "cell_type": "code",
     "collapsed": false,
     "input": [
      "for target in ['Dog_1', 'Dog_2', 'Dog_3', 'Dog_4', 'Dog_5', 'Patient_1', 'Patient_2']:\n",
      "    with open('../data-cache/%s_predict.spkl'%target,'rb') as fp:\n",
      "        y_target, y_est_target = pickle.load(fp)\n",
      "    if y is None:\n",
      "        y = y_target\n",
      "        y_est = y_est_target\n",
      "    else:\n",
      "        y = np.hstack((y, y_target))\n",
      "        y_est = np.hstack((y_est, y_est_target))"
     ],
     "language": "python",
     "metadata": {},
     "outputs": [],
     "prompt_number": 3
    },
    {
     "cell_type": "code",
     "collapsed": false,
     "input": [
      "from sklearn.metrics import roc_auc_score\n",
      "roc_auc_score(y, y_est)"
     ],
     "language": "python",
     "metadata": {},
     "outputs": [
      {
       "metadata": {},
       "output_type": "pyout",
       "prompt_number": 4,
       "text": [
        "0.85133243234182465"
       ]
      }
     ],
     "prompt_number": 4
    },
    {
     "cell_type": "code",
     "collapsed": false,
     "input": [
      "fpout = open('../submissions/140928-predict.1.csv','w')\n",
      "print >>fpout,'clip,preictal'"
     ],
     "language": "python",
     "metadata": {},
     "outputs": [],
     "prompt_number": 5
    },
    {
     "cell_type": "code",
     "collapsed": false,
     "input": [
      "for target in ['Dog_1', 'Dog_2', 'Dog_3', 'Dog_4', 'Dog_5', 'Patient_1', 'Patient_2']:\n",
      "    with open('../data-cache/%s_test.spkl'%target,'rb') as fp:\n",
      "        y_proba = pickle.load(fp)\n",
      "    # write results\n",
      "    for i,p in enumerate(y_proba):\n",
      "        print >>fpout,'%s_test_segment_%04d.mat,%.15f' % (target, i+1, p)"
     ],
     "language": "python",
     "metadata": {},
     "outputs": [],
     "prompt_number": 6
    },
    {
     "cell_type": "code",
     "collapsed": false,
     "input": [
      "fpout.close()"
     ],
     "language": "python",
     "metadata": {},
     "outputs": [],
     "prompt_number": 7
    },
    {
     "cell_type": "code",
     "collapsed": false,
     "input": [
      "!head ../submissions/140928-predict.1.csv"
     ],
     "language": "python",
     "metadata": {},
     "outputs": [
      {
       "output_type": "stream",
       "stream": "stdout",
       "text": [
        "clip,preictal\r\n",
        "Dog_1_test_segment_0001.mat,0.015312143579901\r\n",
        "Dog_1_test_segment_0002.mat,0.000353873029750\r\n",
        "Dog_1_test_segment_0003.mat,0.000026776180830\r\n",
        "Dog_1_test_segment_0004.mat,0.000051089676856\r\n",
        "Dog_1_test_segment_0005.mat,0.000547950158771\r\n",
        "Dog_1_test_segment_0006.mat,0.000034216222648\r\n",
        "Dog_1_test_segment_0007.mat,0.000019276143757\r\n",
        "Dog_1_test_segment_0008.mat,0.000390456118013\r\n",
        "Dog_1_test_segment_0009.mat,0.000216785105992\r\n"
       ]
      }
     ],
     "prompt_number": 9
    },
    {
     "cell_type": "code",
     "collapsed": false,
     "input": [],
     "language": "python",
     "metadata": {},
     "outputs": [],
     "prompt_number": 8
    }
   ],
   "metadata": {}
  }
 ]
}