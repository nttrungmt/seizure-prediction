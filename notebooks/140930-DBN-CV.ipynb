{
 "metadata": {
  "name": "",
  "signature": "sha256:bc0e2f3b174367563a7308265030aaba6b28e727f97f57234e963d239f0f00ca"
 },
 "nbformat": 3,
 "nbformat_minor": 0,
 "worksheets": [
  {
   "cells": [
    {
     "cell_type": "code",
     "collapsed": false,
     "input": [
      "%matplotlib inline\n",
      "from matplotlib import pylab as pl\n",
      "import cPickle as pickle\n",
      "import pandas as pd\n",
      "import numpy as np\n",
      "import os\n",
      "import random\n",
      "from collections import defaultdict"
     ],
     "language": "python",
     "metadata": {},
     "outputs": [],
     "prompt_number": 1
    },
    {
     "cell_type": "code",
     "collapsed": false,
     "input": [
      "import sys\n",
      "sys.path.append('..')"
     ],
     "language": "python",
     "metadata": {},
     "outputs": [],
     "prompt_number": 2
    },
    {
     "cell_type": "heading",
     "level": 1,
     "metadata": {},
     "source": [
      "Read precomputed features"
     ]
    },
    {
     "cell_type": "markdown",
     "metadata": {},
     "source": [
      "uncommoent the relevant pipeline in `../seizure_detection.py` and run\n",
      "```bash\n",
      "cd ..\n",
      "./doall data\n",
      "```"
     ]
    },
    {
     "cell_type": "code",
     "collapsed": false,
     "input": [
      "FEATURES = 'gen-8_medianwindow-bands2-usf-w60-b0.2-b4-b8-b12-b30-b70-0.1-0.5-0.9'"
     ],
     "language": "python",
     "metadata": {},
     "outputs": [],
     "prompt_number": 42
    },
    {
     "cell_type": "code",
     "collapsed": false,
     "input": [
      "from common.data import CachedDataLoader\n",
      "cached_data_loader = CachedDataLoader('../data-cache')"
     ],
     "language": "python",
     "metadata": {},
     "outputs": [],
     "prompt_number": 43
    },
    {
     "cell_type": "code",
     "collapsed": false,
     "input": [
      "def read_data(target, data_type):\n",
      "    return cached_data_loader.load('data_%s_%s_%s'%(data_type,target,FEATURES),None)"
     ],
     "language": "python",
     "metadata": {},
     "outputs": [],
     "prompt_number": 44
    },
    {
     "cell_type": "heading",
     "level": 1,
     "metadata": {},
     "source": [
      "Predict"
     ]
    },
    {
     "cell_type": "code",
     "collapsed": false,
     "input": [
      "from sklearn.ensemble import RandomForestClassifier\n",
      "\n",
      "clf = RandomForestClassifier(n_estimators=3000, min_samples_split=1, bootstrap=False,max_depth=10,\n",
      "                             n_jobs=-1) #min_samples_leaf=4"
     ],
     "language": "python",
     "metadata": {},
     "outputs": [],
     "prompt_number": 45
    },
    {
     "cell_type": "code",
     "collapsed": false,
     "input": [
      "from sklearn import preprocessing\n",
      "from nolearn.dbn import DBN\n",
      "from sklearn.pipeline import Pipeline\n",
      "\n",
      "min_max_scaler = preprocessing.MinMaxScaler() # scale features to be [0..1] which is DBN requirement\n",
      "\n",
      "dbn = DBN(\n",
      "    [-1, 300, -1], # first layer has size X.shape[1], hidden layer(s), last layer will have number of classes in y (2))\n",
      "    learn_rates=0.3,\n",
      "    learn_rate_decays=0.9,\n",
      "    epochs=10,\n",
      "    verbose=0,\n",
      "    )\n",
      "\n",
      "clf = Pipeline([('min_max_scaler', min_max_scaler), ('dbn', dbn)])"
     ],
     "language": "python",
     "metadata": {},
     "outputs": [],
     "prompt_number": 63
    },
    {
     "cell_type": "code",
     "collapsed": false,
     "input": [
      "with_weights = False\n",
      "PWEIGHT = 0.\n",
      "LWEIGHT = 0.\n",
      "suffix = 'DBN300.'"
     ],
     "language": "python",
     "metadata": {},
     "outputs": [],
     "prompt_number": 64
    },
    {
     "cell_type": "markdown",
     "metadata": {},
     "source": [
      "split examples into segments, each from the same event\n",
      "in each CV-split we will take all examples from the same segment to either train or validate"
     ]
    },
    {
     "cell_type": "code",
     "collapsed": false,
     "input": [
      "def getsegments(pdata):\n",
      "    segments = []\n",
      "    start = 0\n",
      "    last_l = 0\n",
      "    for i,l in enumerate(pdata.latencies):\n",
      "        if l<last_l:\n",
      "            segments.append(np.arange(start,i))\n",
      "            start = i\n",
      "        last_l = l\n",
      "    segments.append(np.arange(start,i+1))\n",
      "    return np.array(segments)"
     ],
     "language": "python",
     "metadata": {},
     "outputs": [],
     "prompt_number": 65
    },
    {
     "cell_type": "markdown",
     "metadata": {},
     "source": [
      "Compute AUC for each target separatly"
     ]
    },
    {
     "cell_type": "code",
     "collapsed": false,
     "input": [
      "import itertools\n",
      "from sklearn.metrics import roc_auc_score\n",
      "\n",
      "target2iter2ys = {}\n",
      "for target in ['Dog_1', 'Dog_2', 'Dog_3', 'Dog_4', 'Dog_5', 'Patient_1', 'Patient_2']:\n",
      "    # positive examples\n",
      "    pdata = read_data(target, 'preictal')\n",
      "    Np, NF = pdata.X.shape\n",
      "    \n",
      "    clf.set_params(dbn__layer_sizes=[NF,300,2]) # we need to reset each time because NF is different\n",
      "    \n",
      "    psegments = getsegments(pdata)\n",
      "    Nps = len(psegments)\n",
      "\n",
      "    # negative examples\n",
      "    ndata = read_data(target, 'interictal')\n",
      "    Nn, NF = ndata.X.shape\n",
      "    nsegments = getsegments(ndata)\n",
      "    Nns = len(nsegments)\n",
      "    \n",
      "    npratio = float(Nn)/Np\n",
      "    print target,1/(1+npratio),Np,Nn\n",
      "    npsratio = float(Nns)/Nps\n",
      "    print target,1/(1+npsratio),Nps,Nns\n",
      "    Ntrainps = 1\n",
      "    Ntrainns = int(Ntrainps*npsratio)\n",
      "\n",
      "    iter2ys = defaultdict(list) # {niter: Ns *[(ytest,y_proba)]\n",
      "    for s in psegments:\n",
      "        Xtestp = pdata.X[s,:]\n",
      "        weightstest = pdata.latencies[s] # latency for first segment is 1\n",
      "        \n",
      "        Ntrainp = len(s)\n",
      "        Ntrainn = int(Ntrainp*npratio)\n",
      "        \n",
      "        good_iter = 0\n",
      "        for niter in range(10):\n",
      "#             n = np.array(random.sample(xrange(Nn),Ntrainn)) # segment based\n",
      "            ns = np.array(random.sample(xrange(Nns),Ntrainns)) # sequence based\n",
      "            n = np.array(list(itertools.chain(*nsegments[ns]))) # .ravel does not work - elements of nsegments are not of equal length\n",
      "            Xtestn = ndata.X[n,:]\n",
      "\n",
      "            Xtrainp = pdata.X[-s,:]\n",
      "            Xtrainn = ndata.X[-n,:]\n",
      "\n",
      "            Xtrain = np.concatenate((Xtrainp,Xtrainn))\n",
      "            ytrain = np.concatenate((np.ones(Xtrainp.shape[0]),np.zeros(Xtrainn.shape[0])))\n",
      "            perm = np.random.permutation(len(ytrain))\n",
      "            ytrain = ytrain[perm]\n",
      "            Xtrain = Xtrain[perm,:]\n",
      "\n",
      "            Xtest = np.concatenate((Xtestp,Xtestn))\n",
      "            ytest = np.concatenate((np.ones(Xtestp.shape[0]),np.zeros(Xtestn.shape[0])))\n",
      "\n",
      "            if with_weights:\n",
      "                weightsp = PWEIGHT*np.ones(Xtrainp.shape[0])\n",
      "                weightsp += LWEIGHT * (pdata.latencies[-s]-1.) # latency for first segment is 1\n",
      "                weightsn = np.ones(Xtrainn.shape[0]) \n",
      "                weights = np.concatenate((weightsp,weightsn))\n",
      "                weights = weights[perm]\n",
      "                \n",
      "            try:\n",
      "                if with_weights:\n",
      "                    clf.fit(Xtrain, ytrain, sample_weight=weights)\n",
      "                else:\n",
      "                    clf.fit(Xtrain, ytrain)\n",
      "            except:\n",
      "                continue\n",
      "            good_iter += 1\n",
      "\n",
      "            y_proba = clf.predict_proba(Xtest)[:,1]\n",
      "            iter2ys[good_iter].append((ytest, y_proba))\n",
      "            \n",
      "            auc = roc_auc_score(ytest, y_proba)\n",
      "            print '%.3f'%auc,Ntrainp,np.mean(weightstest)\n",
      "            if good_iter >= 2:\n",
      "                break\n",
      "    target2iter2ys[target] = iter2ys\n",
      "    print"
     ],
     "language": "python",
     "metadata": {},
     "outputs": [
      {
       "output_type": "stream",
       "stream": "stdout",
       "text": [
        "Dog_1 0.277108433735 184 480\n",
        "Dog_1 0.047619047619 4 80\n",
        "0.424"
       ]
      },
      {
       "output_type": "stream",
       "stream": "stdout",
       "text": [
        " 46 3.5\n",
        "0.488"
       ]
      },
      {
       "output_type": "stream",
       "stream": "stdout",
       "text": [
        " 46 3.5\n",
        "0.286"
       ]
      },
      {
       "output_type": "stream",
       "stream": "stdout",
       "text": [
        " 46 3.5\n",
        "0.335"
       ]
      },
      {
       "output_type": "stream",
       "stream": "stdout",
       "text": [
        " 46 3.5\n",
        "0.795"
       ]
      },
      {
       "output_type": "stream",
       "stream": "stdout",
       "text": [
        " 46 3.5\n",
        "0.358"
       ]
      },
      {
       "output_type": "stream",
       "stream": "stdout",
       "text": [
        " 46 3.5\n",
        "0.514"
       ]
      },
      {
       "output_type": "stream",
       "stream": "stdout",
       "text": [
        " 46 3.5\n",
        "0.497"
       ]
      },
      {
       "output_type": "stream",
       "stream": "stdout",
       "text": [
        " 46 3.5\n",
        "\n",
        "Dog_2 0.391727493917 322 500\n",
        "Dog_2 0.0769230769231 7 84\n",
        "0.341"
       ]
      },
      {
       "output_type": "stream",
       "stream": "stdout",
       "text": [
        " 46 3.5\n",
        "0.192"
       ]
      },
      {
       "output_type": "stream",
       "stream": "stdout",
       "text": [
        " 46 3.5\n",
        "0.970"
       ]
      },
      {
       "output_type": "stream",
       "stream": "stdout",
       "text": [
        " 46 3.5\n",
        "0.992"
       ]
      },
      {
       "output_type": "stream",
       "stream": "stdout",
       "text": [
        " 46 3.5\n",
        "0.816"
       ]
      },
      {
       "output_type": "stream",
       "stream": "stdout",
       "text": [
        " 46 3.5\n",
        "0.709"
       ]
      },
      {
       "output_type": "stream",
       "stream": "stdout",
       "text": [
        " 46 3.5\n",
        "0.830"
       ]
      },
      {
       "output_type": "stream",
       "stream": "stdout",
       "text": [
        " 46 3.5\n",
        "0.837"
       ]
      },
      {
       "output_type": "stream",
       "stream": "stdout",
       "text": [
        " 46 3.5\n",
        "0.916"
       ]
      },
      {
       "output_type": "stream",
       "stream": "stdout",
       "text": [
        " 46 3.5\n",
        "0.865"
       ]
      },
      {
       "output_type": "stream",
       "stream": "stdout",
       "text": [
        " 46 3.5\n",
        "0.958"
       ]
      },
      {
       "output_type": "stream",
       "stream": "stdout",
       "text": [
        " 46 3.5\n",
        "0.971"
       ]
      },
      {
       "output_type": "stream",
       "stream": "stdout",
       "text": [
        " 46 3.5\n",
        "0.489"
       ]
      },
      {
       "output_type": "stream",
       "stream": "stdout",
       "text": [
        " 46 3.5\n",
        "0.330"
       ]
      },
      {
       "output_type": "stream",
       "stream": "stdout",
       "text": [
        " 46 3.5\n",
        "\n",
        "Dog_3 0.277108433735 552 1440\n",
        "Dog_3 0.047619047619 12 240\n",
        "0.666"
       ]
      },
      {
       "output_type": "stream",
       "stream": "stdout",
       "text": [
        " 46 3.5\n",
        "0.551"
       ]
      },
      {
       "output_type": "stream",
       "stream": "stdout",
       "text": [
        " 46 3.5\n",
        "0.367"
       ]
      },
      {
       "output_type": "stream",
       "stream": "stdout",
       "text": [
        " 46 3.5\n",
        "0.397"
       ]
      },
      {
       "output_type": "stream",
       "stream": "stdout",
       "text": [
        " 46 3.5\n",
        "0.599"
       ]
      },
      {
       "output_type": "stream",
       "stream": "stdout",
       "text": [
        " 46 3.5\n",
        "0.835"
       ]
      },
      {
       "output_type": "stream",
       "stream": "stdout",
       "text": [
        " 46 3.5\n",
        "0.520"
       ]
      },
      {
       "output_type": "stream",
       "stream": "stdout",
       "text": [
        " 46 3.5\n",
        "0.652"
       ]
      },
      {
       "output_type": "stream",
       "stream": "stdout",
       "text": [
        " 46 3.5\n",
        "0.488"
       ]
      },
      {
       "output_type": "stream",
       "stream": "stdout",
       "text": [
        " 46 3.5\n",
        "0.543"
       ]
      },
      {
       "output_type": "stream",
       "stream": "stdout",
       "text": [
        " 46 3.5\n",
        "1.000"
       ]
      },
      {
       "output_type": "stream",
       "stream": "stdout",
       "text": [
        " 46 3.5\n",
        "1.000"
       ]
      },
      {
       "output_type": "stream",
       "stream": "stdout",
       "text": [
        " 46 3.5\n",
        "0.955"
       ]
      },
      {
       "output_type": "stream",
       "stream": "stdout",
       "text": [
        " 46 3.5\n",
        "0.957"
       ]
      },
      {
       "output_type": "stream",
       "stream": "stdout",
       "text": [
        " 46 3.5\n",
        "0.645"
       ]
      },
      {
       "output_type": "stream",
       "stream": "stdout",
       "text": [
        " 46 3.5\n",
        "0.608"
       ]
      },
      {
       "output_type": "stream",
       "stream": "stdout",
       "text": [
        " 46 3.5\n",
        "0.718"
       ]
      },
      {
       "output_type": "stream",
       "stream": "stdout",
       "text": [
        " 46 3.5\n",
        "0.707"
       ]
      },
      {
       "output_type": "stream",
       "stream": "stdout",
       "text": [
        " 46 3.5\n",
        "0.460"
       ]
      },
      {
       "output_type": "stream",
       "stream": "stdout",
       "text": [
        " 46 3.5\n",
        "0.707"
       ]
      },
      {
       "output_type": "stream",
       "stream": "stdout",
       "text": [
        " 46 3.5\n",
        "0.640"
       ]
      },
      {
       "output_type": "stream",
       "stream": "stdout",
       "text": [
        " 46 3.5\n",
        "0.513"
       ]
      },
      {
       "output_type": "stream",
       "stream": "stdout",
       "text": [
        " 46 3.5\n",
        "0.341"
       ]
      },
      {
       "output_type": "stream",
       "stream": "stdout",
       "text": [
        " 46 3.5\n",
        "0.635"
       ]
      },
      {
       "output_type": "stream",
       "stream": "stdout",
       "text": [
        " 46 3.5\n",
        "\n",
        "Dog_4 0.478260869565 737 804\n",
        "Dog_4 0.112582781457 17 134\n",
        "0.473"
       ]
      },
      {
       "output_type": "stream",
       "stream": "stdout",
       "text": [
        " 46 3.5\n",
        "0.784"
       ]
      },
      {
       "output_type": "stream",
       "stream": "stdout",
       "text": [
        " 46 3.5\n",
        "0.743"
       ]
      },
      {
       "output_type": "stream",
       "stream": "stdout",
       "text": [
        " 46 3.5\n",
        "0.755"
       ]
      },
      {
       "output_type": "stream",
       "stream": "stdout",
       "text": [
        " 46 3.5\n",
        "0.797"
       ]
      },
      {
       "output_type": "stream",
       "stream": "stdout",
       "text": [
        " 46 3.5\n",
        "0.581"
       ]
      },
      {
       "output_type": "stream",
       "stream": "stdout",
       "text": [
        " 46 3.5\n",
        "0.903"
       ]
      },
      {
       "output_type": "stream",
       "stream": "stdout",
       "text": [
        " 37 4.0\n",
        "0.209"
       ]
      },
      {
       "output_type": "stream",
       "stream": "stdout",
       "text": [
        " 37 4.0\n",
        "0.554"
       ]
      },
      {
       "output_type": "stream",
       "stream": "stdout",
       "text": [
        " 46 3.5\n",
        "0.713"
       ]
      },
      {
       "output_type": "stream",
       "stream": "stdout",
       "text": [
        " 46 3.5\n",
        "0.595"
       ]
      },
      {
       "output_type": "stream",
       "stream": "stdout",
       "text": [
        " 46 3.5\n",
        "0.602"
       ]
      },
      {
       "output_type": "stream",
       "stream": "stdout",
       "text": [
        " 46 3.5\n",
        "0.644"
       ]
      },
      {
       "output_type": "stream",
       "stream": "stdout",
       "text": [
        " 37 4.0\n",
        "0.543"
       ]
      },
      {
       "output_type": "stream",
       "stream": "stdout",
       "text": [
        " 37 4.0\n",
        "0.185"
       ]
      },
      {
       "output_type": "stream",
       "stream": "stdout",
       "text": [
        " 46 3.5\n",
        "0.512"
       ]
      },
      {
       "output_type": "stream",
       "stream": "stdout",
       "text": [
        " 46 3.5\n",
        "0.449"
       ]
      },
      {
       "output_type": "stream",
       "stream": "stdout",
       "text": [
        " 46 3.5\n",
        "0.356"
       ]
      },
      {
       "output_type": "stream",
       "stream": "stdout",
       "text": [
        " 46 3.5\n",
        "0.988"
       ]
      },
      {
       "output_type": "stream",
       "stream": "stdout",
       "text": [
        " 46 3.5\n",
        "0.470"
       ]
      },
      {
       "output_type": "stream",
       "stream": "stdout",
       "text": [
        " 46 3.5\n",
        "0.662"
       ]
      },
      {
       "output_type": "stream",
       "stream": "stdout",
       "text": [
        " 46 3.5\n",
        "0.898"
       ]
      },
      {
       "output_type": "stream",
       "stream": "stdout",
       "text": [
        " 46 3.5\n",
        "0.482"
       ]
      },
      {
       "output_type": "stream",
       "stream": "stdout",
       "text": [
        " 46 3.5\n",
        "0.571"
       ]
      },
      {
       "output_type": "stream",
       "stream": "stdout",
       "text": [
        " 46 3.5\n",
        "0.319"
       ]
      },
      {
       "output_type": "stream",
       "stream": "stdout",
       "text": [
        " 46 3.5\n",
        "0.851"
       ]
      },
      {
       "output_type": "stream",
       "stream": "stdout",
       "text": [
        " 46 3.5\n",
        "0.521"
       ]
      },
      {
       "output_type": "stream",
       "stream": "stdout",
       "text": [
        " 46 3.5\n",
        "0.525"
       ]
      },
      {
       "output_type": "stream",
       "stream": "stdout",
       "text": [
        " 46 3.5\n",
        "0.546"
       ]
      },
      {
       "output_type": "stream",
       "stream": "stdout",
       "text": [
        " 46 3.5\n",
        "0.634"
       ]
      },
      {
       "output_type": "stream",
       "stream": "stdout",
       "text": [
        " 46 3.5\n",
        "0.001"
       ]
      },
      {
       "output_type": "stream",
       "stream": "stdout",
       "text": [
        " 46 3.5\n",
        "0.333"
       ]
      },
      {
       "output_type": "stream",
       "stream": "stdout",
       "text": [
        " 46 3.5\n",
        "\n",
        "Dog_5 0.338235294118 230 450\n",
        "Dog_5 0.0625 5 75\n",
        "0.513"
       ]
      },
      {
       "output_type": "stream",
       "stream": "stdout",
       "text": [
        " 46 3.5\n",
        "0.638"
       ]
      },
      {
       "output_type": "stream",
       "stream": "stdout",
       "text": [
        " 46 3.5\n",
        "0.527"
       ]
      },
      {
       "output_type": "stream",
       "stream": "stdout",
       "text": [
        " 46 3.5\n",
        "0.558"
       ]
      },
      {
       "output_type": "stream",
       "stream": "stdout",
       "text": [
        " 46 3.5\n",
        "0.773"
       ]
      },
      {
       "output_type": "stream",
       "stream": "stdout",
       "text": [
        " 46 3.5\n",
        "0.687"
       ]
      },
      {
       "output_type": "stream",
       "stream": "stdout",
       "text": [
        " 46 3.5\n",
        "0.841"
       ]
      },
      {
       "output_type": "stream",
       "stream": "stdout",
       "text": [
        " 46 3.5\n",
        "0.728"
       ]
      },
      {
       "output_type": "stream",
       "stream": "stdout",
       "text": [
        " 46 3.5\n",
        "0.755"
       ]
      },
      {
       "output_type": "stream",
       "stream": "stdout",
       "text": [
        " 46 3.5\n",
        "0.762"
       ]
      },
      {
       "output_type": "stream",
       "stream": "stdout",
       "text": [
        " 46 3.5\n",
        "\n",
        "Patient_1 0.734042553191 138 50\n",
        "Patient_1 0.25 3 9\n",
        "0.825"
       ]
      },
      {
       "output_type": "stream",
       "stream": "stdout",
       "text": [
        " 46 3.5\n",
        "0.370"
       ]
      },
      {
       "output_type": "stream",
       "stream": "stdout",
       "text": [
        " 46 3.5\n",
        "0.986"
       ]
      },
      {
       "output_type": "stream",
       "stream": "stdout",
       "text": [
        " 46 3.5\n",
        "0.989"
       ]
      },
      {
       "output_type": "stream",
       "stream": "stdout",
       "text": [
        " 46 3.5\n",
        "0.599"
       ]
      },
      {
       "output_type": "stream",
       "stream": "stdout",
       "text": [
        " 46 3.5\n",
        "0.726"
       ]
      },
      {
       "output_type": "stream",
       "stream": "stdout",
       "text": [
        " 46 3.5\n",
        "\n",
        "Patient_2 0.766666666667 138 42\n",
        "Patient_2 0.3 3 7\n",
        "\n"
       ]
      }
     ],
     "prompt_number": 68
    },
    {
     "cell_type": "code",
     "collapsed": false,
     "input": [
      "fname = '../data-cache/140926-CV.%s%s.pkl'%(suffix, FEATURES)\n",
      "with open(fname,'wb') as fp:\n",
      "    pickle.dump(target2iter2ys,fp,-1)"
     ],
     "language": "python",
     "metadata": {},
     "outputs": [],
     "prompt_number": 52
    },
    {
     "cell_type": "code",
     "collapsed": false,
     "input": [
      "fname"
     ],
     "language": "python",
     "metadata": {},
     "outputs": [
      {
       "metadata": {},
       "output_type": "pyout",
       "prompt_number": 53,
       "text": [
        "'../data-cache/140926-CV.maxdepth10.gen-8_medianwindow-bands2-usf-w60-b0.2-b4-b8-b12-b30-b70-0.1-0.5-0.9.pkl'"
       ]
      }
     ],
     "prompt_number": 53
    },
    {
     "cell_type": "markdown",
     "metadata": {},
     "source": [
      "Generate a single AUC score"
     ]
    },
    {
     "cell_type": "code",
     "collapsed": false,
     "input": [
      "from sklearn.metrics import roc_auc_score\n",
      "def p(a,b):\n",
      "    return '%d E%d'%(1000*a,1000*b)\n",
      "\n",
      "for f in [\n",
      "            'maxdepthNone.gen-8_medianwindow-bands2-usf-w10-hammingP2-b0.2-b4-b8-b12-b30-b70-0.1-0.5-0.9',\n",
      "            'maxdepth25.gen-8_medianwindow-bands2-usf-w10-hammingP2-b0.2-b4-b8-b12-b30-b70-0.1-0.5-0.9',\n",
      "            'maxdepth20.gen-8_medianwindow-bands2-usf-w10-hammingP2-b0.2-b4-b8-b12-b30-b70-0.1-0.5-0.9',\n",
      "            'maxdepth15.gen-8_medianwindow-bands2-usf-w10-hammingP2-b0.2-b4-b8-b12-b30-b70-0.1-0.5-0.9',\n",
      "            'max_depth5gen-8_medianwindow-bands2-usf-w10-hammingP2-b0.2-b4-b8-b12-b30-b70-0.1-0.5-0.9',\n",
      "            'max_depth10gen-8_medianwindow-bandsI2-usf-w60-b0.2-b4-b8-b12-b30-b50-b75-b100-b117-0.1-0.5-0.9',\n",
      "            'max_depth5gen-8_medianwindow-bandsI2-usf-w60-b0.2-b4-b8-b12-b30-b50-b75-b100-b117-0.1-0.5-0.9',\n",
      "            'max_depth5.min_samples_leaf4.gen-8_medianwindow-bands2-usf-w60-b0.2-b4-b8-b12-b30-b70-0.1-0.5-0.9',\n",
      "            'maxdepth10.gen-8_medianwindow-bands2-usf-w60-b0.2-b4-b8-b12-b30-b70-0.1-0.5-0.9',\n",
      "            'max_depth5.gen-8_medianwindow-bands2-usf-w60-b0.2-b4-b8-b12-b30-b70-0.1-0.5-0.9',\n",
      "        ]:\n",
      "    all_ytest = all_y_proba =None\n",
      "    all_aucs = []\n",
      "    with open('../data-cache/140926-CV.%s.pkl'%f,'rb') as fp:\n",
      "        target2iter2ys = pickle.load(fp)\n",
      "    for target, iter2ys in target2iter2ys.iteritems():\n",
      "        target_ytest = target_y_proba =None\n",
      "        target_aucs = []\n",
      "        print target,\n",
      "        for ys in iter2ys.itervalues():\n",
      "            ytest = y_proba =None\n",
      "            aucs = []\n",
      "            for y in ys:\n",
      "                yt, yp = y\n",
      "                ytest = yt if ytest is None else np.concatenate((ytest,yt))\n",
      "                y_proba = yp if y_proba is None else np.concatenate((y_proba,yp))\n",
      "                aucs.append(roc_auc_score(yt, yp))\n",
      "            print p(roc_auc_score(ytest, y_proba), np.mean(aucs)),\n",
      "            target_aucs += aucs\n",
      "            target_ytest = ytest if target_ytest is None else np.concatenate((target_ytest,ytest))\n",
      "            target_y_proba = y_proba if target_y_proba is None else np.concatenate((target_y_proba,y_proba))\n",
      "        print target,p(roc_auc_score(target_ytest, target_y_proba),np.mean(target_aucs))\n",
      "        all_aucs += target_aucs        \n",
      "        all_ytest = target_ytest if all_ytest is None else np.concatenate((all_ytest,target_ytest))\n",
      "        all_y_proba = target_y_proba if all_y_proba is None else np.concatenate((all_y_proba,target_y_proba))\n",
      "#         if target == 'Dog_3':\n",
      "#             pl.hist(target_aucs,alpha=0.5)\n",
      "    print f,p(roc_auc_score(all_ytest, all_y_proba),np.mean(all_aucs))\n",
      "    print\n"
     ],
     "language": "python",
     "metadata": {},
     "outputs": [
      {
       "output_type": "stream",
       "stream": "stdout",
       "text": [
        "Dog_2 879 E932 893 E953 894 E941 Dog_2 889 E942\n",
        "Dog_3 759 E788 766 E776 774 E772 Dog_3 765 E779\n",
        "Dog_1 627 E656 666 E654 672 E679 Dog_1 653 E663\n",
        "Dog_4 579 E604 542 E575 "
       ]
      },
      {
       "output_type": "stream",
       "stream": "stdout",
       "text": [
        "594 E599 Dog_4 571 E593\n",
        "Dog_5 896 E930 907 E925 910 E894 Dog_5 905 E917\n",
        "Patient_2 592 E580 836 E753 736 E878 Patient_2 723 E737\n",
        "Patient_1 853 E833 874 E855 847 E780 Patient_1 844 E823\n",
        "maxdepthNone.gen-8_medianwindow-bands2-usf-w10-hammingP2-b0.2-b4-b8-b12-b30-b70-0.1-0.5-0.9 762 E744\n",
        "\n",
        "Dog_2 911 E955 909 E938 881 E917 Dog_2 901 E937\n",
        "Dog_3 "
       ]
      },
      {
       "output_type": "stream",
       "stream": "stdout",
       "text": [
        "748 E755 734 E731 746 E741 Dog_3 743 E742\n",
        "Dog_1 662 E652 533 E540 661 E653 Dog_1 619 E615\n",
        "Dog_4 596 E592 545 E541 "
       ]
      },
      {
       "output_type": "stream",
       "stream": "stdout",
       "text": [
        "587 E589 Dog_4 575 E574\n",
        "Dog_5 960 E953 928 E931 937 E941 Dog_5 942 E942\n",
        "Patient_2 980 E972 757 E842 846 E990 Patient_2 865 E935\n",
        "Patient_1 811 E759 890 E928 760 E883 Patient_1 820 E856\n",
        "maxdepth25.gen-8_medianwindow-bands2-usf-w10-hammingP2-b0.2-b4-b8-b12-b30-b70-0.1-0.5-0.9 768 E740\n",
        "\n",
        "Dog_2 906 E944 877 E931 885 E932 Dog_2 888 E936\n",
        "Dog_3 774 E783 779 E769 "
       ]
      },
      {
       "output_type": "stream",
       "stream": "stdout",
       "text": [
        "768 E767 Dog_3 774 E773\n",
        "Dog_1 680 E690 611 E605 672 E694 Dog_1 654 E663\n",
        "Dog_4 579 E606 620 E653 634 E633 Dog_4 610 E631\n",
        "Dog_5 937 E965 907 E904 "
       ]
      },
      {
       "output_type": "stream",
       "stream": "stdout",
       "text": [
        "944 E954 Dog_5 928 E941\n",
        "Patient_2 893 E972 764 E853 905 E981 Patient_2 837 E935\n",
        "Patient_1 888 E897 839 E864 905 E872 Patient_1 873 E877\n",
        "maxdepth20.gen-8_medianwindow-bands2-usf-w10-hammingP2-b0.2-b4-b8-b12-b30-b70-0.1-0.5-0.9 782 E771\n",
        "\n",
        "Dog_2 884 E927 898 E911 872 E911 Dog_2 885 E916\n",
        "Dog_3 730 E738 "
       ]
      },
      {
       "output_type": "stream",
       "stream": "stdout",
       "text": [
        "718 E720 736 E746 Dog_3 728 E735\n",
        "Dog_1 588 E607 609 E600 650 E657 Dog_1 618 E621\n",
        "Dog_4 525 E532 529 E524 "
       ]
      },
      {
       "output_type": "stream",
       "stream": "stdout",
       "text": [
        "586 E612 Dog_4 546 E556\n",
        "Dog_5 895 E883 893 E904 914 E921 Dog_5 901 E903\n",
        "Patient_2 847 E950 905 E831 894 E906 Patient_2 880 E896\n",
        "Patient_1 803 E807 882 E816 911 E881 Patient_1 862 E835\n",
        "maxdepth15.gen-8_medianwindow-bands2-usf-w10-hammingP2-b0.2-b4-b8-b12-b30-b70-0.1-0.5-0.9 753 E723\n",
        "\n",
        "Dog_2 887 E921 919 E955 "
       ]
      },
      {
       "output_type": "stream",
       "stream": "stdout",
       "text": [
        "895 E922 Dog_2 899 E933\n",
        "Dog_3 733 E758 738 E760 738 E767 Dog_3 737 E762\n",
        "Dog_1 612 E615 598 E622 618 E638 Dog_1 611 E625\n",
        "Dog_4 "
       ]
      },
      {
       "output_type": "stream",
       "stream": "stdout",
       "text": [
        "592 E600 599 E619 537 E551 Dog_4 577 E590\n",
        "Dog_5 939 E943 940 E946 913 E923 Dog_5 931 E937\n",
        "Patient_2 894 E934 840 E847 914 E980 Patient_2 884 E920\n",
        "Patient_1 705 E644 778 E765 757 E709 Patient_1 747 E706\n",
        "max_depth5gen-8_medianwindow-bands2-usf-w10-hammingP2-b0.2-b4-b8-b12-b30-b70-0.1-0.5-0.9 763 E740\n",
        "\n",
        "Dog_2"
       ]
      },
      {
       "output_type": "stream",
       "stream": "stdout",
       "text": [
        " 885 E910 894 E927 888 E915 Dog_2 888 E917\n",
        "Dog_3 744 E751 767 E773 722 E723 Dog_3 744 E749\n",
        "Dog_1 621 E585 "
       ]
      },
      {
       "output_type": "stream",
       "stream": "stdout",
       "text": [
        "706 E711 672 E663 Dog_1 667 E653\n",
        "Dog_4 516 E502 581 E590 533 E563 Dog_4 545 E552\n",
        "Dog_5 929 E929 912 E916 946 E961 Dog_5 927 E935\n",
        "Patient_2 754 E708 916 E883 "
       ]
      },
      {
       "output_type": "stream",
       "stream": "stdout",
       "text": [
        "806 E788 Patient_2 821 E793\n",
        "Patient_1 709 E686 651 E604 850 E892 Patient_1 734 E727\n",
        "max_depth10gen-8_medianwindow-bandsI2-usf-w60-b0.2-b4-b8-b12-b30-b50-b75-b100-b117-0.1-0.5-0.9 755 E718\n",
        "\n",
        "Dog_2 872 E912 854 E889 864 E895 Dog_2 864 E898\n",
        "Dog_3 790 E798 768 E777 "
       ]
      },
      {
       "output_type": "stream",
       "stream": "stdout",
       "text": [
        "742 E765 Dog_3 766 E780\n",
        "Dog_1 676 E682 640 E651 589 E606 Dog_1 635 E646\n",
        "Dog_4 591 E611 636 E684 "
       ]
      },
      {
       "output_type": "stream",
       "stream": "stdout",
       "text": [
        "531 E533 Dog_4 585 E609\n",
        "Dog_5 961 E967 927 E918 946 E934 Dog_5 945 E940\n",
        "Patient_2 968 E953 808 E972 784 E684 Patient_2 850 E870\n",
        "Patient_1 637 E667 856 E857 907 E860 Patient_1 779 E795\n",
        "max_depth5gen-8_medianwindow-bandsI2-usf-w60-b0.2-b4-b8-b12-b30-b50-b75-b100-b117-0.1-0.5-0.9 765 E751\n",
        "\n",
        "Dog_2 "
       ]
      },
      {
       "output_type": "stream",
       "stream": "stdout",
       "text": [
        "861 E895 861 E909 879 E916 Dog_2 866 E907\n",
        "Dog_3 716 E750 753 E756 738 E714 Dog_3 734 E740\n",
        "Dog_1 617 E628 552 E562 "
       ]
      },
      {
       "output_type": "stream",
       "stream": "stdout",
       "text": [
        "563 E594 Dog_1 575 E595\n",
        "Dog_4 617 E643 591 E605 540 E567 Dog_4 581 E605\n",
        "Dog_5 905 E893 "
       ]
      },
      {
       "output_type": "stream",
       "stream": "stdout",
       "text": [
        "902 E923 957 E958 Dog_5 920 E925\n",
        "Patient_2 868 E958 792 E727 676 E668 Patient_2 797 E784\n",
        "Patient_1 722 E735 872 E862 706 E694 Patient_1 766 E764\n",
        "max_depth5.min_samples_leaf4.gen-8_medianwindow-bands2-usf-w60-b0.2-b4-b8-b12-b30-b70-0.1-0.5-0.9 750 E729\n",
        "\n",
        "Dog_2 861 E895 861 E909 879 E916 Dog_2 866 E907\n",
        "Dog_3 716 E750 "
       ]
      },
      {
       "output_type": "stream",
       "stream": "stdout",
       "text": [
        "753 E756 738 E714 Dog_3 734 E740\n",
        "Dog_1 617 E628 552 E562 563 E594 Dog_1 575 E595\n",
        "Dog_4 617 E643 "
       ]
      },
      {
       "output_type": "stream",
       "stream": "stdout",
       "text": [
        "591 E605 540 E567 Dog_4 581 E605\n",
        "Dog_5 905 E893 902 E923 957 E958 Dog_5 920 E925\n",
        "Patient_2 868 E958 792 E727 676 E668 Patient_2 797 E784\n",
        "Patient_1 722 E735 872 E862 706 E694 Patient_1 766 E764\n",
        "maxdepth10.gen-8_medianwindow-bands2-usf-w60-b0.2-b4-b8-b12-b30-b70-0.1-0.5-0.9 750 E729\n",
        "\n",
        "Dog_2"
       ]
      },
      {
       "output_type": "stream",
       "stream": "stdout",
       "text": [
        " 889 E919 908 E954 875 E914 Dog_2 890 E929\n",
        "Dog_3 794 E818 766 E787 771 E777 Dog_3 777 E794\n",
        "Dog_1 605 E605 538 E524 603 E605 Dog_1 581 E578\n",
        "Dog_4 "
       ]
      },
      {
       "output_type": "stream",
       "stream": "stdout",
       "text": [
        "595 E610 565 E569 556 E583 Dog_4 571 E587\n",
        "Dog_5 937 E926 908 E901 947 E951 Dog_5 930 E926\n",
        "Patient_2 991 E992 977 E949 858 E973 Patient_2 936 E972\n",
        "Patient_1 819 E807 886 E866 "
       ]
      },
      {
       "output_type": "stream",
       "stream": "stdout",
       "text": [
        "695 E636 Patient_1 797 E770\n",
        "max_depth5.gen-8_medianwindow-bands2-usf-w60-b0.2-b4-b8-b12-b30-b70-0.1-0.5-0.9 767 E749\n",
        "\n"
       ]
      }
     ],
     "prompt_number": 55
    },
    {
     "cell_type": "code",
     "collapsed": false,
     "input": [],
     "language": "python",
     "metadata": {},
     "outputs": []
    }
   ],
   "metadata": {}
  }
 ]
}