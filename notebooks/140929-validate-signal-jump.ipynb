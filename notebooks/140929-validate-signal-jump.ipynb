{
 "metadata": {
  "name": "",
  "signature": "sha256:98a2495153d2040c1e12106370dfb1bcf193416300e6ea0ffc4f9cc4a48a0c26"
 },
 "nbformat": 3,
 "nbformat_minor": 0,
 "worksheets": [
  {
   "cells": [
    {
     "cell_type": "markdown",
     "metadata": {},
     "source": [
      "Create a signal jump distance matrix from the training data. This can be used to validate the same done on test data with 140926-train-signal-jump"
     ]
    },
    {
     "cell_type": "code",
     "collapsed": false,
     "input": [
      "%matplotlib inline\n",
      "from matplotlib import pylab as pl\n",
      "import cPickle as pickle\n",
      "import pandas as pd\n",
      "import numpy as np\n",
      "import os\n",
      "import random"
     ],
     "language": "python",
     "metadata": {},
     "outputs": [],
     "prompt_number": 1
    },
    {
     "cell_type": "markdown",
     "metadata": {},
     "source": [
      "Extarct the first and last `W` data samples of each test segment"
     ]
    },
    {
     "cell_type": "code",
     "collapsed": false,
     "input": [
      "W = 10"
     ],
     "language": "python",
     "metadata": {},
     "outputs": [],
     "prompt_number": 2
    },
    {
     "cell_type": "code",
     "collapsed": false,
     "input": [
      "def mydist(j1, j2):\n",
      "    return -2.*np.dot(j1,j2)/(np.dot(j1,j1) + np.dot(j2,j2))"
     ],
     "language": "python",
     "metadata": {},
     "outputs": [],
     "prompt_number": 3
    },
    {
     "cell_type": "code",
     "collapsed": false,
     "input": [
      "import scipy.io\n",
      "results = {}\n",
      "for target in ['Dog_1', 'Dog_2', 'Dog_3', 'Dog_4', 'Dog_5', 'Patient_1', 'Patient_2']:\n",
      "    results[target] = {}\n",
      "    # we are treating positive and negative examples in the same way as if we did not knew their label\n",
      "    edges = []\n",
      "    next_segment = []\n",
      "    previous_segment = []\n",
      "    for data_type in ['preictal', 'interictal']:\n",
      "        last_sequence = None\n",
      "        for isegment in range(1000000):\n",
      "            fname = '../seizure-data/%s/%s_%s_segment_%04d.mat'%(target,target,data_type,isegment+1)\n",
      "            try:\n",
      "                segment = scipy.io.loadmat(fname)\n",
      "            except:\n",
      "                break\n",
      "            segment = segment['%s_segment_%d'%(data_type, isegment+1)]\n",
      "            data = segment['data'][0,0]\n",
      "            edges.append((data[:,:W].astype(float),data[:,-W:].astype(float)))\n",
      "            sequence = segment['sequence'][0,0][0,0]\n",
      "            \n",
      "            N = len(edges) # number of segments we have in the combined preictal/interictal data\n",
      "#             print sequence, N\n",
      "            if last_sequence is None:\n",
      "                # next_segment will be updated on the next iteration\n",
      "                previous_segment.append(-1)\n",
      "            elif last_sequence + 1 == sequence:\n",
      "                next_segment.append(N-1)\n",
      "                previous_segment.append(N-2)\n",
      "            else:\n",
      "                # we are on the first segment of the next chain\n",
      "                next_segment.append(-1) # this refers to the previous segment\n",
      "                previous_segment.append(-1)\n",
      "            last_sequence = sequence\n",
      "        next_segment.append(-1) # complete the last segment\n",
      "        results[target][data_type] = isegment # keep number of positive and negative examples\n",
      "\n",
      "    results[target]['previous_segment'] = previous_segment\n",
      "    results[target]['next_segment'] = next_segment\n",
      "    \n",
      "    N = len(edges)\n",
      "    dist = np.zeros((N,N))\n",
      "    for i in range(N):\n",
      "        ei = edges[i]\n",
      "        for j in range(i+1,N):\n",
      "            ej = edges[j]\n",
      "            dist[i,j] = mydist(ei[1][:,-1],ej[0][:,0])\n",
      "            dist[j,i] = mydist(ej[1][:,-1],ei[0][:,0])\n",
      "\n",
      "    for i in range(N):\n",
      "        dist[i,i] = 1 # 1 is bad (-1 is good) we dont want a segment to attach to itself...\n",
      "    results[target]['dist'] = dist\n",
      "\n",
      "with open('../submissions/140929-validate-signal-jump.pkl', 'wb') as fp:\n",
      "    pickle.dump(results, fp, -1)"
     ],
     "language": "python",
     "metadata": {},
     "outputs": [],
     "prompt_number": 4
    },
    {
     "cell_type": "code",
     "collapsed": false,
     "input": [],
     "language": "python",
     "metadata": {},
     "outputs": [],
     "prompt_number": 4
    }
   ],
   "metadata": {}
  }
 ]
}