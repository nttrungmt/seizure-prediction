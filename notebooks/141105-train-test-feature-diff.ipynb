{
 "metadata": {
  "name": "",
  "signature": "sha256:0d3340e11a86cc6bcdc30383b98cd0bbe025e57774c6bb5ef455adc8340a8300"
 },
 "nbformat": 3,
 "nbformat_minor": 0,
 "worksheets": [
  {
   "cells": [
    {
     "cell_type": "code",
     "collapsed": false,
     "input": [
      "%matplotlib inline\n",
      "from matplotlib import pylab as pl\n",
      "import cPickle as pickle\n",
      "import pandas as pd\n",
      "import numpy as np\n",
      "import os\n",
      "import random"
     ],
     "language": "python",
     "metadata": {},
     "outputs": [],
     "prompt_number": 1
    },
    {
     "cell_type": "code",
     "collapsed": false,
     "input": [
      "import sys\n",
      "sys.path.append('..')"
     ],
     "language": "python",
     "metadata": {},
     "outputs": [],
     "prompt_number": 2
    },
    {
     "cell_type": "heading",
     "level": 1,
     "metadata": {},
     "source": [
      "Read precomputed features"
     ]
    },
    {
     "cell_type": "markdown",
     "metadata": {},
     "source": [
      "uncommoent the relevant pipeline in `../seizure_detection.py` and run\n",
      "```bash\n",
      "cd ..\n",
      "./doall data\n",
      "```\n",
      "or\n",
      "```bash\n",
      "./doall td\n",
      "./doall tt\n",
      "```"
     ]
    },
    {
     "cell_type": "code",
     "collapsed": false,
     "input": [
      "FEATURES = 'gen-8_allbands2-usf-w60-b0.2-b4-b8-b12-b30-b70'"
     ],
     "language": "python",
     "metadata": {},
     "outputs": [],
     "prompt_number": 3
    },
    {
     "cell_type": "code",
     "collapsed": false,
     "input": [
      "nbands = 0\n",
      "nwindows = 0\n",
      "for p in FEATURES.split('-'):\n",
      "    if p[0] == 'b':\n",
      "        nbands += 1\n",
      "    elif p[0] == 'w':\n",
      "        nwindows = int(p[1:])\n",
      "\n",
      "nbands -= 1\n",
      "nbands, nwindows"
     ],
     "language": "python",
     "metadata": {},
     "outputs": [
      {
       "metadata": {},
       "output_type": "pyout",
       "prompt_number": 4,
       "text": [
        "(5, 60)"
       ]
      }
     ],
     "prompt_number": 4
    },
    {
     "cell_type": "code",
     "collapsed": false,
     "input": [
      "NUNITS = 1"
     ],
     "language": "python",
     "metadata": {},
     "outputs": [],
     "prompt_number": 5
    },
    {
     "cell_type": "code",
     "collapsed": false,
     "input": [
      "from common.data import CachedDataLoader\n",
      "cached_data_loader = CachedDataLoader('../data-cache')"
     ],
     "language": "python",
     "metadata": {},
     "outputs": [],
     "prompt_number": 6
    },
    {
     "cell_type": "code",
     "collapsed": false,
     "input": [
      "def read_data(target, data_type):\n",
      "    fname = 'data_%s_%s_%s'%(data_type,target,FEATURES)\n",
      "    print fname\n",
      "    return cached_data_loader.load(fname,None)"
     ],
     "language": "python",
     "metadata": {},
     "outputs": [],
     "prompt_number": 7
    },
    {
     "cell_type": "code",
     "collapsed": false,
     "input": [
      "def process(X, percentile=None,nunits=NUNITS,band=4):\n",
      "    N, Nf = X.shape\n",
      "    print '# samples',N,'# power points', Nf\n",
      "    nchannels = Nf / (nbands*nwindows)\n",
      "    print '# channels', nchannels\n",
      "    \n",
      "    newX = []\n",
      "    for i in range(N):\n",
      "        nw = nwindows//nunits\n",
      "        windows = X[i,:].reshape((nunits,nw,-1))\n",
      "        if band is not None:\n",
      "            windows = windows[:,:,range(band,windows.shape[2],nbands)]\n",
      "        if percentile is not None:\n",
      "            windows = np.sort(windows, axis=1)\n",
      "            windows = np.concatenate([windows[:,int(p*nw),:] for p in percentile], axis=-1)\n",
      "        newX.append(windows.ravel())\n",
      "    newX = np.array(newX)\n",
      "\n",
      "    return newX"
     ],
     "language": "python",
     "metadata": {},
     "outputs": [],
     "prompt_number": 43
    },
    {
     "cell_type": "code",
     "collapsed": false,
     "input": [
      "from sklearn import preprocessing\n",
      "from sklearn.pipeline import Pipeline\n",
      "from sklearn.preprocessing import StandardScaler\n",
      "\n",
      "scale = StandardScaler()\n",
      "\n",
      "min_max_scaler = preprocessing.MinMaxScaler() # scale features to be [0..1] which is DBN requirement\n"
     ],
     "language": "python",
     "metadata": {},
     "outputs": [],
     "prompt_number": 44
    },
    {
     "cell_type": "code",
     "collapsed": false,
     "input": [
      "for itarget, target in enumerate(['Dog_1', 'Dog_2', 'Dog_3', 'Dog_4', 'Dog_5', 'Patient_1', 'Patient_2']):\n",
      "    pdata = read_data(target, 'preictal') # positive examples\n",
      "    ndata = read_data(target, 'interictal') # negative examples\n",
      "    tdata = read_data(target, 'test') # test examples\n",
      "    Xp = pdata.X\n",
      "    Np, NF = Xp.shape\n",
      "    Xp = process(Xp)\n",
      "    print 'P',Xp.mean(),Xp.std()\n",
      "    \n",
      "    Xn = ndata.X\n",
      "    Nn = Xn.shape[0]\n",
      "    Xn = process(Xn)\n",
      "    print 'N',Xn.mean(),Xn.std()\n",
      "    \n",
      "    Xt = tdata.X\n",
      "    Nt = Xt.shape[0]\n",
      "    Xt = process(Xt)\n",
      "    print 'T',Xt.mean(),Xt.std()\n",
      "   \n",
      "    # normalize train and test together (allowed)\n",
      "    X = scale.fit_transform(np.concatenate((Xp, Xn, Xt)))\n",
      "    X = np.clip(X,-3,3)\n",
      "    X = min_max_scaler.fit_transform(X)\n",
      "    Xp = X[:Np,:]\n",
      "    Xn = X[Np:(Np+Nn),:]\n",
      "    Xt = X[(Np+Nn):,:]\n",
      "        \n",
      "    pl.subplot(4,2,itarget+1)\n",
      "    pl.hist(Xp.ravel(),bins=50,normed=True)\n",
      "    pl.hist(Xn.ravel(),bins=50,alpha=0.5,normed=True)\n",
      "    pl.hist(Xt.ravel(),bins=50,alpha=0.3,normed=True);"
     ],
     "language": "python",
     "metadata": {},
     "outputs": [
      {
       "output_type": "stream",
       "stream": "stdout",
       "text": [
        "data_preictal_Dog_1_gen-8_allbands2-usf-w60-b0.2-b4-b8-b12-b30-b70\n",
        "data_interictal_Dog_1_gen-8_allbands2-usf-w60-b0.2-b4-b8-b12-b30-b70\n",
        "data_test_Dog_1_gen-8_allbands2-usf-w60-b0.2-b4-b8-b12-b30-b70\n",
        "# samples 184 # power points 4800\n",
        "# channels 16\n",
        "P 6.02509709696 0.331752199925\n",
        "# samples 480 # power points 4800\n",
        "# channels 16\n",
        "N"
       ]
      },
      {
       "output_type": "stream",
       "stream": "stdout",
       "text": [
        " 5.98886455133 0.314228578872\n",
        "# samples 502 # power points 4800\n",
        "# channels 16\n",
        "T 6.03814863311 0.336207912619\n",
        "data_preictal_Dog_2_gen-8_allbands2-usf-w60-b0.2-b4-b8-b12-b30-b70"
       ]
      },
      {
       "output_type": "stream",
       "stream": "stdout",
       "text": [
        "\n",
        "data_interictal_Dog_2_gen-8_allbands2-usf-w60-b0.2-b4-b8-b12-b30-b70\n",
        "data_test_Dog_2_gen-8_allbands2-usf-w60-b0.2-b4-b8-b12-b30-b70\n",
        "# samples 322 # power points 4800\n",
        "# channels 16\n",
        "P"
       ]
      },
      {
       "output_type": "stream",
       "stream": "stdout",
       "text": [
        " 6.04860279883 0.301324429127\n",
        "# samples 500 # power points 4800\n",
        "# channels 16\n",
        "N 5.87524987884 0.336356837952\n",
        "# samples 1000 # power points 4800\n",
        "# channels 16\n",
        "T"
       ]
      },
      {
       "output_type": "stream",
       "stream": "stdout",
       "text": [
        " 5.88568475309 0.343104860578\n",
        "data_preictal_Dog_3_gen-8_allbands2-usf-w60-b0.2-b4-b8-b12-b30-b70"
       ]
      },
      {
       "output_type": "stream",
       "stream": "stdout",
       "text": [
        "\n",
        "data_interictal_Dog_3_gen-8_allbands2-usf-w60-b0.2-b4-b8-b12-b30-b70\n",
        "data_test_Dog_3_gen-8_allbands2-usf-w60-b0.2-b4-b8-b12-b30-b70"
       ]
      },
      {
       "output_type": "stream",
       "stream": "stdout",
       "text": [
        "\n",
        "# samples"
       ]
      },
      {
       "output_type": "stream",
       "stream": "stdout",
       "text": [
        " 552 # power points 4800\n",
        "# channels 16\n",
        "P 6.02050505522 0.259973583548\n",
        "# samples 1440 # power points 4800\n",
        "# channels 16\n",
        "N"
       ]
      },
      {
       "output_type": "stream",
       "stream": "stdout",
       "text": [
        " 5.96504608162 0.411540362205\n",
        "# samples 907 # power points 4800\n",
        "# channels 16\n",
        "T"
       ]
      },
      {
       "output_type": "stream",
       "stream": "stdout",
       "text": [
        " 5.95505777921 0.446728152071\n",
        "data_preictal_Dog_4_gen-8_allbands2-usf-w60-b0.2-b4-b8-b12-b30-b70"
       ]
      },
      {
       "output_type": "stream",
       "stream": "stdout",
       "text": [
        "\n",
        "data_interictal_Dog_4_gen-8_allbands2-usf-w60-b0.2-b4-b8-b12-b30-b70\n",
        "data_test_Dog_4_gen-8_allbands2-usf-w60-b0.2-b4-b8-b12-b30-b70\n",
        "# samples"
       ]
      },
      {
       "output_type": "stream",
       "stream": "stdout",
       "text": [
        " 737 # power points 4800\n",
        "# channels 16\n",
        "P 5.57427877297 0.251072149032\n",
        "# samples 804 # power points 4800\n",
        "# channels 16\n",
        "N"
       ]
      },
      {
       "output_type": "stream",
       "stream": "stdout",
       "text": [
        " 5.56952219729 0.274401018881\n",
        "# samples 990 # power points 4800\n",
        "# channels 16\n",
        "T"
       ]
      },
      {
       "output_type": "stream",
       "stream": "stdout",
       "text": [
        " 5.6000850071 0.250126109339\n",
        "data_preictal_Dog_5_gen-8_allbands2-usf-w60-b0.2-b4-b8-b12-b30-b70"
       ]
      },
      {
       "output_type": "stream",
       "stream": "stdout",
       "text": [
        "\n",
        "data_interictal_Dog_5_gen-8_allbands2-usf-w60-b0.2-b4-b8-b12-b30-b70\n",
        "data_test_Dog_5_gen-8_allbands2-usf-w60-b0.2-b4-b8-b12-b30-b70\n",
        "# samples"
       ]
      },
      {
       "output_type": "stream",
       "stream": "stdout",
       "text": [
        " 230 # power points 4500\n",
        "# channels 15\n",
        "P 5.92826831464 0.278521132295\n",
        "# samples 450 # power points 4500\n",
        "# channels 15\n",
        "N 5.9480261183 0.32075653254\n",
        "# samples 191 # power points 4500\n",
        "# channels 15\n",
        "T 5.94585753847 0.435330438824\n",
        "data_preictal_Patient_1_gen-8_allbands2-usf-w60-b0.2-b4-b8-b12-b30-b70"
       ]
      },
      {
       "output_type": "stream",
       "stream": "stdout",
       "text": [
        "\n",
        "data_interictal_Patient_1_gen-8_allbands2-usf-w60-b0.2-b4-b8-b12-b30-b70\n",
        "data_test_Patient_1_gen-8_allbands2-usf-w60-b0.2-b4-b8-b12-b30-b70\n",
        "# samples 138 # power points 4500\n",
        "# channels 15\n",
        "P 3.61719368674 0.496425998609\n",
        "# samples 50 # power points 4500\n",
        "# channels 15\n",
        "N 3.43675866827 0.600261020395\n",
        "# samples 195 # power points 4500\n",
        "# channels 15\n",
        "T 3.88938284754 0.49122969672\n",
        "data_preictal_Patient_2_gen-8_allbands2-usf-w60-b0.2-b4-b8-b12-b30-b70"
       ]
      },
      {
       "output_type": "stream",
       "stream": "stdout",
       "text": [
        "\n",
        "data_interictal_Patient_2_gen-8_allbands2-usf-w60-b0.2-b4-b8-b12-b30-b70\n",
        "data_test_Patient_2_gen-8_allbands2-usf-w60-b0.2-b4-b8-b12-b30-b70\n",
        "# samples 138 # power points 7200\n",
        "# channels 24\n",
        "P 3.82128485251 0.499804941626\n",
        "# samples 42 # power points 7200\n",
        "# channels 24\n",
        "N 3.68356459524 0.543461590136\n",
        "# samples 150 # power points 7200\n",
        "# channels 24\n",
        "T 4.06574033709 0.525487586722\n"
       ]
      },
      {
       "metadata": {},
       "output_type": "display_data",
       "png": "[encoded data removed]",
       "text": [
        "<matplotlib.figure.Figure at 0x113e80990>"
       ]
      }
     ],
     "prompt_number": 45
    },
    {
     "cell_type": "code",
     "collapsed": false,
     "input": [],
     "language": "python",
     "metadata": {},
     "outputs": [],
     "prompt_number": 37
    },
    {
     "cell_type": "code",
     "collapsed": false,
     "input": [],
     "language": "python",
     "metadata": {},
     "outputs": []
    }
   ],
   "metadata": {}
  }
 ]
}