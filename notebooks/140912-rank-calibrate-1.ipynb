{
 "metadata": {
  "name": "",
  "signature": "sha256:5d01b5206f8f94f8340b5827e7e31e96ba6ef3ec3e11475020dfe3368987eae3"
 },
 "nbformat": 3,
 "nbformat_minor": 0,
 "worksheets": [
  {
   "cells": [
    {
     "cell_type": "code",
     "collapsed": false,
     "input": [
      "%matplotlib inline\n",
      "from matplotlib import pylab as pl\n",
      "import cPickle as pickle\n",
      "import pandas as pd\n",
      "import numpy as np\n",
      "import os\n",
      "import random"
     ],
     "language": "python",
     "metadata": {},
     "outputs": [],
     "prompt_number": 3
    },
    {
     "cell_type": "code",
     "collapsed": false,
     "input": [
      "import sys\n",
      "sys.path.append('..')"
     ],
     "language": "python",
     "metadata": {},
     "outputs": [],
     "prompt_number": 4
    },
    {
     "cell_type": "code",
     "collapsed": false,
     "input": [
      "def prb2logit(x):\n",
      "    return np.log(x/(1.-x))\n",
      "def logit2prb(x):\n",
      "    return 1./(1+np.exp(-x))"
     ],
     "language": "python",
     "metadata": {},
     "outputs": [],
     "prompt_number": 5
    },
    {
     "cell_type": "heading",
     "level": 1,
     "metadata": {},
     "source": [
      "Read CV for best features/model"
     ]
    },
    {
     "cell_type": "markdown",
     "metadata": {},
     "source": [
      "From [140907-CV](./140907-CV.ipynb)"
     ]
    },
    {
     "cell_type": "code",
     "collapsed": false,
     "input": [
      "fnamecv = '../data-cache/140907-CV.n3.gen8_medianwindow-fft-with-time-freq-corr-1-48-r400-usf-w600.pkl'\n",
      "with open(fnamecv, 'rb') as fp:\n",
      "    target2iter2ys = pickle.load(fp)"
     ],
     "language": "python",
     "metadata": {},
     "outputs": [],
     "prompt_number": 6
    },
    {
     "cell_type": "code",
     "collapsed": false,
     "input": [
      "from sklearn.metrics import roc_auc_score\n",
      "def p(a,b):\n",
      "    return '%d E%d'%(1000*a,1000*b)\n",
      "\n",
      "target2ys = {}\n",
      "\n",
      "all_ytest = all_y_proba =None\n",
      "all_aucs = []\n",
      "# iterate over all targets (patients/dogs)\n",
      "for target, iter2ys in target2iter2ys.iteritems():\n",
      "    target_ytest = target_y_proba =None # accumulate all results for that segment\n",
      "    target_aucs = []\n",
      "    print target,\n",
      "    # iterate over all segments of that patient/dog, each time a different single segment\n",
      "    # is used for testing\n",
      "    for ys in iter2ys.itervalues():\n",
      "        ytest = y_proba =None # accumulate all results for that segment\n",
      "        aucs = []\n",
      "        # iterate over 3 different shuffles to generate random training samples\n",
      "        for yt, yp in ys: # real/estimated\n",
      "            ytest = yt if ytest is None else np.concatenate((ytest,yt))\n",
      "            y_proba = yp if y_proba is None else np.concatenate((y_proba,yp))\n",
      "            aucs.append(roc_auc_score(yt, yp))\n",
      "        print p(roc_auc_score(ytest, y_proba), np.mean(aucs)), # segment results\n",
      "        target_aucs += aucs\n",
      "        target_ytest = ytest if target_ytest is None else np.concatenate((target_ytest,ytest))\n",
      "        target_y_proba = y_proba if target_y_proba is None else np.concatenate((target_y_proba,y_proba))\n",
      "    print target,p(roc_auc_score(target_ytest, target_y_proba),np.mean(target_aucs)) # target results\n",
      "    all_aucs += target_aucs        \n",
      "    all_ytest = target_ytest if all_ytest is None else np.concatenate((all_ytest,target_ytest))\n",
      "    all_y_proba = target_y_proba if all_y_proba is None else np.concatenate((all_y_proba,target_y_proba))\n",
      "#     if target == 'Dog_3':\n",
      "#         pl.hist(target_aucs,alpha=0.5)\n",
      "    target2ys[target] = (target_ytest, prb2logit(target_y_proba))\n",
      "print p(roc_auc_score(all_ytest, all_y_proba),np.mean(all_aucs)) # all data results\n",
      "print\n"
     ],
     "language": "python",
     "metadata": {},
     "outputs": [
      {
       "output_type": "stream",
       "stream": "stdout",
       "text": [
        "Dog_2 884 E916 908 E925 901 E927 Dog_2 898 E923\n",
        "Dog_3 700 E707 705 E713 706 E702 Dog_3 703 E707\n",
        "Dog_1 553 E551 541 E534 "
       ]
      },
      {
       "output_type": "stream",
       "stream": "stdout",
       "text": [
        "607 E610 Dog_1 568 E565\n",
        "Dog_4 652 E697 657 E685 663 E680 Dog_4 656 E688\n",
        "Dog_5 947 E954 930 E927 936 E934 Dog_5 938 E938\n",
        "Patient_2 953 E970 "
       ]
      },
      {
       "output_type": "stream",
       "stream": "stdout",
       "text": [
        "971 E976 966 E998 Patient_2 964 E981\n",
        "Patient_1 975 E998 950 E985 987 E981 Patient_1 970 E988\n",
        "775 E774\n",
        "\n"
       ]
      }
     ],
     "prompt_number": 74
    },
    {
     "cell_type": "heading",
     "level": 1,
     "metadata": {},
     "source": [
      "Optimize target weights"
     ]
    },
    {
     "cell_type": "markdown",
     "metadata": {},
     "source": [
      "Use hyperopt to optimize the complex ROC_AUC function"
     ]
    },
    {
     "cell_type": "code",
     "collapsed": false,
     "input": [
      "# WEIGHTS = ['bias', 'Dog_1','Dog_2','Dog_3','Dog_4','Dog_5','Patient_1','Patient_2',]\n",
      "WEIGHTS = ['Dog_1','Dog_2','Dog_3','Dog_4','Dog_5','Patient_1','Patient_2',]\n",
      "def objective(args):\n",
      "    all_ytest = all_y_proba = None\n",
      "    for target, (target_ytest, target_y_proba) in target2ys.iteritems():\n",
      "        w = args[WEIGHTS.index(target)]\n",
      "        all_ytest = target_ytest if all_ytest is None else np.concatenate((all_ytest,target_ytest))\n",
      "        yp = w * target_y_proba\n",
      "        all_y_proba = yp if all_y_proba is None else np.concatenate((all_y_proba, yp))\n",
      "#     all_y_proba = logit2prb(all_y_proba + args[WEIGHTS.index('bias')])\n",
      "    all_y_proba = logit2prb(all_y_proba)\n",
      "    loss = 1.-roc_auc_score(all_ytest, all_y_proba)\n",
      "    return loss"
     ],
     "language": "python",
     "metadata": {},
     "outputs": [],
     "prompt_number": 95
    },
    {
     "cell_type": "markdown",
     "metadata": {},
     "source": [
      "define a search space for the different weights for different targets"
     ]
    },
    {
     "cell_type": "code",
     "collapsed": false,
     "input": [
      "from hyperopt import hp\n",
      "space = (\n",
      "#          hp.normal('bias',0,1),\n",
      "        hp.loguniform('Dog_1', np.log(0.3), np.log(3.)),\n",
      "        hp.loguniform('Dog_2', np.log(0.3), np.log(3.)),\n",
      "        hp.loguniform('Dog_3', np.log(0.3), np.log(3.)),\n",
      "        hp.loguniform('Dog_4', np.log(0.3), np.log(3.)),\n",
      "        hp.loguniform('Dog_5', np.log(0.3), np.log(3.)),\n",
      "        hp.loguniform('Patient_1', np.log(0.3), np.log(3.)),\n",
      "        hp.loguniform('Patient_2', np.log(0.3), np.log(3.)),\n",
      "    )"
     ],
     "language": "python",
     "metadata": {},
     "outputs": [],
     "prompt_number": 96
    },
    {
     "cell_type": "markdown",
     "metadata": {},
     "source": [
      "minimize the objective over the space"
     ]
    },
    {
     "cell_type": "code",
     "collapsed": false,
     "input": [
      "from hyperopt import fmin, tpe\n",
      "best = fmin(objective, space, algo=tpe.suggest, max_evals=1000)"
     ],
     "language": "python",
     "metadata": {},
     "outputs": [],
     "prompt_number": 97
    },
    {
     "cell_type": "code",
     "collapsed": false,
     "input": [
      "best"
     ],
     "language": "python",
     "metadata": {},
     "outputs": [
      {
       "metadata": {},
       "output_type": "pyout",
       "prompt_number": 98,
       "text": [
        "{'Dog_1': 1.1549584811248075,\n",
        " 'Dog_2': 1.8207281523097631,\n",
        " 'Dog_3': 1.6682958471066418,\n",
        " 'Dog_4': 0.4463345797781237,\n",
        " 'Dog_5': 1.881232899511874,\n",
        " 'Patient_1': 1.5508701193427903,\n",
        " 'Patient_2': 1.2209716284227234}"
       ]
      }
     ],
     "prompt_number": 98
    },
    {
     "cell_type": "code",
     "collapsed": false,
     "input": [
      "1.-objective([best[w] for w in WEIGHTS])"
     ],
     "language": "python",
     "metadata": {},
     "outputs": [
      {
       "metadata": {},
       "output_type": "pyout",
       "prompt_number": 99,
       "text": [
        "0.79770657603448825"
       ]
      }
     ],
     "prompt_number": 99
    },
    {
     "cell_type": "code",
     "collapsed": false,
     "input": [
      "1.-objective([0. if w=='bias' else 1. for w in WEIGHTS])"
     ],
     "language": "python",
     "metadata": {},
     "outputs": [
      {
       "metadata": {},
       "output_type": "pyout",
       "prompt_number": 100,
       "text": [
        "0.77511414525936573"
       ]
      }
     ],
     "prompt_number": 100
    },
    {
     "cell_type": "heading",
     "level": 1,
     "metadata": {},
     "source": [
      "Read best submission"
     ]
    },
    {
     "cell_type": "code",
     "collapsed": false,
     "input": [
      "fname = '../submissions/140906-predict-direct.2.csv'"
     ],
     "language": "python",
     "metadata": {},
     "outputs": [],
     "prompt_number": 101
    },
    {
     "cell_type": "code",
     "collapsed": false,
     "input": [
      "!wc -l {fname}\n",
      "!head {fname}"
     ],
     "language": "python",
     "metadata": {},
     "outputs": [
      {
       "output_type": "stream",
       "stream": "stdout",
       "text": [
        "    3936 ../submissions/140906-predict-direct.2.csv\r\n"
       ]
      },
      {
       "output_type": "stream",
       "stream": "stdout",
       "text": [
        "clip,preictal\r\n",
        "Dog_1_test_segment_0001.mat,0.528314974292854\r\n",
        "Dog_1_test_segment_0002.mat,0.095106974579729\r\n",
        "Dog_1_test_segment_0003.mat,0.086835065708654\r\n",
        "Dog_1_test_segment_0004.mat,0.205226974175210\r\n",
        "Dog_1_test_segment_0005.mat,0.159707544705429\r\n",
        "Dog_1_test_segment_0006.mat,0.234699807847022\r\n",
        "Dog_1_test_segment_0007.mat,0.143023108985720\r\n",
        "Dog_1_test_segment_0008.mat,0.167520311762236\r\n",
        "Dog_1_test_segment_0009.mat,0.099032089496216\r\n"
       ]
      }
     ],
     "prompt_number": 102
    },
    {
     "cell_type": "code",
     "collapsed": false,
     "input": [
      "submission = pd.read_csv(fname)"
     ],
     "language": "python",
     "metadata": {},
     "outputs": [],
     "prompt_number": 103
    },
    {
     "cell_type": "code",
     "collapsed": false,
     "input": [
      "# bias = best['bias']\n",
      "bias = 0.\n",
      "def calibrate(r):\n",
      "    target = '_'.join(r['clip'].split('_')[:2])\n",
      "    w = best[target]\n",
      "    return logit2prb(prb2logit(r.preictal) * w + bias)"
     ],
     "language": "python",
     "metadata": {},
     "outputs": [],
     "prompt_number": 104
    },
    {
     "cell_type": "code",
     "collapsed": false,
     "input": [
      "submission.preictal = submission.apply(calibrate, axis=1)"
     ],
     "language": "python",
     "metadata": {},
     "outputs": [],
     "prompt_number": 105
    },
    {
     "cell_type": "code",
     "collapsed": false,
     "input": [
      "submission.to_csv('../submissions/140912-rank-calibrate-1.1.csv', index=False)"
     ],
     "language": "python",
     "metadata": {},
     "outputs": [],
     "prompt_number": 107
    },
    {
     "cell_type": "code",
     "collapsed": false,
     "input": [
      "!wc -l ../submissions/140912-rank-calibrate-1.1.csv\n",
      "!head ../submissions/140912-rank-calibrate-1.1.csv"
     ],
     "language": "python",
     "metadata": {},
     "outputs": [
      {
       "output_type": "stream",
       "stream": "stdout",
       "text": [
        "    3936 ../submissions/140912-rank-calibrate-1.1.csv\r\n"
       ]
      },
      {
       "output_type": "stream",
       "stream": "stdout",
       "text": [
        "clip,preictal\r\n",
        "Dog_1_test_segment_0001.mat,0.5326909435276488\r\n",
        "Dog_1_test_segment_0002.mat,0.06901578162344549\r\n",
        "Dog_1_test_segment_0003.mat,0.06194807728839789\r\n",
        "Dog_1_test_segment_0004.mat,0.17310999177881967\r\n",
        "Dog_1_test_segment_0005.mat,0.1281183060242578\r\n",
        "Dog_1_test_segment_0006.mat,0.20341011781729287\r\n",
        "Dog_1_test_segment_0007.mat,0.11226181027109657\r\n",
        "Dog_1_test_segment_0008.mat,0.13566758122461256\r\n",
        "Dog_1_test_segment_0009.mat,0.07241452689454828\r\n"
       ]
      }
     ],
     "prompt_number": 109
    },
    {
     "cell_type": "code",
     "collapsed": false,
     "input": [],
     "language": "python",
     "metadata": {},
     "outputs": []
    }
   ],
   "metadata": {}
  }
 ]
}