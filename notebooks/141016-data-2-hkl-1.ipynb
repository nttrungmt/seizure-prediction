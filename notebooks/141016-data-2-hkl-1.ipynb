{
 "metadata": {
  "name": "",
  "signature": "sha256:109fed2afce950d60c33d6747eaeabfd9f2575585975e537608c9dca286b97c4"
 },
 "nbformat": 3,
 "nbformat_minor": 0,
 "worksheets": [
  {
   "cells": [
    {
     "cell_type": "code",
     "collapsed": false,
     "input": [
      "%matplotlib inline\n",
      "from matplotlib import pylab as pl\n",
      "import cPickle as pickle\n",
      "import pandas as pd\n",
      "import numpy as np\n",
      "import os\n",
      "import random\n",
      "from collections import defaultdict"
     ],
     "language": "python",
     "metadata": {},
     "outputs": [],
     "prompt_number": 2
    },
    {
     "cell_type": "code",
     "collapsed": false,
     "input": [
      "import scipy.io\n",
      "from scipy.signal import resample, hann\n",
      "import numpy.fft\n",
      "import hickle as hkl\n",
      "\n",
      "ham_energies = defaultdict(list)\n",
      "\n",
      "for target in ['Patient_1', 'Patient_2']: #'Dog_1', 'Dog_2', 'Dog_3', 'Dog_4', 'Dog_5', \n",
      "    outdir = '../filtered-seizure-data/%s'%target\n",
      "    !mkdir {outdir}\n",
      "    for data_type in ['preictal', 'interictal', 'test']:\n",
      "        last_sequence = last_data_length_sec = last_Fs = last_channels = last_d_shape = None\n",
      "        for segment in range(10000):\n",
      "            fname = '../seizure-data/%s/%s_%s_segment_%04d.mat'%(target,target,data_type,segment+1)\n",
      "            try:\n",
      "                data = scipy.io.loadmat(fname)\n",
      "            except:\n",
      "                break\n",
      "\n",
      "            k = '%s_segment_%d'%(data_type,segment+1)\n",
      "            data_length_sec = data[k]['data_length_sec'][0,0][0,0]\n",
      "            try:\n",
      "                sequence = data[k]['sequence'][0,0][0,0]\n",
      "            except:\n",
      "                sequence = 1\n",
      "            Fs = float(data[k]['sampling_frequency'][0,0][0,0])\n",
      "            channels = [t[0] for t in data[k]['channels'][0,0][0]]\n",
      "            d = data[k]['data'][0,0]\n",
      "\n",
      "            assert len(channels) == d.shape[0]\n",
      "            N = d.shape[1]\n",
      "            assert int(Fs*data_length_sec + 0.5) == N,int(Fs*data_length_sec + 0.5)\n",
      "            assert last_data_length_sec is None or last_data_length_sec == data_length_sec\n",
      "            last_data_length_sec = data_length_sec\n",
      "            assert last_Fs is None or last_Fs == Fs\n",
      "            last_Fs = Fs\n",
      "            assert last_channels is None or all(c1==c2 for c1,c2 in zip(last_channels, channels))\n",
      "            last_channels = channels\n",
      "            assert last_d_shape is None or last_d_shape == d.shape\n",
      "            last_d_shape = d.shape\n",
      "            \n",
      "            d = d.astype(float)\n",
      "            \n",
      "            # remove ham and resample to 399.61Hz or 239766 samples per segment\n",
      "            if abs(Fs-5000) < 100:\n",
      "                def mynotch(fftfreq, notchfreq=60., notchwidth=1., Fs=Fs):\n",
      "                    return np.double(np.abs(np.abs(fftfreq) - notchfreq/Fs) > (notchwidth/2.)/Fs)\n",
      "                data_resamp = resample(d, 239766, axis=-1, window=mynotch)\n",
      "                F = 399.61\n",
      "        #         print np.sum(np.abs(fftfreq - h*notchfreqs) <= notchwidths)/float(N)\n",
      "            else:\n",
      "                data_resamp = d.copy()\n",
      "                F = Fs\n",
      "#             data[k]['sampling_frequency'][0,0][0,0] = F\n",
      "#             data[k]['data'][0,0] = data_resamp\n",
      "            # save result in compressed HDF5, keep the sequence number in the file name\n",
      "            foutname = '../filtered-seizure-data/%s/%s_%s_segment_%04d_%d.hkl'%(target,target,data_type,segment+1,sequence)\n",
      "            hkl.dump(data_resamp, foutname, mode=\"w\", compression='gzip')"
     ],
     "language": "python",
     "metadata": {},
     "outputs": [
      {
       "output_type": "stream",
       "stream": "stdout",
       "text": [
        "mkdir: ../filtered-seizure-data/Patient_1: File exists\r\n"
       ]
      },
      {
       "output_type": "stream",
       "stream": "stdout",
       "text": [
        "dumping <type 'numpy.ndarray'> to file <HDF5 file \"Patient_1_preictal_segment_0001_1.hkl\" (mode r+)>\n",
        "dumping <type 'numpy.ndarray'> to file <HDF5 file \"Patient_1_preictal_segment_0002_2.hkl\" (mode r+)>"
       ]
      },
      {
       "output_type": "stream",
       "stream": "stdout",
       "text": [
        "\n",
        "dumping <type 'numpy.ndarray'> to file <HDF5 file \"Patient_1_preictal_segment_0003_3.hkl\" (mode r+)>"
       ]
      },
      {
       "output_type": "stream",
       "stream": "stdout",
       "text": [
        "\n",
        "dumping <type 'numpy.ndarray'> to file <HDF5 file \"Patient_1_preictal_segment_0004_4.hkl\" (mode r+)>"
       ]
      },
      {
       "output_type": "stream",
       "stream": "stdout",
       "text": [
        "\n",
        "dumping <type 'numpy.ndarray'> to file <HDF5 file \"Patient_1_preictal_segment_0005_5.hkl\" (mode r+)>"
       ]
      },
      {
       "output_type": "stream",
       "stream": "stdout",
       "text": [
        "\n",
        "dumping <type 'numpy.ndarray'> to file <HDF5 file \"Patient_1_preictal_segment_0006_6.hkl\" (mode r+)>"
       ]
      },
      {
       "output_type": "stream",
       "stream": "stdout",
       "text": [
        "\n",
        "dumping <type 'numpy.ndarray'> to file <HDF5 file \"Patient_1_preictal_segment_0007_1.hkl\" (mode r+)>"
       ]
      },
      {
       "output_type": "stream",
       "stream": "stdout",
       "text": [
        "\n",
        "dumping <type 'numpy.ndarray'> to file <HDF5 file \"Patient_1_preictal_segment_0008_2.hkl\" (mode r+)>"
       ]
      },
      {
       "output_type": "stream",
       "stream": "stdout",
       "text": [
        "\n",
        "dumping <type 'numpy.ndarray'> to file <HDF5 file \"Patient_1_preictal_segment_0009_3.hkl\" (mode r+)>"
       ]
      },
      {
       "output_type": "stream",
       "stream": "stdout",
       "text": [
        "\n",
        "dumping <type 'numpy.ndarray'> to file <HDF5 file \"Patient_1_preictal_segment_0010_4.hkl\" (mode r+)>"
       ]
      },
      {
       "output_type": "stream",
       "stream": "stdout",
       "text": [
        "\n",
        "dumping <type 'numpy.ndarray'> to file <HDF5 file \"Patient_1_preictal_segment_0011_5.hkl\" (mode r+)>"
       ]
      },
      {
       "output_type": "stream",
       "stream": "stdout",
       "text": [
        "\n",
        "dumping <type 'numpy.ndarray'> to file <HDF5 file \"Patient_1_preictal_segment_0012_6.hkl\" (mode r+)>"
       ]
      },
      {
       "output_type": "stream",
       "stream": "stdout",
       "text": [
        "\n",
        "dumping <type 'numpy.ndarray'> to file <HDF5 file \"Patient_1_preictal_segment_0013_1.hkl\" (mode r+)>"
       ]
      },
      {
       "output_type": "stream",
       "stream": "stdout",
       "text": [
        "\n",
        "dumping <type 'numpy.ndarray'> to file <HDF5 file \"Patient_1_preictal_segment_0014_2.hkl\" (mode r+)>"
       ]
      },
      {
       "output_type": "stream",
       "stream": "stdout",
       "text": [
        "\n",
        "dumping <type 'numpy.ndarray'> to file <HDF5 file \"Patient_1_preictal_segment_0015_3.hkl\" (mode r+)>"
       ]
      },
      {
       "output_type": "stream",
       "stream": "stdout",
       "text": [
        "\n",
        "dumping <type 'numpy.ndarray'> to file <HDF5 file \"Patient_1_preictal_segment_0016_4.hkl\" (mode r+)>"
       ]
      },
      {
       "output_type": "stream",
       "stream": "stdout",
       "text": [
        "\n",
        "dumping <type 'numpy.ndarray'> to file <HDF5 file \"Patient_1_preictal_segment_0017_5.hkl\" (mode r+)>"
       ]
      },
      {
       "output_type": "stream",
       "stream": "stdout",
       "text": [
        "\n",
        "dumping <type 'numpy.ndarray'> to file <HDF5 file \"Patient_1_preictal_segment_0018_6.hkl\" (mode r+)>"
       ]
      },
      {
       "output_type": "stream",
       "stream": "stdout",
       "text": [
        "\n",
        "dumping <type 'numpy.ndarray'> to file <HDF5 file \"Patient_1_interictal_segment_0001_1.hkl\" (mode r+)>"
       ]
      },
      {
       "output_type": "stream",
       "stream": "stdout",
       "text": [
        "\n",
        "dumping <type 'numpy.ndarray'> to file <HDF5 file \"Patient_1_interictal_segment_0002_2.hkl\" (mode r+)>"
       ]
      },
      {
       "output_type": "stream",
       "stream": "stdout",
       "text": [
        "\n",
        "dumping <type 'numpy.ndarray'> to file <HDF5 file \"Patient_1_interictal_segment_0003_3.hkl\" (mode r+)>"
       ]
      },
      {
       "output_type": "stream",
       "stream": "stdout",
       "text": [
        "\n",
        "dumping <type 'numpy.ndarray'> to file <HDF5 file \"Patient_1_interictal_segment_0004_4.hkl\" (mode r+)>"
       ]
      },
      {
       "output_type": "stream",
       "stream": "stdout",
       "text": [
        "\n",
        "dumping <type 'numpy.ndarray'> to file <HDF5 file \"Patient_1_interictal_segment_0005_5.hkl\" (mode r+)>"
       ]
      },
      {
       "output_type": "stream",
       "stream": "stdout",
       "text": [
        "\n",
        "dumping <type 'numpy.ndarray'> to file <HDF5 file \"Patient_1_interictal_segment_0006_6.hkl\" (mode r+)>"
       ]
      },
      {
       "output_type": "stream",
       "stream": "stdout",
       "text": [
        "\n",
        "dumping <type 'numpy.ndarray'> to file <HDF5 file \"Patient_1_interictal_segment_0007_1.hkl\" (mode r+)>"
       ]
      },
      {
       "output_type": "stream",
       "stream": "stdout",
       "text": [
        "\n",
        "dumping <type 'numpy.ndarray'> to file <HDF5 file \"Patient_1_interictal_segment_0008_2.hkl\" (mode r+)>"
       ]
      },
      {
       "output_type": "stream",
       "stream": "stdout",
       "text": [
        "\n",
        "dumping <type 'numpy.ndarray'> to file <HDF5 file \"Patient_1_interictal_segment_0009_3.hkl\" (mode r+)>"
       ]
      },
      {
       "output_type": "stream",
       "stream": "stdout",
       "text": [
        "\n",
        "dumping <type 'numpy.ndarray'> to file <HDF5 file \"Patient_1_interictal_segment_0010_4.hkl\" (mode r+)>"
       ]
      },
      {
       "output_type": "stream",
       "stream": "stdout",
       "text": [
        "\n",
        "dumping <type 'numpy.ndarray'> to file <HDF5 file \"Patient_1_interictal_segment_0011_5.hkl\" (mode r+)>"
       ]
      },
      {
       "output_type": "stream",
       "stream": "stdout",
       "text": [
        "\n",
        "dumping <type 'numpy.ndarray'> to file <HDF5 file \"Patient_1_interictal_segment_0012_6.hkl\" (mode r+)>"
       ]
      },
      {
       "output_type": "stream",
       "stream": "stdout",
       "text": [
        "\n",
        "dumping <type 'numpy.ndarray'> to file <HDF5 file \"Patient_1_interictal_segment_0013_1.hkl\" (mode r+)>"
       ]
      },
      {
       "output_type": "stream",
       "stream": "stdout",
       "text": [
        "\n",
        "dumping <type 'numpy.ndarray'> to file <HDF5 file \"Patient_1_interictal_segment_0014_2.hkl\" (mode r+)>"
       ]
      },
      {
       "output_type": "stream",
       "stream": "stdout",
       "text": [
        "\n",
        "dumping <type 'numpy.ndarray'> to file <HDF5 file \"Patient_1_interictal_segment_0015_3.hkl\" (mode r+)>"
       ]
      },
      {
       "output_type": "stream",
       "stream": "stdout",
       "text": [
        "\n",
        "dumping <type 'numpy.ndarray'> to file <HDF5 file \"Patient_1_interictal_segment_0016_4.hkl\" (mode r+)>"
       ]
      },
      {
       "output_type": "stream",
       "stream": "stdout",
       "text": [
        "\n",
        "dumping <type 'numpy.ndarray'> to file <HDF5 file \"Patient_1_interictal_segment_0017_5.hkl\" (mode r+)>"
       ]
      },
      {
       "output_type": "stream",
       "stream": "stdout",
       "text": [
        "\n",
        "dumping <type 'numpy.ndarray'> to file <HDF5 file \"Patient_1_interictal_segment_0018_6.hkl\" (mode r+)>"
       ]
      },
      {
       "output_type": "stream",
       "stream": "stdout",
       "text": [
        "\n",
        "dumping <type 'numpy.ndarray'> to file <HDF5 file \"Patient_1_interictal_segment_0019_1.hkl\" (mode r+)>"
       ]
      },
      {
       "output_type": "stream",
       "stream": "stdout",
       "text": [
        "\n",
        "dumping <type 'numpy.ndarray'> to file <HDF5 file \"Patient_1_interictal_segment_0020_2.hkl\" (mode r+)>"
       ]
      },
      {
       "output_type": "stream",
       "stream": "stdout",
       "text": [
        "\n",
        "dumping <type 'numpy.ndarray'> to file <HDF5 file \"Patient_1_interictal_segment_0021_3.hkl\" (mode r+)>"
       ]
      },
      {
       "output_type": "stream",
       "stream": "stdout",
       "text": [
        "\n",
        "dumping <type 'numpy.ndarray'> to file <HDF5 file \"Patient_1_interictal_segment_0022_4.hkl\" (mode r+)>"
       ]
      },
      {
       "output_type": "stream",
       "stream": "stdout",
       "text": [
        "\n",
        "dumping <type 'numpy.ndarray'> to file <HDF5 file \"Patient_1_interictal_segment_0023_5.hkl\" (mode r+)>"
       ]
      },
      {
       "output_type": "stream",
       "stream": "stdout",
       "text": [
        "\n",
        "dumping <type 'numpy.ndarray'> to file <HDF5 file \"Patient_1_interictal_segment_0024_6.hkl\" (mode r+)>"
       ]
      },
      {
       "output_type": "stream",
       "stream": "stdout",
       "text": [
        "\n",
        "dumping <type 'numpy.ndarray'> to file <HDF5 file \"Patient_1_interictal_segment_0025_1.hkl\" (mode r+)>"
       ]
      },
      {
       "output_type": "stream",
       "stream": "stdout",
       "text": [
        "\n",
        "dumping <type 'numpy.ndarray'> to file <HDF5 file \"Patient_1_interictal_segment_0026_2.hkl\" (mode r+)>"
       ]
      },
      {
       "output_type": "stream",
       "stream": "stdout",
       "text": [
        "\n",
        "dumping <type 'numpy.ndarray'> to file <HDF5 file \"Patient_1_interictal_segment_0027_3.hkl\" (mode r+)>"
       ]
      },
      {
       "output_type": "stream",
       "stream": "stdout",
       "text": [
        "\n",
        "dumping <type 'numpy.ndarray'> to file <HDF5 file \"Patient_1_interictal_segment_0028_4.hkl\" (mode r+)>"
       ]
      },
      {
       "output_type": "stream",
       "stream": "stdout",
       "text": [
        "\n",
        "dumping <type 'numpy.ndarray'> to file <HDF5 file \"Patient_1_interictal_segment_0029_5.hkl\" (mode r+)>"
       ]
      },
      {
       "output_type": "stream",
       "stream": "stdout",
       "text": [
        "\n",
        "dumping <type 'numpy.ndarray'> to file <HDF5 file \"Patient_1_interictal_segment_0030_6.hkl\" (mode r+)>"
       ]
      },
      {
       "output_type": "stream",
       "stream": "stdout",
       "text": [
        "\n",
        "dumping <type 'numpy.ndarray'> to file <HDF5 file \"Patient_1_interictal_segment_0031_1.hkl\" (mode r+)>"
       ]
      },
      {
       "output_type": "stream",
       "stream": "stdout",
       "text": [
        "\n",
        "dumping <type 'numpy.ndarray'> to file <HDF5 file \"Patient_1_interictal_segment_0032_2.hkl\" (mode r+)>"
       ]
      },
      {
       "output_type": "stream",
       "stream": "stdout",
       "text": [
        "\n",
        "dumping <type 'numpy.ndarray'> to file <HDF5 file \"Patient_1_interictal_segment_0033_3.hkl\" (mode r+)>"
       ]
      },
      {
       "output_type": "stream",
       "stream": "stdout",
       "text": [
        "\n",
        "dumping <type 'numpy.ndarray'> to file <HDF5 file \"Patient_1_interictal_segment_0034_4.hkl\" (mode r+)>"
       ]
      },
      {
       "output_type": "stream",
       "stream": "stdout",
       "text": [
        "\n",
        "dumping <type 'numpy.ndarray'> to file <HDF5 file \"Patient_1_interictal_segment_0035_5.hkl\" (mode r+)>"
       ]
      },
      {
       "output_type": "stream",
       "stream": "stdout",
       "text": [
        "\n",
        "dumping <type 'numpy.ndarray'> to file <HDF5 file \"Patient_1_interictal_segment_0036_6.hkl\" (mode r+)>"
       ]
      },
      {
       "output_type": "stream",
       "stream": "stdout",
       "text": [
        "\n",
        "dumping <type 'numpy.ndarray'> to file <HDF5 file \"Patient_1_interictal_segment_0037_1.hkl\" (mode r+)>"
       ]
      },
      {
       "output_type": "stream",
       "stream": "stdout",
       "text": [
        "\n",
        "dumping <type 'numpy.ndarray'> to file <HDF5 file \"Patient_1_interictal_segment_0038_2.hkl\" (mode r+)>"
       ]
      },
      {
       "output_type": "stream",
       "stream": "stdout",
       "text": [
        "\n",
        "dumping <type 'numpy.ndarray'> to file <HDF5 file \"Patient_1_interictal_segment_0039_3.hkl\" (mode r+)>"
       ]
      },
      {
       "output_type": "stream",
       "stream": "stdout",
       "text": [
        "\n",
        "dumping <type 'numpy.ndarray'> to file <HDF5 file \"Patient_1_interictal_segment_0040_4.hkl\" (mode r+)>"
       ]
      },
      {
       "output_type": "stream",
       "stream": "stdout",
       "text": [
        "\n",
        "dumping <type 'numpy.ndarray'> to file <HDF5 file \"Patient_1_interictal_segment_0041_5.hkl\" (mode r+)>"
       ]
      },
      {
       "output_type": "stream",
       "stream": "stdout",
       "text": [
        "\n",
        "dumping <type 'numpy.ndarray'> to file <HDF5 file \"Patient_1_interictal_segment_0042_6.hkl\" (mode r+)>"
       ]
      },
      {
       "output_type": "stream",
       "stream": "stdout",
       "text": [
        "\n",
        "dumping <type 'numpy.ndarray'> to file <HDF5 file \"Patient_1_interictal_segment_0043_1.hkl\" (mode r+)>"
       ]
      },
      {
       "output_type": "stream",
       "stream": "stdout",
       "text": [
        "\n",
        "dumping <type 'numpy.ndarray'> to file <HDF5 file \"Patient_1_interictal_segment_0044_2.hkl\" (mode r+)>"
       ]
      },
      {
       "output_type": "stream",
       "stream": "stdout",
       "text": [
        "\n",
        "dumping <type 'numpy.ndarray'> to file <HDF5 file \"Patient_1_interictal_segment_0045_3.hkl\" (mode r+)>"
       ]
      },
      {
       "output_type": "stream",
       "stream": "stdout",
       "text": [
        "\n",
        "dumping <type 'numpy.ndarray'> to file <HDF5 file \"Patient_1_interictal_segment_0046_4.hkl\" (mode r+)>"
       ]
      },
      {
       "output_type": "stream",
       "stream": "stdout",
       "text": [
        "\n",
        "dumping <type 'numpy.ndarray'> to file <HDF5 file \"Patient_1_interictal_segment_0047_5.hkl\" (mode r+)>"
       ]
      },
      {
       "output_type": "stream",
       "stream": "stdout",
       "text": [
        "\n",
        "dumping <type 'numpy.ndarray'> to file <HDF5 file \"Patient_1_interictal_segment_0048_6.hkl\" (mode r+)>"
       ]
      },
      {
       "output_type": "stream",
       "stream": "stdout",
       "text": [
        "\n",
        "dumping <type 'numpy.ndarray'> to file <HDF5 file \"Patient_1_interictal_segment_0049_1.hkl\" (mode r+)>"
       ]
      },
      {
       "output_type": "stream",
       "stream": "stdout",
       "text": [
        "\n",
        "dumping <type 'numpy.ndarray'> to file <HDF5 file \"Patient_1_interictal_segment_0050_2.hkl\" (mode r+)>"
       ]
      },
      {
       "output_type": "stream",
       "stream": "stdout",
       "text": [
        "\n",
        "dumping <type 'numpy.ndarray'> to file <HDF5 file \"Patient_1_test_segment_0001_1.hkl\" (mode r+)>"
       ]
      },
      {
       "output_type": "stream",
       "stream": "stdout",
       "text": [
        "\n",
        "dumping <type 'numpy.ndarray'> to file <HDF5 file \"Patient_1_test_segment_0002_1.hkl\" (mode r+)>"
       ]
      },
      {
       "output_type": "stream",
       "stream": "stdout",
       "text": [
        "\n",
        "dumping <type 'numpy.ndarray'> to file <HDF5 file \"Patient_1_test_segment_0003_1.hkl\" (mode r+)>"
       ]
      },
      {
       "output_type": "stream",
       "stream": "stdout",
       "text": [
        "\n",
        "dumping <type 'numpy.ndarray'> to file <HDF5 file \"Patient_1_test_segment_0004_1.hkl\" (mode r+)>"
       ]
      },
      {
       "output_type": "stream",
       "stream": "stdout",
       "text": [
        "\n",
        "dumping <type 'numpy.ndarray'> to file <HDF5 file \"Patient_1_test_segment_0005_1.hkl\" (mode r+)>"
       ]
      },
      {
       "output_type": "stream",
       "stream": "stdout",
       "text": [
        "\n",
        "dumping <type 'numpy.ndarray'> to file <HDF5 file \"Patient_1_test_segment_0006_1.hkl\" (mode r+)>"
       ]
      },
      {
       "output_type": "stream",
       "stream": "stdout",
       "text": [
        "\n",
        "dumping <type 'numpy.ndarray'> to file <HDF5 file \"Patient_1_test_segment_0007_1.hkl\" (mode r+)>"
       ]
      },
      {
       "output_type": "stream",
       "stream": "stdout",
       "text": [
        "\n",
        "dumping <type 'numpy.ndarray'> to file <HDF5 file \"Patient_1_test_segment_0008_1.hkl\" (mode r+)>"
       ]
      },
      {
       "output_type": "stream",
       "stream": "stdout",
       "text": [
        "\n",
        "dumping <type 'numpy.ndarray'> to file <HDF5 file \"Patient_1_test_segment_0009_1.hkl\" (mode r+)>"
       ]
      },
      {
       "output_type": "stream",
       "stream": "stdout",
       "text": [
        "\n",
        "dumping <type 'numpy.ndarray'> to file <HDF5 file \"Patient_1_test_segment_0010_1.hkl\" (mode r+)>"
       ]
      },
      {
       "output_type": "stream",
       "stream": "stdout",
       "text": [
        "\n",
        "dumping <type 'numpy.ndarray'> to file <HDF5 file \"Patient_1_test_segment_0011_1.hkl\" (mode r+)>"
       ]
      },
      {
       "output_type": "stream",
       "stream": "stdout",
       "text": [
        "\n",
        "dumping <type 'numpy.ndarray'> to file <HDF5 file \"Patient_1_test_segment_0012_1.hkl\" (mode r+)>"
       ]
      },
      {
       "output_type": "stream",
       "stream": "stdout",
       "text": [
        "\n",
        "dumping <type 'numpy.ndarray'> to file <HDF5 file \"Patient_1_test_segment_0013_1.hkl\" (mode r+)>"
       ]
      },
      {
       "output_type": "stream",
       "stream": "stdout",
       "text": [
        "\n",
        "dumping <type 'numpy.ndarray'> to file <HDF5 file \"Patient_1_test_segment_0014_1.hkl\" (mode r+)>"
       ]
      },
      {
       "output_type": "stream",
       "stream": "stdout",
       "text": [
        "\n",
        "dumping <type 'numpy.ndarray'> to file <HDF5 file \"Patient_1_test_segment_0015_1.hkl\" (mode r+)>"
       ]
      },
      {
       "output_type": "stream",
       "stream": "stdout",
       "text": [
        "\n",
        "dumping <type 'numpy.ndarray'> to file <HDF5 file \"Patient_1_test_segment_0016_1.hkl\" (mode r+)>"
       ]
      },
      {
       "output_type": "stream",
       "stream": "stdout",
       "text": [
        "\n",
        "dumping <type 'numpy.ndarray'> to file <HDF5 file \"Patient_1_test_segment_0017_1.hkl\" (mode r+)>"
       ]
      },
      {
       "output_type": "stream",
       "stream": "stdout",
       "text": [
        "\n",
        "dumping <type 'numpy.ndarray'> to file <HDF5 file \"Patient_1_test_segment_0018_1.hkl\" (mode r+)>"
       ]
      },
      {
       "output_type": "stream",
       "stream": "stdout",
       "text": [
        "\n",
        "dumping <type 'numpy.ndarray'> to file <HDF5 file \"Patient_1_test_segment_0019_1.hkl\" (mode r+)>"
       ]
      },
      {
       "output_type": "stream",
       "stream": "stdout",
       "text": [
        "\n",
        "dumping <type 'numpy.ndarray'> to file <HDF5 file \"Patient_1_test_segment_0020_1.hkl\" (mode r+)>"
       ]
      },
      {
       "output_type": "stream",
       "stream": "stdout",
       "text": [
        "\n",
        "dumping <type 'numpy.ndarray'> to file <HDF5 file \"Patient_1_test_segment_0021_1.hkl\" (mode r+)>"
       ]
      },
      {
       "output_type": "stream",
       "stream": "stdout",
       "text": [
        "\n",
        "dumping <type 'numpy.ndarray'> to file <HDF5 file \"Patient_1_test_segment_0022_1.hkl\" (mode r+)>"
       ]
      },
      {
       "output_type": "stream",
       "stream": "stdout",
       "text": [
        "\n",
        "dumping <type 'numpy.ndarray'> to file <HDF5 file \"Patient_1_test_segment_0023_1.hkl\" (mode r+)>"
       ]
      },
      {
       "output_type": "stream",
       "stream": "stdout",
       "text": [
        "\n",
        "dumping <type 'numpy.ndarray'> to file <HDF5 file \"Patient_1_test_segment_0024_1.hkl\" (mode r+)>"
       ]
      },
      {
       "output_type": "stream",
       "stream": "stdout",
       "text": [
        "\n",
        "dumping <type 'numpy.ndarray'> to file <HDF5 file \"Patient_1_test_segment_0025_1.hkl\" (mode r+)>"
       ]
      },
      {
       "output_type": "stream",
       "stream": "stdout",
       "text": [
        "\n",
        "dumping <type 'numpy.ndarray'> to file <HDF5 file \"Patient_1_test_segment_0026_1.hkl\" (mode r+)>"
       ]
      },
      {
       "output_type": "stream",
       "stream": "stdout",
       "text": [
        "\n",
        "dumping <type 'numpy.ndarray'> to file <HDF5 file \"Patient_1_test_segment_0027_1.hkl\" (mode r+)>"
       ]
      },
      {
       "output_type": "stream",
       "stream": "stdout",
       "text": [
        "\n",
        "dumping <type 'numpy.ndarray'> to file <HDF5 file \"Patient_1_test_segment_0028_1.hkl\" (mode r+)>"
       ]
      },
      {
       "output_type": "stream",
       "stream": "stdout",
       "text": [
        "\n",
        "dumping <type 'numpy.ndarray'> to file <HDF5 file \"Patient_1_test_segment_0029_1.hkl\" (mode r+)>"
       ]
      },
      {
       "output_type": "stream",
       "stream": "stdout",
       "text": [
        "\n",
        "dumping <type 'numpy.ndarray'> to file <HDF5 file \"Patient_1_test_segment_0030_1.hkl\" (mode r+)>"
       ]
      },
      {
       "output_type": "stream",
       "stream": "stdout",
       "text": [
        "\n",
        "dumping <type 'numpy.ndarray'> to file <HDF5 file \"Patient_1_test_segment_0031_1.hkl\" (mode r+)>"
       ]
      },
      {
       "output_type": "stream",
       "stream": "stdout",
       "text": [
        "\n",
        "dumping <type 'numpy.ndarray'> to file <HDF5 file \"Patient_1_test_segment_0032_1.hkl\" (mode r+)>"
       ]
      },
      {
       "output_type": "stream",
       "stream": "stdout",
       "text": [
        "\n",
        "dumping <type 'numpy.ndarray'> to file <HDF5 file \"Patient_1_test_segment_0033_1.hkl\" (mode r+)>"
       ]
      },
      {
       "output_type": "stream",
       "stream": "stdout",
       "text": [
        "\n",
        "dumping <type 'numpy.ndarray'> to file <HDF5 file \"Patient_1_test_segment_0034_1.hkl\" (mode r+)>"
       ]
      },
      {
       "output_type": "stream",
       "stream": "stdout",
       "text": [
        "\n",
        "dumping <type 'numpy.ndarray'> to file <HDF5 file \"Patient_1_test_segment_0035_1.hkl\" (mode r+)>"
       ]
      },
      {
       "output_type": "stream",
       "stream": "stdout",
       "text": [
        "\n",
        "dumping <type 'numpy.ndarray'> to file <HDF5 file \"Patient_1_test_segment_0036_1.hkl\" (mode r+)>"
       ]
      },
      {
       "output_type": "stream",
       "stream": "stdout",
       "text": [
        "\n",
        "dumping <type 'numpy.ndarray'> to file <HDF5 file \"Patient_1_test_segment_0037_1.hkl\" (mode r+)>"
       ]
      },
      {
       "output_type": "stream",
       "stream": "stdout",
       "text": [
        "\n",
        "dumping <type 'numpy.ndarray'> to file <HDF5 file \"Patient_1_test_segment_0038_1.hkl\" (mode r+)>"
       ]
      },
      {
       "output_type": "stream",
       "stream": "stdout",
       "text": [
        "\n",
        "dumping <type 'numpy.ndarray'> to file <HDF5 file \"Patient_1_test_segment_0039_1.hkl\" (mode r+)>"
       ]
      },
      {
       "output_type": "stream",
       "stream": "stdout",
       "text": [
        "\n",
        "dumping <type 'numpy.ndarray'> to file <HDF5 file \"Patient_1_test_segment_0040_1.hkl\" (mode r+)>"
       ]
      },
      {
       "output_type": "stream",
       "stream": "stdout",
       "text": [
        "\n",
        "dumping <type 'numpy.ndarray'> to file <HDF5 file \"Patient_1_test_segment_0041_1.hkl\" (mode r+)>"
       ]
      },
      {
       "output_type": "stream",
       "stream": "stdout",
       "text": [
        "\n",
        "dumping <type 'numpy.ndarray'> to file <HDF5 file \"Patient_1_test_segment_0042_1.hkl\" (mode r+)>"
       ]
      },
      {
       "output_type": "stream",
       "stream": "stdout",
       "text": [
        "\n",
        "dumping <type 'numpy.ndarray'> to file <HDF5 file \"Patient_1_test_segment_0043_1.hkl\" (mode r+)>"
       ]
      },
      {
       "output_type": "stream",
       "stream": "stdout",
       "text": [
        "\n",
        "dumping <type 'numpy.ndarray'> to file <HDF5 file \"Patient_1_test_segment_0044_1.hkl\" (mode r+)>"
       ]
      },
      {
       "output_type": "stream",
       "stream": "stdout",
       "text": [
        "\n",
        "dumping <type 'numpy.ndarray'> to file <HDF5 file \"Patient_1_test_segment_0045_1.hkl\" (mode r+)>"
       ]
      },
      {
       "output_type": "stream",
       "stream": "stdout",
       "text": [
        "\n",
        "dumping <type 'numpy.ndarray'> to file <HDF5 file \"Patient_1_test_segment_0046_1.hkl\" (mode r+)>"
       ]
      },
      {
       "output_type": "stream",
       "stream": "stdout",
       "text": [
        "\n",
        "dumping <type 'numpy.ndarray'> to file <HDF5 file \"Patient_1_test_segment_0047_1.hkl\" (mode r+)>"
       ]
      },
      {
       "output_type": "stream",
       "stream": "stdout",
       "text": [
        "\n",
        "dumping <type 'numpy.ndarray'> to file <HDF5 file \"Patient_1_test_segment_0048_1.hkl\" (mode r+)>"
       ]
      },
      {
       "output_type": "stream",
       "stream": "stdout",
       "text": [
        "\n",
        "dumping <type 'numpy.ndarray'> to file <HDF5 file \"Patient_1_test_segment_0049_1.hkl\" (mode r+)>"
       ]
      },
      {
       "output_type": "stream",
       "stream": "stdout",
       "text": [
        "\n",
        "dumping <type 'numpy.ndarray'> to file <HDF5 file \"Patient_1_test_segment_0050_1.hkl\" (mode r+)>"
       ]
      },
      {
       "output_type": "stream",
       "stream": "stdout",
       "text": [
        "\n",
        "dumping <type 'numpy.ndarray'> to file <HDF5 file \"Patient_1_test_segment_0051_1.hkl\" (mode r+)>"
       ]
      },
      {
       "output_type": "stream",
       "stream": "stdout",
       "text": [
        "\n",
        "dumping <type 'numpy.ndarray'> to file <HDF5 file \"Patient_1_test_segment_0052_1.hkl\" (mode r+)>"
       ]
      },
      {
       "output_type": "stream",
       "stream": "stdout",
       "text": [
        "\n",
        "dumping <type 'numpy.ndarray'> to file <HDF5 file \"Patient_1_test_segment_0053_1.hkl\" (mode r+)>"
       ]
      },
      {
       "output_type": "stream",
       "stream": "stdout",
       "text": [
        "\n",
        "dumping <type 'numpy.ndarray'> to file <HDF5 file \"Patient_1_test_segment_0054_1.hkl\" (mode r+)>"
       ]
      },
      {
       "output_type": "stream",
       "stream": "stdout",
       "text": [
        "\n",
        "dumping <type 'numpy.ndarray'> to file <HDF5 file \"Patient_1_test_segment_0055_1.hkl\" (mode r+)>"
       ]
      },
      {
       "output_type": "stream",
       "stream": "stdout",
       "text": [
        "\n",
        "dumping <type 'numpy.ndarray'> to file <HDF5 file \"Patient_1_test_segment_0056_1.hkl\" (mode r+)>"
       ]
      },
      {
       "output_type": "stream",
       "stream": "stdout",
       "text": [
        "\n",
        "dumping <type 'numpy.ndarray'> to file <HDF5 file \"Patient_1_test_segment_0057_1.hkl\" (mode r+)>"
       ]
      },
      {
       "output_type": "stream",
       "stream": "stdout",
       "text": [
        "\n",
        "dumping <type 'numpy.ndarray'> to file <HDF5 file \"Patient_1_test_segment_0058_1.hkl\" (mode r+)>"
       ]
      },
      {
       "output_type": "stream",
       "stream": "stdout",
       "text": [
        "\n",
        "dumping <type 'numpy.ndarray'> to file <HDF5 file \"Patient_1_test_segment_0059_1.hkl\" (mode r+)>"
       ]
      },
      {
       "output_type": "stream",
       "stream": "stdout",
       "text": [
        "\n",
        "dumping <type 'numpy.ndarray'> to file <HDF5 file \"Patient_1_test_segment_0060_1.hkl\" (mode r+)>"
       ]
      },
      {
       "output_type": "stream",
       "stream": "stdout",
       "text": [
        "\n",
        "dumping <type 'numpy.ndarray'> to file <HDF5 file \"Patient_1_test_segment_0061_1.hkl\" (mode r+)>"
       ]
      },
      {
       "output_type": "stream",
       "stream": "stdout",
       "text": [
        "\n",
        "dumping <type 'numpy.ndarray'> to file <HDF5 file \"Patient_1_test_segment_0062_1.hkl\" (mode r+)>"
       ]
      },
      {
       "output_type": "stream",
       "stream": "stdout",
       "text": [
        "\n",
        "dumping <type 'numpy.ndarray'> to file <HDF5 file \"Patient_1_test_segment_0063_1.hkl\" (mode r+)>"
       ]
      },
      {
       "output_type": "stream",
       "stream": "stdout",
       "text": [
        "\n",
        "dumping <type 'numpy.ndarray'> to file <HDF5 file \"Patient_1_test_segment_0064_1.hkl\" (mode r+)>"
       ]
      },
      {
       "output_type": "stream",
       "stream": "stdout",
       "text": [
        "\n",
        "dumping <type 'numpy.ndarray'> to file <HDF5 file \"Patient_1_test_segment_0065_1.hkl\" (mode r+)>"
       ]
      },
      {
       "output_type": "stream",
       "stream": "stdout",
       "text": [
        "\n",
        "dumping <type 'numpy.ndarray'> to file <HDF5 file \"Patient_1_test_segment_0066_1.hkl\" (mode r+)>"
       ]
      },
      {
       "output_type": "stream",
       "stream": "stdout",
       "text": [
        "\n",
        "dumping <type 'numpy.ndarray'> to file <HDF5 file \"Patient_1_test_segment_0067_1.hkl\" (mode r+)>"
       ]
      },
      {
       "output_type": "stream",
       "stream": "stdout",
       "text": [
        "\n",
        "dumping <type 'numpy.ndarray'> to file <HDF5 file \"Patient_1_test_segment_0068_1.hkl\" (mode r+)>"
       ]
      },
      {
       "output_type": "stream",
       "stream": "stdout",
       "text": [
        "\n",
        "dumping <type 'numpy.ndarray'> to file <HDF5 file \"Patient_1_test_segment_0069_1.hkl\" (mode r+)>"
       ]
      },
      {
       "output_type": "stream",
       "stream": "stdout",
       "text": [
        "\n",
        "dumping <type 'numpy.ndarray'> to file <HDF5 file \"Patient_1_test_segment_0070_1.hkl\" (mode r+)>"
       ]
      },
      {
       "output_type": "stream",
       "stream": "stdout",
       "text": [
        "\n",
        "dumping <type 'numpy.ndarray'> to file <HDF5 file \"Patient_1_test_segment_0071_1.hkl\" (mode r+)>"
       ]
      },
      {
       "output_type": "stream",
       "stream": "stdout",
       "text": [
        "\n",
        "dumping <type 'numpy.ndarray'> to file <HDF5 file \"Patient_1_test_segment_0072_1.hkl\" (mode r+)>"
       ]
      },
      {
       "output_type": "stream",
       "stream": "stdout",
       "text": [
        "\n",
        "dumping <type 'numpy.ndarray'> to file <HDF5 file \"Patient_1_test_segment_0073_1.hkl\" (mode r+)>"
       ]
      },
      {
       "output_type": "stream",
       "stream": "stdout",
       "text": [
        "\n",
        "dumping <type 'numpy.ndarray'> to file <HDF5 file \"Patient_1_test_segment_0074_1.hkl\" (mode r+)>"
       ]
      },
      {
       "output_type": "stream",
       "stream": "stdout",
       "text": [
        "\n",
        "dumping <type 'numpy.ndarray'> to file <HDF5 file \"Patient_1_test_segment_0075_1.hkl\" (mode r+)>"
       ]
      },
      {
       "output_type": "stream",
       "stream": "stdout",
       "text": [
        "\n",
        "dumping <type 'numpy.ndarray'> to file <HDF5 file \"Patient_1_test_segment_0076_1.hkl\" (mode r+)>"
       ]
      },
      {
       "output_type": "stream",
       "stream": "stdout",
       "text": [
        "\n",
        "dumping <type 'numpy.ndarray'> to file <HDF5 file \"Patient_1_test_segment_0077_1.hkl\" (mode r+)>"
       ]
      },
      {
       "output_type": "stream",
       "stream": "stdout",
       "text": [
        "\n",
        "dumping <type 'numpy.ndarray'> to file <HDF5 file \"Patient_1_test_segment_0078_1.hkl\" (mode r+)>"
       ]
      },
      {
       "output_type": "stream",
       "stream": "stdout",
       "text": [
        "\n",
        "dumping <type 'numpy.ndarray'> to file <HDF5 file \"Patient_1_test_segment_0079_1.hkl\" (mode r+)>"
       ]
      },
      {
       "output_type": "stream",
       "stream": "stdout",
       "text": [
        "\n",
        "dumping <type 'numpy.ndarray'> to file <HDF5 file \"Patient_1_test_segment_0080_1.hkl\" (mode r+)>"
       ]
      },
      {
       "output_type": "stream",
       "stream": "stdout",
       "text": [
        "\n",
        "dumping <type 'numpy.ndarray'> to file <HDF5 file \"Patient_1_test_segment_0081_1.hkl\" (mode r+)>"
       ]
      },
      {
       "output_type": "stream",
       "stream": "stdout",
       "text": [
        "\n",
        "dumping <type 'numpy.ndarray'> to file <HDF5 file \"Patient_1_test_segment_0082_1.hkl\" (mode r+)>"
       ]
      },
      {
       "output_type": "stream",
       "stream": "stdout",
       "text": [
        "\n",
        "dumping <type 'numpy.ndarray'> to file <HDF5 file \"Patient_1_test_segment_0083_1.hkl\" (mode r+)>"
       ]
      },
      {
       "output_type": "stream",
       "stream": "stdout",
       "text": [
        "\n",
        "dumping <type 'numpy.ndarray'> to file <HDF5 file \"Patient_1_test_segment_0084_1.hkl\" (mode r+)>"
       ]
      },
      {
       "output_type": "stream",
       "stream": "stdout",
       "text": [
        "\n",
        "dumping <type 'numpy.ndarray'> to file <HDF5 file \"Patient_1_test_segment_0085_1.hkl\" (mode r+)>"
       ]
      },
      {
       "output_type": "stream",
       "stream": "stdout",
       "text": [
        "\n",
        "dumping <type 'numpy.ndarray'> to file <HDF5 file \"Patient_1_test_segment_0086_1.hkl\" (mode r+)>"
       ]
      },
      {
       "output_type": "stream",
       "stream": "stdout",
       "text": [
        "\n",
        "dumping <type 'numpy.ndarray'> to file <HDF5 file \"Patient_1_test_segment_0087_1.hkl\" (mode r+)>"
       ]
      },
      {
       "output_type": "stream",
       "stream": "stdout",
       "text": [
        "\n",
        "dumping <type 'numpy.ndarray'> to file <HDF5 file \"Patient_1_test_segment_0088_1.hkl\" (mode r+)>"
       ]
      },
      {
       "output_type": "stream",
       "stream": "stdout",
       "text": [
        "\n",
        "dumping <type 'numpy.ndarray'> to file <HDF5 file \"Patient_1_test_segment_0089_1.hkl\" (mode r+)>"
       ]
      },
      {
       "output_type": "stream",
       "stream": "stdout",
       "text": [
        "\n",
        "dumping <type 'numpy.ndarray'> to file <HDF5 file \"Patient_1_test_segment_0090_1.hkl\" (mode r+)>"
       ]
      },
      {
       "output_type": "stream",
       "stream": "stdout",
       "text": [
        "\n",
        "dumping <type 'numpy.ndarray'> to file <HDF5 file \"Patient_1_test_segment_0091_1.hkl\" (mode r+)>"
       ]
      },
      {
       "output_type": "stream",
       "stream": "stdout",
       "text": [
        "\n",
        "dumping <type 'numpy.ndarray'> to file <HDF5 file \"Patient_1_test_segment_0092_1.hkl\" (mode r+)>"
       ]
      },
      {
       "output_type": "stream",
       "stream": "stdout",
       "text": [
        "\n",
        "dumping <type 'numpy.ndarray'> to file <HDF5 file \"Patient_1_test_segment_0093_1.hkl\" (mode r+)>"
       ]
      },
      {
       "output_type": "stream",
       "stream": "stdout",
       "text": [
        "\n",
        "dumping <type 'numpy.ndarray'> to file <HDF5 file \"Patient_1_test_segment_0094_1.hkl\" (mode r+)>"
       ]
      },
      {
       "output_type": "stream",
       "stream": "stdout",
       "text": [
        "\n",
        "dumping <type 'numpy.ndarray'> to file <HDF5 file \"Patient_1_test_segment_0095_1.hkl\" (mode r+)>"
       ]
      },
      {
       "output_type": "stream",
       "stream": "stdout",
       "text": [
        "\n",
        "dumping <type 'numpy.ndarray'> to file <HDF5 file \"Patient_1_test_segment_0096_1.hkl\" (mode r+)>"
       ]
      },
      {
       "output_type": "stream",
       "stream": "stdout",
       "text": [
        "\n",
        "dumping <type 'numpy.ndarray'> to file <HDF5 file \"Patient_1_test_segment_0097_1.hkl\" (mode r+)>"
       ]
      },
      {
       "output_type": "stream",
       "stream": "stdout",
       "text": [
        "\n",
        "dumping <type 'numpy.ndarray'> to file <HDF5 file \"Patient_1_test_segment_0098_1.hkl\" (mode r+)>"
       ]
      },
      {
       "output_type": "stream",
       "stream": "stdout",
       "text": [
        "\n",
        "dumping <type 'numpy.ndarray'> to file <HDF5 file \"Patient_1_test_segment_0099_1.hkl\" (mode r+)>"
       ]
      },
      {
       "output_type": "stream",
       "stream": "stdout",
       "text": [
        "\n",
        "dumping <type 'numpy.ndarray'> to file <HDF5 file \"Patient_1_test_segment_0100_1.hkl\" (mode r+)>"
       ]
      },
      {
       "output_type": "stream",
       "stream": "stdout",
       "text": [
        "\n",
        "dumping <type 'numpy.ndarray'> to file <HDF5 file \"Patient_1_test_segment_0101_1.hkl\" (mode r+)>"
       ]
      },
      {
       "output_type": "stream",
       "stream": "stdout",
       "text": [
        "\n",
        "dumping <type 'numpy.ndarray'> to file <HDF5 file \"Patient_1_test_segment_0102_1.hkl\" (mode r+)>"
       ]
      },
      {
       "output_type": "stream",
       "stream": "stdout",
       "text": [
        "\n",
        "dumping <type 'numpy.ndarray'> to file <HDF5 file \"Patient_1_test_segment_0103_1.hkl\" (mode r+)>"
       ]
      },
      {
       "output_type": "stream",
       "stream": "stdout",
       "text": [
        "\n",
        "dumping <type 'numpy.ndarray'> to file <HDF5 file \"Patient_1_test_segment_0104_1.hkl\" (mode r+)>"
       ]
      },
      {
       "output_type": "stream",
       "stream": "stdout",
       "text": [
        "\n",
        "dumping <type 'numpy.ndarray'> to file <HDF5 file \"Patient_1_test_segment_0105_1.hkl\" (mode r+)>"
       ]
      },
      {
       "output_type": "stream",
       "stream": "stdout",
       "text": [
        "\n",
        "dumping <type 'numpy.ndarray'> to file <HDF5 file \"Patient_1_test_segment_0106_1.hkl\" (mode r+)>"
       ]
      },
      {
       "output_type": "stream",
       "stream": "stdout",
       "text": [
        "\n",
        "dumping <type 'numpy.ndarray'> to file <HDF5 file \"Patient_1_test_segment_0107_1.hkl\" (mode r+)>"
       ]
      },
      {
       "output_type": "stream",
       "stream": "stdout",
       "text": [
        "\n",
        "dumping <type 'numpy.ndarray'> to file <HDF5 file \"Patient_1_test_segment_0108_1.hkl\" (mode r+)>"
       ]
      },
      {
       "output_type": "stream",
       "stream": "stdout",
       "text": [
        "\n",
        "dumping <type 'numpy.ndarray'> to file <HDF5 file \"Patient_1_test_segment_0109_1.hkl\" (mode r+)>"
       ]
      },
      {
       "output_type": "stream",
       "stream": "stdout",
       "text": [
        "\n",
        "dumping <type 'numpy.ndarray'> to file <HDF5 file \"Patient_1_test_segment_0110_1.hkl\" (mode r+)>"
       ]
      },
      {
       "output_type": "stream",
       "stream": "stdout",
       "text": [
        "\n",
        "dumping <type 'numpy.ndarray'> to file <HDF5 file \"Patient_1_test_segment_0111_1.hkl\" (mode r+)>"
       ]
      },
      {
       "output_type": "stream",
       "stream": "stdout",
       "text": [
        "\n",
        "dumping <type 'numpy.ndarray'> to file <HDF5 file \"Patient_1_test_segment_0112_1.hkl\" (mode r+)>"
       ]
      },
      {
       "output_type": "stream",
       "stream": "stdout",
       "text": [
        "\n",
        "dumping <type 'numpy.ndarray'> to file <HDF5 file \"Patient_1_test_segment_0113_1.hkl\" (mode r+)>"
       ]
      },
      {
       "output_type": "stream",
       "stream": "stdout",
       "text": [
        "\n",
        "dumping <type 'numpy.ndarray'> to file <HDF5 file \"Patient_1_test_segment_0114_1.hkl\" (mode r+)>"
       ]
      },
      {
       "output_type": "stream",
       "stream": "stdout",
       "text": [
        "\n",
        "dumping <type 'numpy.ndarray'> to file <HDF5 file \"Patient_1_test_segment_0115_1.hkl\" (mode r+)>"
       ]
      },
      {
       "output_type": "stream",
       "stream": "stdout",
       "text": [
        "\n",
        "dumping <type 'numpy.ndarray'> to file <HDF5 file \"Patient_1_test_segment_0116_1.hkl\" (mode r+)>"
       ]
      },
      {
       "output_type": "stream",
       "stream": "stdout",
       "text": [
        "\n",
        "dumping <type 'numpy.ndarray'> to file <HDF5 file \"Patient_1_test_segment_0117_1.hkl\" (mode r+)>"
       ]
      },
      {
       "output_type": "stream",
       "stream": "stdout",
       "text": [
        "\n",
        "dumping <type 'numpy.ndarray'> to file <HDF5 file \"Patient_1_test_segment_0118_1.hkl\" (mode r+)>"
       ]
      },
      {
       "output_type": "stream",
       "stream": "stdout",
       "text": [
        "\n",
        "dumping <type 'numpy.ndarray'> to file <HDF5 file \"Patient_1_test_segment_0119_1.hkl\" (mode r+)>"
       ]
      },
      {
       "output_type": "stream",
       "stream": "stdout",
       "text": [
        "\n",
        "dumping <type 'numpy.ndarray'> to file <HDF5 file \"Patient_1_test_segment_0120_1.hkl\" (mode r+)>"
       ]
      },
      {
       "output_type": "stream",
       "stream": "stdout",
       "text": [
        "\n",
        "dumping <type 'numpy.ndarray'> to file <HDF5 file \"Patient_1_test_segment_0121_1.hkl\" (mode r+)>"
       ]
      },
      {
       "output_type": "stream",
       "stream": "stdout",
       "text": [
        "\n",
        "dumping <type 'numpy.ndarray'> to file <HDF5 file \"Patient_1_test_segment_0122_1.hkl\" (mode r+)>"
       ]
      },
      {
       "output_type": "stream",
       "stream": "stdout",
       "text": [
        "\n",
        "dumping <type 'numpy.ndarray'> to file <HDF5 file \"Patient_1_test_segment_0123_1.hkl\" (mode r+)>"
       ]
      },
      {
       "output_type": "stream",
       "stream": "stdout",
       "text": [
        "\n",
        "dumping <type 'numpy.ndarray'> to file <HDF5 file \"Patient_1_test_segment_0124_1.hkl\" (mode r+)>"
       ]
      },
      {
       "output_type": "stream",
       "stream": "stdout",
       "text": [
        "\n",
        "dumping <type 'numpy.ndarray'> to file <HDF5 file \"Patient_1_test_segment_0125_1.hkl\" (mode r+)>"
       ]
      },
      {
       "output_type": "stream",
       "stream": "stdout",
       "text": [
        "\n",
        "dumping <type 'numpy.ndarray'> to file <HDF5 file \"Patient_1_test_segment_0126_1.hkl\" (mode r+)>"
       ]
      },
      {
       "output_type": "stream",
       "stream": "stdout",
       "text": [
        "\n",
        "dumping <type 'numpy.ndarray'> to file <HDF5 file \"Patient_1_test_segment_0127_1.hkl\" (mode r+)>"
       ]
      },
      {
       "output_type": "stream",
       "stream": "stdout",
       "text": [
        "\n",
        "dumping <type 'numpy.ndarray'> to file <HDF5 file \"Patient_1_test_segment_0128_1.hkl\" (mode r+)>"
       ]
      },
      {
       "output_type": "stream",
       "stream": "stdout",
       "text": [
        "\n",
        "dumping <type 'numpy.ndarray'> to file <HDF5 file \"Patient_1_test_segment_0129_1.hkl\" (mode r+)>"
       ]
      },
      {
       "output_type": "stream",
       "stream": "stdout",
       "text": [
        "\n",
        "dumping <type 'numpy.ndarray'> to file <HDF5 file \"Patient_1_test_segment_0130_1.hkl\" (mode r+)>"
       ]
      },
      {
       "output_type": "stream",
       "stream": "stdout",
       "text": [
        "\n",
        "dumping <type 'numpy.ndarray'> to file <HDF5 file \"Patient_1_test_segment_0131_1.hkl\" (mode r+)>"
       ]
      },
      {
       "output_type": "stream",
       "stream": "stdout",
       "text": [
        "\n",
        "dumping <type 'numpy.ndarray'> to file <HDF5 file \"Patient_1_test_segment_0132_1.hkl\" (mode r+)>"
       ]
      },
      {
       "output_type": "stream",
       "stream": "stdout",
       "text": [
        "\n",
        "dumping <type 'numpy.ndarray'> to file <HDF5 file \"Patient_1_test_segment_0133_1.hkl\" (mode r+)>"
       ]
      },
      {
       "output_type": "stream",
       "stream": "stdout",
       "text": [
        "\n",
        "dumping <type 'numpy.ndarray'> to file <HDF5 file \"Patient_1_test_segment_0134_1.hkl\" (mode r+)>"
       ]
      },
      {
       "output_type": "stream",
       "stream": "stdout",
       "text": [
        "\n",
        "dumping <type 'numpy.ndarray'> to file <HDF5 file \"Patient_1_test_segment_0135_1.hkl\" (mode r+)>"
       ]
      },
      {
       "output_type": "stream",
       "stream": "stdout",
       "text": [
        "\n",
        "dumping <type 'numpy.ndarray'> to file <HDF5 file \"Patient_1_test_segment_0136_1.hkl\" (mode r+)>"
       ]
      },
      {
       "output_type": "stream",
       "stream": "stdout",
       "text": [
        "\n",
        "dumping <type 'numpy.ndarray'> to file <HDF5 file \"Patient_1_test_segment_0137_1.hkl\" (mode r+)>"
       ]
      },
      {
       "output_type": "stream",
       "stream": "stdout",
       "text": [
        "\n",
        "dumping <type 'numpy.ndarray'> to file <HDF5 file \"Patient_1_test_segment_0138_1.hkl\" (mode r+)>"
       ]
      },
      {
       "output_type": "stream",
       "stream": "stdout",
       "text": [
        "\n",
        "dumping <type 'numpy.ndarray'> to file <HDF5 file \"Patient_1_test_segment_0139_1.hkl\" (mode r+)>"
       ]
      },
      {
       "output_type": "stream",
       "stream": "stdout",
       "text": [
        "\n",
        "dumping <type 'numpy.ndarray'> to file <HDF5 file \"Patient_1_test_segment_0140_1.hkl\" (mode r+)>"
       ]
      },
      {
       "output_type": "stream",
       "stream": "stdout",
       "text": [
        "\n",
        "dumping <type 'numpy.ndarray'> to file <HDF5 file \"Patient_1_test_segment_0141_1.hkl\" (mode r+)>"
       ]
      },
      {
       "output_type": "stream",
       "stream": "stdout",
       "text": [
        "\n",
        "dumping <type 'numpy.ndarray'> to file <HDF5 file \"Patient_1_test_segment_0142_1.hkl\" (mode r+)>"
       ]
      },
      {
       "output_type": "stream",
       "stream": "stdout",
       "text": [
        "\n",
        "dumping <type 'numpy.ndarray'> to file <HDF5 file \"Patient_1_test_segment_0143_1.hkl\" (mode r+)>"
       ]
      },
      {
       "output_type": "stream",
       "stream": "stdout",
       "text": [
        "\n",
        "dumping <type 'numpy.ndarray'> to file <HDF5 file \"Patient_1_test_segment_0144_1.hkl\" (mode r+)>"
       ]
      },
      {
       "output_type": "stream",
       "stream": "stdout",
       "text": [
        "\n",
        "dumping <type 'numpy.ndarray'> to file <HDF5 file \"Patient_1_test_segment_0145_1.hkl\" (mode r+)>"
       ]
      },
      {
       "output_type": "stream",
       "stream": "stdout",
       "text": [
        "\n",
        "dumping <type 'numpy.ndarray'> to file <HDF5 file \"Patient_1_test_segment_0146_1.hkl\" (mode r+)>"
       ]
      },
      {
       "output_type": "stream",
       "stream": "stdout",
       "text": [
        "\n",
        "dumping <type 'numpy.ndarray'> to file <HDF5 file \"Patient_1_test_segment_0147_1.hkl\" (mode r+)>"
       ]
      },
      {
       "output_type": "stream",
       "stream": "stdout",
       "text": [
        "\n",
        "dumping <type 'numpy.ndarray'> to file <HDF5 file \"Patient_1_test_segment_0148_1.hkl\" (mode r+)>"
       ]
      },
      {
       "output_type": "stream",
       "stream": "stdout",
       "text": [
        "\n",
        "dumping <type 'numpy.ndarray'> to file <HDF5 file \"Patient_1_test_segment_0149_1.hkl\" (mode r+)>"
       ]
      },
      {
       "output_type": "stream",
       "stream": "stdout",
       "text": [
        "\n",
        "dumping <type 'numpy.ndarray'> to file <HDF5 file \"Patient_1_test_segment_0150_1.hkl\" (mode r+)>"
       ]
      },
      {
       "output_type": "stream",
       "stream": "stdout",
       "text": [
        "\n",
        "dumping <type 'numpy.ndarray'> to file <HDF5 file \"Patient_1_test_segment_0151_1.hkl\" (mode r+)>"
       ]
      },
      {
       "output_type": "stream",
       "stream": "stdout",
       "text": [
        "\n",
        "dumping <type 'numpy.ndarray'> to file <HDF5 file \"Patient_1_test_segment_0152_1.hkl\" (mode r+)>"
       ]
      },
      {
       "output_type": "stream",
       "stream": "stdout",
       "text": [
        "\n",
        "dumping <type 'numpy.ndarray'> to file <HDF5 file \"Patient_1_test_segment_0153_1.hkl\" (mode r+)>"
       ]
      },
      {
       "output_type": "stream",
       "stream": "stdout",
       "text": [
        "\n",
        "dumping <type 'numpy.ndarray'> to file <HDF5 file \"Patient_1_test_segment_0154_1.hkl\" (mode r+)>"
       ]
      },
      {
       "output_type": "stream",
       "stream": "stdout",
       "text": [
        "\n",
        "dumping <type 'numpy.ndarray'> to file <HDF5 file \"Patient_1_test_segment_0155_1.hkl\" (mode r+)>"
       ]
      },
      {
       "output_type": "stream",
       "stream": "stdout",
       "text": [
        "\n",
        "dumping <type 'numpy.ndarray'> to file <HDF5 file \"Patient_1_test_segment_0156_1.hkl\" (mode r+)>"
       ]
      },
      {
       "output_type": "stream",
       "stream": "stdout",
       "text": [
        "\n",
        "dumping <type 'numpy.ndarray'> to file <HDF5 file \"Patient_1_test_segment_0157_1.hkl\" (mode r+)>"
       ]
      },
      {
       "output_type": "stream",
       "stream": "stdout",
       "text": [
        "\n",
        "dumping <type 'numpy.ndarray'> to file <HDF5 file \"Patient_1_test_segment_0158_1.hkl\" (mode r+)>"
       ]
      },
      {
       "output_type": "stream",
       "stream": "stdout",
       "text": [
        "\n",
        "dumping <type 'numpy.ndarray'> to file <HDF5 file \"Patient_1_test_segment_0159_1.hkl\" (mode r+)>"
       ]
      },
      {
       "output_type": "stream",
       "stream": "stdout",
       "text": [
        "\n",
        "dumping <type 'numpy.ndarray'> to file <HDF5 file \"Patient_1_test_segment_0160_1.hkl\" (mode r+)>"
       ]
      },
      {
       "output_type": "stream",
       "stream": "stdout",
       "text": [
        "\n",
        "dumping <type 'numpy.ndarray'> to file <HDF5 file \"Patient_1_test_segment_0161_1.hkl\" (mode r+)>"
       ]
      },
      {
       "output_type": "stream",
       "stream": "stdout",
       "text": [
        "\n",
        "dumping <type 'numpy.ndarray'> to file <HDF5 file \"Patient_1_test_segment_0162_1.hkl\" (mode r+)>"
       ]
      },
      {
       "output_type": "stream",
       "stream": "stdout",
       "text": [
        "\n",
        "dumping <type 'numpy.ndarray'> to file <HDF5 file \"Patient_1_test_segment_0163_1.hkl\" (mode r+)>"
       ]
      },
      {
       "output_type": "stream",
       "stream": "stdout",
       "text": [
        "\n",
        "dumping <type 'numpy.ndarray'> to file <HDF5 file \"Patient_1_test_segment_0164_1.hkl\" (mode r+)>"
       ]
      },
      {
       "output_type": "stream",
       "stream": "stdout",
       "text": [
        "\n",
        "dumping <type 'numpy.ndarray'> to file <HDF5 file \"Patient_1_test_segment_0165_1.hkl\" (mode r+)>"
       ]
      },
      {
       "output_type": "stream",
       "stream": "stdout",
       "text": [
        "\n",
        "dumping <type 'numpy.ndarray'> to file <HDF5 file \"Patient_1_test_segment_0166_1.hkl\" (mode r+)>"
       ]
      },
      {
       "output_type": "stream",
       "stream": "stdout",
       "text": [
        "\n",
        "dumping <type 'numpy.ndarray'> to file <HDF5 file \"Patient_1_test_segment_0167_1.hkl\" (mode r+)>"
       ]
      },
      {
       "output_type": "stream",
       "stream": "stdout",
       "text": [
        "\n",
        "dumping <type 'numpy.ndarray'> to file <HDF5 file \"Patient_1_test_segment_0168_1.hkl\" (mode r+)>"
       ]
      },
      {
       "output_type": "stream",
       "stream": "stdout",
       "text": [
        "\n",
        "dumping <type 'numpy.ndarray'> to file <HDF5 file \"Patient_1_test_segment_0169_1.hkl\" (mode r+)>"
       ]
      },
      {
       "output_type": "stream",
       "stream": "stdout",
       "text": [
        "\n",
        "dumping <type 'numpy.ndarray'> to file <HDF5 file \"Patient_1_test_segment_0170_1.hkl\" (mode r+)>"
       ]
      },
      {
       "output_type": "stream",
       "stream": "stdout",
       "text": [
        "\n",
        "dumping <type 'numpy.ndarray'> to file <HDF5 file \"Patient_1_test_segment_0171_1.hkl\" (mode r+)>"
       ]
      },
      {
       "output_type": "stream",
       "stream": "stdout",
       "text": [
        "\n",
        "dumping <type 'numpy.ndarray'> to file <HDF5 file \"Patient_1_test_segment_0172_1.hkl\" (mode r+)>"
       ]
      },
      {
       "output_type": "stream",
       "stream": "stdout",
       "text": [
        "\n",
        "dumping <type 'numpy.ndarray'> to file <HDF5 file \"Patient_1_test_segment_0173_1.hkl\" (mode r+)>"
       ]
      },
      {
       "output_type": "stream",
       "stream": "stdout",
       "text": [
        "\n",
        "dumping <type 'numpy.ndarray'> to file <HDF5 file \"Patient_1_test_segment_0174_1.hkl\" (mode r+)>"
       ]
      },
      {
       "output_type": "stream",
       "stream": "stdout",
       "text": [
        "\n",
        "dumping <type 'numpy.ndarray'> to file <HDF5 file \"Patient_1_test_segment_0175_1.hkl\" (mode r+)>"
       ]
      },
      {
       "output_type": "stream",
       "stream": "stdout",
       "text": [
        "\n",
        "dumping <type 'numpy.ndarray'> to file <HDF5 file \"Patient_1_test_segment_0176_1.hkl\" (mode r+)>"
       ]
      },
      {
       "output_type": "stream",
       "stream": "stdout",
       "text": [
        "\n",
        "dumping <type 'numpy.ndarray'> to file <HDF5 file \"Patient_1_test_segment_0177_1.hkl\" (mode r+)>"
       ]
      },
      {
       "output_type": "stream",
       "stream": "stdout",
       "text": [
        "\n",
        "dumping <type 'numpy.ndarray'> to file <HDF5 file \"Patient_1_test_segment_0178_1.hkl\" (mode r+)>"
       ]
      },
      {
       "output_type": "stream",
       "stream": "stdout",
       "text": [
        "\n",
        "dumping <type 'numpy.ndarray'> to file <HDF5 file \"Patient_1_test_segment_0179_1.hkl\" (mode r+)>"
       ]
      },
      {
       "output_type": "stream",
       "stream": "stdout",
       "text": [
        "\n",
        "dumping <type 'numpy.ndarray'> to file <HDF5 file \"Patient_1_test_segment_0180_1.hkl\" (mode r+)>"
       ]
      },
      {
       "output_type": "stream",
       "stream": "stdout",
       "text": [
        "\n",
        "dumping <type 'numpy.ndarray'> to file <HDF5 file \"Patient_1_test_segment_0181_1.hkl\" (mode r+)>"
       ]
      },
      {
       "output_type": "stream",
       "stream": "stdout",
       "text": [
        "\n",
        "dumping <type 'numpy.ndarray'> to file <HDF5 file \"Patient_1_test_segment_0182_1.hkl\" (mode r+)>"
       ]
      },
      {
       "output_type": "stream",
       "stream": "stdout",
       "text": [
        "\n",
        "dumping <type 'numpy.ndarray'> to file <HDF5 file \"Patient_1_test_segment_0183_1.hkl\" (mode r+)>"
       ]
      },
      {
       "output_type": "stream",
       "stream": "stdout",
       "text": [
        "\n",
        "dumping <type 'numpy.ndarray'> to file <HDF5 file \"Patient_1_test_segment_0184_1.hkl\" (mode r+)>"
       ]
      },
      {
       "output_type": "stream",
       "stream": "stdout",
       "text": [
        "\n",
        "dumping <type 'numpy.ndarray'> to file <HDF5 file \"Patient_1_test_segment_0185_1.hkl\" (mode r+)>"
       ]
      },
      {
       "output_type": "stream",
       "stream": "stdout",
       "text": [
        "\n",
        "dumping <type 'numpy.ndarray'> to file <HDF5 file \"Patient_1_test_segment_0186_1.hkl\" (mode r+)>"
       ]
      },
      {
       "output_type": "stream",
       "stream": "stdout",
       "text": [
        "\n",
        "dumping <type 'numpy.ndarray'> to file <HDF5 file \"Patient_1_test_segment_0187_1.hkl\" (mode r+)>"
       ]
      },
      {
       "output_type": "stream",
       "stream": "stdout",
       "text": [
        "\n",
        "dumping <type 'numpy.ndarray'> to file <HDF5 file \"Patient_1_test_segment_0188_1.hkl\" (mode r+)>"
       ]
      },
      {
       "output_type": "stream",
       "stream": "stdout",
       "text": [
        "\n",
        "dumping <type 'numpy.ndarray'> to file <HDF5 file \"Patient_1_test_segment_0189_1.hkl\" (mode r+)>"
       ]
      },
      {
       "output_type": "stream",
       "stream": "stdout",
       "text": [
        "\n",
        "dumping <type 'numpy.ndarray'> to file <HDF5 file \"Patient_1_test_segment_0190_1.hkl\" (mode r+)>"
       ]
      },
      {
       "output_type": "stream",
       "stream": "stdout",
       "text": [
        "\n",
        "dumping <type 'numpy.ndarray'> to file <HDF5 file \"Patient_1_test_segment_0191_1.hkl\" (mode r+)>"
       ]
      },
      {
       "output_type": "stream",
       "stream": "stdout",
       "text": [
        "\n",
        "dumping <type 'numpy.ndarray'> to file <HDF5 file \"Patient_1_test_segment_0192_1.hkl\" (mode r+)>"
       ]
      },
      {
       "output_type": "stream",
       "stream": "stdout",
       "text": [
        "\n",
        "dumping <type 'numpy.ndarray'> to file <HDF5 file \"Patient_1_test_segment_0193_1.hkl\" (mode r+)>"
       ]
      },
      {
       "output_type": "stream",
       "stream": "stdout",
       "text": [
        "\n",
        "dumping <type 'numpy.ndarray'> to file <HDF5 file \"Patient_1_test_segment_0194_1.hkl\" (mode r+)>"
       ]
      },
      {
       "output_type": "stream",
       "stream": "stdout",
       "text": [
        "\n",
        "dumping <type 'numpy.ndarray'> to file <HDF5 file \"Patient_1_test_segment_0195_1.hkl\" (mode r+)>"
       ]
      },
      {
       "output_type": "stream",
       "stream": "stdout",
       "text": [
        "\n",
        "mkdir: ../filtered-seizure-data/Patient_2: File exists\r\n"
       ]
      },
      {
       "output_type": "stream",
       "stream": "stdout",
       "text": [
        "dumping <type 'numpy.ndarray'> to file <HDF5 file \"Patient_2_preictal_segment_0001_1.hkl\" (mode r+)>\n",
        "dumping <type 'numpy.ndarray'> to file <HDF5 file \"Patient_2_preictal_segment_0002_2.hkl\" (mode r+)>"
       ]
      },
      {
       "output_type": "stream",
       "stream": "stdout",
       "text": [
        "\n",
        "dumping <type 'numpy.ndarray'> to file <HDF5 file \"Patient_2_preictal_segment_0003_3.hkl\" (mode r+)>"
       ]
      },
      {
       "output_type": "stream",
       "stream": "stdout",
       "text": [
        "\n",
        "dumping <type 'numpy.ndarray'> to file <HDF5 file \"Patient_2_preictal_segment_0004_4.hkl\" (mode r+)>"
       ]
      },
      {
       "output_type": "stream",
       "stream": "stdout",
       "text": [
        "\n",
        "dumping <type 'numpy.ndarray'> to file <HDF5 file \"Patient_2_preictal_segment_0005_5.hkl\" (mode r+)>"
       ]
      },
      {
       "output_type": "stream",
       "stream": "stdout",
       "text": [
        "\n",
        "dumping <type 'numpy.ndarray'> to file <HDF5 file \"Patient_2_preictal_segment_0006_6.hkl\" (mode r+)>"
       ]
      },
      {
       "output_type": "stream",
       "stream": "stdout",
       "text": [
        "\n",
        "dumping <type 'numpy.ndarray'> to file <HDF5 file \"Patient_2_preictal_segment_0007_1.hkl\" (mode r+)>"
       ]
      },
      {
       "output_type": "stream",
       "stream": "stdout",
       "text": [
        "\n",
        "dumping <type 'numpy.ndarray'> to file <HDF5 file \"Patient_2_preictal_segment_0008_2.hkl\" (mode r+)>"
       ]
      },
      {
       "output_type": "stream",
       "stream": "stdout",
       "text": [
        "\n",
        "dumping <type 'numpy.ndarray'> to file <HDF5 file \"Patient_2_preictal_segment_0009_3.hkl\" (mode r+)>"
       ]
      },
      {
       "output_type": "stream",
       "stream": "stdout",
       "text": [
        "\n",
        "dumping <type 'numpy.ndarray'> to file <HDF5 file \"Patient_2_preictal_segment_0010_4.hkl\" (mode r+)>"
       ]
      },
      {
       "output_type": "stream",
       "stream": "stdout",
       "text": [
        "\n",
        "dumping <type 'numpy.ndarray'> to file <HDF5 file \"Patient_2_preictal_segment_0011_5.hkl\" (mode r+)>"
       ]
      },
      {
       "output_type": "stream",
       "stream": "stdout",
       "text": [
        "\n",
        "dumping <type 'numpy.ndarray'> to file <HDF5 file \"Patient_2_preictal_segment_0012_6.hkl\" (mode r+)>"
       ]
      },
      {
       "output_type": "stream",
       "stream": "stdout",
       "text": [
        "\n",
        "dumping <type 'numpy.ndarray'> to file <HDF5 file \"Patient_2_preictal_segment_0013_1.hkl\" (mode r+)>"
       ]
      },
      {
       "output_type": "stream",
       "stream": "stdout",
       "text": [
        "\n",
        "dumping <type 'numpy.ndarray'> to file <HDF5 file \"Patient_2_preictal_segment_0014_2.hkl\" (mode r+)>"
       ]
      },
      {
       "output_type": "stream",
       "stream": "stdout",
       "text": [
        "\n",
        "dumping <type 'numpy.ndarray'> to file <HDF5 file \"Patient_2_preictal_segment_0015_3.hkl\" (mode r+)>"
       ]
      },
      {
       "output_type": "stream",
       "stream": "stdout",
       "text": [
        "\n",
        "dumping <type 'numpy.ndarray'> to file <HDF5 file \"Patient_2_preictal_segment_0016_4.hkl\" (mode r+)>"
       ]
      },
      {
       "output_type": "stream",
       "stream": "stdout",
       "text": [
        "\n",
        "dumping <type 'numpy.ndarray'> to file <HDF5 file \"Patient_2_preictal_segment_0017_5.hkl\" (mode r+)>"
       ]
      },
      {
       "output_type": "stream",
       "stream": "stdout",
       "text": [
        "\n",
        "dumping <type 'numpy.ndarray'> to file <HDF5 file \"Patient_2_preictal_segment_0018_6.hkl\" (mode r+)>"
       ]
      },
      {
       "output_type": "stream",
       "stream": "stdout",
       "text": [
        "\n",
        "dumping <type 'numpy.ndarray'> to file <HDF5 file \"Patient_2_interictal_segment_0001_1.hkl\" (mode r+)>"
       ]
      },
      {
       "output_type": "stream",
       "stream": "stdout",
       "text": [
        "\n",
        "dumping <type 'numpy.ndarray'> to file <HDF5 file \"Patient_2_interictal_segment_0002_2.hkl\" (mode r+)>"
       ]
      },
      {
       "output_type": "stream",
       "stream": "stdout",
       "text": [
        "\n",
        "dumping <type 'numpy.ndarray'> to file <HDF5 file \"Patient_2_interictal_segment_0003_3.hkl\" (mode r+)>"
       ]
      },
      {
       "output_type": "stream",
       "stream": "stdout",
       "text": [
        "\n",
        "dumping <type 'numpy.ndarray'> to file <HDF5 file \"Patient_2_interictal_segment_0004_4.hkl\" (mode r+)>"
       ]
      },
      {
       "output_type": "stream",
       "stream": "stdout",
       "text": [
        "\n",
        "dumping <type 'numpy.ndarray'> to file <HDF5 file \"Patient_2_interictal_segment_0005_5.hkl\" (mode r+)>"
       ]
      },
      {
       "output_type": "stream",
       "stream": "stdout",
       "text": [
        "\n",
        "dumping <type 'numpy.ndarray'> to file <HDF5 file \"Patient_2_interictal_segment_0006_6.hkl\" (mode r+)>"
       ]
      },
      {
       "output_type": "stream",
       "stream": "stdout",
       "text": [
        "\n",
        "dumping <type 'numpy.ndarray'> to file <HDF5 file \"Patient_2_interictal_segment_0007_1.hkl\" (mode r+)>"
       ]
      },
      {
       "output_type": "stream",
       "stream": "stdout",
       "text": [
        "\n",
        "dumping <type 'numpy.ndarray'> to file <HDF5 file \"Patient_2_interictal_segment_0008_2.hkl\" (mode r+)>"
       ]
      },
      {
       "output_type": "stream",
       "stream": "stdout",
       "text": [
        "\n",
        "dumping <type 'numpy.ndarray'> to file <HDF5 file \"Patient_2_interictal_segment_0009_3.hkl\" (mode r+)>"
       ]
      },
      {
       "output_type": "stream",
       "stream": "stdout",
       "text": [
        "\n",
        "dumping <type 'numpy.ndarray'> to file <HDF5 file \"Patient_2_interictal_segment_0010_4.hkl\" (mode r+)>"
       ]
      },
      {
       "output_type": "stream",
       "stream": "stdout",
       "text": [
        "\n",
        "dumping <type 'numpy.ndarray'> to file <HDF5 file \"Patient_2_interictal_segment_0011_5.hkl\" (mode r+)>"
       ]
      },
      {
       "output_type": "stream",
       "stream": "stdout",
       "text": [
        "\n",
        "dumping <type 'numpy.ndarray'> to file <HDF5 file \"Patient_2_interictal_segment_0012_6.hkl\" (mode r+)>"
       ]
      },
      {
       "output_type": "stream",
       "stream": "stdout",
       "text": [
        "\n",
        "dumping <type 'numpy.ndarray'> to file <HDF5 file \"Patient_2_interictal_segment_0013_1.hkl\" (mode r+)>"
       ]
      },
      {
       "output_type": "stream",
       "stream": "stdout",
       "text": [
        "\n",
        "dumping <type 'numpy.ndarray'> to file <HDF5 file \"Patient_2_interictal_segment_0014_2.hkl\" (mode r+)>"
       ]
      },
      {
       "output_type": "stream",
       "stream": "stdout",
       "text": [
        "\n",
        "dumping <type 'numpy.ndarray'> to file <HDF5 file \"Patient_2_interictal_segment_0015_3.hkl\" (mode r+)>"
       ]
      },
      {
       "output_type": "stream",
       "stream": "stdout",
       "text": [
        "\n",
        "dumping <type 'numpy.ndarray'> to file <HDF5 file \"Patient_2_interictal_segment_0016_4.hkl\" (mode r+)>"
       ]
      },
      {
       "output_type": "stream",
       "stream": "stdout",
       "text": [
        "\n",
        "dumping <type 'numpy.ndarray'> to file <HDF5 file \"Patient_2_interictal_segment_0017_5.hkl\" (mode r+)>"
       ]
      },
      {
       "output_type": "stream",
       "stream": "stdout",
       "text": [
        "\n",
        "dumping <type 'numpy.ndarray'> to file <HDF5 file \"Patient_2_interictal_segment_0018_6.hkl\" (mode r+)>"
       ]
      },
      {
       "output_type": "stream",
       "stream": "stdout",
       "text": [
        "\n",
        "dumping <type 'numpy.ndarray'> to file <HDF5 file \"Patient_2_interictal_segment_0019_1.hkl\" (mode r+)>"
       ]
      },
      {
       "output_type": "stream",
       "stream": "stdout",
       "text": [
        "\n",
        "dumping <type 'numpy.ndarray'> to file <HDF5 file \"Patient_2_interictal_segment_0020_2.hkl\" (mode r+)>"
       ]
      },
      {
       "output_type": "stream",
       "stream": "stdout",
       "text": [
        "\n",
        "dumping <type 'numpy.ndarray'> to file <HDF5 file \"Patient_2_interictal_segment_0021_3.hkl\" (mode r+)>"
       ]
      },
      {
       "output_type": "stream",
       "stream": "stdout",
       "text": [
        "\n",
        "dumping <type 'numpy.ndarray'> to file <HDF5 file \"Patient_2_interictal_segment_0022_4.hkl\" (mode r+)>"
       ]
      },
      {
       "output_type": "stream",
       "stream": "stdout",
       "text": [
        "\n",
        "dumping <type 'numpy.ndarray'> to file <HDF5 file \"Patient_2_interictal_segment_0023_5.hkl\" (mode r+)>"
       ]
      },
      {
       "output_type": "stream",
       "stream": "stdout",
       "text": [
        "\n",
        "dumping <type 'numpy.ndarray'> to file <HDF5 file \"Patient_2_interictal_segment_0024_6.hkl\" (mode r+)>"
       ]
      },
      {
       "output_type": "stream",
       "stream": "stdout",
       "text": [
        "\n",
        "dumping <type 'numpy.ndarray'> to file <HDF5 file \"Patient_2_interictal_segment_0025_1.hkl\" (mode r+)>"
       ]
      },
      {
       "output_type": "stream",
       "stream": "stdout",
       "text": [
        "\n",
        "dumping <type 'numpy.ndarray'> to file <HDF5 file \"Patient_2_interictal_segment_0026_2.hkl\" (mode r+)>"
       ]
      },
      {
       "output_type": "stream",
       "stream": "stdout",
       "text": [
        "\n",
        "dumping <type 'numpy.ndarray'> to file <HDF5 file \"Patient_2_interictal_segment_0027_3.hkl\" (mode r+)>"
       ]
      },
      {
       "output_type": "stream",
       "stream": "stdout",
       "text": [
        "\n",
        "dumping <type 'numpy.ndarray'> to file <HDF5 file \"Patient_2_interictal_segment_0028_4.hkl\" (mode r+)>"
       ]
      },
      {
       "output_type": "stream",
       "stream": "stdout",
       "text": [
        "\n",
        "dumping <type 'numpy.ndarray'> to file <HDF5 file \"Patient_2_interictal_segment_0029_5.hkl\" (mode r+)>"
       ]
      },
      {
       "output_type": "stream",
       "stream": "stdout",
       "text": [
        "\n",
        "dumping <type 'numpy.ndarray'> to file <HDF5 file \"Patient_2_interictal_segment_0030_6.hkl\" (mode r+)>"
       ]
      },
      {
       "output_type": "stream",
       "stream": "stdout",
       "text": [
        "\n",
        "dumping <type 'numpy.ndarray'> to file <HDF5 file \"Patient_2_interictal_segment_0031_1.hkl\" (mode r+)>"
       ]
      },
      {
       "output_type": "stream",
       "stream": "stdout",
       "text": [
        "\n",
        "dumping <type 'numpy.ndarray'> to file <HDF5 file \"Patient_2_interictal_segment_0032_2.hkl\" (mode r+)>"
       ]
      },
      {
       "output_type": "stream",
       "stream": "stdout",
       "text": [
        "\n",
        "dumping <type 'numpy.ndarray'> to file <HDF5 file \"Patient_2_interictal_segment_0033_3.hkl\" (mode r+)>"
       ]
      },
      {
       "output_type": "stream",
       "stream": "stdout",
       "text": [
        "\n",
        "dumping <type 'numpy.ndarray'> to file <HDF5 file \"Patient_2_interictal_segment_0034_4.hkl\" (mode r+)>"
       ]
      },
      {
       "output_type": "stream",
       "stream": "stdout",
       "text": [
        "\n",
        "dumping <type 'numpy.ndarray'> to file <HDF5 file \"Patient_2_interictal_segment_0035_5.hkl\" (mode r+)>"
       ]
      },
      {
       "output_type": "stream",
       "stream": "stdout",
       "text": [
        "\n",
        "dumping <type 'numpy.ndarray'> to file <HDF5 file \"Patient_2_interictal_segment_0036_6.hkl\" (mode r+)>"
       ]
      },
      {
       "output_type": "stream",
       "stream": "stdout",
       "text": [
        "\n",
        "dumping <type 'numpy.ndarray'> to file <HDF5 file \"Patient_2_interictal_segment_0037_1.hkl\" (mode r+)>"
       ]
      },
      {
       "output_type": "stream",
       "stream": "stdout",
       "text": [
        "\n",
        "dumping <type 'numpy.ndarray'> to file <HDF5 file \"Patient_2_interictal_segment_0038_2.hkl\" (mode r+)>"
       ]
      },
      {
       "output_type": "stream",
       "stream": "stdout",
       "text": [
        "\n",
        "dumping <type 'numpy.ndarray'> to file <HDF5 file \"Patient_2_interictal_segment_0039_3.hkl\" (mode r+)>"
       ]
      },
      {
       "output_type": "stream",
       "stream": "stdout",
       "text": [
        "\n",
        "dumping <type 'numpy.ndarray'> to file <HDF5 file \"Patient_2_interictal_segment_0040_4.hkl\" (mode r+)>"
       ]
      },
      {
       "output_type": "stream",
       "stream": "stdout",
       "text": [
        "\n",
        "dumping <type 'numpy.ndarray'> to file <HDF5 file \"Patient_2_interictal_segment_0041_5.hkl\" (mode r+)>"
       ]
      },
      {
       "output_type": "stream",
       "stream": "stdout",
       "text": [
        "\n",
        "dumping <type 'numpy.ndarray'> to file <HDF5 file \"Patient_2_interictal_segment_0042_6.hkl\" (mode r+)>"
       ]
      },
      {
       "output_type": "stream",
       "stream": "stdout",
       "text": [
        "\n",
        "dumping <type 'numpy.ndarray'> to file <HDF5 file \"Patient_2_test_segment_0001_1.hkl\" (mode r+)>"
       ]
      },
      {
       "output_type": "stream",
       "stream": "stdout",
       "text": [
        "\n",
        "dumping <type 'numpy.ndarray'> to file <HDF5 file \"Patient_2_test_segment_0002_1.hkl\" (mode r+)>"
       ]
      },
      {
       "output_type": "stream",
       "stream": "stdout",
       "text": [
        "\n",
        "dumping <type 'numpy.ndarray'> to file <HDF5 file \"Patient_2_test_segment_0003_1.hkl\" (mode r+)>"
       ]
      },
      {
       "output_type": "stream",
       "stream": "stdout",
       "text": [
        "\n",
        "dumping <type 'numpy.ndarray'> to file <HDF5 file \"Patient_2_test_segment_0004_1.hkl\" (mode r+)>"
       ]
      },
      {
       "output_type": "stream",
       "stream": "stdout",
       "text": [
        "\n",
        "dumping <type 'numpy.ndarray'> to file <HDF5 file \"Patient_2_test_segment_0005_1.hkl\" (mode r+)>"
       ]
      },
      {
       "output_type": "stream",
       "stream": "stdout",
       "text": [
        "\n",
        "dumping <type 'numpy.ndarray'> to file <HDF5 file \"Patient_2_test_segment_0006_1.hkl\" (mode r+)>"
       ]
      },
      {
       "output_type": "stream",
       "stream": "stdout",
       "text": [
        "\n",
        "dumping <type 'numpy.ndarray'> to file <HDF5 file \"Patient_2_test_segment_0007_1.hkl\" (mode r+)>"
       ]
      },
      {
       "output_type": "stream",
       "stream": "stdout",
       "text": [
        "\n",
        "dumping <type 'numpy.ndarray'> to file <HDF5 file \"Patient_2_test_segment_0008_1.hkl\" (mode r+)>"
       ]
      },
      {
       "output_type": "stream",
       "stream": "stdout",
       "text": [
        "\n",
        "dumping <type 'numpy.ndarray'> to file <HDF5 file \"Patient_2_test_segment_0009_1.hkl\" (mode r+)>"
       ]
      },
      {
       "output_type": "stream",
       "stream": "stdout",
       "text": [
        "\n",
        "dumping <type 'numpy.ndarray'> to file <HDF5 file \"Patient_2_test_segment_0010_1.hkl\" (mode r+)>"
       ]
      },
      {
       "output_type": "stream",
       "stream": "stdout",
       "text": [
        "\n",
        "dumping <type 'numpy.ndarray'> to file <HDF5 file \"Patient_2_test_segment_0011_1.hkl\" (mode r+)>"
       ]
      },
      {
       "output_type": "stream",
       "stream": "stdout",
       "text": [
        "\n",
        "dumping <type 'numpy.ndarray'> to file <HDF5 file \"Patient_2_test_segment_0012_1.hkl\" (mode r+)>"
       ]
      },
      {
       "output_type": "stream",
       "stream": "stdout",
       "text": [
        "\n",
        "dumping <type 'numpy.ndarray'> to file <HDF5 file \"Patient_2_test_segment_0013_1.hkl\" (mode r+)>"
       ]
      },
      {
       "output_type": "stream",
       "stream": "stdout",
       "text": [
        "\n",
        "dumping <type 'numpy.ndarray'> to file <HDF5 file \"Patient_2_test_segment_0014_1.hkl\" (mode r+)>"
       ]
      },
      {
       "output_type": "stream",
       "stream": "stdout",
       "text": [
        "\n",
        "dumping <type 'numpy.ndarray'> to file <HDF5 file \"Patient_2_test_segment_0015_1.hkl\" (mode r+)>"
       ]
      },
      {
       "output_type": "stream",
       "stream": "stdout",
       "text": [
        "\n",
        "dumping <type 'numpy.ndarray'> to file <HDF5 file \"Patient_2_test_segment_0016_1.hkl\" (mode r+)>"
       ]
      },
      {
       "output_type": "stream",
       "stream": "stdout",
       "text": [
        "\n",
        "dumping <type 'numpy.ndarray'> to file <HDF5 file \"Patient_2_test_segment_0017_1.hkl\" (mode r+)>"
       ]
      },
      {
       "output_type": "stream",
       "stream": "stdout",
       "text": [
        "\n",
        "dumping <type 'numpy.ndarray'> to file <HDF5 file \"Patient_2_test_segment_0018_1.hkl\" (mode r+)>"
       ]
      },
      {
       "output_type": "stream",
       "stream": "stdout",
       "text": [
        "\n",
        "dumping <type 'numpy.ndarray'> to file <HDF5 file \"Patient_2_test_segment_0019_1.hkl\" (mode r+)>"
       ]
      },
      {
       "output_type": "stream",
       "stream": "stdout",
       "text": [
        "\n",
        "dumping <type 'numpy.ndarray'> to file <HDF5 file \"Patient_2_test_segment_0020_1.hkl\" (mode r+)>"
       ]
      },
      {
       "output_type": "stream",
       "stream": "stdout",
       "text": [
        "\n",
        "dumping <type 'numpy.ndarray'> to file <HDF5 file \"Patient_2_test_segment_0021_1.hkl\" (mode r+)>"
       ]
      },
      {
       "output_type": "stream",
       "stream": "stdout",
       "text": [
        "\n",
        "dumping <type 'numpy.ndarray'> to file <HDF5 file \"Patient_2_test_segment_0022_1.hkl\" (mode r+)>"
       ]
      },
      {
       "output_type": "stream",
       "stream": "stdout",
       "text": [
        "\n",
        "dumping <type 'numpy.ndarray'> to file <HDF5 file \"Patient_2_test_segment_0023_1.hkl\" (mode r+)>"
       ]
      },
      {
       "output_type": "stream",
       "stream": "stdout",
       "text": [
        "\n",
        "dumping <type 'numpy.ndarray'> to file <HDF5 file \"Patient_2_test_segment_0024_1.hkl\" (mode r+)>"
       ]
      },
      {
       "output_type": "stream",
       "stream": "stdout",
       "text": [
        "\n",
        "dumping <type 'numpy.ndarray'> to file <HDF5 file \"Patient_2_test_segment_0025_1.hkl\" (mode r+)>"
       ]
      },
      {
       "output_type": "stream",
       "stream": "stdout",
       "text": [
        "\n",
        "dumping <type 'numpy.ndarray'> to file <HDF5 file \"Patient_2_test_segment_0026_1.hkl\" (mode r+)>"
       ]
      },
      {
       "output_type": "stream",
       "stream": "stdout",
       "text": [
        "\n",
        "dumping <type 'numpy.ndarray'> to file <HDF5 file \"Patient_2_test_segment_0027_1.hkl\" (mode r+)>"
       ]
      },
      {
       "output_type": "stream",
       "stream": "stdout",
       "text": [
        "\n",
        "dumping <type 'numpy.ndarray'> to file <HDF5 file \"Patient_2_test_segment_0028_1.hkl\" (mode r+)>"
       ]
      },
      {
       "output_type": "stream",
       "stream": "stdout",
       "text": [
        "\n",
        "dumping <type 'numpy.ndarray'> to file <HDF5 file \"Patient_2_test_segment_0029_1.hkl\" (mode r+)>"
       ]
      },
      {
       "output_type": "stream",
       "stream": "stdout",
       "text": [
        "\n",
        "dumping <type 'numpy.ndarray'> to file <HDF5 file \"Patient_2_test_segment_0030_1.hkl\" (mode r+)>"
       ]
      },
      {
       "output_type": "stream",
       "stream": "stdout",
       "text": [
        "\n",
        "dumping <type 'numpy.ndarray'> to file <HDF5 file \"Patient_2_test_segment_0031_1.hkl\" (mode r+)>"
       ]
      },
      {
       "output_type": "stream",
       "stream": "stdout",
       "text": [
        "\n",
        "dumping <type 'numpy.ndarray'> to file <HDF5 file \"Patient_2_test_segment_0032_1.hkl\" (mode r+)>"
       ]
      },
      {
       "output_type": "stream",
       "stream": "stdout",
       "text": [
        "\n",
        "dumping <type 'numpy.ndarray'> to file <HDF5 file \"Patient_2_test_segment_0033_1.hkl\" (mode r+)>"
       ]
      },
      {
       "output_type": "stream",
       "stream": "stdout",
       "text": [
        "\n",
        "dumping <type 'numpy.ndarray'> to file <HDF5 file \"Patient_2_test_segment_0034_1.hkl\" (mode r+)>"
       ]
      },
      {
       "output_type": "stream",
       "stream": "stdout",
       "text": [
        "\n",
        "dumping <type 'numpy.ndarray'> to file <HDF5 file \"Patient_2_test_segment_0035_1.hkl\" (mode r+)>"
       ]
      },
      {
       "output_type": "stream",
       "stream": "stdout",
       "text": [
        "\n",
        "dumping <type 'numpy.ndarray'> to file <HDF5 file \"Patient_2_test_segment_0036_1.hkl\" (mode r+)>"
       ]
      },
      {
       "output_type": "stream",
       "stream": "stdout",
       "text": [
        "\n",
        "dumping <type 'numpy.ndarray'> to file <HDF5 file \"Patient_2_test_segment_0037_1.hkl\" (mode r+)>"
       ]
      },
      {
       "output_type": "stream",
       "stream": "stdout",
       "text": [
        "\n",
        "dumping <type 'numpy.ndarray'> to file <HDF5 file \"Patient_2_test_segment_0038_1.hkl\" (mode r+)>"
       ]
      },
      {
       "output_type": "stream",
       "stream": "stdout",
       "text": [
        "\n",
        "dumping <type 'numpy.ndarray'> to file <HDF5 file \"Patient_2_test_segment_0039_1.hkl\" (mode r+)>"
       ]
      },
      {
       "output_type": "stream",
       "stream": "stdout",
       "text": [
        "\n",
        "dumping <type 'numpy.ndarray'> to file <HDF5 file \"Patient_2_test_segment_0040_1.hkl\" (mode r+)>"
       ]
      },
      {
       "output_type": "stream",
       "stream": "stdout",
       "text": [
        "\n",
        "dumping <type 'numpy.ndarray'> to file <HDF5 file \"Patient_2_test_segment_0041_1.hkl\" (mode r+)>"
       ]
      },
      {
       "output_type": "stream",
       "stream": "stdout",
       "text": [
        "\n",
        "dumping <type 'numpy.ndarray'> to file <HDF5 file \"Patient_2_test_segment_0042_1.hkl\" (mode r+)>"
       ]
      },
      {
       "output_type": "stream",
       "stream": "stdout",
       "text": [
        "\n",
        "dumping <type 'numpy.ndarray'> to file <HDF5 file \"Patient_2_test_segment_0043_1.hkl\" (mode r+)>"
       ]
      },
      {
       "output_type": "stream",
       "stream": "stdout",
       "text": [
        "\n",
        "dumping <type 'numpy.ndarray'> to file <HDF5 file \"Patient_2_test_segment_0044_1.hkl\" (mode r+)>"
       ]
      },
      {
       "output_type": "stream",
       "stream": "stdout",
       "text": [
        "\n",
        "dumping <type 'numpy.ndarray'> to file <HDF5 file \"Patient_2_test_segment_0045_1.hkl\" (mode r+)>"
       ]
      },
      {
       "output_type": "stream",
       "stream": "stdout",
       "text": [
        "\n",
        "dumping <type 'numpy.ndarray'> to file <HDF5 file \"Patient_2_test_segment_0046_1.hkl\" (mode r+)>"
       ]
      },
      {
       "output_type": "stream",
       "stream": "stdout",
       "text": [
        "\n",
        "dumping <type 'numpy.ndarray'> to file <HDF5 file \"Patient_2_test_segment_0047_1.hkl\" (mode r+)>"
       ]
      },
      {
       "output_type": "stream",
       "stream": "stdout",
       "text": [
        "\n",
        "dumping <type 'numpy.ndarray'> to file <HDF5 file \"Patient_2_test_segment_0048_1.hkl\" (mode r+)>"
       ]
      },
      {
       "output_type": "stream",
       "stream": "stdout",
       "text": [
        "\n",
        "dumping <type 'numpy.ndarray'> to file <HDF5 file \"Patient_2_test_segment_0049_1.hkl\" (mode r+)>"
       ]
      },
      {
       "output_type": "stream",
       "stream": "stdout",
       "text": [
        "\n",
        "dumping <type 'numpy.ndarray'> to file <HDF5 file \"Patient_2_test_segment_0050_1.hkl\" (mode r+)>"
       ]
      },
      {
       "output_type": "stream",
       "stream": "stdout",
       "text": [
        "\n",
        "dumping <type 'numpy.ndarray'> to file <HDF5 file \"Patient_2_test_segment_0051_1.hkl\" (mode r+)>"
       ]
      },
      {
       "output_type": "stream",
       "stream": "stdout",
       "text": [
        "\n",
        "dumping <type 'numpy.ndarray'> to file <HDF5 file \"Patient_2_test_segment_0052_1.hkl\" (mode r+)>"
       ]
      },
      {
       "output_type": "stream",
       "stream": "stdout",
       "text": [
        "\n",
        "dumping <type 'numpy.ndarray'> to file <HDF5 file \"Patient_2_test_segment_0053_1.hkl\" (mode r+)>"
       ]
      },
      {
       "output_type": "stream",
       "stream": "stdout",
       "text": [
        "\n",
        "dumping <type 'numpy.ndarray'> to file <HDF5 file \"Patient_2_test_segment_0054_1.hkl\" (mode r+)>"
       ]
      },
      {
       "output_type": "stream",
       "stream": "stdout",
       "text": [
        "\n",
        "dumping <type 'numpy.ndarray'> to file <HDF5 file \"Patient_2_test_segment_0055_1.hkl\" (mode r+)>"
       ]
      },
      {
       "output_type": "stream",
       "stream": "stdout",
       "text": [
        "\n",
        "dumping <type 'numpy.ndarray'> to file <HDF5 file \"Patient_2_test_segment_0056_1.hkl\" (mode r+)>"
       ]
      },
      {
       "output_type": "stream",
       "stream": "stdout",
       "text": [
        "\n",
        "dumping <type 'numpy.ndarray'> to file <HDF5 file \"Patient_2_test_segment_0057_1.hkl\" (mode r+)>"
       ]
      },
      {
       "output_type": "stream",
       "stream": "stdout",
       "text": [
        "\n",
        "dumping <type 'numpy.ndarray'> to file <HDF5 file \"Patient_2_test_segment_0058_1.hkl\" (mode r+)>"
       ]
      },
      {
       "output_type": "stream",
       "stream": "stdout",
       "text": [
        "\n",
        "dumping <type 'numpy.ndarray'> to file <HDF5 file \"Patient_2_test_segment_0059_1.hkl\" (mode r+)>"
       ]
      },
      {
       "output_type": "stream",
       "stream": "stdout",
       "text": [
        "\n",
        "dumping <type 'numpy.ndarray'> to file <HDF5 file \"Patient_2_test_segment_0060_1.hkl\" (mode r+)>"
       ]
      },
      {
       "output_type": "stream",
       "stream": "stdout",
       "text": [
        "\n",
        "dumping <type 'numpy.ndarray'> to file <HDF5 file \"Patient_2_test_segment_0061_1.hkl\" (mode r+)>"
       ]
      },
      {
       "output_type": "stream",
       "stream": "stdout",
       "text": [
        "\n",
        "dumping <type 'numpy.ndarray'> to file <HDF5 file \"Patient_2_test_segment_0062_1.hkl\" (mode r+)>"
       ]
      },
      {
       "output_type": "stream",
       "stream": "stdout",
       "text": [
        "\n",
        "dumping <type 'numpy.ndarray'> to file <HDF5 file \"Patient_2_test_segment_0063_1.hkl\" (mode r+)>"
       ]
      },
      {
       "output_type": "stream",
       "stream": "stdout",
       "text": [
        "\n",
        "dumping <type 'numpy.ndarray'> to file <HDF5 file \"Patient_2_test_segment_0064_1.hkl\" (mode r+)>"
       ]
      },
      {
       "output_type": "stream",
       "stream": "stdout",
       "text": [
        "\n",
        "dumping <type 'numpy.ndarray'> to file <HDF5 file \"Patient_2_test_segment_0065_1.hkl\" (mode r+)>"
       ]
      },
      {
       "output_type": "stream",
       "stream": "stdout",
       "text": [
        "\n",
        "dumping <type 'numpy.ndarray'> to file <HDF5 file \"Patient_2_test_segment_0066_1.hkl\" (mode r+)>"
       ]
      },
      {
       "output_type": "stream",
       "stream": "stdout",
       "text": [
        "\n",
        "dumping <type 'numpy.ndarray'> to file <HDF5 file \"Patient_2_test_segment_0067_1.hkl\" (mode r+)>"
       ]
      },
      {
       "output_type": "stream",
       "stream": "stdout",
       "text": [
        "\n",
        "dumping <type 'numpy.ndarray'> to file <HDF5 file \"Patient_2_test_segment_0068_1.hkl\" (mode r+)>"
       ]
      },
      {
       "output_type": "stream",
       "stream": "stdout",
       "text": [
        "\n",
        "dumping <type 'numpy.ndarray'> to file <HDF5 file \"Patient_2_test_segment_0069_1.hkl\" (mode r+)>"
       ]
      },
      {
       "output_type": "stream",
       "stream": "stdout",
       "text": [
        "\n",
        "dumping <type 'numpy.ndarray'> to file <HDF5 file \"Patient_2_test_segment_0070_1.hkl\" (mode r+)>"
       ]
      },
      {
       "output_type": "stream",
       "stream": "stdout",
       "text": [
        "\n",
        "dumping <type 'numpy.ndarray'> to file <HDF5 file \"Patient_2_test_segment_0071_1.hkl\" (mode r+)>"
       ]
      },
      {
       "output_type": "stream",
       "stream": "stdout",
       "text": [
        "\n",
        "dumping <type 'numpy.ndarray'> to file <HDF5 file \"Patient_2_test_segment_0072_1.hkl\" (mode r+)>"
       ]
      },
      {
       "output_type": "stream",
       "stream": "stdout",
       "text": [
        "\n",
        "dumping <type 'numpy.ndarray'> to file <HDF5 file \"Patient_2_test_segment_0073_1.hkl\" (mode r+)>"
       ]
      },
      {
       "output_type": "stream",
       "stream": "stdout",
       "text": [
        "\n",
        "dumping <type 'numpy.ndarray'> to file <HDF5 file \"Patient_2_test_segment_0074_1.hkl\" (mode r+)>"
       ]
      },
      {
       "output_type": "stream",
       "stream": "stdout",
       "text": [
        "\n",
        "dumping <type 'numpy.ndarray'> to file <HDF5 file \"Patient_2_test_segment_0075_1.hkl\" (mode r+)>"
       ]
      },
      {
       "output_type": "stream",
       "stream": "stdout",
       "text": [
        "\n",
        "dumping <type 'numpy.ndarray'> to file <HDF5 file \"Patient_2_test_segment_0076_1.hkl\" (mode r+)>"
       ]
      },
      {
       "output_type": "stream",
       "stream": "stdout",
       "text": [
        "\n",
        "dumping <type 'numpy.ndarray'> to file <HDF5 file \"Patient_2_test_segment_0077_1.hkl\" (mode r+)>"
       ]
      },
      {
       "output_type": "stream",
       "stream": "stdout",
       "text": [
        "\n",
        "dumping <type 'numpy.ndarray'> to file <HDF5 file \"Patient_2_test_segment_0078_1.hkl\" (mode r+)>"
       ]
      },
      {
       "output_type": "stream",
       "stream": "stdout",
       "text": [
        "\n",
        "dumping <type 'numpy.ndarray'> to file <HDF5 file \"Patient_2_test_segment_0079_1.hkl\" (mode r+)>"
       ]
      },
      {
       "output_type": "stream",
       "stream": "stdout",
       "text": [
        "\n",
        "dumping <type 'numpy.ndarray'> to file <HDF5 file \"Patient_2_test_segment_0080_1.hkl\" (mode r+)>"
       ]
      },
      {
       "output_type": "stream",
       "stream": "stdout",
       "text": [
        "\n",
        "dumping <type 'numpy.ndarray'> to file <HDF5 file \"Patient_2_test_segment_0081_1.hkl\" (mode r+)>"
       ]
      },
      {
       "output_type": "stream",
       "stream": "stdout",
       "text": [
        "\n",
        "dumping <type 'numpy.ndarray'> to file <HDF5 file \"Patient_2_test_segment_0082_1.hkl\" (mode r+)>"
       ]
      },
      {
       "output_type": "stream",
       "stream": "stdout",
       "text": [
        "\n",
        "dumping <type 'numpy.ndarray'> to file <HDF5 file \"Patient_2_test_segment_0083_1.hkl\" (mode r+)>"
       ]
      },
      {
       "output_type": "stream",
       "stream": "stdout",
       "text": [
        "\n",
        "dumping <type 'numpy.ndarray'> to file <HDF5 file \"Patient_2_test_segment_0084_1.hkl\" (mode r+)>"
       ]
      },
      {
       "output_type": "stream",
       "stream": "stdout",
       "text": [
        "\n",
        "dumping <type 'numpy.ndarray'> to file <HDF5 file \"Patient_2_test_segment_0085_1.hkl\" (mode r+)>"
       ]
      },
      {
       "output_type": "stream",
       "stream": "stdout",
       "text": [
        "\n",
        "dumping <type 'numpy.ndarray'> to file <HDF5 file \"Patient_2_test_segment_0086_1.hkl\" (mode r+)>"
       ]
      },
      {
       "output_type": "stream",
       "stream": "stdout",
       "text": [
        "\n",
        "dumping <type 'numpy.ndarray'> to file <HDF5 file \"Patient_2_test_segment_0087_1.hkl\" (mode r+)>"
       ]
      },
      {
       "output_type": "stream",
       "stream": "stdout",
       "text": [
        "\n",
        "dumping <type 'numpy.ndarray'> to file <HDF5 file \"Patient_2_test_segment_0088_1.hkl\" (mode r+)>"
       ]
      },
      {
       "output_type": "stream",
       "stream": "stdout",
       "text": [
        "\n",
        "dumping <type 'numpy.ndarray'> to file <HDF5 file \"Patient_2_test_segment_0089_1.hkl\" (mode r+)>"
       ]
      },
      {
       "output_type": "stream",
       "stream": "stdout",
       "text": [
        "\n",
        "dumping <type 'numpy.ndarray'> to file <HDF5 file \"Patient_2_test_segment_0090_1.hkl\" (mode r+)>"
       ]
      },
      {
       "output_type": "stream",
       "stream": "stdout",
       "text": [
        "\n",
        "dumping <type 'numpy.ndarray'> to file <HDF5 file \"Patient_2_test_segment_0091_1.hkl\" (mode r+)>"
       ]
      },
      {
       "output_type": "stream",
       "stream": "stdout",
       "text": [
        "\n",
        "dumping <type 'numpy.ndarray'> to file <HDF5 file \"Patient_2_test_segment_0092_1.hkl\" (mode r+)>"
       ]
      },
      {
       "output_type": "stream",
       "stream": "stdout",
       "text": [
        "\n",
        "dumping <type 'numpy.ndarray'> to file <HDF5 file \"Patient_2_test_segment_0093_1.hkl\" (mode r+)>"
       ]
      },
      {
       "output_type": "stream",
       "stream": "stdout",
       "text": [
        "\n",
        "dumping <type 'numpy.ndarray'> to file <HDF5 file \"Patient_2_test_segment_0094_1.hkl\" (mode r+)>"
       ]
      },
      {
       "output_type": "stream",
       "stream": "stdout",
       "text": [
        "\n",
        "dumping <type 'numpy.ndarray'> to file <HDF5 file \"Patient_2_test_segment_0095_1.hkl\" (mode r+)>"
       ]
      },
      {
       "output_type": "stream",
       "stream": "stdout",
       "text": [
        "\n",
        "dumping <type 'numpy.ndarray'> to file <HDF5 file \"Patient_2_test_segment_0096_1.hkl\" (mode r+)>"
       ]
      },
      {
       "output_type": "stream",
       "stream": "stdout",
       "text": [
        "\n",
        "dumping <type 'numpy.ndarray'> to file <HDF5 file \"Patient_2_test_segment_0097_1.hkl\" (mode r+)>"
       ]
      },
      {
       "output_type": "stream",
       "stream": "stdout",
       "text": [
        "\n",
        "dumping <type 'numpy.ndarray'> to file <HDF5 file \"Patient_2_test_segment_0098_1.hkl\" (mode r+)>"
       ]
      },
      {
       "output_type": "stream",
       "stream": "stdout",
       "text": [
        "\n",
        "dumping <type 'numpy.ndarray'> to file <HDF5 file \"Patient_2_test_segment_0099_1.hkl\" (mode r+)>"
       ]
      },
      {
       "output_type": "stream",
       "stream": "stdout",
       "text": [
        "\n",
        "dumping <type 'numpy.ndarray'> to file <HDF5 file \"Patient_2_test_segment_0100_1.hkl\" (mode r+)>"
       ]
      },
      {
       "output_type": "stream",
       "stream": "stdout",
       "text": [
        "\n",
        "dumping <type 'numpy.ndarray'> to file <HDF5 file \"Patient_2_test_segment_0101_1.hkl\" (mode r+)>"
       ]
      },
      {
       "output_type": "stream",
       "stream": "stdout",
       "text": [
        "\n",
        "dumping <type 'numpy.ndarray'> to file <HDF5 file \"Patient_2_test_segment_0102_1.hkl\" (mode r+)>"
       ]
      },
      {
       "output_type": "stream",
       "stream": "stdout",
       "text": [
        "\n",
        "dumping <type 'numpy.ndarray'> to file <HDF5 file \"Patient_2_test_segment_0103_1.hkl\" (mode r+)>"
       ]
      },
      {
       "output_type": "stream",
       "stream": "stdout",
       "text": [
        "\n",
        "dumping <type 'numpy.ndarray'> to file <HDF5 file \"Patient_2_test_segment_0104_1.hkl\" (mode r+)>"
       ]
      },
      {
       "output_type": "stream",
       "stream": "stdout",
       "text": [
        "\n",
        "dumping <type 'numpy.ndarray'> to file <HDF5 file \"Patient_2_test_segment_0105_1.hkl\" (mode r+)>"
       ]
      },
      {
       "output_type": "stream",
       "stream": "stdout",
       "text": [
        "\n",
        "dumping <type 'numpy.ndarray'> to file <HDF5 file \"Patient_2_test_segment_0106_1.hkl\" (mode r+)>"
       ]
      },
      {
       "output_type": "stream",
       "stream": "stdout",
       "text": [
        "\n",
        "dumping <type 'numpy.ndarray'> to file <HDF5 file \"Patient_2_test_segment_0107_1.hkl\" (mode r+)>"
       ]
      },
      {
       "output_type": "stream",
       "stream": "stdout",
       "text": [
        "\n",
        "dumping <type 'numpy.ndarray'> to file <HDF5 file \"Patient_2_test_segment_0108_1.hkl\" (mode r+)>"
       ]
      },
      {
       "output_type": "stream",
       "stream": "stdout",
       "text": [
        "\n",
        "dumping <type 'numpy.ndarray'> to file <HDF5 file \"Patient_2_test_segment_0109_1.hkl\" (mode r+)>"
       ]
      },
      {
       "output_type": "stream",
       "stream": "stdout",
       "text": [
        "\n",
        "dumping <type 'numpy.ndarray'> to file <HDF5 file \"Patient_2_test_segment_0110_1.hkl\" (mode r+)>"
       ]
      },
      {
       "output_type": "stream",
       "stream": "stdout",
       "text": [
        "\n",
        "dumping <type 'numpy.ndarray'> to file <HDF5 file \"Patient_2_test_segment_0111_1.hkl\" (mode r+)>"
       ]
      },
      {
       "output_type": "stream",
       "stream": "stdout",
       "text": [
        "\n",
        "dumping <type 'numpy.ndarray'> to file <HDF5 file \"Patient_2_test_segment_0112_1.hkl\" (mode r+)>"
       ]
      },
      {
       "output_type": "stream",
       "stream": "stdout",
       "text": [
        "\n",
        "dumping <type 'numpy.ndarray'> to file <HDF5 file \"Patient_2_test_segment_0113_1.hkl\" (mode r+)>"
       ]
      },
      {
       "output_type": "stream",
       "stream": "stdout",
       "text": [
        "\n",
        "dumping <type 'numpy.ndarray'> to file <HDF5 file \"Patient_2_test_segment_0114_1.hkl\" (mode r+)>"
       ]
      },
      {
       "output_type": "stream",
       "stream": "stdout",
       "text": [
        "\n",
        "dumping <type 'numpy.ndarray'> to file <HDF5 file \"Patient_2_test_segment_0115_1.hkl\" (mode r+)>"
       ]
      },
      {
       "output_type": "stream",
       "stream": "stdout",
       "text": [
        "\n",
        "dumping <type 'numpy.ndarray'> to file <HDF5 file \"Patient_2_test_segment_0116_1.hkl\" (mode r+)>"
       ]
      },
      {
       "output_type": "stream",
       "stream": "stdout",
       "text": [
        "\n",
        "dumping <type 'numpy.ndarray'> to file <HDF5 file \"Patient_2_test_segment_0117_1.hkl\" (mode r+)>"
       ]
      },
      {
       "output_type": "stream",
       "stream": "stdout",
       "text": [
        "\n",
        "dumping <type 'numpy.ndarray'> to file <HDF5 file \"Patient_2_test_segment_0118_1.hkl\" (mode r+)>"
       ]
      },
      {
       "output_type": "stream",
       "stream": "stdout",
       "text": [
        "\n",
        "dumping <type 'numpy.ndarray'> to file <HDF5 file \"Patient_2_test_segment_0119_1.hkl\" (mode r+)>"
       ]
      },
      {
       "output_type": "stream",
       "stream": "stdout",
       "text": [
        "\n",
        "dumping <type 'numpy.ndarray'> to file <HDF5 file \"Patient_2_test_segment_0120_1.hkl\" (mode r+)>"
       ]
      },
      {
       "output_type": "stream",
       "stream": "stdout",
       "text": [
        "\n",
        "dumping <type 'numpy.ndarray'> to file <HDF5 file \"Patient_2_test_segment_0121_1.hkl\" (mode r+)>"
       ]
      },
      {
       "output_type": "stream",
       "stream": "stdout",
       "text": [
        "\n",
        "dumping <type 'numpy.ndarray'> to file <HDF5 file \"Patient_2_test_segment_0122_1.hkl\" (mode r+)>"
       ]
      },
      {
       "output_type": "stream",
       "stream": "stdout",
       "text": [
        "\n",
        "dumping <type 'numpy.ndarray'> to file <HDF5 file \"Patient_2_test_segment_0123_1.hkl\" (mode r+)>"
       ]
      },
      {
       "output_type": "stream",
       "stream": "stdout",
       "text": [
        "\n",
        "dumping <type 'numpy.ndarray'> to file <HDF5 file \"Patient_2_test_segment_0124_1.hkl\" (mode r+)>"
       ]
      },
      {
       "output_type": "stream",
       "stream": "stdout",
       "text": [
        "\n",
        "dumping <type 'numpy.ndarray'> to file <HDF5 file \"Patient_2_test_segment_0125_1.hkl\" (mode r+)>"
       ]
      },
      {
       "output_type": "stream",
       "stream": "stdout",
       "text": [
        "\n",
        "dumping <type 'numpy.ndarray'> to file <HDF5 file \"Patient_2_test_segment_0126_1.hkl\" (mode r+)>"
       ]
      },
      {
       "output_type": "stream",
       "stream": "stdout",
       "text": [
        "\n",
        "dumping <type 'numpy.ndarray'> to file <HDF5 file \"Patient_2_test_segment_0127_1.hkl\" (mode r+)>"
       ]
      },
      {
       "output_type": "stream",
       "stream": "stdout",
       "text": [
        "\n",
        "dumping <type 'numpy.ndarray'> to file <HDF5 file \"Patient_2_test_segment_0128_1.hkl\" (mode r+)>"
       ]
      },
      {
       "output_type": "stream",
       "stream": "stdout",
       "text": [
        "\n",
        "dumping <type 'numpy.ndarray'> to file <HDF5 file \"Patient_2_test_segment_0129_1.hkl\" (mode r+)>"
       ]
      },
      {
       "output_type": "stream",
       "stream": "stdout",
       "text": [
        "\n",
        "dumping <type 'numpy.ndarray'> to file <HDF5 file \"Patient_2_test_segment_0130_1.hkl\" (mode r+)>"
       ]
      },
      {
       "output_type": "stream",
       "stream": "stdout",
       "text": [
        "\n",
        "dumping <type 'numpy.ndarray'> to file <HDF5 file \"Patient_2_test_segment_0131_1.hkl\" (mode r+)>"
       ]
      },
      {
       "output_type": "stream",
       "stream": "stdout",
       "text": [
        "\n",
        "dumping <type 'numpy.ndarray'> to file <HDF5 file \"Patient_2_test_segment_0132_1.hkl\" (mode r+)>"
       ]
      },
      {
       "output_type": "stream",
       "stream": "stdout",
       "text": [
        "\n",
        "dumping <type 'numpy.ndarray'> to file <HDF5 file \"Patient_2_test_segment_0133_1.hkl\" (mode r+)>"
       ]
      },
      {
       "output_type": "stream",
       "stream": "stdout",
       "text": [
        "\n",
        "dumping <type 'numpy.ndarray'> to file <HDF5 file \"Patient_2_test_segment_0134_1.hkl\" (mode r+)>"
       ]
      },
      {
       "output_type": "stream",
       "stream": "stdout",
       "text": [
        "\n",
        "dumping <type 'numpy.ndarray'> to file <HDF5 file \"Patient_2_test_segment_0135_1.hkl\" (mode r+)>"
       ]
      },
      {
       "output_type": "stream",
       "stream": "stdout",
       "text": [
        "\n",
        "dumping <type 'numpy.ndarray'> to file <HDF5 file \"Patient_2_test_segment_0136_1.hkl\" (mode r+)>"
       ]
      },
      {
       "output_type": "stream",
       "stream": "stdout",
       "text": [
        "\n",
        "dumping <type 'numpy.ndarray'> to file <HDF5 file \"Patient_2_test_segment_0137_1.hkl\" (mode r+)>"
       ]
      },
      {
       "output_type": "stream",
       "stream": "stdout",
       "text": [
        "\n",
        "dumping <type 'numpy.ndarray'> to file <HDF5 file \"Patient_2_test_segment_0138_1.hkl\" (mode r+)>"
       ]
      },
      {
       "output_type": "stream",
       "stream": "stdout",
       "text": [
        "\n",
        "dumping <type 'numpy.ndarray'> to file <HDF5 file \"Patient_2_test_segment_0139_1.hkl\" (mode r+)>"
       ]
      },
      {
       "output_type": "stream",
       "stream": "stdout",
       "text": [
        "\n",
        "dumping <type 'numpy.ndarray'> to file <HDF5 file \"Patient_2_test_segment_0140_1.hkl\" (mode r+)>"
       ]
      },
      {
       "output_type": "stream",
       "stream": "stdout",
       "text": [
        "\n",
        "dumping <type 'numpy.ndarray'> to file <HDF5 file \"Patient_2_test_segment_0141_1.hkl\" (mode r+)>"
       ]
      },
      {
       "output_type": "stream",
       "stream": "stdout",
       "text": [
        "\n",
        "dumping <type 'numpy.ndarray'> to file <HDF5 file \"Patient_2_test_segment_0142_1.hkl\" (mode r+)>"
       ]
      },
      {
       "output_type": "stream",
       "stream": "stdout",
       "text": [
        "\n",
        "dumping <type 'numpy.ndarray'> to file <HDF5 file \"Patient_2_test_segment_0143_1.hkl\" (mode r+)>"
       ]
      },
      {
       "output_type": "stream",
       "stream": "stdout",
       "text": [
        "\n",
        "dumping <type 'numpy.ndarray'> to file <HDF5 file \"Patient_2_test_segment_0144_1.hkl\" (mode r+)>"
       ]
      },
      {
       "output_type": "stream",
       "stream": "stdout",
       "text": [
        "\n",
        "dumping <type 'numpy.ndarray'> to file <HDF5 file \"Patient_2_test_segment_0145_1.hkl\" (mode r+)>"
       ]
      },
      {
       "output_type": "stream",
       "stream": "stdout",
       "text": [
        "\n",
        "dumping <type 'numpy.ndarray'> to file <HDF5 file \"Patient_2_test_segment_0146_1.hkl\" (mode r+)>"
       ]
      },
      {
       "output_type": "stream",
       "stream": "stdout",
       "text": [
        "\n",
        "dumping <type 'numpy.ndarray'> to file <HDF5 file \"Patient_2_test_segment_0147_1.hkl\" (mode r+)>"
       ]
      },
      {
       "output_type": "stream",
       "stream": "stdout",
       "text": [
        "\n",
        "dumping <type 'numpy.ndarray'> to file <HDF5 file \"Patient_2_test_segment_0148_1.hkl\" (mode r+)>"
       ]
      },
      {
       "output_type": "stream",
       "stream": "stdout",
       "text": [
        "\n",
        "dumping <type 'numpy.ndarray'> to file <HDF5 file \"Patient_2_test_segment_0149_1.hkl\" (mode r+)>"
       ]
      },
      {
       "output_type": "stream",
       "stream": "stdout",
       "text": [
        "\n",
        "dumping <type 'numpy.ndarray'> to file <HDF5 file \"Patient_2_test_segment_0150_1.hkl\" (mode r+)>"
       ]
      },
      {
       "output_type": "stream",
       "stream": "stdout",
       "text": [
        "\n"
       ]
      }
     ],
     "prompt_number": 6
    },
    {
     "cell_type": "code",
     "collapsed": false,
     "input": [],
     "language": "python",
     "metadata": {},
     "outputs": []
    }
   ],
   "metadata": {}
  }
 ]
}