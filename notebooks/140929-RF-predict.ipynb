{
 "metadata": {
  "name": "",
  "signature": "sha256:d2f2c6b6a5a4c20bd7a15005da0f9eec6d0a7a8d8cf6a330f94f83df08f61476"
 },
 "nbformat": 3,
 "nbformat_minor": 0,
 "worksheets": [
  {
   "cells": [
    {
     "cell_type": "code",
     "collapsed": false,
     "input": [
      "%matplotlib inline\n",
      "from matplotlib import pylab as pl\n",
      "import cPickle as pickle\n",
      "import pandas as pd\n",
      "import numpy as np\n",
      "import os\n",
      "import random"
     ],
     "language": "python",
     "metadata": {},
     "outputs": [],
     "prompt_number": 1
    },
    {
     "cell_type": "code",
     "collapsed": false,
     "input": [
      "import sys\n",
      "sys.path.append('..')"
     ],
     "language": "python",
     "metadata": {},
     "outputs": [],
     "prompt_number": 2
    },
    {
     "cell_type": "heading",
     "level": 1,
     "metadata": {},
     "source": [
      "Read precomputed features"
     ]
    },
    {
     "cell_type": "markdown",
     "metadata": {},
     "source": [
      "uncommoent the relevant pipeline in `../seizure_detection.py` and run\n",
      "```bash\n",
      "cd ..\n",
      "./doall data\n",
      "```\n",
      "or\n",
      "```bash\n",
      "./doall td\n",
      "./doall tt\n",
      "```"
     ]
    },
    {
     "cell_type": "code",
     "collapsed": false,
     "input": [
      "FEATURES = 'gen-8_medianwindow2-bands2-usf-w60-b0.2-b4-b8-b12-b30-b70-b130-0.1-0.5-0.9'"
     ],
     "language": "python",
     "metadata": {},
     "outputs": [],
     "prompt_number": 3
    },
    {
     "cell_type": "code",
     "collapsed": false,
     "input": [
      "NUNITS = 1"
     ],
     "language": "python",
     "metadata": {},
     "outputs": [],
     "prompt_number": 4
    },
    {
     "cell_type": "code",
     "collapsed": false,
     "input": [
      "from common.data import CachedDataLoader\n",
      "cached_data_loader = CachedDataLoader('../data-cache')"
     ],
     "language": "python",
     "metadata": {},
     "outputs": [],
     "prompt_number": 5
    },
    {
     "cell_type": "code",
     "collapsed": false,
     "input": [
      "def read_data(target, data_type):\n",
      "    fname = 'data_%s_%s_%s'%(data_type,target,FEATURES)\n",
      "    print fname\n",
      "    return cached_data_loader.load(fname,None)"
     ],
     "language": "python",
     "metadata": {},
     "outputs": [],
     "prompt_number": 6
    },
    {
     "cell_type": "heading",
     "level": 1,
     "metadata": {},
     "source": [
      "Predict"
     ]
    },
    {
     "cell_type": "code",
     "collapsed": false,
     "input": [
      "from sklearn.ensemble import RandomForestClassifier\n",
      "from sklearn.cross_validation import StratifiedKFold\n",
      "from sklearn.metrics import roc_auc_score\n",
      "from sklearn.linear_model import LogisticRegression as LR\n",
      "\n",
      "clf = RandomForestClassifier(n_estimators=3000, min_samples_split=1, bootstrap=False,max_depth=10,\n",
      "                             n_jobs=-1)#"
     ],
     "language": "python",
     "metadata": {},
     "outputs": [],
     "prompt_number": 7
    },
    {
     "cell_type": "code",
     "collapsed": false,
     "input": [
      "fpout = open('../submissions/141005-predict.1.csv','w')\n",
      "print >>fpout,'clip,preictal'"
     ],
     "language": "python",
     "metadata": {},
     "outputs": [],
     "prompt_number": 8
    },
    {
     "cell_type": "code",
     "collapsed": false,
     "input": [
      "for target in ['Dog_1', 'Dog_2', 'Dog_3', 'Dog_4', 'Dog_5', 'Patient_1', 'Patient_2']:\n",
      "    pdata = read_data(target, 'preictal') # positive examples\n",
      "    ndata = read_data(target, 'interictal') # negative examples\n",
      "    X = np.concatenate((pdata.X, ndata.X))\n",
      "    y = np.zeros(X.shape[0])\n",
      "    y[:pdata.X.shape[0]] = 1\n",
      "    # shuffle\n",
      "    idxs=range(len(y))\n",
      "    random.shuffle(idxs)\n",
      "    X = X[idxs,:]\n",
      "    y = y[idxs]\n",
      "    \n",
      "    if NUNITS > 1:\n",
      "        NFu = X.shape[1]//NUNITS\n",
      "        y = np.repeat(y,NUNITS)\n",
      "        X = X.reshape(-1,NFu)\n",
      "    clf.fit(X,y)\n",
      "    # predict\n",
      "    tdata = read_data(target, 'test') # test examples\n",
      "    Xt = tdata.X\n",
      "    if NUNITS > 1:\n",
      "        Xt = Xt.reshape(-1,NFu)\n",
      "    \n",
      "    y_proba = clf.predict_proba(Xt)[:,1]\n",
      "    if NUNITS > 1:\n",
      "        y_proba = y_proba.reshape(-1, NUNITS).max(axis=-1)\n",
      "    \n",
      "    # write results\n",
      "    for i,p in enumerate(y_proba):\n",
      "        print >>fpout,'%s_test_segment_%04d.mat,%.15f' % (target, i+1, p)"
     ],
     "language": "python",
     "metadata": {},
     "outputs": [
      {
       "output_type": "stream",
       "stream": "stdout",
       "text": [
        "data_preictal_Dog_1_gen-8_medianwindow2-bands2-usf-w60-b0.2-b4-b8-b12-b30-b70-b130-0.1-0.5-0.9\n",
        "data_interictal_Dog_1_gen-8_medianwindow2-bands2-usf-w60-b0.2-b4-b8-b12-b30-b70-b130-0.1-0.5-0.9\n",
        "data_test_Dog_1_gen-8_medianwindow2-bands2-usf-w60-b0.2-b4-b8-b12-b30-b70-b130-0.1-0.5-0.9"
       ]
      },
      {
       "output_type": "stream",
       "stream": "stdout",
       "text": [
        "\n",
        "data_preictal_Dog_2_gen-8_medianwindow2-bands2-usf-w60-b0.2-b4-b8-b12-b30-b70-b130-0.1-0.5-0.9"
       ]
      },
      {
       "output_type": "stream",
       "stream": "stdout",
       "text": [
        "\n",
        "data_interictal_Dog_2_gen-8_medianwindow2-bands2-usf-w60-b0.2-b4-b8-b12-b30-b70-b130-0.1-0.5-0.9\n",
        "data_test_Dog_2_gen-8_medianwindow2-bands2-usf-w60-b0.2-b4-b8-b12-b30-b70-b130-0.1-0.5-0.9"
       ]
      },
      {
       "output_type": "stream",
       "stream": "stdout",
       "text": [
        "\n",
        "data_preictal_Dog_3_gen-8_medianwindow2-bands2-usf-w60-b0.2-b4-b8-b12-b30-b70-b130-0.1-0.5-0.9"
       ]
      },
      {
       "output_type": "stream",
       "stream": "stdout",
       "text": [
        "\n",
        "data_interictal_Dog_3_gen-8_medianwindow2-bands2-usf-w60-b0.2-b4-b8-b12-b30-b70-b130-0.1-0.5-0.9\n",
        "data_test_Dog_3_gen-8_medianwindow2-bands2-usf-w60-b0.2-b4-b8-b12-b30-b70-b130-0.1-0.5-0.9"
       ]
      },
      {
       "output_type": "stream",
       "stream": "stdout",
       "text": [
        "\n",
        "data_preictal_Dog_4_gen-8_medianwindow2-bands2-usf-w60-b0.2-b4-b8-b12-b30-b70-b130-0.1-0.5-0.9"
       ]
      },
      {
       "output_type": "stream",
       "stream": "stdout",
       "text": [
        "\n",
        "data_interictal_Dog_4_gen-8_medianwindow2-bands2-usf-w60-b0.2-b4-b8-b12-b30-b70-b130-0.1-0.5-0.9\n",
        "data_test_Dog_4_gen-8_medianwindow2-bands2-usf-w60-b0.2-b4-b8-b12-b30-b70-b130-0.1-0.5-0.9"
       ]
      },
      {
       "output_type": "stream",
       "stream": "stdout",
       "text": [
        "\n",
        "data_preictal_Dog_5_gen-8_medianwindow2-bands2-usf-w60-b0.2-b4-b8-b12-b30-b70-b130-0.1-0.5-0.9"
       ]
      },
      {
       "output_type": "stream",
       "stream": "stdout",
       "text": [
        "\n",
        "data_interictal_Dog_5_gen-8_medianwindow2-bands2-usf-w60-b0.2-b4-b8-b12-b30-b70-b130-0.1-0.5-0.9\n",
        "data_test_Dog_5_gen-8_medianwindow2-bands2-usf-w60-b0.2-b4-b8-b12-b30-b70-b130-0.1-0.5-0.9"
       ]
      },
      {
       "output_type": "stream",
       "stream": "stdout",
       "text": [
        "\n",
        "data_preictal_Patient_1_gen-8_medianwindow2-bands2-usf-w60-b0.2-b4-b8-b12-b30-b70-b130-0.1-0.5-0.9"
       ]
      },
      {
       "output_type": "stream",
       "stream": "stdout",
       "text": [
        "\n",
        "data_interictal_Patient_1_gen-8_medianwindow2-bands2-usf-w60-b0.2-b4-b8-b12-b30-b70-b130-0.1-0.5-0.9\n",
        "data_test_Patient_1_gen-8_medianwindow2-bands2-usf-w60-b0.2-b4-b8-b12-b30-b70-b130-0.1-0.5-0.9"
       ]
      },
      {
       "output_type": "stream",
       "stream": "stdout",
       "text": [
        "\n",
        "data_preictal_Patient_2_gen-8_medianwindow2-bands2-usf-w60-b0.2-b4-b8-b12-b30-b70-b130-0.1-0.5-0.9"
       ]
      },
      {
       "output_type": "stream",
       "stream": "stdout",
       "text": [
        "\n",
        "data_interictal_Patient_2_gen-8_medianwindow2-bands2-usf-w60-b0.2-b4-b8-b12-b30-b70-b130-0.1-0.5-0.9\n",
        "data_test_Patient_2_gen-8_medianwindow2-bands2-usf-w60-b0.2-b4-b8-b12-b30-b70-b130-0.1-0.5-0.9"
       ]
      },
      {
       "output_type": "stream",
       "stream": "stdout",
       "text": [
        "\n"
       ]
      }
     ],
     "prompt_number": 9
    },
    {
     "cell_type": "code",
     "collapsed": false,
     "input": [
      "fpout.close()"
     ],
     "language": "python",
     "metadata": {},
     "outputs": [],
     "prompt_number": 10
    },
    {
     "cell_type": "code",
     "collapsed": false,
     "input": [],
     "language": "python",
     "metadata": {},
     "outputs": [],
     "prompt_number": 21
    }
   ],
   "metadata": {}
  }
 ]
}