{
 "metadata": {
  "name": "",
  "signature": "sha256:c9c42aed7ebe8b041cd0d377ff2d1fd9d2ada2ca19d052047f1656ac134d080d"
 },
 "nbformat": 3,
 "nbformat_minor": 0,
 "worksheets": [
  {
   "cells": [
    {
     "cell_type": "markdown",
     "metadata": {},
     "source": [
      "http://statsmodels.sourceforge.net/devel/vector_ar.html#var"
     ]
    },
    {
     "cell_type": "code",
     "collapsed": false,
     "input": [
      "%matplotlib inline\n",
      "from matplotlib import pylab as pl\n",
      "import cPickle as pickle\n",
      "import pandas as pd\n",
      "import numpy as np\n",
      "import os\n",
      "import random"
     ],
     "language": "python",
     "metadata": {},
     "outputs": [],
     "prompt_number": 1
    },
    {
     "cell_type": "code",
     "collapsed": false,
     "input": [
      "import sys\n",
      "sys.path.append('..')"
     ],
     "language": "python",
     "metadata": {},
     "outputs": [],
     "prompt_number": 2
    },
    {
     "cell_type": "code",
     "collapsed": false,
     "input": [
      "target = 'Patient_2'\n",
      "data_type = 'preictal' # preictal interictal, test"
     ],
     "language": "python",
     "metadata": {},
     "outputs": [],
     "prompt_number": 3
    },
    {
     "cell_type": "markdown",
     "metadata": {},
     "source": [
      "according to 140905-feature-importance the most important cannel is"
     ]
    },
    {
     "cell_type": "code",
     "collapsed": false,
     "input": [
      "channel = 3"
     ],
     "language": "python",
     "metadata": {},
     "outputs": [],
     "prompt_number": 4
    },
    {
     "cell_type": "code",
     "collapsed": false,
     "input": [
      "import scipy.io\n",
      "segment = 1 # start segment\n",
      "all_data = last_sequence = last_data_length_sec = last_Fs = last_channels = last_d_shape = None\n",
      "nsegments = 0\n",
      "while True:\n",
      "    fname = '../seizure-data/%s/%s_%s_segment_%04d.mat'%(target,target,data_type,segment)\n",
      "    try:\n",
      "        data = scipy.io.loadmat(fname)\n",
      "    except:\n",
      "        break\n",
      "    k = '%s_segment_%d'%(data_type,segment)\n",
      "    for k1 in data.keys():\n",
      "        if k1 != k and data[k1]:\n",
      "            print data[k1],\n",
      "    print\n",
      "    data_length_sec = data[k]['data_length_sec'][0,0][0,0]\n",
      "    try:\n",
      "        sequence = data[k]['sequence'][0,0][0,0]\n",
      "    except:\n",
      "        sequence = 1 # test data\n",
      "    Fs = float(data[k]['sampling_frequency'][0,0][0,0])\n",
      "    channels = [t[0] for t in data[k]['channels'][0,0][0]]\n",
      "    d = data[k]['data'][0,0]\n",
      "    print segment,data_length_sec,sequence,Fs,d.shape\n",
      "    \n",
      "    assert len(channels) == d.shape[0]\n",
      "    assert int(Fs*data_length_sec + 0.5) == d.shape[1],int(Fs*data_length_sec + 0.5)\n",
      "    assert last_data_length_sec is None or last_data_length_sec == data_length_sec\n",
      "    last_data_length_sec = data_length_sec\n",
      "    assert last_Fs is None or last_Fs == Fs\n",
      "    last_Fs = Fs\n",
      "    assert last_channels is None or all(c1==c2 for c1,c2 in zip(last_channels, channels))\n",
      "    last_channels = channels\n",
      "    assert last_d_shape is None or last_d_shape == d.shape\n",
      "    last_d_shape = d.shape\n",
      "    \n",
      "    if last_sequence is None:\n",
      "        all_data = d\n",
      "        last_sequence = sequence\n",
      "        N = d.shape[1]\n",
      "        nsegments = 1\n",
      "    elif last_sequence+1 == sequence:\n",
      "        assert N == d.shape[1]\n",
      "        all_data = np.hstack((all_data,d))\n",
      "        last_sequence = sequence\n",
      "        nsegments += 1\n",
      "    else:\n",
      "        break\n",
      "        # get the last sequence\n",
      "        all_data = last_sequence = last_data_length_sec = last_Fs = last_channels = last_d_shape = None\n",
      "        nsegments = 0\n",
      "    segment += 1\n",
      "data_length_sec, sequence, Fs, all_data.shape, nsegments"
     ],
     "language": "python",
     "metadata": {},
     "outputs": [
      {
       "output_type": "stream",
       "stream": "stdout",
       "text": [
        "1.0 MATLAB 5.0 MAT-file, Platform: MACI64, Created on: Thu Aug 21 01:00:00 2014\n",
        "1 600 1 5000.0 (24, 3000000)\n",
        "1.0"
       ]
      },
      {
       "output_type": "stream",
       "stream": "stdout",
       "text": [
        " MATLAB 5.0 MAT-file, Platform: MACI64, Created on: Thu Aug 21 01:00:00 2014\n",
        "2 600 2 5000.0 (24, 3000000)\n",
        "1.0"
       ]
      },
      {
       "output_type": "stream",
       "stream": "stdout",
       "text": [
        " MATLAB 5.0 MAT-file, Platform: MACI64, Created on: Thu Aug 21 01:00:00 2014\n",
        "3 600 3 5000.0 (24, 3000000)\n",
        "1.0"
       ]
      },
      {
       "output_type": "stream",
       "stream": "stdout",
       "text": [
        " MATLAB 5.0 MAT-file, Platform: MACI64, Created on: Thu Aug 21 01:00:00 2014\n",
        "4 600 4 5000.0 (24, 3000000)\n",
        "1.0"
       ]
      },
      {
       "output_type": "stream",
       "stream": "stdout",
       "text": [
        " MATLAB 5.0 MAT-file, Platform: MACI64, Created on: Thu Aug 21 01:00:00 2014\n",
        "5 600 5 5000.0 (24, 3000000)\n",
        "1.0"
       ]
      },
      {
       "output_type": "stream",
       "stream": "stdout",
       "text": [
        " MATLAB 5.0 MAT-file, Platform: MACI64, Created on: Thu Aug 21 01:00:00 2014\n",
        "6 600 6 5000.0 (24, 3000000)\n",
        "1.0"
       ]
      },
      {
       "output_type": "stream",
       "stream": "stdout",
       "text": [
        " MATLAB 5.0 MAT-file, Platform: MACI64, Created on: Thu Aug 21 01:00:00 2014\n",
        "7 600 1 5000.0 (24, 3000000)\n"
       ]
      },
      {
       "metadata": {},
       "output_type": "pyout",
       "prompt_number": 5,
       "text": [
        "(600, 1, 5000.0, (24, 18000000), 6)"
       ]
      }
     ],
     "prompt_number": 5
    },
    {
     "cell_type": "code",
     "collapsed": false,
     "input": [
      "segments_mean = None\n",
      "for c in range(nsegments):\n",
      "    segment_mean = all_data[:,c*N:(c+1)*N].mean(axis=-1)\n",
      "    segments_mean = segment_mean if segments_mean is None else np.hstack((segments_mean,segment_mean))"
     ],
     "language": "python",
     "metadata": {},
     "outputs": [],
     "prompt_number": 6
    },
    {
     "cell_type": "markdown",
     "metadata": {},
     "source": [
      "note that the means over all segments and channels are between $-0.5$ to $+0.5$ which looks like an integer mean was removed"
     ]
    },
    {
     "cell_type": "code",
     "collapsed": false,
     "input": [
      "pl.hist(segments_mean);"
     ],
     "language": "python",
     "metadata": {},
     "outputs": [
      {
       "metadata": {},
       "output_type": "display_data",
       "png": "[encoded data removed]",
       "text": [
        "<matplotlib.figure.Figure at 0x11281eb90>"
       ]
      }
     ],
     "prompt_number": 7
    },
    {
     "cell_type": "markdown",
     "metadata": {},
     "source": [
      "http://stackoverflow.com/questions/25191620/creating-lowpass-filter-in-scipy-understanding-methods-and-units"
     ]
    },
    {
     "cell_type": "code",
     "collapsed": false,
     "input": [
      "cutoff = Fs/100. # desired cutoff frequency of the filter, Hz\n",
      "import scipy.signal\n",
      "nyq = 0.5 * Fs\n",
      "normal_cutoff = cutoff / nyq\n",
      "order = 6\n",
      "b, a = scipy.signal.butter(order, normal_cutoff, btype='low', analog=False)\n",
      "# scipy.signal.lfilter(b, a, data)\n",
      "h = scipy.signal.firwin(100, normal_cutoff)"
     ],
     "language": "python",
     "metadata": {},
     "outputs": [],
     "prompt_number": 8
    },
    {
     "cell_type": "code",
     "collapsed": false,
     "input": [
      "from scipy.interpolate import splrep, splev\n",
      "S = 10\n",
      "\n",
      "Nbase = 8\n",
      "Nchannels = 4 # d.shape[0]\n",
      "W=300\n",
      "W1 = max(int(Fs),W)\n",
      "c=1\n",
      "alpha=0.99999\n",
      "Q = 10\n",
      "print alpha**Q\n",
      "norm = 1./sum(alpha**n for n in range(Q))\n",
      "\n",
      "for i in range(Nchannels):\n",
      "    pl.subplot(Nchannels,1,i+1)\n",
      "    channel = i+Nbase\n",
      "    pl.plot(all_data[channel,c*N-W:c*N+W])\n",
      "    # use filtfilt to get zero phase http://wiki.scipy.org/Cookbook/FiltFilt\n",
      "    x1 = scipy.signal.filtfilt(b, a, all_data[channel,c*N-W1:c*N])#,padtype=None)\n",
      "    x2 = scipy.signal.filtfilt(b, a, all_data[channel,c*N+W1-1:c*N-1:-1])#,padtype=None)[::-1]\n",
      "#     x1 = norm*np.array([sum(alpha**n * all_data[channel,j-n] for n in range(Q)) for j in range(c*N-W,c*N)])\n",
      "#     x2 = norm*np.array([sum(alpha**n * all_data[channel,j+n] for n in range(Q)) for j in range(c*N,c*N+W)])\n",
      "    pl.plot(np.hstack((x1[-W:],x2[:W])))\n",
      "#     x3 = scipy.signal.lfilter(h, 1, all_data[i+Nbase,c*N-W1:c*N+W1])\n",
      "#     pl.plot(x3[W1-W:W1+W])\n",
      "#     spl = splrep(np.arange(S), all_data[channel,c*N-S:c*N], k=3, s=15)\n",
      "#     y1 = splev(S, spl)\n",
      "#     spl = splrep(np.arange(S), all_data[channel,c*N+S-1:c*N-1:-1], k=1, s=5)\n",
      "#     y2 = splev(S, spl)\n",
      "#     print (all_data[channel,c*N-1],all_data[channel,c*N]),(y1,y2),all_data[channel,c*N-S:c*N],all_data[channel,c*N:c*N+S]\n",
      "    pl.title(channels[i+Nbase])\n",
      "pl.gcf().set_size_inches(14,8);"
     ],
     "language": "python",
     "metadata": {},
     "outputs": [
      {
       "output_type": "stream",
       "stream": "stdout",
       "text": [
        "0.9999000045\n"
       ]
      },
      {
       "metadata": {},
       "output_type": "display_data",
       "png": "[encoded data removed]",
       "text": [
        "<matplotlib.figure.Figure at 0x11bbafed0>"
       ]
      }
     ],
     "prompt_number": 11
    },
    {
     "cell_type": "code",
     "collapsed": false,
     "input": [
      "#x1 = scipy.signal.filtfilt(b, a, all_data[i+Nbase,c*N-W1:c*N],padtype=None)\n",
      "x1.shape"
     ],
     "language": "python",
     "metadata": {},
     "outputs": [
      {
       "metadata": {},
       "output_type": "pyout",
       "prompt_number": 73,
       "text": [
        "(15, 3000)"
       ]
      }
     ],
     "prompt_number": 73
    },
    {
     "cell_type": "code",
     "collapsed": false,
     "input": [
      "alpha = 0.99999"
     ],
     "language": "python",
     "metadata": {},
     "outputs": [],
     "prompt_number": 49
    },
    {
     "cell_type": "code",
     "collapsed": false,
     "input": [
      "f = np.array([np.sum(alpha**n * all_data[:,i-n] for n in range(10)) for i in range(c*N-W,c*N)]).T"
     ],
     "language": "python",
     "metadata": {},
     "outputs": [],
     "prompt_number": 61
    },
    {
     "cell_type": "code",
     "collapsed": false,
     "input": [
      "f.shape"
     ],
     "language": "python",
     "metadata": {},
     "outputs": [
      {
       "metadata": {},
       "output_type": "pyout",
       "prompt_number": 62,
       "text": [
        "(15, 3000)"
       ]
      }
     ],
     "prompt_number": 62
    },
    {
     "cell_type": "code",
     "collapsed": false,
     "input": [
      "all_data.shape"
     ],
     "language": "python",
     "metadata": {},
     "outputs": [
      {
       "metadata": {},
       "output_type": "pyout",
       "prompt_number": 52,
       "text": [
        "(15, 18000000)"
       ]
      }
     ],
     "prompt_number": 52
    },
    {
     "cell_type": "code",
     "collapsed": false,
     "input": [
      "alpha**10"
     ],
     "language": "python",
     "metadata": {},
     "outputs": [
      {
       "metadata": {},
       "output_type": "pyout",
       "prompt_number": 54,
       "text": [
        "0.9999000044998805"
       ]
      }
     ],
     "prompt_number": 54
    },
    {
     "cell_type": "code",
     "collapsed": false,
     "input": [
      "np.sum(alpha**n * all_data[0,j-n] for n in range(10))"
     ],
     "language": "python",
     "metadata": {},
     "outputs": [
      {
       "metadata": {},
       "output_type": "pyout",
       "prompt_number": 77,
       "text": [
        "-30097.60075431746"
       ]
      }
     ],
     "prompt_number": 77
    },
    {
     "cell_type": "code",
     "collapsed": false,
     "input": [],
     "language": "python",
     "metadata": {},
     "outputs": []
    }
   ],
   "metadata": {}
  }
 ]
}