{
 "metadata": {
  "name": "",
  "signature": "sha256:e820af4467c1f3a539a74f966c872441e45eb6e7b55836ab391cc440bcb25652"
 },
 "nbformat": 3,
 "nbformat_minor": 0,
 "worksheets": [
  {
   "cells": [
    {
     "cell_type": "markdown",
     "metadata": {},
     "source": [
      "continue from 140927-GBC or 140929-RF-hyperopt"
     ]
    },
    {
     "cell_type": "code",
     "collapsed": false,
     "input": [
      "%matplotlib inline\n",
      "from matplotlib import pylab as pl\n",
      "import cPickle as pickle\n",
      "import pandas as pd\n",
      "import numpy as np\n",
      "import os\n",
      "import re\n",
      "import math\n",
      "import sys\n",
      "import random"
     ],
     "language": "python",
     "metadata": {},
     "outputs": [],
     "prompt_number": 3
    },
    {
     "cell_type": "code",
     "collapsed": false,
     "input": [
      "fpout = open('../submissions/140929-target-combine.validate.2.csv','w')\n",
      "print >>fpout,'clip,preictal'\n",
      "y = y_est = None\n",
      "for target in ['Dog_1', 'Dog_2', 'Dog_3', 'Dog_4', 'Dog_5', 'Patient_1', 'Patient_2']:\n",
      "    with open('../data-cache/%s_predict.spkl'%target,'rb') as fp:\n",
      "        y_target, y_est_target = pickle.load(fp)\n",
      "    if y is None:\n",
      "        y = y_target\n",
      "        y_est = y_est_target\n",
      "    else:\n",
      "        y = np.hstack((y, y_target))\n",
      "        y_est = np.hstack((y_est, y_est_target))\n",
      "    # write results\n",
      "    npreictal = 0\n",
      "    ninterictal = 0\n",
      "    for l,p in zip(y_target, y_est_target):\n",
      "        if l:\n",
      "            npreictal += 1\n",
      "            print >>fpout,'%s_preictal_segment_%04d.mat,%.15f' % (target, npreictal, p)\n",
      "        else:\n",
      "            ninterictal += 1\n",
      "            print >>fpout,'%s_interictal_segment_%04d.mat,%.15f' % (target, ninterictal, p)\n",
      "fpout.close()"
     ],
     "language": "python",
     "metadata": {},
     "outputs": [],
     "prompt_number": 23
    },
    {
     "cell_type": "code",
     "collapsed": false,
     "input": [
      "from sklearn.metrics import roc_auc_score\n",
      "roc_auc_score(y, y_est)"
     ],
     "language": "python",
     "metadata": {},
     "outputs": [
      {
       "metadata": {},
       "output_type": "pyout",
       "prompt_number": 24,
       "text": [
        "0.86163487613427991"
       ]
      }
     ],
     "prompt_number": 24
    },
    {
     "cell_type": "code",
     "collapsed": false,
     "input": [
      "fpout = open('../submissions/140930-predict.2.csv','w')\n",
      "print >>fpout,'clip,preictal'"
     ],
     "language": "python",
     "metadata": {},
     "outputs": [],
     "prompt_number": 5
    },
    {
     "cell_type": "code",
     "collapsed": false,
     "input": [
      "for target in ['Dog_1', 'Dog_2', 'Dog_3', 'Dog_4', 'Dog_5', 'Patient_1', 'Patient_2']:\n",
      "    with open('../data-cache/%s_test.spkl'%target,'rb') as fp:\n",
      "        y_proba = pickle.load(fp)\n",
      "    # write results\n",
      "    for i,p in enumerate(y_proba):\n",
      "        print >>fpout,'%s_test_segment_%04d.mat,%.15f' % (target, i+1, p)"
     ],
     "language": "python",
     "metadata": {},
     "outputs": [],
     "prompt_number": 6
    },
    {
     "cell_type": "code",
     "collapsed": false,
     "input": [
      "fpout.close()"
     ],
     "language": "python",
     "metadata": {},
     "outputs": [],
     "prompt_number": 7
    },
    {
     "cell_type": "code",
     "collapsed": false,
     "input": [
      "!head ../submissions/140930-predict.2.csv"
     ],
     "language": "python",
     "metadata": {},
     "outputs": [
      {
       "output_type": "stream",
       "stream": "stdout",
       "text": [
        "clip,preictal\r\n",
        "Dog_1_test_segment_0001.mat,0.629439696106363\r\n",
        "Dog_1_test_segment_0002.mat,0.117046533713200\r\n",
        "Dog_1_test_segment_0003.mat,0.101709401709402\r\n",
        "Dog_1_test_segment_0004.mat,0.297435897435897\r\n",
        "Dog_1_test_segment_0005.mat,0.183855650522317\r\n",
        "Dog_1_test_segment_0006.mat,0.214981006647673\r\n",
        "Dog_1_test_segment_0007.mat,0.055413105413105\r\n",
        "Dog_1_test_segment_0008.mat,0.160446343779677\r\n",
        "Dog_1_test_segment_0009.mat,0.096438746438746\r\n"
       ]
      }
     ],
     "prompt_number": 8
    },
    {
     "cell_type": "code",
     "collapsed": false,
     "input": [],
     "language": "python",
     "metadata": {},
     "outputs": [],
     "prompt_number": 14
    }
   ],
   "metadata": {}
  }
 ]
}