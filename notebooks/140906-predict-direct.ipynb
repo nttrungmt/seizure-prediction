{
 "metadata": {
  "name": "",
  "signature": "sha256:1d6b740703702cffefe7185af237392fa6cb1ff8d3958a2f0bcbdc0ce1d3c098"
 },
 "nbformat": 3,
 "nbformat_minor": 0,
 "worksheets": [
  {
   "cells": [
    {
     "cell_type": "code",
     "collapsed": false,
     "input": [
      "%matplotlib inline\n",
      "from matplotlib import pylab as pl\n",
      "import cPickle as pickle\n",
      "import pandas as pd\n",
      "import numpy as np\n",
      "import os\n",
      "import random"
     ],
     "language": "python",
     "metadata": {},
     "outputs": [],
     "prompt_number": 1
    },
    {
     "cell_type": "code",
     "collapsed": false,
     "input": [
      "import sys\n",
      "sys.path.append('..')"
     ],
     "language": "python",
     "metadata": {},
     "outputs": [],
     "prompt_number": 2
    },
    {
     "cell_type": "heading",
     "level": 1,
     "metadata": {},
     "source": [
      "Read precomputed features"
     ]
    },
    {
     "cell_type": "markdown",
     "metadata": {},
     "source": [
      "uncommoent the relevant pipeline in `../seizure_detection.py` and run\n",
      "```bash\n",
      "cd ..\n",
      "./doall data\n",
      "```"
     ]
    },
    {
     "cell_type": "code",
     "collapsed": false,
     "input": [
      "FEATURES = 'gen8_medianwindow-fft-with-time-freq-corr-1-48-r400-usf-w600'"
     ],
     "language": "python",
     "metadata": {},
     "outputs": [],
     "prompt_number": 10
    },
    {
     "cell_type": "code",
     "collapsed": false,
     "input": [
      "from common.data import CachedDataLoader\n",
      "cached_data_loader = CachedDataLoader('../data-cache')"
     ],
     "language": "python",
     "metadata": {},
     "outputs": [],
     "prompt_number": 11
    },
    {
     "cell_type": "code",
     "collapsed": false,
     "input": [
      "def read_data(target, data_type):\n",
      "    return cached_data_loader.load('data_%s_%s_%s'%(data_type,target,FEATURES),None)"
     ],
     "language": "python",
     "metadata": {},
     "outputs": [],
     "prompt_number": 12
    },
    {
     "cell_type": "heading",
     "level": 1,
     "metadata": {},
     "source": [
      "Predict"
     ]
    },
    {
     "cell_type": "code",
     "collapsed": false,
     "input": [
      "from sklearn.ensemble import RandomForestClassifier\n",
      "from sklearn.cross_validation import StratifiedKFold\n",
      "from sklearn.metrics import roc_auc_score\n",
      "from sklearn.linear_model import LogisticRegression as LR\n",
      "\n",
      "clf = RandomForestClassifier(n_estimators=6000, min_samples_split=1, max_depth=10,bootstrap=False,\n",
      "                             n_jobs=-1)"
     ],
     "language": "python",
     "metadata": {},
     "outputs": [],
     "prompt_number": 13
    },
    {
     "cell_type": "code",
     "collapsed": false,
     "input": [
      "fpout = open('../submissions/140906-predict-direct.4.csv','w')\n",
      "print >>fpout,'clip,preictal'"
     ],
     "language": "python",
     "metadata": {},
     "outputs": [],
     "prompt_number": 14
    },
    {
     "cell_type": "code",
     "collapsed": false,
     "input": [
      "for target in ['Dog_1', 'Dog_2', 'Dog_3', 'Dog_4', 'Dog_5', 'Patient_1', 'Patient_2']:\n",
      "    pdata = read_data(target, 'preictal') # positive examples\n",
      "    ndata = read_data(target, 'interictal') # negative examples\n",
      "    X = np.concatenate((pdata.X, ndata.X))\n",
      "    y = np.zeros(X.shape[0])\n",
      "    y[:pdata.X.shape[0]] = 1\n",
      "    # shuffle\n",
      "    idxs=range(len(y))\n",
      "    random.shuffle(idxs)\n",
      "    X = X[idxs,:]\n",
      "    y = y[idxs]\n",
      "    # model\n",
      "    clf.fit(X,y)\n",
      "    # predict\n",
      "    tdata = read_data(target, 'test') # test examples\n",
      "    y_proba = clf.predict_proba(tdata.X)[:,1]\n",
      "    # write results\n",
      "    for i,p in enumerate(y_proba):\n",
      "        print >>fpout,'%s_test_segment_%04d.mat,%.15f' % (target, i+1, p)"
     ],
     "language": "python",
     "metadata": {},
     "outputs": [
      {
       "output_type": "stream",
       "stream": "stdout",
       "text": [
        "Loaded ../data-cache/data_preictal_Dog_1_gen8_medianwindow-fft-with-time-freq-corr-1-48-r400-usf-w600.hkl in 0s\n",
        "Loaded ../data-cache/data_interictal_Dog_1_gen8_medianwindow-fft-with-time-freq-corr-1-48-r400-usf-w600.hkl in 0s"
       ]
      },
      {
       "output_type": "stream",
       "stream": "stdout",
       "text": [
        "\n",
        "Loaded ../data-cache/data_test_Dog_1_gen8_medianwindow-fft-with-time-freq-corr-1-48-r400-usf-w600.hkl in 0s"
       ]
      },
      {
       "output_type": "stream",
       "stream": "stdout",
       "text": [
        "\n",
        "Loaded ../data-cache/data_preictal_Dog_2_gen8_medianwindow-fft-with-time-freq-corr-1-48-r400-usf-w600.hkl in 0s"
       ]
      },
      {
       "output_type": "stream",
       "stream": "stdout",
       "text": [
        "\n",
        "Loaded ../data-cache/data_interictal_Dog_2_gen8_medianwindow-fft-with-time-freq-corr-1-48-r400-usf-w600.hkl in 0s"
       ]
      },
      {
       "output_type": "stream",
       "stream": "stdout",
       "text": [
        "\n",
        "Loaded ../data-cache/data_test_Dog_2_gen8_medianwindow-fft-with-time-freq-corr-1-48-r400-usf-w600.hkl in 0s"
       ]
      },
      {
       "output_type": "stream",
       "stream": "stdout",
       "text": [
        "\n",
        "Loaded ../data-cache/data_preictal_Dog_3_gen8_medianwindow-fft-with-time-freq-corr-1-48-r400-usf-w600.hkl in 0s"
       ]
      },
      {
       "output_type": "stream",
       "stream": "stdout",
       "text": [
        "\n",
        "Loaded ../data-cache/data_interictal_Dog_3_gen8_medianwindow-fft-with-time-freq-corr-1-48-r400-usf-w600.hkl in 0s"
       ]
      },
      {
       "output_type": "stream",
       "stream": "stdout",
       "text": [
        "\n",
        "Loaded ../data-cache/data_test_Dog_3_gen8_medianwindow-fft-with-time-freq-corr-1-48-r400-usf-w600.hkl in 0s"
       ]
      },
      {
       "output_type": "stream",
       "stream": "stdout",
       "text": [
        "\n",
        "Loaded ../data-cache/data_preictal_Dog_4_gen8_medianwindow-fft-with-time-freq-corr-1-48-r400-usf-w600.hkl in 0s"
       ]
      },
      {
       "output_type": "stream",
       "stream": "stdout",
       "text": [
        "\n",
        "Loaded ../data-cache/data_interictal_Dog_4_gen8_medianwindow-fft-with-time-freq-corr-1-48-r400-usf-w600.hkl in 0s\n",
        "Loaded ../data-cache/data_test_Dog_4_gen8_medianwindow-fft-with-time-freq-corr-1-48-r400-usf-w600.hkl in 0s"
       ]
      },
      {
       "output_type": "stream",
       "stream": "stdout",
       "text": [
        "\n",
        "Loaded ../data-cache/data_preictal_Dog_5_gen8_medianwindow-fft-with-time-freq-corr-1-48-r400-usf-w600.hkl in 0s"
       ]
      },
      {
       "output_type": "stream",
       "stream": "stdout",
       "text": [
        "\n",
        "Loaded ../data-cache/data_interictal_Dog_5_gen8_medianwindow-fft-with-time-freq-corr-1-48-r400-usf-w600.hkl in 0s\n",
        "Loaded ../data-cache/data_test_Dog_5_gen8_medianwindow-fft-with-time-freq-corr-1-48-r400-usf-w600.hkl in 0s"
       ]
      },
      {
       "output_type": "stream",
       "stream": "stdout",
       "text": [
        "\n",
        "Loaded ../data-cache/data_preictal_Patient_1_gen8_medianwindow-fft-with-time-freq-corr-1-48-r400-usf-w600.hkl in 0s"
       ]
      },
      {
       "output_type": "stream",
       "stream": "stdout",
       "text": [
        "\n",
        "Loaded ../data-cache/data_interictal_Patient_1_gen8_medianwindow-fft-with-time-freq-corr-1-48-r400-usf-w600.hkl in 0s\n",
        "Loaded ../data-cache/data_test_Patient_1_gen8_medianwindow-fft-with-time-freq-corr-1-48-r400-usf-w600.hkl in 0s"
       ]
      },
      {
       "output_type": "stream",
       "stream": "stdout",
       "text": [
        "\n",
        "Loaded ../data-cache/data_preictal_Patient_2_gen8_medianwindow-fft-with-time-freq-corr-1-48-r400-usf-w600.hkl in 0s"
       ]
      },
      {
       "output_type": "stream",
       "stream": "stdout",
       "text": [
        "\n",
        "Loaded ../data-cache/data_interictal_Patient_2_gen8_medianwindow-fft-with-time-freq-corr-1-48-r400-usf-w600.hkl in 0s\n",
        "Loaded ../data-cache/data_test_Patient_2_gen8_medianwindow-fft-with-time-freq-corr-1-48-r400-usf-w600.hkl in 0s"
       ]
      },
      {
       "output_type": "stream",
       "stream": "stdout",
       "text": [
        "\n"
       ]
      }
     ],
     "prompt_number": 15
    },
    {
     "cell_type": "code",
     "collapsed": false,
     "input": [
      "fpout.close()"
     ],
     "language": "python",
     "metadata": {},
     "outputs": [],
     "prompt_number": 16
    },
    {
     "cell_type": "code",
     "collapsed": false,
     "input": [],
     "language": "python",
     "metadata": {},
     "outputs": [],
     "prompt_number": 9
    }
   ],
   "metadata": {}
  }
 ]
}