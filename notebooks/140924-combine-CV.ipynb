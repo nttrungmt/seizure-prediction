{
 "metadata": {
  "name": "",
  "signature": "sha256:585a61a23527f1b8f48bcd5dec86ff1e30c84dd850d5df648bb88d2482d46ad0"
 },
 "nbformat": 3,
 "nbformat_minor": 0,
 "worksheets": [
  {
   "cells": [
    {
     "cell_type": "code",
     "collapsed": false,
     "input": [
      "%matplotlib inline\n",
      "from matplotlib import pylab as pl\n",
      "import cPickle as pickle\n",
      "import pandas as pd\n",
      "import numpy as np\n",
      "import os\n",
      "import random\n",
      "from collections import defaultdict"
     ],
     "language": "python",
     "metadata": {},
     "outputs": [],
     "prompt_number": 1
    },
    {
     "cell_type": "code",
     "collapsed": false,
     "input": [
      "import sys\n",
      "sys.path.append('..')"
     ],
     "language": "python",
     "metadata": {},
     "outputs": [],
     "prompt_number": 2
    },
    {
     "cell_type": "heading",
     "level": 1,
     "metadata": {},
     "source": [
      "Read precomputed features"
     ]
    },
    {
     "cell_type": "markdown",
     "metadata": {},
     "source": [
      "uncommoent the relevant pipeline in `../seizure_detection.py` and run\n",
      "```bash\n",
      "cd ..\n",
      "./doall data\n",
      "```"
     ]
    },
    {
     "cell_type": "code",
     "collapsed": false,
     "input": [
      "FEATURES1 = 'gen-8_medianwindow-bands2-usf-w60-b0.2-b4-b8-b12-b30-b70-0.1-0.5-0.9'"
     ],
     "language": "python",
     "metadata": {},
     "outputs": [],
     "prompt_number": 3
    },
    {
     "cell_type": "code",
     "collapsed": false,
     "input": [
      "FEATURES2 = 'gen-8_medianwindow-timecorr-usf-w60-0.1-0.5-0.9'"
     ],
     "language": "python",
     "metadata": {},
     "outputs": [],
     "prompt_number": 4
    },
    {
     "cell_type": "code",
     "collapsed": false,
     "input": [
      "from common.data import CachedDataLoader\n",
      "cached_data_loader = CachedDataLoader('../data-cache')"
     ],
     "language": "python",
     "metadata": {},
     "outputs": [],
     "prompt_number": 5
    },
    {
     "cell_type": "code",
     "collapsed": false,
     "input": [
      "def read_data(target, data_type, features):\n",
      "    return cached_data_loader.load('data_%s_%s_%s'%(data_type,target,features),None)"
     ],
     "language": "python",
     "metadata": {},
     "outputs": [],
     "prompt_number": 6
    },
    {
     "cell_type": "heading",
     "level": 1,
     "metadata": {},
     "source": [
      "Predict"
     ]
    },
    {
     "cell_type": "code",
     "collapsed": false,
     "input": [
      "from sklearn.ensemble import RandomForestClassifier\n",
      "from sklearn.cross_validation import StratifiedKFold\n",
      "from sklearn.metrics import roc_auc_score\n",
      "from sklearn.linear_model import LogisticRegression as LR\n",
      "\n",
      "clf = RandomForestClassifier(n_estimators=3000, min_samples_split=1, bootstrap=False,max_depth=10,\n",
      "                             n_jobs=-1) #"
     ],
     "language": "python",
     "metadata": {},
     "outputs": [],
     "prompt_number": 7
    },
    {
     "cell_type": "code",
     "collapsed": false,
     "input": [
      "with_weights = False\n",
      "suffix = 'max_depth10'"
     ],
     "language": "python",
     "metadata": {},
     "outputs": [],
     "prompt_number": 8
    },
    {
     "cell_type": "markdown",
     "metadata": {},
     "source": [
      "Compute AUC for each target separatly"
     ]
    },
    {
     "cell_type": "code",
     "collapsed": false,
     "input": [
      "target2iter2ys = {}\n",
      "for target in ['Dog_1', 'Dog_2', 'Dog_3', 'Dog_4', 'Dog_5', 'Patient_1', 'Patient_2']:\n",
      "    # positive examples\n",
      "    pdata1 = read_data(target, 'preictal', FEATURES1)\n",
      "    Np, NF1 = pdata1.X.shape\n",
      "\n",
      "    pdata2 = read_data(target, 'preictal', FEATURES2)\n",
      "    Xp = np.hstack((pdata1.X, pdata2.X))\n",
      "    \n",
      "    assert np.all(pdata1.latencies == pdata2.latencies)\n",
      "    latencies = pdata1.latencies\n",
      "\n",
      "    # split the positive examples into segments, each from the same event\n",
      "    # in each CV-split we will take all examples from the same segment to either train or validate\n",
      "    segments = []\n",
      "    start = 0\n",
      "    last_l = 0\n",
      "    for i,l in enumerate(latencies):\n",
      "        if l<last_l:\n",
      "            segments.append(np.arange(start,i))\n",
      "            start = i\n",
      "        last_l = l\n",
      "    segments.append(np.arange(start,i+1))\n",
      "    Ns = len(segments)\n",
      "\n",
      "    # negative examples\n",
      "    ndata1 = read_data(target, 'interictal', FEATURES1)\n",
      "    ndata2 = read_data(target, 'interictal', FEATURES2)\n",
      "    Nn = ndata1.X.shape[0]\n",
      "    Xn = np.hstack((ndata1.X, ndata2.X))\n",
      "\n",
      "    \n",
      "    npratio = float(Nn)/Np\n",
      "    print target,1/(1+npratio),Ns,Np,Nn\n",
      "\n",
      "    iter2ys = defaultdict(list) # {niter: Ns *[(ytest,y_proba)]\n",
      "    for s in segments:\n",
      "        for niter in range(3):\n",
      "            # each time, take one segment for testing and randomly pick negative examples\n",
      "            Xtestp = Xp[s,:]\n",
      "            weightstest = latencies[s] # latency for first segment is 1\n",
      "\n",
      "            Ntrainp = len(s)\n",
      "            Ntrainn = int(Ntrainp*npratio)\n",
      "            n = np.array(random.sample(xrange(Nn),Ntrainn))\n",
      "            Xtestn = Xn[n,:]\n",
      "\n",
      "            Xtrainp = Xp[-s,:]\n",
      "            weightsp = latencies[-s] # latency for first segment is 1\n",
      "            Xtrainn = Xn[-n,:]\n",
      "            weightsn = np.ones(Xtrainn.shape[0]) \n",
      "\n",
      "            Xtrain = np.concatenate((Xtrainp,Xtrainn))\n",
      "            weights = np.concatenate((weightsp,weightsn))\n",
      "            ytrain = np.concatenate((np.ones(Ntrainp),np.zeros(Ntrainn)))\n",
      "            perm = np.random.permutation(len(ytrain))\n",
      "            ytrain = ytrain[perm]\n",
      "            Xtrain = Xtrain[perm,:]\n",
      "            weights = weights[perm]\n",
      "\n",
      "            Xtest = np.concatenate((Xtestp,Xtestn))\n",
      "            ytest = np.concatenate((np.ones(Xtestp.shape[0]),np.zeros(Xtestn.shape[0])))\n",
      "\n",
      "            if with_weights:\n",
      "                clf.fit(Xtrain, ytrain, sample_weight=weights)\n",
      "            else:\n",
      "                clf.fit(Xtrain, ytrain)\n",
      "\n",
      "            y_proba = clf.predict_proba(Xtest)[:,1]\n",
      "            iter2ys[niter].append((ytest, y_proba))\n",
      "            \n",
      "            auc = roc_auc_score(ytest, y_proba)\n",
      "            print '%.3f'%auc,Ntrainp,np.mean(weightstest)\n",
      "    target2iter2ys[target] = iter2ys\n",
      "    print"
     ],
     "language": "python",
     "metadata": {},
     "outputs": [
      {
       "output_type": "stream",
       "stream": "stdout",
       "text": [
        "Dog_1 0.277108433735 4 184 480\n",
        "0.769"
       ]
      },
      {
       "output_type": "stream",
       "stream": "stdout",
       "text": [
        " 46 3.5\n",
        "0.791"
       ]
      },
      {
       "output_type": "stream",
       "stream": "stdout",
       "text": [
        " 46 3.5\n",
        "0.784"
       ]
      },
      {
       "output_type": "stream",
       "stream": "stdout",
       "text": [
        " 46 3.5\n",
        "0.434"
       ]
      },
      {
       "output_type": "stream",
       "stream": "stdout",
       "text": [
        " 46 3.5\n",
        "0.473"
       ]
      },
      {
       "output_type": "stream",
       "stream": "stdout",
       "text": [
        " 46 3.5\n",
        "0.539"
       ]
      },
      {
       "output_type": "stream",
       "stream": "stdout",
       "text": [
        " 46 3.5\n",
        "0.674"
       ]
      },
      {
       "output_type": "stream",
       "stream": "stdout",
       "text": [
        " 46 3.5\n",
        "0.643"
       ]
      },
      {
       "output_type": "stream",
       "stream": "stdout",
       "text": [
        " 46 3.5\n",
        "0.569"
       ]
      },
      {
       "output_type": "stream",
       "stream": "stdout",
       "text": [
        " 46 3.5\n",
        "0.573"
       ]
      },
      {
       "output_type": "stream",
       "stream": "stdout",
       "text": [
        " 46 3.5\n",
        "0.495"
       ]
      },
      {
       "output_type": "stream",
       "stream": "stdout",
       "text": [
        " 46 3.5\n",
        "0.392"
       ]
      },
      {
       "output_type": "stream",
       "stream": "stdout",
       "text": [
        " 46 3.5\n",
        "\n",
        "Dog_2 0.391727493917 7 322 500\n",
        "0.998"
       ]
      },
      {
       "output_type": "stream",
       "stream": "stdout",
       "text": [
        " 46 3.5\n",
        "0.996"
       ]
      },
      {
       "output_type": "stream",
       "stream": "stdout",
       "text": [
        " 46 3.5\n",
        "0.994"
       ]
      },
      {
       "output_type": "stream",
       "stream": "stdout",
       "text": [
        " 46 3.5\n",
        "0.905"
       ]
      },
      {
       "output_type": "stream",
       "stream": "stdout",
       "text": [
        " 46 3.5\n",
        "0.981"
       ]
      },
      {
       "output_type": "stream",
       "stream": "stdout",
       "text": [
        " 46 3.5\n",
        "0.963"
       ]
      },
      {
       "output_type": "stream",
       "stream": "stdout",
       "text": [
        " 46 3.5\n",
        "0.981"
       ]
      },
      {
       "output_type": "stream",
       "stream": "stdout",
       "text": [
        " 46 3.5\n",
        "0.979"
       ]
      },
      {
       "output_type": "stream",
       "stream": "stdout",
       "text": [
        " 46 3.5\n",
        "0.967"
       ]
      },
      {
       "output_type": "stream",
       "stream": "stdout",
       "text": [
        " 46 3.5\n",
        "1.000"
       ]
      },
      {
       "output_type": "stream",
       "stream": "stdout",
       "text": [
        " 46 3.5\n",
        "1.000"
       ]
      },
      {
       "output_type": "stream",
       "stream": "stdout",
       "text": [
        " 46 3.5\n",
        "1.000"
       ]
      },
      {
       "output_type": "stream",
       "stream": "stdout",
       "text": [
        " 46 3.5\n",
        "0.985"
       ]
      },
      {
       "output_type": "stream",
       "stream": "stdout",
       "text": [
        " 46 3.5\n",
        "1.000"
       ]
      },
      {
       "output_type": "stream",
       "stream": "stdout",
       "text": [
        " 46 3.5\n",
        "1.000"
       ]
      },
      {
       "output_type": "stream",
       "stream": "stdout",
       "text": [
        " 46 3.5\n",
        "0.997"
       ]
      },
      {
       "output_type": "stream",
       "stream": "stdout",
       "text": [
        " 46 3.5\n",
        "1.000"
       ]
      },
      {
       "output_type": "stream",
       "stream": "stdout",
       "text": [
        " 46 3.5\n",
        "1.000"
       ]
      },
      {
       "output_type": "stream",
       "stream": "stdout",
       "text": [
        " 46 3.5\n",
        "0.753"
       ]
      },
      {
       "output_type": "stream",
       "stream": "stdout",
       "text": [
        " 46 3.5\n",
        "0.772"
       ]
      },
      {
       "output_type": "stream",
       "stream": "stdout",
       "text": [
        " 46 3.5\n",
        "0.653"
       ]
      },
      {
       "output_type": "stream",
       "stream": "stdout",
       "text": [
        " 46 3.5\n",
        "\n",
        "Dog_3"
       ]
      },
      {
       "output_type": "stream",
       "stream": "stdout",
       "text": [
        " 0.277108433735 12 552 1440\n",
        "0.891"
       ]
      },
      {
       "output_type": "stream",
       "stream": "stdout",
       "text": [
        " 46 3.5\n",
        "0.890"
       ]
      },
      {
       "output_type": "stream",
       "stream": "stdout",
       "text": [
        " 46 3.5\n",
        "0.918"
       ]
      },
      {
       "output_type": "stream",
       "stream": "stdout",
       "text": [
        " 46 3.5\n",
        "0.763"
       ]
      },
      {
       "output_type": "stream",
       "stream": "stdout",
       "text": [
        " 46 3.5\n",
        "0.607"
       ]
      },
      {
       "output_type": "stream",
       "stream": "stdout",
       "text": [
        " 46 3.5\n",
        "0.551"
       ]
      },
      {
       "output_type": "stream",
       "stream": "stdout",
       "text": [
        " 46 3.5\n",
        "0.881"
       ]
      },
      {
       "output_type": "stream",
       "stream": "stdout",
       "text": [
        " 46 3.5\n",
        "0.814"
       ]
      },
      {
       "output_type": "stream",
       "stream": "stdout",
       "text": [
        " 46 3.5\n",
        "0.748"
       ]
      },
      {
       "output_type": "stream",
       "stream": "stdout",
       "text": [
        " 46 3.5\n",
        "0.780"
       ]
      },
      {
       "output_type": "stream",
       "stream": "stdout",
       "text": [
        " 46 3.5\n",
        "0.621"
       ]
      },
      {
       "output_type": "stream",
       "stream": "stdout",
       "text": [
        " 46 3.5\n",
        "0.685"
       ]
      },
      {
       "output_type": "stream",
       "stream": "stdout",
       "text": [
        " 46 3.5\n",
        "0.749"
       ]
      },
      {
       "output_type": "stream",
       "stream": "stdout",
       "text": [
        " 46 3.5\n",
        "0.838"
       ]
      },
      {
       "output_type": "stream",
       "stream": "stdout",
       "text": [
        " 46 3.5\n",
        "0.924"
       ]
      },
      {
       "output_type": "stream",
       "stream": "stdout",
       "text": [
        " 46 3.5\n",
        "1.000"
       ]
      },
      {
       "output_type": "stream",
       "stream": "stdout",
       "text": [
        " 46 3.5\n",
        "1.000"
       ]
      },
      {
       "output_type": "stream",
       "stream": "stdout",
       "text": [
        " 46 3.5\n",
        "1.000"
       ]
      },
      {
       "output_type": "stream",
       "stream": "stdout",
       "text": [
        " 46 3.5\n",
        "1.000"
       ]
      },
      {
       "output_type": "stream",
       "stream": "stdout",
       "text": [
        " 46 3.5\n",
        "1.000"
       ]
      },
      {
       "output_type": "stream",
       "stream": "stdout",
       "text": [
        " 46 3.5\n",
        "1.000"
       ]
      },
      {
       "output_type": "stream",
       "stream": "stdout",
       "text": [
        " 46 3.5\n",
        "0.967"
       ]
      },
      {
       "output_type": "stream",
       "stream": "stdout",
       "text": [
        " 46 3.5\n",
        "0.968"
       ]
      },
      {
       "output_type": "stream",
       "stream": "stdout",
       "text": [
        " 46 3.5\n",
        "0.986"
       ]
      },
      {
       "output_type": "stream",
       "stream": "stdout",
       "text": [
        " 46 3.5\n",
        "0.768"
       ]
      },
      {
       "output_type": "stream",
       "stream": "stdout",
       "text": [
        " 46 3.5\n",
        "0.741"
       ]
      },
      {
       "output_type": "stream",
       "stream": "stdout",
       "text": [
        " 46 3.5\n",
        "0.765"
       ]
      },
      {
       "output_type": "stream",
       "stream": "stdout",
       "text": [
        " 46 3.5\n",
        "0.754"
       ]
      },
      {
       "output_type": "stream",
       "stream": "stdout",
       "text": [
        " 46 3.5\n",
        "0.563"
       ]
      },
      {
       "output_type": "stream",
       "stream": "stdout",
       "text": [
        " 46 3.5\n",
        "0.755"
       ]
      },
      {
       "output_type": "stream",
       "stream": "stdout",
       "text": [
        " 46 3.5\n",
        "0.594"
       ]
      },
      {
       "output_type": "stream",
       "stream": "stdout",
       "text": [
        " 46 3.5\n",
        "0.568"
       ]
      },
      {
       "output_type": "stream",
       "stream": "stdout",
       "text": [
        " 46 3.5\n",
        "0.491"
       ]
      },
      {
       "output_type": "stream",
       "stream": "stdout",
       "text": [
        " 46 3.5\n",
        "0.369"
       ]
      },
      {
       "output_type": "stream",
       "stream": "stdout",
       "text": [
        " 46 3.5\n",
        "0.343"
       ]
      },
      {
       "output_type": "stream",
       "stream": "stdout",
       "text": [
        " 46 3.5\n",
        "0.260"
       ]
      },
      {
       "output_type": "stream",
       "stream": "stdout",
       "text": [
        " 46 3.5\n",
        "\n",
        "Dog_4 0.478260869565 17 737 804\n",
        "0.975"
       ]
      },
      {
       "output_type": "stream",
       "stream": "stdout",
       "text": [
        " 46 3.5\n",
        "1.000"
       ]
      },
      {
       "output_type": "stream",
       "stream": "stdout",
       "text": [
        " 46 3.5\n",
        "1.000"
       ]
      },
      {
       "output_type": "stream",
       "stream": "stdout",
       "text": [
        " 46 3.5\n",
        "0.453"
       ]
      },
      {
       "output_type": "stream",
       "stream": "stdout",
       "text": [
        " 46 3.5\n",
        "0.580"
       ]
      },
      {
       "output_type": "stream",
       "stream": "stdout",
       "text": [
        " 46 3.5\n",
        "0.451"
       ]
      },
      {
       "output_type": "stream",
       "stream": "stdout",
       "text": [
        " 46 3.5\n",
        "0.596"
       ]
      },
      {
       "output_type": "stream",
       "stream": "stdout",
       "text": [
        " 46 3.5\n",
        "0.602"
       ]
      },
      {
       "output_type": "stream",
       "stream": "stdout",
       "text": [
        " 46 3.5\n",
        "0.652"
       ]
      },
      {
       "output_type": "stream",
       "stream": "stdout",
       "text": [
        " 46 3.5\n",
        "0.470"
       ]
      },
      {
       "output_type": "stream",
       "stream": "stdout",
       "text": [
        " 37 4.0\n",
        "0.592"
       ]
      },
      {
       "output_type": "stream",
       "stream": "stdout",
       "text": [
        " 37 4.0\n",
        "0.718"
       ]
      },
      {
       "output_type": "stream",
       "stream": "stdout",
       "text": [
        " 37 4.0\n",
        "0.489"
       ]
      },
      {
       "output_type": "stream",
       "stream": "stdout",
       "text": [
        " 19 5.0\n",
        "0.545"
       ]
      },
      {
       "output_type": "stream",
       "stream": "stdout",
       "text": [
        " 19 5.0\n",
        "0.832"
       ]
      },
      {
       "output_type": "stream",
       "stream": "stdout",
       "text": [
        " 19 5.0\n",
        "0.728"
       ]
      },
      {
       "output_type": "stream",
       "stream": "stdout",
       "text": [
        " 46 3.5\n",
        "0.647"
       ]
      },
      {
       "output_type": "stream",
       "stream": "stdout",
       "text": [
        " 46 3.5\n",
        "0.735"
       ]
      },
      {
       "output_type": "stream",
       "stream": "stdout",
       "text": [
        " 46 3.5\n",
        "0.695"
       ]
      },
      {
       "output_type": "stream",
       "stream": "stdout",
       "text": [
        " 46 3.5\n",
        "0.614"
       ]
      },
      {
       "output_type": "stream",
       "stream": "stdout",
       "text": [
        " 46 3.5\n",
        "0.686"
       ]
      },
      {
       "output_type": "stream",
       "stream": "stdout",
       "text": [
        " 46 3.5\n",
        "0.897"
       ]
      },
      {
       "output_type": "stream",
       "stream": "stdout",
       "text": [
        " 37 4.0\n",
        "0.908"
       ]
      },
      {
       "output_type": "stream",
       "stream": "stdout",
       "text": [
        " 37 4.0\n",
        "0.893"
       ]
      },
      {
       "output_type": "stream",
       "stream": "stdout",
       "text": [
        " 37 4.0\n",
        "0.391"
       ]
      },
      {
       "output_type": "stream",
       "stream": "stdout",
       "text": [
        " 46 3.5\n",
        "0.268"
       ]
      },
      {
       "output_type": "stream",
       "stream": "stdout",
       "text": [
        " 46 3.5\n",
        "0.382"
       ]
      },
      {
       "output_type": "stream",
       "stream": "stdout",
       "text": [
        " 46 3.5\n",
        "0.398"
       ]
      },
      {
       "output_type": "stream",
       "stream": "stdout",
       "text": [
        " 46 3.5\n",
        "0.285"
       ]
      },
      {
       "output_type": "stream",
       "stream": "stdout",
       "text": [
        " 46 3.5\n",
        "0.416"
       ]
      },
      {
       "output_type": "stream",
       "stream": "stdout",
       "text": [
        " 46 3.5\n",
        "0.610"
       ]
      },
      {
       "output_type": "stream",
       "stream": "stdout",
       "text": [
        " 46 3.5\n",
        "0.858"
       ]
      },
      {
       "output_type": "stream",
       "stream": "stdout",
       "text": [
        " 46 3.5\n",
        "0.847"
       ]
      },
      {
       "output_type": "stream",
       "stream": "stdout",
       "text": [
        " 46 3.5\n",
        "0.811"
       ]
      },
      {
       "output_type": "stream",
       "stream": "stdout",
       "text": [
        " 46 3.5\n",
        "0.800"
       ]
      },
      {
       "output_type": "stream",
       "stream": "stdout",
       "text": [
        " 46 3.5\n",
        "0.608"
       ]
      },
      {
       "output_type": "stream",
       "stream": "stdout",
       "text": [
        " 46 3.5\n",
        "0.363"
       ]
      },
      {
       "output_type": "stream",
       "stream": "stdout",
       "text": [
        " 46 3.5\n",
        "0.411"
       ]
      },
      {
       "output_type": "stream",
       "stream": "stdout",
       "text": [
        " 46 3.5\n",
        "0.486"
       ]
      },
      {
       "output_type": "stream",
       "stream": "stdout",
       "text": [
        " 46 3.5\n",
        "0.626"
       ]
      },
      {
       "output_type": "stream",
       "stream": "stdout",
       "text": [
        " 46 3.5\n",
        "0.604"
       ]
      },
      {
       "output_type": "stream",
       "stream": "stdout",
       "text": [
        " 46 3.5\n",
        "0.385"
       ]
      },
      {
       "output_type": "stream",
       "stream": "stdout",
       "text": [
        " 46 3.5\n",
        "0.325"
       ]
      },
      {
       "output_type": "stream",
       "stream": "stdout",
       "text": [
        " 46 3.5\n",
        "0.525"
       ]
      },
      {
       "output_type": "stream",
       "stream": "stdout",
       "text": [
        " 46 3.5\n",
        "0.322"
       ]
      },
      {
       "output_type": "stream",
       "stream": "stdout",
       "text": [
        " 46 3.5\n",
        "0.352"
       ]
      },
      {
       "output_type": "stream",
       "stream": "stdout",
       "text": [
        " 46 3.5\n",
        "0.348"
       ]
      },
      {
       "output_type": "stream",
       "stream": "stdout",
       "text": [
        " 46 3.5\n",
        "0.480"
       ]
      },
      {
       "output_type": "stream",
       "stream": "stdout",
       "text": [
        " 46 3.5\n",
        "0.802"
       ]
      },
      {
       "output_type": "stream",
       "stream": "stdout",
       "text": [
        " 46 3.5\n",
        "0.772"
       ]
      },
      {
       "output_type": "stream",
       "stream": "stdout",
       "text": [
        " 46 3.5\n",
        "0.814"
       ]
      },
      {
       "output_type": "stream",
       "stream": "stdout",
       "text": [
        " 46 3.5\n",
        "\n",
        "Dog_5 0.338235294118 5 230 450\n",
        "0.919"
       ]
      },
      {
       "output_type": "stream",
       "stream": "stdout",
       "text": [
        " 46 3.5\n",
        "0.812"
       ]
      },
      {
       "output_type": "stream",
       "stream": "stdout",
       "text": [
        " 46 3.5\n",
        "0.904"
       ]
      },
      {
       "output_type": "stream",
       "stream": "stdout",
       "text": [
        " 46 3.5\n",
        "0.993"
       ]
      },
      {
       "output_type": "stream",
       "stream": "stdout",
       "text": [
        " 46 3.5\n",
        "0.995"
       ]
      },
      {
       "output_type": "stream",
       "stream": "stdout",
       "text": [
        " 46 3.5\n",
        "0.992"
       ]
      },
      {
       "output_type": "stream",
       "stream": "stdout",
       "text": [
        " 46 3.5\n",
        "1.000"
       ]
      },
      {
       "output_type": "stream",
       "stream": "stdout",
       "text": [
        " 46 3.5\n",
        "1.000"
       ]
      },
      {
       "output_type": "stream",
       "stream": "stdout",
       "text": [
        " 46 3.5\n",
        "1.000"
       ]
      },
      {
       "output_type": "stream",
       "stream": "stdout",
       "text": [
        " 46 3.5\n",
        "0.983"
       ]
      },
      {
       "output_type": "stream",
       "stream": "stdout",
       "text": [
        " 46 3.5\n",
        "0.981"
       ]
      },
      {
       "output_type": "stream",
       "stream": "stdout",
       "text": [
        " 46 3.5\n",
        "0.979"
       ]
      },
      {
       "output_type": "stream",
       "stream": "stdout",
       "text": [
        " 46 3.5\n",
        "0.789"
       ]
      },
      {
       "output_type": "stream",
       "stream": "stdout",
       "text": [
        " 46 3.5\n",
        "0.789"
       ]
      },
      {
       "output_type": "stream",
       "stream": "stdout",
       "text": [
        " 46 3.5\n",
        "0.818"
       ]
      },
      {
       "output_type": "stream",
       "stream": "stdout",
       "text": [
        " 46 3.5\n",
        "\n",
        "Patient_1 0.734042553191 3 138 50\n",
        "0.633"
       ]
      },
      {
       "output_type": "stream",
       "stream": "stdout",
       "text": [
        " 46 3.5\n",
        "0.781"
       ]
      },
      {
       "output_type": "stream",
       "stream": "stdout",
       "text": [
        " 46 3.5\n",
        "0.924"
       ]
      },
      {
       "output_type": "stream",
       "stream": "stdout",
       "text": [
        " 46 3.5\n",
        "1.000"
       ]
      },
      {
       "output_type": "stream",
       "stream": "stdout",
       "text": [
        " 46 3.5\n",
        "1.000"
       ]
      },
      {
       "output_type": "stream",
       "stream": "stdout",
       "text": [
        " 46 3.5\n",
        "1.000"
       ]
      },
      {
       "output_type": "stream",
       "stream": "stdout",
       "text": [
        " 46 3.5\n",
        "0.790"
       ]
      },
      {
       "output_type": "stream",
       "stream": "stdout",
       "text": [
        " 46 3.5\n",
        "0.938"
       ]
      },
      {
       "output_type": "stream",
       "stream": "stdout",
       "text": [
        " 46 3.5\n",
        "0.898"
       ]
      },
      {
       "output_type": "stream",
       "stream": "stdout",
       "text": [
        " 46 3.5\n",
        "\n",
        "Patient_2 0.766666666667 3 138 42\n",
        "1.000"
       ]
      },
      {
       "output_type": "stream",
       "stream": "stdout",
       "text": [
        " 46 3.5\n",
        "1.000"
       ]
      },
      {
       "output_type": "stream",
       "stream": "stdout",
       "text": [
        " 46 3.5\n",
        "1.000"
       ]
      },
      {
       "output_type": "stream",
       "stream": "stdout",
       "text": [
        " 46 3.5\n",
        "1.000"
       ]
      },
      {
       "output_type": "stream",
       "stream": "stdout",
       "text": [
        " 46 3.5\n",
        "1.000"
       ]
      },
      {
       "output_type": "stream",
       "stream": "stdout",
       "text": [
        " 46 3.5\n",
        "1.000"
       ]
      },
      {
       "output_type": "stream",
       "stream": "stdout",
       "text": [
        " 46 3.5\n",
        "0.843"
       ]
      },
      {
       "output_type": "stream",
       "stream": "stdout",
       "text": [
        " 46 3.5\n",
        "0.784"
       ]
      },
      {
       "output_type": "stream",
       "stream": "stdout",
       "text": [
        " 46 3.5\n",
        "0.881"
       ]
      },
      {
       "output_type": "stream",
       "stream": "stdout",
       "text": [
        " 46 3.5\n",
        "\n"
       ]
      }
     ],
     "prompt_number": 9
    },
    {
     "cell_type": "code",
     "collapsed": false,
     "input": [
      "Xp.shape,Xn.shape"
     ],
     "language": "python",
     "metadata": {},
     "outputs": [
      {
       "metadata": {},
       "output_type": "pyout",
       "prompt_number": 10,
       "text": [
        "((138, 1260), (42, 1260))"
       ]
      }
     ],
     "prompt_number": 10
    },
    {
     "cell_type": "code",
     "collapsed": false,
     "input": [
      "fname = '../data-cache/140924-CV-combine2.%s:%s:%s.pkl'%(suffix, FEATURES1,FEATURES2)\n",
      "with open(fname,'wb') as fp:\n",
      "    pickle.dump(target2iter2ys,fp,-1)"
     ],
     "language": "python",
     "metadata": {},
     "outputs": [],
     "prompt_number": 11
    },
    {
     "cell_type": "code",
     "collapsed": false,
     "input": [
      "fname"
     ],
     "language": "python",
     "metadata": {},
     "outputs": [
      {
       "metadata": {},
       "output_type": "pyout",
       "prompt_number": 12,
       "text": [
        "'../data-cache/140924-CV-combine2.max_depth10:gen-8_medianwindow-bands2-usf-w60-b0.2-b4-b8-b12-b30-b70-0.1-0.5-0.9:gen-8_medianwindow-timecorr-usf-w60-0.1-0.5-0.9.pkl'"
       ]
      }
     ],
     "prompt_number": 12
    },
    {
     "cell_type": "markdown",
     "metadata": {},
     "source": [
      "Generate a single AUC score"
     ]
    },
    {
     "cell_type": "code",
     "collapsed": false,
     "input": [
      "def p(a,b):\n",
      "    return '%d E%d'%(1000*a,1000*b)\n",
      "\n",
      "for f in [\n",
      "            'max_depth10:gen-8_medianwindow-bands2-usf-w60-b0.2-b4-b8-b12-b30-b70-0.1-0.5-0.9:gen-8_medianwindow-timecorr-usf-w60-0.1-0.5-0.9',\n",
      "        ]:\n",
      "    all_ytest = all_y_proba =None\n",
      "    all_aucs = []\n",
      "    with open('../data-cache/140924-CV-combine2.%s.pkl'%f,'rb') as fp:\n",
      "        target2iter2ys = pickle.load(fp)\n",
      "    for target, iter2ys in target2iter2ys.iteritems():\n",
      "        target_ytest = target_y_proba =None\n",
      "        target_aucs = []\n",
      "        print target,\n",
      "        for ys in iter2ys.itervalues():\n",
      "            ytest = y_proba =None\n",
      "            aucs = []\n",
      "            for y in ys:\n",
      "                yt, yp = y\n",
      "                ytest = yt if ytest is None else np.concatenate((ytest,yt))\n",
      "                y_proba = yp if y_proba is None else np.concatenate((y_proba,yp))\n",
      "                aucs.append(roc_auc_score(yt, yp))\n",
      "            print p(roc_auc_score(ytest, y_proba), np.mean(aucs)),\n",
      "            target_aucs += aucs\n",
      "            target_ytest = ytest if target_ytest is None else np.concatenate((target_ytest,ytest))\n",
      "            target_y_proba = y_proba if target_y_proba is None else np.concatenate((target_y_proba,y_proba))\n",
      "        print target,p(roc_auc_score(target_ytest, target_y_proba),np.mean(target_aucs))\n",
      "        all_aucs += target_aucs        \n",
      "        all_ytest = target_ytest if all_ytest is None else np.concatenate((all_ytest,target_ytest))\n",
      "        all_y_proba = target_y_proba if all_y_proba is None else np.concatenate((all_y_proba,target_y_proba))\n",
      "#         if target == 'Dog_3':\n",
      "#             pl.hist(target_aucs,alpha=0.5)\n",
      "    print f,p(roc_auc_score(all_ytest, all_y_proba),np.mean(all_aucs))\n",
      "    print\n"
     ],
     "language": "python",
     "metadata": {},
     "outputs": [
      {
       "output_type": "stream",
       "stream": "stdout",
       "text": [
        "Dog_2 918 E945 933 E961 913 E939 Dog_2 921 E948\n",
        "Dog_3 761 E792 733 E745 741 E757 Dog_3 745 E765\n",
        "Dog_1 618 E612 615 E600 584 E570 Dog_1 606 E594\n",
        "Dog_4 "
       ]
      },
      {
       "output_type": "stream",
       "stream": "stdout",
       "text": [
        "578 E587 598 E609 609 E629 Dog_4 595 E608\n",
        "Dog_5 925 E936 920 E915 940 E938 Dog_5 928 E930\n",
        "Patient_2 926 E947 943 E928 937 E960 Patient_2 934 E945\n",
        "Patient_1 793 E807 "
       ]
      },
      {
       "output_type": "stream",
       "stream": "stdout",
       "text": [
        "910 E906 937 E940 Patient_1 877 E884\n",
        "max_depth10:gen-8_medianwindow-bands2-usf-w60-b0.2-b4-b8-b12-b30-b70-0.1-0.5-0.9:gen-8_medianwindow-timecorr-usf-w60-0.1-0.5-0.9 765 E758\n",
        "\n"
       ]
      }
     ],
     "prompt_number": 13
    },
    {
     "cell_type": "code",
     "collapsed": false,
     "input": [],
     "language": "python",
     "metadata": {},
     "outputs": [],
     "prompt_number": 13
    }
   ],
   "metadata": {}
  }
 ]
}