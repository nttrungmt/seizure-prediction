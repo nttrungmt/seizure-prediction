{
 "metadata": {
  "name": "",
  "signature": "sha256:b9775ecd8f4d2b3d486f77ac98f5647f825a8ca2bc8c25654d84b58eb799c638"
 },
 "nbformat": 3,
 "nbformat_minor": 0,
 "worksheets": [
  {
   "cells": [
    {
     "cell_type": "code",
     "collapsed": false,
     "input": [
      "%matplotlib inline\n",
      "from matplotlib import pylab as pl\n",
      "import cPickle as pickle\n",
      "import pandas as pd\n",
      "import numpy as np\n",
      "import os\n",
      "import random\n",
      "from collections import defaultdict"
     ],
     "language": "python",
     "metadata": {},
     "outputs": [],
     "prompt_number": 1
    },
    {
     "cell_type": "code",
     "collapsed": false,
     "input": [
      "import scipy.io\n",
      "from scipy.signal import resample, hann\n",
      "import numpy.fft\n",
      "import hickle as hkl\n",
      "\n",
      "ham_energies = defaultdict(list)\n",
      "\n",
      "for target in ['Dog_1', 'Dog_2', 'Dog_3', 'Dog_4', 'Dog_5', 'Patient_1', 'Patient_2']:\n",
      "    outdir = '../filtered-seizure-data/%s'%target\n",
      "    !mkdir {outdir}\n",
      "    for data_type in ['preictal', 'interictal', 'test']:\n",
      "        last_sequence = last_data_length_sec = last_Fs = last_channels = last_d_shape = None\n",
      "        for segment in range(10000):\n",
      "            fname = '../seizure-data/%s/%s_%s_segment_%04d.mat'%(target,target,data_type,segment+1)\n",
      "            try:\n",
      "                data = scipy.io.loadmat(fname)\n",
      "            except:\n",
      "                break\n",
      "\n",
      "            k = '%s_segment_%d'%(data_type,segment+1)\n",
      "            data_length_sec = data[k]['data_length_sec'][0,0][0,0]\n",
      "            try:\n",
      "                sequence = data[k]['sequence'][0,0][0,0]\n",
      "            except:\n",
      "                sequence = 1\n",
      "            Fs = float(data[k]['sampling_frequency'][0,0][0,0])\n",
      "            channels = [t[0] for t in data[k]['channels'][0,0][0]]\n",
      "            d = data[k]['data'][0,0]\n",
      "\n",
      "            assert len(channels) == d.shape[0]\n",
      "            N = d.shape[1]\n",
      "            assert int(Fs*data_length_sec + 0.5) == N,int(Fs*data_length_sec + 0.5)\n",
      "            assert last_data_length_sec is None or last_data_length_sec == data_length_sec\n",
      "            last_data_length_sec = data_length_sec\n",
      "            assert last_Fs is None or last_Fs == Fs\n",
      "            last_Fs = Fs\n",
      "            assert last_channels is None or all(c1==c2 for c1,c2 in zip(last_channels, channels))\n",
      "            last_channels = channels\n",
      "            assert last_d_shape is None or last_d_shape == d.shape\n",
      "            last_d_shape = d.shape\n",
      "            \n",
      "\n",
      "            d = d.astype(float)\n",
      "            \n",
      "            # undo DC removal on Patients training data\n",
      "            W = 1\n",
      "            if data_type != 'test' and Fs > 410 and last_sequence is not None and last_sequence < sequence:\n",
      "                data_left_edge_mean = d[:,:W].mean(axis=-1)\n",
      "                data_offset = data_left_edge_mean - last_data_right_edge_mean\n",
      "                d -= data_offset.reshape(-1,1)\n",
      "            last_data_right_edge_mean = d[:,-W:].mean(axis=-1)\n",
      "            \n",
      "            # detect if the signal has a 60Hz ham noise\n",
      "            notchfreq = 60.\n",
      "            q = int(Fs/notchfreq+0.5)\n",
      "            matchfilter = np.empty((d.shape[0],q))\n",
      "            for i in range(q):\n",
      "                matchfilter[:,i] = np.mean(d[:,(np.arange(i,N,Fs/notchfreq)).astype(int)], axis=-1)\n",
      "            ham_energy = np.mean(np.std(matchfilter, axis=-1))\n",
      "            ham_energies[fname].append(ham_energy)\n",
      "            \n",
      "            # build a filter which will remove all the harmoniues of 60Hz\n",
      "            if ham_energy > 1:\n",
      "                notchwidth = 0.8\n",
      "                notchwidths = notchwidth/2./Fs\n",
      "                notchfreqs = notchfreq/Fs\n",
      "                fftfreq = np.abs(numpy.fft.fftfreq(d.shape[-1]))\n",
      "                notch = np.ones(N)\n",
      "                for h in range(1,int((Fs/2.)/notchfreq+0.5)):\n",
      "                    notch[np.abs(fftfreq - h*notchfreqs) <= notchwidths] = 0.\n",
      "            else:\n",
      "                notch = None\n",
      "\n",
      "            # remove ham and resample to 399.61Hz or 239766 samples per segment\n",
      "            if Fs > 410 or notch is not None:\n",
      "                data_resamp = resample(d, 239766, axis=-1, window=notch)\n",
      "                F = 399.61\n",
      "        #         print np.sum(np.abs(fftfreq - h*notchfreqs) <= notchwidths)/float(N)\n",
      "            else:\n",
      "                data_resamp = d.copy()\n",
      "                F = Fs\n",
      "#             data[k]['sampling_frequency'][0,0][0,0] = F\n",
      "#             data[k]['data'][0,0] = data_resamp\n",
      "            # save result in compressed HDF5, keep the sequence number in the file name\n",
      "            foutname = '../filtered-seizure-data/%s/%s_%s_segment_%04d_%d.hkl'%(target,target,data_type,segment+1,sequence)\n",
      "            hkl.dump(data_resamp, foutname, mode=\"w\", compression='gzip')"
     ],
     "language": "python",
     "metadata": {},
     "outputs": [
      {
       "output_type": "stream",
       "stream": "stdout",
       "text": [
        "dumping <type 'numpy.ndarray'> to file <HDF5 file \"Dog_1_preictal_segment_0001_1.hkl\" (mode r+)>\n",
        "dumping <type 'numpy.ndarray'> to file <HDF5 file \"Dog_1_preictal_segment_0002_2.hkl\" (mode r+)>"
       ]
      },
      {
       "output_type": "stream",
       "stream": "stdout",
       "text": [
        "\n"
       ]
      }
     ],
     "prompt_number": 9
    },
    {
     "cell_type": "code",
     "collapsed": false,
     "input": [
      "with open('../filtered-seizure-data/ham_energies.pkl', 'wb') as fp:\n",
      "    pickle.dump(ham_energies, fp, -1)"
     ],
     "language": "python",
     "metadata": {},
     "outputs": [],
     "prompt_number": 10
    },
    {
     "cell_type": "code",
     "collapsed": false,
     "input": [
      "with open('../filtered-seizure-data/ham_energies.pkl', 'rb') as fp:\n",
      "    ham_energies = pickle.load(fp)"
     ],
     "language": "python",
     "metadata": {},
     "outputs": [],
     "prompt_number": 2
    },
    {
     "cell_type": "code",
     "collapsed": false,
     "input": [
      "d = defaultdict(list)\n",
      "for k, v in ham_energies.iteritems():\n",
      "    n = k.split('/')[2]\n",
      "    d[n].append(v[0])"
     ],
     "language": "python",
     "metadata": {},
     "outputs": [],
     "prompt_number": 3
    },
    {
     "cell_type": "code",
     "collapsed": false,
     "input": [
      "for k, v in d.iteritems():\n",
      "    v = np.array(v)\n",
      "    print k, v.mean(), v.std(), v.max(), np.sum(v > 1)"
     ],
     "language": "python",
     "metadata": {},
     "outputs": [
      {
       "output_type": "stream",
       "stream": "stdout",
       "text": [
        "Dog_2 0.0326192303272 0.00790003661274 0.116521603785 0\n",
        "Dog_3 0.0444002504133 0.0165562878097 0.114304152885 0\n",
        "Dog_1 0.0352437171572 0.0107064466846 0.100232934898 0\n",
        "Dog_4 0.0881492909567 0.0192787227559 0.174261883249 0\n",
        "Dog_5 0.0534660452149 0.0258777272614 0.347694948647 0\n",
        "Patient_2 0.665725882136 1.08888571089 11.3448262223 40\n",
        "Patient_1 127.622399826 872.430725516 9123.07001337 77\n"
       ]
      }
     ],
     "prompt_number": 4
    },
    {
     "cell_type": "code",
     "collapsed": false,
     "input": [],
     "language": "python",
     "metadata": {},
     "outputs": []
    }
   ],
   "metadata": {}
  }
 ]
}