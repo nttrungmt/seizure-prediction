{
 "metadata": {
  "name": "",
  "signature": "sha256:cf017bd9e8ccbb4cdeb43cc256bbaab2a24d860a723782ffaee34cd2dba6df08"
 },
 "nbformat": 3,
 "nbformat_minor": 0,
 "worksheets": [
  {
   "cells": [
    {
     "cell_type": "code",
     "collapsed": false,
     "input": [
      "%matplotlib inline\n",
      "from matplotlib import pylab as pl\n",
      "import cPickle as pickle\n",
      "import pandas as pd\n",
      "import numpy as np\n",
      "import os\n",
      "import random"
     ],
     "language": "python",
     "metadata": {},
     "outputs": [],
     "prompt_number": 1
    },
    {
     "cell_type": "code",
     "collapsed": false,
     "input": [
      "import sys\n",
      "sys.path.append('..')"
     ],
     "language": "python",
     "metadata": {},
     "outputs": [],
     "prompt_number": 2
    },
    {
     "cell_type": "heading",
     "level": 1,
     "metadata": {},
     "source": [
      "Read precomputed features"
     ]
    },
    {
     "cell_type": "markdown",
     "metadata": {},
     "source": [
      "uncommoent the relevant pipeline in `../seizure_detection.py` and run\n",
      "```bash\n",
      "cd ..\n",
      "./doall predict\n",
      "```"
     ]
    },
    {
     "cell_type": "code",
     "collapsed": false,
     "input": [
      "FEATURES = 'gen4_medianwindow-fft-with-time-freq-corr-1-48-r400-usf-w600'"
     ],
     "language": "python",
     "metadata": {},
     "outputs": [],
     "prompt_number": 3
    },
    {
     "cell_type": "code",
     "collapsed": false,
     "input": [
      "from common.data import CachedDataLoader\n",
      "cached_data_loader = CachedDataLoader('../data-cache')"
     ],
     "language": "python",
     "metadata": {},
     "outputs": [],
     "prompt_number": 4
    },
    {
     "cell_type": "code",
     "collapsed": false,
     "input": [
      "def read_data(target, data_type):\n",
      "    return cached_data_loader.load('data_%s_%s_%s'%(data_type,target,FEATURES),None)"
     ],
     "language": "python",
     "metadata": {},
     "outputs": [],
     "prompt_number": 5
    },
    {
     "cell_type": "heading",
     "level": 1,
     "metadata": {},
     "source": [
      "Explore"
     ]
    },
    {
     "cell_type": "code",
     "collapsed": false,
     "input": [
      "for target in ['Dog_1', 'Dog_2', 'Dog_3', 'Dog_4', 'Dog_5', 'Patient_1', 'Patient_2']:\n",
      "    pdata = read_data(target, 'preictal') # positive examples\n",
      "    ndata = read_data(target, 'interictal') # negative examples\n",
      "    X = np.concatenate((pdata.X, ndata.X))\n",
      "    y = np.zeros(X.shape[0])\n",
      "    y[:pdata.X.shape[0]] = 1\n",
      "    tdata = read_data(target, 'test')\n",
      "    X_test = tdata.X\n",
      "    print target, y.mean(), X.shape, X_test.shape"
     ],
     "language": "python",
     "metadata": {},
     "outputs": [
      {
       "output_type": "stream",
       "stream": "stdout",
       "text": [
        "Loaded ../data-cache/data_preictal_Dog_1_gen4_medianwindow-fft-with-time-freq-corr-1-48-r400-usf-w600.hkl in 0s\n",
        "Loaded ../data-cache/data_interictal_Dog_1_gen4_medianwindow-fft-with-time-freq-corr-1-48-r400-usf-w600.hkl in 0s\n",
        "Loaded ../data-cache/data_test_Dog_1_gen4_medianwindow-fft-with-time-freq-corr-1-48-r400-usf-w600.hkl in 0s\n",
        "Dog_1 0.178082191781 (584, 3072) (502, 3072)\n",
        "Loaded ../data-cache/data_preictal_Dog_2_gen4_medianwindow-fft-with-time-freq-corr-1-48-r400-usf-w600.hkl in 0s\n",
        "Loaded ../data-cache/data_interictal_Dog_2_gen4_medianwindow-fft-with-time-freq-corr-1-48-r400-usf-w600.hkl in 0s\n",
        "Loaded ../data-cache/data_test_Dog_2_gen4_medianwindow-fft-with-time-freq-corr-1-48-r400-usf-w600.hkl in 0s"
       ]
      },
      {
       "output_type": "stream",
       "stream": "stdout",
       "text": [
        "\n",
        "Dog_2 0.266862170088 (682, 3072) (1000, 3072)\n",
        "Loaded ../data-cache/data_preictal_Dog_3_gen4_medianwindow-fft-with-time-freq-corr-1-48-r400-usf-w600.hkl in 0s\n",
        "Loaded ../data-cache/data_interictal_Dog_3_gen4_medianwindow-fft-with-time-freq-corr-1-48-r400-usf-w600.hkl in 0s"
       ]
      },
      {
       "output_type": "stream",
       "stream": "stdout",
       "text": [
        "\n",
        "Loaded ../data-cache/data_test_Dog_3_gen4_medianwindow-fft-with-time-freq-corr-1-48-r400-usf-w600.hkl in 0s\n",
        "Dog_3"
       ]
      },
      {
       "output_type": "stream",
       "stream": "stdout",
       "text": [
        " 0.178082191781 (1752, 3072) (907, 3072)\n",
        "Loaded ../data-cache/data_preictal_Dog_4_gen4_medianwindow-fft-with-time-freq-corr-1-48-r400-usf-w600.hkl in 0s\n",
        "Loaded ../data-cache/data_interictal_Dog_4_gen4_medianwindow-fft-with-time-freq-corr-1-48-r400-usf-w600.hkl in 0s\n",
        "Loaded ../data-cache/data_test_Dog_4_gen4_medianwindow-fft-with-time-freq-corr-1-48-r400-usf-w600.hkl in 0s"
       ]
      },
      {
       "output_type": "stream",
       "stream": "stdout",
       "text": [
        "\n",
        "Dog_4 0.341523341523 (1221, 3072) (990, 3072)\n",
        "Loaded ../data-cache/data_preictal_Dog_5_gen4_medianwindow-fft-with-time-freq-corr-1-48-r400-usf-w600.hkl in 0s\n",
        "Loaded ../data-cache/data_interictal_Dog_5_gen4_medianwindow-fft-with-time-freq-corr-1-48-r400-usf-w600.hkl in 0s\n",
        "Loaded ../data-cache/data_test_Dog_5_gen4_medianwindow-fft-with-time-freq-corr-1-48-r400-usf-w600.hkl in 0s"
       ]
      },
      {
       "output_type": "stream",
       "stream": "stdout",
       "text": [
        "\n",
        "Dog_5 0.224137931034 (580, 2835) (191, 2835)\n",
        "Loaded ../data-cache/data_preictal_Patient_1_gen4_medianwindow-fft-with-time-freq-corr-1-48-r400-usf-w600.hkl in 0s\n",
        "Loaded ../data-cache/data_interictal_Patient_1_gen4_medianwindow-fft-with-time-freq-corr-1-48-r400-usf-w600.hkl in 0s\n",
        "Loaded ../data-cache/data_test_Patient_1_gen4_medianwindow-fft-with-time-freq-corr-1-48-r400-usf-w600.hkl in 0s\n",
        "Patient_1 0.609375 (128, 2835) (195, 2835)\n",
        "Loaded ../data-cache/data_preictal_Patient_2_gen4_medianwindow-fft-with-time-freq-corr-1-48-r400-usf-w600.hkl in 0s"
       ]
      },
      {
       "output_type": "stream",
       "stream": "stdout",
       "text": [
        "\n",
        "Loaded ../data-cache/data_interictal_Patient_2_gen4_medianwindow-fft-with-time-freq-corr-1-48-r400-usf-w600.hkl in 0s\n",
        "Loaded ../data-cache/data_test_Patient_2_gen4_medianwindow-fft-with-time-freq-corr-1-48-r400-usf-w600.hkl in 0s\n",
        "Patient_2 0.65 (120, 5184) (150, 5184)\n"
       ]
      }
     ],
     "prompt_number": 9
    },
    {
     "cell_type": "code",
     "collapsed": false,
     "input": [],
     "language": "python",
     "metadata": {},
     "outputs": []
    }
   ],
   "metadata": {}
  }
 ]
}