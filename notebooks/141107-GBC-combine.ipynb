{
 "metadata": {
  "name": "",
  "signature": "sha256:6837ce915a64c33e478b9c87649d9f7d428a2e4940a31a61ffec8356b2c5fb9c"
 },
 "nbformat": 3,
 "nbformat_minor": 0,
 "worksheets": [
  {
   "cells": [
    {
     "cell_type": "markdown",
     "metadata": {},
     "source": [
      "continue from 141107-GBC"
     ]
    },
    {
     "cell_type": "code",
     "collapsed": false,
     "input": [
      "%matplotlib inline\n",
      "from matplotlib import pylab as pl\n",
      "import cPickle as pickle\n",
      "import pandas as pd\n",
      "import numpy as np\n",
      "import os\n",
      "import re\n",
      "import math\n",
      "import sys\n",
      "import random"
     ],
     "language": "python",
     "metadata": {},
     "outputs": [],
     "prompt_number": 1
    },
    {
     "cell_type": "code",
     "collapsed": false,
     "input": [
      "y = y_est = None"
     ],
     "language": "python",
     "metadata": {},
     "outputs": [],
     "prompt_number": 2
    },
    {
     "cell_type": "code",
     "collapsed": false,
     "input": [
      "for target in ['Dog_1', 'Dog_2', 'Dog_3', 'Dog_4', 'Dog_5', 'Patient_1', 'Patient_2']:\n",
      "    with open('../data-cache/%s_predict.spkl'%target,'rb') as fp:\n",
      "        y_target, y_est_target = pickle.load(fp)\n",
      "    if y is None:\n",
      "        y = y_target\n",
      "        y_est = y_est_target\n",
      "    else:\n",
      "        y = np.hstack((y, y_target))\n",
      "        y_est = np.hstack((y_est, y_est_target))"
     ],
     "language": "python",
     "metadata": {},
     "outputs": [],
     "prompt_number": 3
    },
    {
     "cell_type": "code",
     "collapsed": false,
     "input": [
      "from sklearn.metrics import roc_auc_score\n",
      "roc_auc_score(y, y_est)"
     ],
     "language": "python",
     "metadata": {},
     "outputs": [
      {
       "metadata": {},
       "output_type": "pyout",
       "prompt_number": 4,
       "text": [
        "0.84209212344054074"
       ]
      }
     ],
     "prompt_number": 4
    },
    {
     "cell_type": "code",
     "collapsed": false,
     "input": [
      "fpout = open('../submissions/141107-predict.5.csv','w')\n",
      "print >>fpout,'clip,preictal'"
     ],
     "language": "python",
     "metadata": {},
     "outputs": [],
     "prompt_number": 5
    },
    {
     "cell_type": "code",
     "collapsed": false,
     "input": [
      "for target in ['Dog_1', 'Dog_2', 'Dog_3', 'Dog_4', 'Dog_5', 'Patient_1', 'Patient_2']:\n",
      "    with open('../data-cache/%s_test.spkl'%target,'rb') as fp:\n",
      "        y_proba = pickle.load(fp)\n",
      "    # write results\n",
      "    for i,p in enumerate(y_proba):\n",
      "        print >>fpout,'%s_test_segment_%04d.mat,%.15f' % (target, i+1, p)"
     ],
     "language": "python",
     "metadata": {},
     "outputs": [],
     "prompt_number": 6
    },
    {
     "cell_type": "code",
     "collapsed": false,
     "input": [
      "fpout.close()"
     ],
     "language": "python",
     "metadata": {},
     "outputs": [],
     "prompt_number": 7
    }
   ],
   "metadata": {}
  }
 ]
}