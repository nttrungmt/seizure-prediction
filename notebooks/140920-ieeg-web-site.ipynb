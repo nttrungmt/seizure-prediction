{
 "metadata": {
  "name": "",
  "signature": "sha256:28d6883f1c0cc9179ee73cb4341dca61c2d563c677b18af5e090bf1b88cce272"
 },
 "nbformat": 3,
 "nbformat_minor": 0,
 "worksheets": [
  {
   "cells": [
    {
     "cell_type": "code",
     "collapsed": false,
     "input": [
      "%matplotlib inline\n",
      "from matplotlib import pylab as pl\n",
      "import cPickle as pickle\n",
      "import pandas as pd\n",
      "import numpy as np\n",
      "import os\n",
      "import random"
     ],
     "language": "python",
     "metadata": {},
     "outputs": [],
     "prompt_number": 1
    },
    {
     "cell_type": "markdown",
     "metadata": {},
     "source": [
      "www.ieeg.org follow videos https://www.youtube.com/watch?v=Q0jSTaWQtMs and https://www.youtube.com/watch?v=GvfnSY5tk2Y for setting up an account"
     ]
    },
    {
     "cell_type": "markdown",
     "metadata": {},
     "source": [
      "search for Dog EEG"
     ]
    },
    {
     "cell_type": "markdown",
     "metadata": {},
     "source": [
      "found 7 cases but only 3 are annotated I004_A0001_D001, I004_A0002_D002 and I004_A0003_D001"
     ]
    },
    {
     "cell_type": "code",
     "collapsed": false,
     "input": [
      "!ls -l ~/Downloads/I004_A0001_D001.csv"
     ],
     "language": "python",
     "metadata": {},
     "outputs": [
      {
       "output_type": "stream",
       "stream": "stdout",
       "text": [
        "-rw-r-----@ 1 udi  staff  472102285 Sep 20 15:13 /Users/udi/Downloads/I004_A0001_D001.csv\r\n"
       ]
      }
     ],
     "prompt_number": 2
    },
    {
     "cell_type": "heading",
     "level": 2,
     "metadata": {},
     "source": [
      "Getting annotations"
     ]
    },
    {
     "cell_type": "markdown",
     "metadata": {},
     "source": [
      "1. press \"Layers...\" button at bottom left\n",
      "2. Press Annotations at the bottom right of the pop up\n",
      "3. Press CSV"
     ]
    },
    {
     "cell_type": "code",
     "collapsed": false,
     "input": [
      "!wc -l ~/Downloads/I004_A0001_D001-annotiations.csv"
     ],
     "language": "python",
     "metadata": {},
     "outputs": [
      {
       "output_type": "stream",
       "stream": "stdout",
       "text": [
        "    1441 /Users/udi/Downloads/I004_A0001_D001-annotiations.csv\r\n"
       ]
      }
     ],
     "prompt_number": 3
    },
    {
     "cell_type": "code",
     "collapsed": false,
     "input": [
      "!head ~/Downloads/I004_A0001_D001-annotiations.csv"
     ],
     "language": "python",
     "metadata": {},
     "outputs": [
      {
       "output_type": "stream",
       "stream": "stdout",
       "text": [
        "Type,Start,End,Description,Channel,ChannelID,AnnotationID,Creator\r\n",
        "Seizure,2124151342773,2124151342773,,RIGHT_06,cd2d4443-d625-4193-96d2-efb2b54c8b1f,1521180,Joost Wagenaar\r\n",
        "Seizure,2124151342773,2124151342773,,LEFT_08,72ad187e-f0ed-452e-8605-4644e1d2b01e,1521180,Joost Wagenaar\r\n",
        "Seizure,2124151342773,2124151342773,,LEFT_01,9bf95d73-3f6e-4c74-bdea-f02745f7799c,1521180,Joost Wagenaar\r\n",
        "Seizure,2124151342773,2124151342773,,LEFT_02,09444db8-d008-41ee-a6ac-98b56c540029,1521180,Joost Wagenaar\r\n",
        "Seizure,2124151342773,2124151342773,,LEFT_04,1ad7a258-652d-4ade-9638-21eb35ae2331,1521180,Joost Wagenaar\r\n",
        "Seizure,2124151342773,2124151342773,,RIGHT_04,649b83c4-1cc4-4f0b-bab3-e058ae8f3f02,1521180,Joost Wagenaar\r\n",
        "Seizure,2124151342773,2124151342773,,LEFT_05,61d1a08a-c5b7-40dc-8b2b-6a9dddc56fd5,1521180,Joost Wagenaar\r\n",
        "Seizure,2124151342773,2124151342773,,RIGHT_03,4552733e-7b64-4222-87e0-4a438e1e5aea,1521180,Joost Wagenaar\r\n",
        "Seizure,2124151342773,2124151342773,,LEFT_07,c3f4023e-6dcd-4167-9f15-4a80fc34f5ae,1521180,Joost Wagenaar\r\n"
       ]
      }
     ],
     "prompt_number": 4
    },
    {
     "cell_type": "heading",
     "level": 3,
     "metadata": {},
     "source": [
      "Seizure start time"
     ]
    },
    {
     "cell_type": "code",
     "collapsed": false,
     "input": [
      "!cut -d, -f2 ~/Downloads/I004_A0001_D001-annotiations.csv | sort -n -u | wc -l"
     ],
     "language": "python",
     "metadata": {},
     "outputs": [
      {
       "output_type": "stream",
       "stream": "stdout",
       "text": [
        "      91\r\n"
       ]
      }
     ],
     "prompt_number": 10
    },
    {
     "cell_type": "code",
     "collapsed": false,
     "input": [
      "!cut -d, -f2 ~/Downloads/I004_A0001_D001-annotiations.csv | sort -n -u"
     ],
     "language": "python",
     "metadata": {},
     "outputs": [
      {
       "output_type": "stream",
       "stream": "stdout",
       "text": [
        "Start\r\n",
        "44424340820\r\n",
        "2124151342773\r\n",
        "2154218676757\r\n",
        "2170395458984\r\n",
        "2180990795898\r\n",
        "2191320874023\r\n",
        "3701864575195\r\n",
        "3717143481445\r\n",
        "3721279516601\r\n",
        "3727026123047\r\n",
        "3732056030273\r\n",
        "3733406347656\r\n",
        "3738674487304\r\n",
        "3741890625000\r\n",
        "3790803344726\r\n",
        "3791683203125\r\n",
        "3792471972656\r\n",
        "3793027514648\r\n",
        "3793797265625\r\n",
        "3794855297851\r\n",
        "3795559985351\r\n",
        "3796306713867\r\n",
        "3797233618164\r\n",
        "3797962329101\r\n",
        "3798946289062\r\n",
        "3799741064453\r\n",
        "3800662963867\r\n",
        "3801107397461\r\n",
        "3801515795898\r\n",
        "3802153417968\r\n",
        "3802792041015\r\n",
        "3803236474609\r\n",
        "3804099316406\r\n",
        "3804888085937\r\n",
        "3805683862304\r\n",
        "3806047216797\r\n",
        "3806691845703\r\n",
        "3807334472656\r\n",
        "3807850976562\r\n",
        "3808239355468\r\n",
        "3809064160156\r\n",
        "3809743823242\r\n",
        "3810365429687\r\n",
        "3810892944336\r\n",
        "3811202246093\r\n",
        "3812002026367\r\n",
        "3812608618164\r\n",
        "3812928930664\r\n",
        "3813626611328\r\n",
        "3813954931640\r\n",
        "3817683569336\r\n",
        "3819539379882\r\n",
        "3821558349609\r\n",
        "3823796533203\r\n",
        "3842832104492\r\n",
        "3845261474609\r\n",
        "3846182373047\r\n",
        "3847014184570\r\n",
        "3847930078125\r\n",
        "3848616748047\r\n",
        "3849278393554\r\n",
        "3850046142578\r\n",
        "3850570654297\r\n",
        "3851091162109\r\n",
        "3852471508789\r\n",
        "3852642675781\r\n",
        "3853638647461\r\n",
        "3854372363281\r",
        "\r\n",
        "3854980957031\r\n",
        "3855678637695\r\n",
        "3856346289062\r\n",
        "3856889819336\r\n",
        "3857498413086\r\n",
        "3858142041015\r\n",
        "3858736621093\r\n",
        "3859296166992\r\n",
        "3859991845703\r\n",
        "3860609448242\r\n",
        "3861183007812\r\n",
        "3861879687500\r\n",
        "3862470263672\r\n",
        "3863138916015\r\n",
        "3863718481445\r\n",
        "3864280029297\r\n",
        "3865002734375\r\n",
        "3865825537109\r\n",
        "3876198657226\r\n",
        "3888372534179\r\n",
        "3893117163086\r\n",
        "3908540209961\r\n"
       ]
      }
     ],
     "prompt_number": 11
    },
    {
     "cell_type": "heading",
     "level": 2,
     "metadata": {},
     "source": [
      "Getting data"
     ]
    },
    {
     "cell_type": "markdown",
     "metadata": {},
     "source": [
      "use the Annot. buttons at the bottom to jump to next seizure"
     ]
    },
    {
     "cell_type": "markdown",
     "metadata": {},
     "source": [
      "First seizure 12:20:24.341709"
     ]
    },
    {
     "cell_type": "code",
     "collapsed": false,
     "input": [
      "(((12*60) + 20)*60+24.341709)*1000000"
     ],
     "language": "python",
     "metadata": {},
     "outputs": [
      {
       "metadata": {},
       "output_type": "pyout",
       "prompt_number": 17,
       "text": [
        "44424341709.0"
       ]
      }
     ],
     "prompt_number": 17
    },
    {
     "cell_type": "code",
     "collapsed": false,
     "input": [
      "which match exactly the CSV file"
     ],
     "language": "python",
     "metadata": {},
     "outputs": []
    },
    {
     "cell_type": "code",
     "collapsed": false,
     "input": [
      "44424340820 - _"
     ],
     "language": "python",
     "metadata": {},
     "outputs": [
      {
       "metadata": {},
       "output_type": "pyout",
       "prompt_number": 18,
       "text": [
        "-889.0"
       ]
      }
     ],
     "prompt_number": 18
    },
    {
     "cell_type": "heading",
     "level": 3,
     "metadata": {},
     "source": [
      "downloading 1:10:00 data before seizure"
     ]
    },
    {
     "cell_type": "markdown",
     "metadata": {},
     "source": [
      "end time is seizure start"
     ]
    },
    {
     "cell_type": "code",
     "collapsed": false,
     "input": [
      "44424340820/1000000"
     ],
     "language": "python",
     "metadata": {},
     "outputs": [
      {
       "metadata": {},
       "output_type": "pyout",
       "prompt_number": 19,
       "text": [
        "44424"
       ]
      }
     ],
     "prompt_number": 19
    },
    {
     "cell_type": "markdown",
     "metadata": {},
     "source": [
      "width (in seconds)"
     ]
    },
    {
     "cell_type": "code",
     "collapsed": false,
     "input": [
      "70*60"
     ],
     "language": "python",
     "metadata": {},
     "outputs": [
      {
       "metadata": {},
       "output_type": "pyout",
       "prompt_number": 22,
       "text": [
        "4200"
       ]
      }
     ],
     "prompt_number": 22
    },
    {
     "cell_type": "markdown",
     "metadata": {},
     "source": [
      "start time is 1:10:00 before that (in seconds)"
     ]
    },
    {
     "cell_type": "code",
     "collapsed": false,
     "input": [
      "44424340820/1000000 - 4200"
     ],
     "language": "python",
     "metadata": {},
     "outputs": [
      {
       "metadata": {},
       "output_type": "pyout",
       "prompt_number": 23,
       "text": [
        "40224"
       ]
      }
     ],
     "prompt_number": 23
    },
    {
     "cell_type": "markdown",
     "metadata": {},
     "source": [
      "enter value at the tool bar in the \"Start (s)\" and \"Width (s)\" text box. **Make sure you erase any previous values you had in does boxes**"
     ]
    },
    {
     "cell_type": "markdown",
     "metadata": {},
     "source": [
      "use the hamburger icon in the toolbar to download CSV"
     ]
    },
    {
     "cell_type": "code",
     "collapsed": false,
     "input": [
      "Fs=399.61"
     ],
     "language": "python",
     "metadata": {},
     "outputs": [],
     "prompt_number": 2
    },
    {
     "cell_type": "code",
     "collapsed": false,
     "input": [
      "!wc -l ~/Downloads/I004_A0001_D001.csv"
     ],
     "language": "python",
     "metadata": {},
     "outputs": [
      {
       "output_type": "stream",
       "stream": "stdout",
       "text": [
        "      17 /Users/udi/Downloads/I004_A0001_D001.csv\r\n"
       ]
      }
     ],
     "prompt_number": 26
    },
    {
     "cell_type": "markdown",
     "metadata": {},
     "source": [
      "it looks like first ine is header and then each channel is in a single line"
     ]
    },
    {
     "cell_type": "code",
     "collapsed": false,
     "input": [
      "!head -n 1 ~/Downloads/I004_A0001_D001.csv"
     ],
     "language": "python",
     "metadata": {},
     "outputs": [
      {
       "output_type": "stream",
       "stream": "stdout",
       "text": [
        "Channel Label,Channel ID,Start,Duration,Data...\r\n"
       ]
      }
     ],
     "prompt_number": 4
    },
    {
     "cell_type": "code",
     "collapsed": false,
     "input": [
      "!head -n 2 ~/Downloads/I004_A0001_D001.csv | tail -n 1 | dd count=1"
     ],
     "language": "python",
     "metadata": {},
     "outputs": [
      {
       "output_type": "stream",
       "stream": "stdout",
       "text": [
        "LEFT_01,9bf95d73-3f6e-4c74-bdea-f02745f7799c,40224000000,4200000000,-94,-79,-88,-96,-99,-89,-97,-121,-122,-104,-81,-70,-57,-49,-54,-49,-41,-27,-22,-27,-28,-22,-34,-52,-54,-32,-22,-25,-34,-57,-63,-63,-62,-47,-34,-38,-34,-30,-24,-21,-17,-25,-40,-42,-54,-61,-75,-81,-77,-81,-82,-84,-90,-96,-99,-105,-116,-119,-110,-97,-96,-79,-74,-69,-51,-29,-11,14,27,29,30,26,27,15,7,5,-6,-9,-10,-27,-43,-50,-46,-46,-46,-49,-69,-93,-108,-103,-84,-71,-57,-51,-57,-73,-73,-47,-20,-28,-34,-26,-20,-25,-27,-38,-56,-73,-86,-90,-83,-86,1+0 records in\r\n",
        "1+0 records out\r\n",
        "512 bytes transferred in 0.359566 secs (1424 bytes/sec)\r\n",
        "tail: stdout: Broken pipe\r\n"
       ]
      }
     ],
     "prompt_number": 8
    },
    {
     "cell_type": "markdown",
     "metadata": {},
     "source": [
      "Number of channels in each line"
     ]
    },
    {
     "cell_type": "code",
     "collapsed": false,
     "input": [
      "ieegdata = []\n",
      "with open('/Users/udi/Downloads/I004_A0001_D001.csv') as fp:\n",
      "    fp.next()\n",
      "    for l in fp:\n",
      "        l = l.split(',')\n",
      "        N = len(l)-4\n",
      "        print l[0],l[1],l[2],l[3],N,N/Fs\n",
      "        ieegdata.append(map(int,l[4:]))\n",
      "ieegdata = np.array(ieegdata)"
     ],
     "language": "python",
     "metadata": {},
     "outputs": [
      {
       "output_type": "stream",
       "stream": "stdout",
       "text": [
        "LEFT_01 9bf95d73-3f6e-4c74-bdea-f02745f7799c 40224000000 4200000000 1678362 4200.0\n",
        "LEFT_02"
       ]
      },
      {
       "output_type": "stream",
       "stream": "stdout",
       "text": [
        " 09444db8-d008-41ee-a6ac-98b56c540029 40224000000 4200000000 1678362 4200.0\n",
        "LEFT_03"
       ]
      },
      {
       "output_type": "stream",
       "stream": "stdout",
       "text": [
        " 236d01ea-9a36-4bbf-a638-20ca31f024e9 40224000000 4200000000 1678362 4200.0\n",
        "LEFT_04"
       ]
      },
      {
       "output_type": "stream",
       "stream": "stdout",
       "text": [
        " 1ad7a258-652d-4ade-9638-21eb35ae2331 40224000000 4200000000 1678362 4200.0\n",
        "LEFT_05"
       ]
      },
      {
       "output_type": "stream",
       "stream": "stdout",
       "text": [
        " 61d1a08a-c5b7-40dc-8b2b-6a9dddc56fd5 40224000000 4200000000 1678362 4200.0\n",
        "LEFT_06"
       ]
      },
      {
       "output_type": "stream",
       "stream": "stdout",
       "text": [
        " 9735ab3a-427b-480c-8e34-3eba10dce254 40224000000 4200000000 1678362 4200.0\n",
        "LEFT_07"
       ]
      },
      {
       "output_type": "stream",
       "stream": "stdout",
       "text": [
        " c3f4023e-6dcd-4167-9f15-4a80fc34f5ae 40224000000 4200000000 1678362 4200.0\n",
        "LEFT_08"
       ]
      },
      {
       "output_type": "stream",
       "stream": "stdout",
       "text": [
        " 72ad187e-f0ed-452e-8605-4644e1d2b01e 40224000000 4200000000 1678362 4200.0\n",
        "RIGHT_01"
       ]
      },
      {
       "output_type": "stream",
       "stream": "stdout",
       "text": [
        " 9f7bbd04-7548-4256-aadf-8fb2720d0077 40224000000 4200000000 1678362 4200.0\n",
        "RIGHT_02"
       ]
      },
      {
       "output_type": "stream",
       "stream": "stdout",
       "text": [
        " 9dcdc63c-bf10-4064-adf3-d4c3198af2fe 40224000000 4200000000 1678362 4200.0\n",
        "RIGHT_03"
       ]
      },
      {
       "output_type": "stream",
       "stream": "stdout",
       "text": [
        " 4552733e-7b64-4222-87e0-4a438e1e5aea 40224000000 4200000000 1678362 4200.0\n",
        "RIGHT_04"
       ]
      },
      {
       "output_type": "stream",
       "stream": "stdout",
       "text": [
        " 649b83c4-1cc4-4f0b-bab3-e058ae8f3f02 40224000000 4200000000 1678362 4200.0\n",
        "RIGHT_05"
       ]
      },
      {
       "output_type": "stream",
       "stream": "stdout",
       "text": [
        " 666156b0-9367-4e6c-a459-44243e38f9bc 40224000000 4200000000 1678362 4200.0\n",
        "RIGHT_06"
       ]
      },
      {
       "output_type": "stream",
       "stream": "stdout",
       "text": [
        " cd2d4443-d625-4193-96d2-efb2b54c8b1f 40224000000 4200000000 1678362 4200.0\n",
        "RIGHT_07"
       ]
      },
      {
       "output_type": "stream",
       "stream": "stdout",
       "text": [
        " 54cf3ee5-953b-44a0-a182-6335ad2571cf 40224000000 4200000000 1678362 4200.0\n",
        "RIGHT_08"
       ]
      },
      {
       "output_type": "stream",
       "stream": "stdout",
       "text": [
        " 1a5094be-0be4-44c9-9aab-82ee0a5b62d1 40224000000 4200000000 1678362 4200.0\n"
       ]
      }
     ],
     "prompt_number": 3
    },
    {
     "cell_type": "code",
     "collapsed": false,
     "input": [
      "ieegdata.shape"
     ],
     "language": "python",
     "metadata": {},
     "outputs": [
      {
       "metadata": {},
       "output_type": "pyout",
       "prompt_number": 4,
       "text": [
        "(16, 1678362)"
       ]
      }
     ],
     "prompt_number": 4
    },
    {
     "cell_type": "code",
     "collapsed": false,
     "input": [
      "data_type = 'preictal' # preictal interictal test"
     ],
     "language": "python",
     "metadata": {},
     "outputs": [],
     "prompt_number": 5
    },
    {
     "cell_type": "code",
     "collapsed": false,
     "input": [
      "import scipy.io\n",
      "import scipy.signal\n",
      "\n",
      "for target in ['Dog_1', 'Dog_2', 'Dog_3', 'Dog_4', 'Dog_5']:\n",
      "    segment = 1 # start segment\n",
      "\n",
      "    all_data = last_sequence = last_data_length_sec = last_Fs = last_channels = last_d_shape = None\n",
      "    while True:\n",
      "        fname = '../seizure-data/%s/%s_%s_segment_%04d.mat'%(target,target,data_type,segment)\n",
      "        try:\n",
      "            data = scipy.io.loadmat(fname)\n",
      "        except:\n",
      "            break\n",
      "        k = '%s_segment_%d'%(data_type,segment)\n",
      "#         for k1 in data.keys():\n",
      "#             if k1 != k:\n",
      "#                 print data[k1],\n",
      "#         print\n",
      "        data_length_sec = data[k]['data_length_sec'][0,0][0,0]\n",
      "        sequence = data[k]['sequence'][0,0][0,0]\n",
      "        Fs = float(data[k]['sampling_frequency'][0,0][0,0])\n",
      "        channels = [t[0] for t in data[k]['channels'][0,0][0]]\n",
      "        d = data[k]['data'][0,0]\n",
      "\n",
      "        assert len(channels) == d.shape[0]\n",
      "        assert int(Fs*data_length_sec + 0.5) == d.shape[1],int(Fs*data_length_sec + 0.5)\n",
      "        assert last_data_length_sec is None or last_data_length_sec == data_length_sec\n",
      "        last_data_length_sec = data_length_sec\n",
      "        assert last_Fs is None or last_Fs == Fs\n",
      "        last_Fs = Fs\n",
      "        assert last_channels is None or all(c1==c2 for c1,c2 in zip(last_channels, channels))\n",
      "        last_channels = channels\n",
      "        assert last_d_shape is None or last_d_shape == d.shape\n",
      "        last_d_shape = d.shape\n",
      "\n",
      "        if sequence == 3:\n",
      "            print target, channels[0]\n",
      "            for ieegchan in ieegdata:\n",
      "                c = scipy.signal.fftconvolve(ieegchan,d[0,::-1],mode='valid')\n",
      "                score = (c.max()-c.mean())/c.std()\n",
      "                if score > 10:\n",
      "                    print target,score\n",
      "        last_sequence = sequence\n",
      "        segment += 1\n",
      "#     print data_length_sec, sequence, Fs, d.shape"
     ],
     "language": "python",
     "metadata": {},
     "outputs": [
      {
       "output_type": "stream",
       "stream": "stdout",
       "text": [
        "Dog_1 NVC1202_32_002_Ecog_c001\n",
        "Dog_1"
       ]
      },
      {
       "output_type": "stream",
       "stream": "stdout",
       "text": [
        " NVC1202_32_002_Ecog_c001\n",
        "Dog_1"
       ]
      },
      {
       "output_type": "stream",
       "stream": "stdout",
       "text": [
        " NVC1202_32_002_Ecog_c001\n",
        "Dog_1"
       ]
      },
      {
       "output_type": "stream",
       "stream": "stdout",
       "text": [
        " NVC1202_32_002_Ecog_c001\n",
        "Dog_2"
       ]
      },
      {
       "output_type": "stream",
       "stream": "stdout",
       "text": [
        " NVC0905_22_002_Ecog_c001\n",
        "Dog_2"
       ]
      },
      {
       "output_type": "stream",
       "stream": "stdout",
       "text": [
        " NVC0905_22_002_Ecog_c001\n",
        "Dog_2"
       ]
      },
      {
       "output_type": "stream",
       "stream": "stdout",
       "text": [
        " NVC0905_22_002_Ecog_c001\n",
        "Dog_2"
       ]
      },
      {
       "output_type": "stream",
       "stream": "stdout",
       "text": [
        " NVC0905_22_002_Ecog_c001\n",
        "Dog_2"
       ]
      },
      {
       "output_type": "stream",
       "stream": "stdout",
       "text": [
        " NVC0905_22_002_Ecog_c001\n",
        "Dog_2"
       ]
      },
      {
       "output_type": "stream",
       "stream": "stdout",
       "text": [
        " NVC0905_22_002_Ecog_c001\n",
        "Dog_2"
       ]
      },
      {
       "output_type": "stream",
       "stream": "stdout",
       "text": [
        " NVC0905_22_002_Ecog_c001\n",
        "Dog_3"
       ]
      },
      {
       "output_type": "stream",
       "stream": "stdout",
       "text": [
        " NVC0906_22_007_Ecog_c001\n",
        "Dog_3"
       ]
      },
      {
       "output_type": "stream",
       "stream": "stdout",
       "text": [
        " NVC0906_22_007_Ecog_c001\n",
        "Dog_3"
       ]
      },
      {
       "output_type": "stream",
       "stream": "stdout",
       "text": [
        " NVC0906_22_007_Ecog_c001\n",
        "Dog_3"
       ]
      },
      {
       "output_type": "stream",
       "stream": "stdout",
       "text": [
        " NVC0906_22_007_Ecog_c001\n",
        "Dog_3"
       ]
      },
      {
       "output_type": "stream",
       "stream": "stdout",
       "text": [
        " NVC0906_22_007_Ecog_c001\n",
        "Dog_3"
       ]
      },
      {
       "output_type": "stream",
       "stream": "stdout",
       "text": [
        " NVC0906_22_007_Ecog_c001\n",
        "Dog_3"
       ]
      },
      {
       "output_type": "stream",
       "stream": "stdout",
       "text": [
        " NVC0906_22_007_Ecog_c001\n",
        "Dog_3"
       ]
      },
      {
       "output_type": "stream",
       "stream": "stdout",
       "text": [
        " NVC0906_22_007_Ecog_c001\n",
        "Dog_3"
       ]
      },
      {
       "output_type": "stream",
       "stream": "stdout",
       "text": [
        " NVC0906_22_007_Ecog_c001\n",
        "Dog_3"
       ]
      },
      {
       "output_type": "stream",
       "stream": "stdout",
       "text": [
        " NVC0906_22_007_Ecog_c001\n",
        "Dog_3"
       ]
      },
      {
       "output_type": "stream",
       "stream": "stdout",
       "text": [
        " NVC0906_22_007_Ecog_c001\n",
        "Dog_3"
       ]
      },
      {
       "output_type": "stream",
       "stream": "stdout",
       "text": [
        " NVC0906_22_007_Ecog_c001\n",
        "Dog_4"
       ]
      },
      {
       "output_type": "stream",
       "stream": "stdout",
       "text": [
        " NVC1202_26_003_Ecog_c001\n",
        "Dog_4"
       ]
      },
      {
       "output_type": "stream",
       "stream": "stdout",
       "text": [
        " NVC1202_26_003_Ecog_c001\n",
        "Dog_4"
       ]
      },
      {
       "output_type": "stream",
       "stream": "stdout",
       "text": [
        " NVC1202_26_003_Ecog_c001\n",
        "Dog_4"
       ]
      },
      {
       "output_type": "stream",
       "stream": "stdout",
       "text": [
        " NVC1202_26_003_Ecog_c001\n",
        "Dog_4"
       ]
      },
      {
       "output_type": "stream",
       "stream": "stdout",
       "text": [
        " NVC1202_26_003_Ecog_c001\n",
        "Dog_4"
       ]
      },
      {
       "output_type": "stream",
       "stream": "stdout",
       "text": [
        " NVC1202_26_003_Ecog_c001\n",
        "Dog_4"
       ]
      },
      {
       "output_type": "stream",
       "stream": "stdout",
       "text": [
        " NVC1202_26_003_Ecog_c001\n",
        "Dog_4"
       ]
      },
      {
       "output_type": "stream",
       "stream": "stdout",
       "text": [
        " NVC1202_26_003_Ecog_c001\n",
        "Dog_4"
       ]
      },
      {
       "output_type": "stream",
       "stream": "stdout",
       "text": [
        " NVC1202_26_003_Ecog_c001\n",
        "Dog_4"
       ]
      },
      {
       "output_type": "stream",
       "stream": "stdout",
       "text": [
        " NVC1202_26_003_Ecog_c001\n",
        "Dog_4"
       ]
      },
      {
       "output_type": "stream",
       "stream": "stdout",
       "text": [
        " NVC1202_26_003_Ecog_c001\n",
        "Dog_4"
       ]
      },
      {
       "output_type": "stream",
       "stream": "stdout",
       "text": [
        " NVC1202_26_003_Ecog_c001\n",
        "Dog_4"
       ]
      },
      {
       "output_type": "stream",
       "stream": "stdout",
       "text": [
        " NVC1202_26_003_Ecog_c001\n",
        "Dog_4"
       ]
      },
      {
       "output_type": "stream",
       "stream": "stdout",
       "text": [
        " NVC1202_26_003_Ecog_c001\n",
        "Dog_4"
       ]
      },
      {
       "output_type": "stream",
       "stream": "stdout",
       "text": [
        " NVC1202_26_003_Ecog_c001\n",
        "Dog_4"
       ]
      },
      {
       "output_type": "stream",
       "stream": "stdout",
       "text": [
        " NVC1202_26_003_Ecog_c001\n",
        "Dog_5"
       ]
      },
      {
       "output_type": "stream",
       "stream": "stdout",
       "text": [
        " NVC0905_22_004_Ecog_c001\n",
        "Dog_5"
       ]
      },
      {
       "output_type": "stream",
       "stream": "stdout",
       "text": [
        " NVC0905_22_004_Ecog_c001\n",
        "Dog_5"
       ]
      },
      {
       "output_type": "stream",
       "stream": "stdout",
       "text": [
        " NVC0905_22_004_Ecog_c001\n",
        "Dog_5"
       ]
      },
      {
       "output_type": "stream",
       "stream": "stdout",
       "text": [
        " NVC0905_22_004_Ecog_c001\n",
        "Dog_5"
       ]
      },
      {
       "output_type": "stream",
       "stream": "stdout",
       "text": [
        " NVC0905_22_004_Ecog_c001\n"
       ]
      }
     ],
     "prompt_number": 6
    },
    {
     "cell_type": "code",
     "collapsed": false,
     "input": [],
     "language": "python",
     "metadata": {},
     "outputs": []
    }
   ],
   "metadata": {}
  }
 ]
}