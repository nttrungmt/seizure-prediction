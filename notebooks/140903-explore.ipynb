{
 "metadata": {
  "name": "",
  "signature": "sha256:f5471dfa0eb9e2f6a54f74ba7db33d831cc382ff57be02c0e9050c953b4c2b13"
 },
 "nbformat": 3,
 "nbformat_minor": 0,
 "worksheets": [
  {
   "cells": [
    {
     "cell_type": "code",
     "collapsed": false,
     "input": [
      "import sys\n",
      "sys.path.append('..')"
     ],
     "language": "python",
     "metadata": {},
     "outputs": [],
     "prompt_number": 2
    },
    {
     "cell_type": "code",
     "collapsed": false,
     "input": [
      "from seizure.tasks import load_mat_data\n",
      "import seizure.tasks\n",
      "seizure.tasks.task_predict = True"
     ],
     "language": "python",
     "metadata": {},
     "outputs": [],
     "prompt_number": 8
    },
    {
     "cell_type": "code",
     "collapsed": false,
     "input": [
      "itr = load_mat_data('../seizure-data','Dog_2','preictal')"
     ],
     "language": "python",
     "metadata": {},
     "outputs": [],
     "prompt_number": 122
    },
    {
     "cell_type": "code",
     "collapsed": false,
     "input": [
      "for f in itr:\n",
      "    for key in f.keys():\n",
      "        if not key.startswith('_'):\n",
      "            break\n",
      "    #print f[key].dtype.fields.keys()\n",
      "    print key,f[key]['data'][0][0].shape,f[key]['channels'][0][0].shape[1],\n",
      "    for k in f[key].dtype.fields:\n",
      "        if k != 'data' and k != 'channels':\n",
      "            print k,f[key][k][0][0][0][0],\n",
      "    print"
     ],
     "language": "python",
     "metadata": {},
     "outputs": [
      {
       "output_type": "stream",
       "stream": "stdout",
       "text": [
        "preictal_segment_1 (16, 239766) 16 data_length_sec 600 sampling_frequency 399.609756098 sequence 1\n",
        "preictal_segment_2 (16, 239766) 16 data_length_sec 600 sampling_frequency 399.609756098 sequence 2\n",
        "preictal_segment_3 (16, 239766) 16 data_length_sec 600 sampling_frequency 399.609756098 sequence 3\n",
        "preictal_segment_4 (16, 239766) 16 data_length_sec 600 sampling_frequency 399.609756098 sequence 4\n",
        "preictal_segment_5 (16, 239766) 16 data_length_sec 600 sampling_frequency 399.609756098 sequence 5\n",
        "preictal_segment_6"
       ]
      },
      {
       "output_type": "stream",
       "stream": "stdout",
       "text": [
        " (16, 239766) 16 data_length_sec 600 sampling_frequency 399.609756098 sequence 6\n",
        "preictal_segment_7 (16, 239766) 16 data_length_sec 600 sampling_frequency 399.609756098 sequence 1\n",
        "preictal_segment_8"
       ]
      },
      {
       "output_type": "stream",
       "stream": "stdout",
       "text": [
        " (16, 239766) 16 data_length_sec 600 sampling_frequency 399.609756098 sequence 2\n",
        "preictal_segment_9 (16, 239766) 16 data_length_sec 600 sampling_frequency 399.609756098 sequence 3\n",
        "preictal_segment_10 (16, 239766) 16 data_length_sec 600 sampling_frequency 399.609756098 sequence 4\n",
        "preictal_segment_11"
       ]
      },
      {
       "output_type": "stream",
       "stream": "stdout",
       "text": [
        " (16, 239766) 16 data_length_sec 600 sampling_frequency 399.609756098 sequence 5\n",
        "preictal_segment_12 (16, 239766) 16 data_length_sec 600 sampling_frequency 399.609756098 sequence 6\n",
        "preictal_segment_13 (16, 239766) 16 data_length_sec 600 sampling_frequency 399.609756098 sequence 1\n",
        "preictal_segment_14"
       ]
      },
      {
       "output_type": "stream",
       "stream": "stdout",
       "text": [
        " (16, 239766) 16 data_length_sec 600 sampling_frequency 399.609756098 sequence 2\n",
        "preictal_segment_15 (16, 239766) 16 data_length_sec 600 sampling_frequency 399.609756098 sequence 3\n",
        "preictal_segment_16"
       ]
      },
      {
       "output_type": "stream",
       "stream": "stdout",
       "text": [
        " (16, 239766) 16 data_length_sec 600 sampling_frequency 399.609756098 sequence 4\n",
        "preictal_segment_17 (16, 239766) 16 data_length_sec 600 sampling_frequency 399.609756098 sequence 5\n",
        "preictal_segment_18 (16, 239766) 16 data_length_sec 600 sampling_frequency 399.609756098 sequence 6\n",
        "preictal_segment_19"
       ]
      },
      {
       "output_type": "stream",
       "stream": "stdout",
       "text": [
        " (16, 239766) 16 data_length_sec 600 sampling_frequency 399.609756098 sequence 1\n",
        "preictal_segment_20 (16, 239766) 16 data_length_sec 600 sampling_frequency 399.609756098 sequence 2\n",
        "preictal_segment_21"
       ]
      },
      {
       "output_type": "stream",
       "stream": "stdout",
       "text": [
        " (16, 239766) 16 data_length_sec 600 sampling_frequency 399.609756098 sequence 3\n",
        "preictal_segment_22 (16, 239766) 16 data_length_sec 600 sampling_frequency 399.609756098 sequence 4\n",
        "preictal_segment_23"
       ]
      },
      {
       "output_type": "stream",
       "stream": "stdout",
       "text": [
        " (16, 239766) 16 data_length_sec 600 sampling_frequency 399.609756098 sequence 5\n",
        "preictal_segment_24 (16, 239766) 16 data_length_sec 600 sampling_frequency 399.609756098 sequence 6\n",
        "preictal_segment_25 (16, 239766) 16 data_length_sec 600 sampling_frequency 399.609756098 sequence 1\n",
        "preictal_segment_26"
       ]
      },
      {
       "output_type": "stream",
       "stream": "stdout",
       "text": [
        " (16, 239766) 16 data_length_sec 600 sampling_frequency 399.609756098 sequence 2\n",
        "preictal_segment_27 (16, 239766) 16 data_length_sec 600 sampling_frequency 399.609756098 sequence 3\n",
        "preictal_segment_28 (16, 239766) 16 data_length_sec 600 sampling_frequency 399.609756098 sequence 4\n",
        "preictal_segment_29"
       ]
      },
      {
       "output_type": "stream",
       "stream": "stdout",
       "text": [
        " (16, 239766) 16 data_length_sec 600 sampling_frequency 399.609756098 sequence 5\n",
        "preictal_segment_30 (16, 239766) 16 data_length_sec 600 sampling_frequency 399.609756098 sequence 6\n",
        "preictal_segment_31 (16, 239766) 16 data_length_sec 600 sampling_frequency 399.609756098 sequence 1\n",
        "preictal_segment_32"
       ]
      },
      {
       "output_type": "stream",
       "stream": "stdout",
       "text": [
        " (16, 239766) 16 data_length_sec 600 sampling_frequency 399.609756098 sequence 2\n",
        "preictal_segment_33 (16, 239766) 16 data_length_sec 600 sampling_frequency 399.609756098 sequence 3\n",
        "preictal_segment_34 (16, 239766) 16 data_length_sec 600 sampling_frequency 399.609756098 sequence 4\n",
        "preictal_segment_35"
       ]
      },
      {
       "output_type": "stream",
       "stream": "stdout",
       "text": [
        " (16, 239766) 16 data_length_sec 600 sampling_frequency 399.609756098 sequence 5\n",
        "preictal_segment_36 (16, 239766) 16 data_length_sec 600 sampling_frequency 399.609756098 sequence 6\n",
        "preictal_segment_37 (16, 239766) 16 data_length_sec 600 sampling_frequency 399.609756098 sequence 1\n",
        "preictal_segment_38"
       ]
      },
      {
       "output_type": "stream",
       "stream": "stdout",
       "text": [
        " (16, 239766) 16 data_length_sec 600 sampling_frequency 399.609756098 sequence 2\n",
        "preictal_segment_39 (16, 239766) 16 data_length_sec 600 sampling_frequency 399.609756098 sequence 3\n",
        "preictal_segment_40 (16, 239766) 16 data_length_sec 600 sampling_frequency 399.609756098 sequence 4\n",
        "preictal_segment_41"
       ]
      },
      {
       "output_type": "stream",
       "stream": "stdout",
       "text": [
        " (16, 239766) 16 data_length_sec 600 sampling_frequency 399.609756098 sequence 5\n",
        "preictal_segment_42 (16, 239766) 16 data_length_sec 600 sampling_frequency 399.609756098 sequence 6\n"
       ]
      }
     ],
     "prompt_number": 123
    }
   ],
   "metadata": {}
  }
 ]
}