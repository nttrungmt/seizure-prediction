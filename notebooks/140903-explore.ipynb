{
 "metadata": {
  "name": "",
  "signature": "sha256:50979e835711e4ebdae7b3eda1966963e0c9a76cda379c16f419665e9ce01aee"
 },
 "nbformat": 3,
 "nbformat_minor": 0,
 "worksheets": [
  {
   "cells": [
    {
     "cell_type": "code",
     "collapsed": false,
     "input": [
      "import sys\n",
      "sys.path.append('..')"
     ],
     "language": "python",
     "metadata": {},
     "outputs": [],
     "prompt_number": 1
    },
    {
     "cell_type": "code",
     "collapsed": false,
     "input": [
      "%matplotlib inline\n",
      "from matplotlib import pylab as pl\n",
      "import cPickle as pickle\n",
      "import pandas as pd\n",
      "import numpy as np\n",
      "import os"
     ],
     "language": "python",
     "metadata": {},
     "outputs": [],
     "prompt_number": 11
    },
    {
     "cell_type": "code",
     "collapsed": false,
     "input": [
      "from seizure.tasks import load_mat_data\n",
      "import seizure.tasks\n",
      "seizure.tasks.task_predict = True"
     ],
     "language": "python",
     "metadata": {},
     "outputs": [],
     "prompt_number": 2
    },
    {
     "cell_type": "code",
     "collapsed": false,
     "input": [
      "itr = load_mat_data('../seizure-data','Dog_2','preictal')"
     ],
     "language": "python",
     "metadata": {},
     "outputs": [],
     "prompt_number": 39
    },
    {
     "cell_type": "code",
     "collapsed": false,
     "input": [
      "for f in itr:\n",
      "    for key in f.keys():\n",
      "        if not key.startswith('_'):\n",
      "            break\n",
      "    #print f[key].dtype.fields.keys()\n",
      "    print key,f[key]['data'][0][0].shape,f[key]['channels'][0][0].shape[1],\n",
      "    for k in f[key].dtype.fields:\n",
      "        if k != 'data' and k != 'channels':\n",
      "            print k,f[key][k][0][0][0][0],\n",
      "    print"
     ],
     "language": "python",
     "metadata": {},
     "outputs": [
      {
       "output_type": "stream",
       "stream": "stdout",
       "text": [
        "preictal_segment_1 (16, 239766) 16 data_length_sec 600 sampling_frequency 399.609756098 sequence 1\n",
        "preictal_segment_2 (16, 239766) 16 data_length_sec 600 sampling_frequency 399.609756098 sequence 2\n",
        "preictal_segment_3 (16, 239766) 16 data_length_sec 600 sampling_frequency 399.609756098 sequence 3\n",
        "preictal_segment_4"
       ]
      },
      {
       "output_type": "stream",
       "stream": "stdout",
       "text": [
        " (16, 239766) 16 data_length_sec 600 sampling_frequency 399.609756098 sequence 4\n",
        "preictal_segment_5 (16, 239766) 16 data_length_sec 600 sampling_frequency 399.609756098 sequence 5\n",
        "preictal_segment_6 (16, 239766) 16 data_length_sec 600 sampling_frequency 399.609756098 sequence 6\n",
        "preictal_segment_7"
       ]
      },
      {
       "output_type": "stream",
       "stream": "stdout",
       "text": [
        " (16, 239766) 16 data_length_sec 600 sampling_frequency 399.609756098 sequence 1\n",
        "preictal_segment_8 (16, 239766) 16 data_length_sec 600 sampling_frequency 399.609756098 sequence 2\n",
        "preictal_segment_9"
       ]
      },
      {
       "output_type": "stream",
       "stream": "stdout",
       "text": [
        " (16, 239766) 16 data_length_sec 600 sampling_frequency 399.609756098 sequence 3\n",
        "preictal_segment_10 (16, 239766) 16 data_length_sec 600 sampling_frequency 399.609756098 sequence 4\n",
        "preictal_segment_11 (16, 239766) 16 data_length_sec 600 sampling_frequency 399.609756098 sequence 5\n",
        "preictal_segment_12"
       ]
      },
      {
       "output_type": "stream",
       "stream": "stdout",
       "text": [
        " (16, 239766) 16 data_length_sec 600 sampling_frequency 399.609756098 sequence 6\n",
        "preictal_segment_13 (16, 239766) 16 data_length_sec 600 sampling_frequency 399.609756098 sequence 1\n",
        "preictal_segment_14 (16, 239766) 16 data_length_sec 600 sampling_frequency 399.609756098 sequence 2\n",
        "preictal_segment_15"
       ]
      },
      {
       "output_type": "stream",
       "stream": "stdout",
       "text": [
        " (16, 239766) 16 data_length_sec 600 sampling_frequency 399.609756098 sequence 3\n",
        "preictal_segment_16 (16, 239766) 16 data_length_sec 600 sampling_frequency 399.609756098 sequence 4\n",
        "preictal_segment_17 (16, 239766) 16 data_length_sec 600 sampling_frequency 399.609756098 sequence 5\n",
        "preictal_segment_18"
       ]
      },
      {
       "output_type": "stream",
       "stream": "stdout",
       "text": [
        " (16, 239766) 16 data_length_sec 600 sampling_frequency 399.609756098 sequence 6\n",
        "preictal_segment_19 (16, 239766) 16 data_length_sec 600 sampling_frequency 399.609756098 sequence 1\n",
        "preictal_segment_20 (16, 239766) 16 data_length_sec 600 sampling_frequency 399.609756098 sequence 2\n",
        "preictal_segment_21"
       ]
      },
      {
       "output_type": "stream",
       "stream": "stdout",
       "text": [
        " (16, 239766) 16 data_length_sec 600 sampling_frequency 399.609756098 sequence 3\n",
        "preictal_segment_22 (16, 239766) 16 data_length_sec 600 sampling_frequency 399.609756098 sequence 4\n",
        "preictal_segment_23 (16, 239766) 16 data_length_sec 600 sampling_frequency 399.609756098 sequence 5\n",
        "preictal_segment_24"
       ]
      },
      {
       "output_type": "stream",
       "stream": "stdout",
       "text": [
        " (16, 239766) 16 data_length_sec 600 sampling_frequency 399.609756098 sequence 6\n",
        "preictal_segment_25 (16, 239766) 16 data_length_sec 600 sampling_frequency 399.609756098 sequence 1\n",
        "preictal_segment_26 (16, 239766) 16 data_length_sec 600 sampling_frequency 399.609756098 sequence 2\n",
        "preictal_segment_27"
       ]
      },
      {
       "output_type": "stream",
       "stream": "stdout",
       "text": [
        " (16, 239766) 16 data_length_sec 600 sampling_frequency 399.609756098 sequence 3\n",
        "preictal_segment_28 (16, 239766) 16 data_length_sec 600 sampling_frequency 399.609756098 sequence 4\n",
        "preictal_segment_29 (16, 239766) 16 data_length_sec 600 sampling_frequency 399.609756098 sequence 5\n",
        "preictal_segment_30"
       ]
      },
      {
       "output_type": "stream",
       "stream": "stdout",
       "text": [
        " (16, 239766) 16 data_length_sec 600 sampling_frequency 399.609756098 sequence 6\n",
        "preictal_segment_31 (16, 239766) 16 data_length_sec 600 sampling_frequency 399.609756098 sequence 1\n",
        "preictal_segment_32 (16, 239766) 16 data_length_sec 600 sampling_frequency 399.609756098 sequence 2\n",
        "preictal_segment_33"
       ]
      },
      {
       "output_type": "stream",
       "stream": "stdout",
       "text": [
        " (16, 239766) 16 data_length_sec 600 sampling_frequency 399.609756098 sequence 3\n",
        "preictal_segment_34 (16, 239766) 16 data_length_sec 600 sampling_frequency 399.609756098 sequence 4\n",
        "preictal_segment_35 (16, 239766) 16 data_length_sec 600 sampling_frequency 399.609756098 sequence 5\n",
        "preictal_segment_36"
       ]
      },
      {
       "output_type": "stream",
       "stream": "stdout",
       "text": [
        " (16, 239766) 16 data_length_sec 600 sampling_frequency 399.609756098 sequence 6\n",
        "preictal_segment_37 (16, 239766) 16 data_length_sec 600 sampling_frequency 399.609756098 sequence 1\n",
        "preictal_segment_38 (16, 239766) 16 data_length_sec 600 sampling_frequency 399.609756098 sequence 2\n",
        "preictal_segment_39"
       ]
      },
      {
       "output_type": "stream",
       "stream": "stdout",
       "text": [
        " (16, 239766) 16 data_length_sec 600 sampling_frequency 399.609756098 sequence 3\n",
        "preictal_segment_40 (16, 239766) 16 data_length_sec 600 sampling_frequency 399.609756098 sequence 4\n",
        "preictal_segment_41 (16, 239766) 16 data_length_sec 600 sampling_frequency 399.609756098 sequence 5\n",
        "preictal_segment_42"
       ]
      },
      {
       "output_type": "stream",
       "stream": "stdout",
       "text": [
        " (16, 239766) 16 data_length_sec 600 sampling_frequency 399.609756098 sequence 6\n"
       ]
      }
     ],
     "prompt_number": 37
    },
    {
     "cell_type": "code",
     "collapsed": false,
     "input": [
      "for f in load_mat_data('../seizure-data','Patient_2','preictal'):\n",
      "    for key in f.keys():\n",
      "        if not key.startswith('_'):\n",
      "            break\n",
      "    print ' '.join([str(v[0]) for v in f[key]['channels'][0][0][0].ravel()])"
     ],
     "language": "python",
     "metadata": {},
     "outputs": [
      {
       "output_type": "stream",
       "stream": "stdout",
       "text": [
        "LTG_01 LTG_02 LTG_03 LTG_04 LTG_05 LTG_06 LTG_07 LTG_08 LTG_09 LTG_10 LTG_11 LTG_12 LTG_13 LTG_14 LTG_15 LTG_16 LTG_17 LTG_18 LTG_19 LTG_20 LTG_21 LTG_22 LTG_23 LTG_24\n",
        "LTG_01 LTG_02 LTG_03 LTG_04 LTG_05 LTG_06 LTG_07 LTG_08 LTG_09 LTG_10 LTG_11 LTG_12 LTG_13 LTG_14 LTG_15 LTG_16 LTG_17 LTG_18 LTG_19 LTG_20 LTG_21 LTG_22 LTG_23 LTG_24"
       ]
      },
      {
       "output_type": "stream",
       "stream": "stdout",
       "text": [
        "\n",
        "LTG_01 LTG_02 LTG_03 LTG_04 LTG_05 LTG_06 LTG_07 LTG_08 LTG_09 LTG_10 LTG_11 LTG_12 LTG_13 LTG_14 LTG_15 LTG_16 LTG_17 LTG_18 LTG_19 LTG_20 LTG_21 LTG_22 LTG_23 LTG_24"
       ]
      },
      {
       "output_type": "stream",
       "stream": "stdout",
       "text": [
        "\n",
        "LTG_01 LTG_02 LTG_03 LTG_04 LTG_05 LTG_06 LTG_07 LTG_08 LTG_09 LTG_10 LTG_11 LTG_12 LTG_13 LTG_14 LTG_15 LTG_16 LTG_17 LTG_18 LTG_19 LTG_20 LTG_21 LTG_22 LTG_23 LTG_24"
       ]
      },
      {
       "output_type": "stream",
       "stream": "stdout",
       "text": [
        "\n",
        "LTG_01 LTG_02 LTG_03 LTG_04 LTG_05 LTG_06 LTG_07 LTG_08 LTG_09 LTG_10 LTG_11 LTG_12 LTG_13 LTG_14 LTG_15 LTG_16 LTG_17 LTG_18 LTG_19 LTG_20 LTG_21 LTG_22 LTG_23 LTG_24"
       ]
      },
      {
       "output_type": "stream",
       "stream": "stdout",
       "text": [
        "\n",
        "LTG_01 LTG_02 LTG_03 LTG_04 LTG_05 LTG_06 LTG_07 LTG_08 LTG_09 LTG_10 LTG_11 LTG_12 LTG_13 LTG_14 LTG_15 LTG_16 LTG_17 LTG_18 LTG_19 LTG_20 LTG_21 LTG_22 LTG_23 LTG_24"
       ]
      },
      {
       "output_type": "stream",
       "stream": "stdout",
       "text": [
        "\n",
        "LTG_01 LTG_02 LTG_03 LTG_04 LTG_05 LTG_06 LTG_07 LTG_08 LTG_09 LTG_10 LTG_11 LTG_12 LTG_13 LTG_14 LTG_15 LTG_16 LTG_17 LTG_18 LTG_19 LTG_20 LTG_21 LTG_22 LTG_23 LTG_24"
       ]
      },
      {
       "output_type": "stream",
       "stream": "stdout",
       "text": [
        "\n",
        "LTG_01 LTG_02 LTG_03 LTG_04 LTG_05 LTG_06 LTG_07 LTG_08 LTG_09 LTG_10 LTG_11 LTG_12 LTG_13 LTG_14 LTG_15 LTG_16 LTG_17 LTG_18 LTG_19 LTG_20 LTG_21 LTG_22 LTG_23 LTG_24"
       ]
      },
      {
       "output_type": "stream",
       "stream": "stdout",
       "text": [
        "\n",
        "LTG_01 LTG_02 LTG_03 LTG_04 LTG_05 LTG_06 LTG_07 LTG_08 LTG_09 LTG_10 LTG_11 LTG_12 LTG_13 LTG_14 LTG_15 LTG_16 LTG_17 LTG_18 LTG_19 LTG_20 LTG_21 LTG_22 LTG_23 LTG_24"
       ]
      },
      {
       "output_type": "stream",
       "stream": "stdout",
       "text": [
        "\n",
        "LTG_01 LTG_02 LTG_03 LTG_04 LTG_05 LTG_06 LTG_07 LTG_08 LTG_09 LTG_10 LTG_11 LTG_12 LTG_13 LTG_14 LTG_15 LTG_16 LTG_17 LTG_18 LTG_19 LTG_20 LTG_21 LTG_22 LTG_23 LTG_24"
       ]
      },
      {
       "output_type": "stream",
       "stream": "stdout",
       "text": [
        "\n",
        "LTG_01 LTG_02 LTG_03 LTG_04 LTG_05 LTG_06 LTG_07 LTG_08 LTG_09 LTG_10 LTG_11 LTG_12 LTG_13 LTG_14 LTG_15 LTG_16 LTG_17 LTG_18 LTG_19 LTG_20 LTG_21 LTG_22 LTG_23 LTG_24"
       ]
      },
      {
       "output_type": "stream",
       "stream": "stdout",
       "text": [
        "\n",
        "LTG_01 LTG_02 LTG_03 LTG_04 LTG_05 LTG_06 LTG_07 LTG_08 LTG_09 LTG_10 LTG_11 LTG_12 LTG_13 LTG_14 LTG_15 LTG_16 LTG_17 LTG_18 LTG_19 LTG_20 LTG_21 LTG_22 LTG_23 LTG_24"
       ]
      },
      {
       "output_type": "stream",
       "stream": "stdout",
       "text": [
        "\n",
        "LTG_01 LTG_02 LTG_03 LTG_04 LTG_05 LTG_06 LTG_07 LTG_08 LTG_09 LTG_10 LTG_11 LTG_12 LTG_13 LTG_14 LTG_15 LTG_16 LTG_17 LTG_18 LTG_19 LTG_20 LTG_21 LTG_22 LTG_23 LTG_24"
       ]
      },
      {
       "output_type": "stream",
       "stream": "stdout",
       "text": [
        "\n",
        "LTG_01 LTG_02 LTG_03 LTG_04 LTG_05 LTG_06 LTG_07 LTG_08 LTG_09 LTG_10 LTG_11 LTG_12 LTG_13 LTG_14 LTG_15 LTG_16 LTG_17 LTG_18 LTG_19 LTG_20 LTG_21 LTG_22 LTG_23 LTG_24"
       ]
      },
      {
       "output_type": "stream",
       "stream": "stdout",
       "text": [
        "\n",
        "LTG_01 LTG_02 LTG_03 LTG_04 LTG_05 LTG_06 LTG_07 LTG_08 LTG_09 LTG_10 LTG_11 LTG_12 LTG_13 LTG_14 LTG_15 LTG_16 LTG_17 LTG_18 LTG_19 LTG_20 LTG_21 LTG_22 LTG_23 LTG_24"
       ]
      },
      {
       "output_type": "stream",
       "stream": "stdout",
       "text": [
        "\n",
        "LTG_01 LTG_02 LTG_03 LTG_04 LTG_05 LTG_06 LTG_07 LTG_08 LTG_09 LTG_10 LTG_11 LTG_12 LTG_13 LTG_14 LTG_15 LTG_16 LTG_17 LTG_18 LTG_19 LTG_20 LTG_21 LTG_22 LTG_23 LTG_24"
       ]
      },
      {
       "output_type": "stream",
       "stream": "stdout",
       "text": [
        "\n",
        "LTG_01 LTG_02 LTG_03 LTG_04 LTG_05 LTG_06 LTG_07 LTG_08 LTG_09 LTG_10 LTG_11 LTG_12 LTG_13 LTG_14 LTG_15 LTG_16 LTG_17 LTG_18 LTG_19 LTG_20 LTG_21 LTG_22 LTG_23 LTG_24"
       ]
      },
      {
       "output_type": "stream",
       "stream": "stdout",
       "text": [
        "\n",
        "LTG_01 LTG_02 LTG_03 LTG_04 LTG_05 LTG_06 LTG_07 LTG_08 LTG_09 LTG_10 LTG_11 LTG_12 LTG_13 LTG_14 LTG_15 LTG_16 LTG_17 LTG_18 LTG_19 LTG_20 LTG_21 LTG_22 LTG_23 LTG_24"
       ]
      },
      {
       "output_type": "stream",
       "stream": "stdout",
       "text": [
        "\n"
       ]
      }
     ],
     "prompt_number": 53
    },
    {
     "cell_type": "code",
     "collapsed": false,
     "input": [
      "400*600"
     ],
     "language": "python",
     "metadata": {},
     "outputs": [
      {
       "metadata": {},
       "output_type": "pyout",
       "prompt_number": 10,
       "text": [
        "240000"
       ]
      }
     ],
     "prompt_number": 10
    },
    {
     "cell_type": "code",
     "collapsed": false,
     "input": [
      "from seizure.transforms import Resample\n",
      "r = Resample(100)\n",
      "data = np.sin(np.linspace(0.,2.*np.pi,500))\n",
      "pl.plot(r.apply(data));"
     ],
     "language": "python",
     "metadata": {},
     "outputs": [
      {
       "metadata": {},
       "output_type": "display_data",
       "png": "[encoded data removed]",
       "text": [
        "<matplotlib.figure.Figure at 0x118989410>"
       ]
      }
     ],
     "prompt_number": 14
    },
    {
     "cell_type": "code",
     "collapsed": false,
     "input": [
      "np.linspace(0.,2.,5)"
     ],
     "language": "python",
     "metadata": {},
     "outputs": [
      {
       "metadata": {},
       "output_type": "pyout",
       "prompt_number": 15,
       "text": [
        "array([ 0. ,  0.5,  1. ,  1.5,  2. ])"
       ]
      }
     ],
     "prompt_number": 15
    },
    {
     "cell_type": "code",
     "collapsed": false,
     "input": [
      "239766 / 600."
     ],
     "language": "python",
     "metadata": {},
     "outputs": [
      {
       "metadata": {},
       "output_type": "pyout",
       "prompt_number": 17,
       "text": [
        "399.61"
       ]
      }
     ],
     "prompt_number": 17
    },
    {
     "cell_type": "code",
     "collapsed": false,
     "input": [
      "a = np.array([[[10,2,3],[4,5,6]],[[7,8,9],[2,11,12]],[[3,12,5],[2,11,12]],[[7,8,9],[2,11,12]]])"
     ],
     "language": "python",
     "metadata": {},
     "outputs": [],
     "prompt_number": 73
    },
    {
     "cell_type": "code",
     "collapsed": false,
     "input": [
      "np.sort(a,axis=0)[0,:,:]"
     ],
     "language": "python",
     "metadata": {},
     "outputs": [
      {
       "metadata": {},
       "output_type": "pyout",
       "prompt_number": 77,
       "text": [
        "array([[3, 2, 3],\n",
        "       [2, 5, 6]])"
       ]
      }
     ],
     "prompt_number": 77
    },
    {
     "cell_type": "code",
     "collapsed": false,
     "input": [],
     "language": "python",
     "metadata": {},
     "outputs": []
    }
   ],
   "metadata": {}
  }
 ]
}