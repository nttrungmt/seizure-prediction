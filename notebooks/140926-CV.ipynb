{
 "metadata": {
  "name": "",
  "signature": "sha256:c61312ad1f95806b0bcf28de201ccf699652ac4475f64ba090cdaddc9376248e"
 },
 "nbformat": 3,
 "nbformat_minor": 0,
 "worksheets": [
  {
   "cells": [
    {
     "cell_type": "markdown",
     "metadata": {},
     "source": [
      "with 140925-metainfo I found that the negative examples (interictal) also have sequences. I fixed the `gen_ictal` to generate inter-sequnece segments also for the negative examples."
     ]
    },
    {
     "cell_type": "code",
     "collapsed": false,
     "input": [
      "%matplotlib inline\n",
      "from matplotlib import pylab as pl\n",
      "import cPickle as pickle\n",
      "import pandas as pd\n",
      "import numpy as np\n",
      "import os\n",
      "import random\n",
      "from collections import defaultdict"
     ],
     "language": "python",
     "metadata": {},
     "outputs": [],
     "prompt_number": 2
    },
    {
     "cell_type": "code",
     "collapsed": false,
     "input": [
      "import sys\n",
      "sys.path.append('..')"
     ],
     "language": "python",
     "metadata": {},
     "outputs": [],
     "prompt_number": 3
    },
    {
     "cell_type": "heading",
     "level": 1,
     "metadata": {},
     "source": [
      "Read precomputed features"
     ]
    },
    {
     "cell_type": "markdown",
     "metadata": {},
     "source": [
      "uncommoent the relevant pipeline in `../seizure_detection.py` and run\n",
      "```bash\n",
      "cd ..\n",
      "./doall data\n",
      "```"
     ]
    },
    {
     "cell_type": "code",
     "collapsed": false,
     "input": [
      "FEATURES = 'gen-8_medianwindow-bands2-usf-w10-hammingP2-b0.2-b4-b8-b12-b30-b70-0.1-0.5-0.9'"
     ],
     "language": "python",
     "metadata": {},
     "outputs": [],
     "prompt_number": 1
    },
    {
     "cell_type": "code",
     "collapsed": false,
     "input": [
      "from common.data import CachedDataLoader\n",
      "cached_data_loader = CachedDataLoader('../data-cache')"
     ],
     "language": "python",
     "metadata": {},
     "outputs": [],
     "prompt_number": 4
    },
    {
     "cell_type": "code",
     "collapsed": false,
     "input": [
      "def read_data(target, data_type):\n",
      "    return cached_data_loader.load('data_%s_%s_%s'%(data_type,target,FEATURES),None)"
     ],
     "language": "python",
     "metadata": {},
     "outputs": [],
     "prompt_number": 5
    },
    {
     "cell_type": "heading",
     "level": 1,
     "metadata": {},
     "source": [
      "Predict"
     ]
    },
    {
     "cell_type": "code",
     "collapsed": false,
     "input": [
      "from sklearn.ensemble import RandomForestClassifier\n",
      "from sklearn.cross_validation import StratifiedKFold\n",
      "from sklearn.metrics import roc_auc_score\n",
      "from sklearn.linear_model import LogisticRegression as LR\n",
      "\n",
      "clf = RandomForestClassifier(n_estimators=3000, min_samples_split=1, bootstrap=False,max_depth=5,\n",
      "                             n_jobs=-1) #min_samples_leaf=4"
     ],
     "language": "python",
     "metadata": {},
     "outputs": [],
     "prompt_number": 6
    },
    {
     "cell_type": "code",
     "collapsed": false,
     "input": [
      "with_weights = False\n",
      "PWEIGHT = 6.\n",
      "LWEIGHT = 0.\n",
      "suffix = 'max_depth5'"
     ],
     "language": "python",
     "metadata": {},
     "outputs": [],
     "prompt_number": 7
    },
    {
     "cell_type": "markdown",
     "metadata": {},
     "source": [
      "split examples into segments, each from the same event\n",
      "in each CV-split we will take all examples from the same segment to either train or validate"
     ]
    },
    {
     "cell_type": "code",
     "collapsed": false,
     "input": [
      "def getsegments(pdata):\n",
      "    segments = []\n",
      "    start = 0\n",
      "    last_l = 0\n",
      "    for i,l in enumerate(pdata.latencies):\n",
      "        if l<last_l:\n",
      "            segments.append(np.arange(start,i))\n",
      "            start = i\n",
      "        last_l = l\n",
      "    segments.append(np.arange(start,i+1))\n",
      "    return np.array(segments)"
     ],
     "language": "python",
     "metadata": {},
     "outputs": [],
     "prompt_number": 8
    },
    {
     "cell_type": "markdown",
     "metadata": {},
     "source": [
      "Compute AUC for each target separatly"
     ]
    },
    {
     "cell_type": "code",
     "collapsed": false,
     "input": [
      "import itertools\n",
      "\n",
      "target2iter2ys = {}\n",
      "for target in ['Dog_1', 'Dog_2', 'Dog_3', 'Dog_4', 'Dog_5', 'Patient_1', 'Patient_2']:\n",
      "    # positive examples\n",
      "    pdata = read_data(target, 'preictal')\n",
      "    Np, NF = pdata.X.shape\n",
      "    \n",
      "    psegments = getsegments(pdata)\n",
      "    Nps = len(psegments)\n",
      "\n",
      "    # negative examples\n",
      "    ndata = read_data(target, 'interictal')\n",
      "    Nn, NF = ndata.X.shape\n",
      "    nsegments = getsegments(ndata)\n",
      "    Nns = len(nsegments)\n",
      "    \n",
      "    npratio = float(Nn)/Np\n",
      "    print target,1/(1+npratio),Np,Nn\n",
      "    npsratio = float(Nns)/Nps\n",
      "    print target,1/(1+npsratio),Nps,Nns\n",
      "    Ntrainps = 1\n",
      "    Ntrainns = int(Ntrainps*npsratio)\n",
      "\n",
      "    iter2ys = defaultdict(list) # {niter: Ns *[(ytest,y_proba)]\n",
      "    for s in psegments:\n",
      "        Xtestp = pdata.X[s,:]\n",
      "        weightstest = pdata.latencies[s] # latency for first segment is 1\n",
      "        \n",
      "        Ntrainp = len(s)\n",
      "        Ntrainn = int(Ntrainp*npratio)\n",
      "        \n",
      "        for niter in range(3):\n",
      "\n",
      "#             n = np.array(random.sample(xrange(Nn),Ntrainn)) # segment based\n",
      "            ns = np.array(random.sample(xrange(Nns),Ntrainns)) # sequence based\n",
      "            n = np.array(list(itertools.chain(*nsegments[ns]))) # .ravel does not work - elements of nsegments are not of equal length\n",
      "            Xtestn = ndata.X[n,:]\n",
      "\n",
      "            Xtrainp = pdata.X[-s,:]\n",
      "            Xtrainn = ndata.X[-n,:]\n",
      "\n",
      "            Xtrain = np.concatenate((Xtrainp,Xtrainn))\n",
      "            ytrain = np.concatenate((np.ones(Xtrainp.shape[0]),np.zeros(Xtrainn.shape[0])))\n",
      "            perm = np.random.permutation(len(ytrain))\n",
      "            ytrain = ytrain[perm]\n",
      "            Xtrain = Xtrain[perm,:]\n",
      "\n",
      "            Xtest = np.concatenate((Xtestp,Xtestn))\n",
      "            ytest = np.concatenate((np.ones(Xtestp.shape[0]),np.zeros(Xtestn.shape[0])))\n",
      "\n",
      "            if with_weights:\n",
      "                weightsp = PWEIGHT*np.ones(Xtrainp.shape[0])\n",
      "                weightsp += LWEIGHT * (pdata.latencies[-s]-1.) # latency for first segment is 1\n",
      "                weightsn = np.ones(Xtrainn.shape[0]) \n",
      "                weights = np.concatenate((weightsp,weightsn))\n",
      "                weights = weights[perm]\n",
      "                clf.fit(Xtrain, ytrain, sample_weight=weights)\n",
      "            else:\n",
      "                clf.fit(Xtrain, ytrain)\n",
      "\n",
      "            y_proba = clf.predict_proba(Xtest)[:,1]\n",
      "            iter2ys[niter].append((ytest, y_proba))\n",
      "            \n",
      "            auc = roc_auc_score(ytest, y_proba)\n",
      "            print '%.3f'%auc,Ntrainp,np.mean(weightstest)\n",
      "    target2iter2ys[target] = iter2ys\n",
      "    print"
     ],
     "language": "python",
     "metadata": {},
     "outputs": [
      {
       "output_type": "stream",
       "stream": "stdout",
       "text": [
        "Dog_1 0.277108433735 184 480\n",
        "Dog_1 0.047619047619 4 80\n",
        "0.805"
       ]
      },
      {
       "output_type": "stream",
       "stream": "stdout",
       "text": [
        " 46 3.5\n",
        "0.874"
       ]
      },
      {
       "output_type": "stream",
       "stream": "stdout",
       "text": [
        " 46 3.5\n",
        "0.835"
       ]
      },
      {
       "output_type": "stream",
       "stream": "stdout",
       "text": [
        " 46 3.5\n",
        "0.403"
       ]
      },
      {
       "output_type": "stream",
       "stream": "stdout",
       "text": [
        " 46 3.5\n",
        "0.458"
       ]
      },
      {
       "output_type": "stream",
       "stream": "stdout",
       "text": [
        " 46 3.5\n",
        "0.515"
       ]
      },
      {
       "output_type": "stream",
       "stream": "stdout",
       "text": [
        " 46 3.5\n",
        "0.581"
       ]
      },
      {
       "output_type": "stream",
       "stream": "stdout",
       "text": [
        " 46 3.5\n",
        "0.447"
       ]
      },
      {
       "output_type": "stream",
       "stream": "stdout",
       "text": [
        " 46 3.5\n",
        "0.755"
       ]
      },
      {
       "output_type": "stream",
       "stream": "stdout",
       "text": [
        " 46 3.5\n",
        "0.674"
       ]
      },
      {
       "output_type": "stream",
       "stream": "stdout",
       "text": [
        " 46 3.5\n",
        "0.713"
       ]
      },
      {
       "output_type": "stream",
       "stream": "stdout",
       "text": [
        " 46 3.5\n",
        "0.450"
       ]
      },
      {
       "output_type": "stream",
       "stream": "stdout",
       "text": [
        " 46 3.5\n",
        "\n",
        "Dog_2 0.391727493917 322 500\n",
        "Dog_2 0.0769230769231 7 84\n",
        "0.976"
       ]
      },
      {
       "output_type": "stream",
       "stream": "stdout",
       "text": [
        " 46 3.5\n",
        "0.996"
       ]
      },
      {
       "output_type": "stream",
       "stream": "stdout",
       "text": [
        " 46 3.5\n",
        "0.984"
       ]
      },
      {
       "output_type": "stream",
       "stream": "stdout",
       "text": [
        " 46 3.5\n",
        "0.955"
       ]
      },
      {
       "output_type": "stream",
       "stream": "stdout",
       "text": [
        " 46 3.5\n",
        "0.982"
       ]
      },
      {
       "output_type": "stream",
       "stream": "stdout",
       "text": [
        " 46 3.5\n",
        "0.997"
       ]
      },
      {
       "output_type": "stream",
       "stream": "stdout",
       "text": [
        " 46 3.5\n",
        "0.945"
       ]
      },
      {
       "output_type": "stream",
       "stream": "stdout",
       "text": [
        " 46 3.5\n",
        "0.930"
       ]
      },
      {
       "output_type": "stream",
       "stream": "stdout",
       "text": [
        " 46 3.5\n",
        "0.911"
       ]
      },
      {
       "output_type": "stream",
       "stream": "stdout",
       "text": [
        " 46 3.5\n",
        "1.000"
       ]
      },
      {
       "output_type": "stream",
       "stream": "stdout",
       "text": [
        " 46 3.5\n",
        "1.000"
       ]
      },
      {
       "output_type": "stream",
       "stream": "stdout",
       "text": [
        " 46 3.5\n",
        "1.000"
       ]
      },
      {
       "output_type": "stream",
       "stream": "stdout",
       "text": [
        " 46 3.5\n",
        "0.972"
       ]
      },
      {
       "output_type": "stream",
       "stream": "stdout",
       "text": [
        " 46 3.5\n",
        "0.959"
       ]
      },
      {
       "output_type": "stream",
       "stream": "stdout",
       "text": [
        " 46 3.5\n",
        "0.951"
       ]
      },
      {
       "output_type": "stream",
       "stream": "stdout",
       "text": [
        " 46 3.5\n",
        "1.000"
       ]
      },
      {
       "output_type": "stream",
       "stream": "stdout",
       "text": [
        " 46 3.5\n",
        "0.993"
       ]
      },
      {
       "output_type": "stream",
       "stream": "stdout",
       "text": [
        " 46 3.5\n",
        "1.000"
       ]
      },
      {
       "output_type": "stream",
       "stream": "stdout",
       "text": [
        " 46 3.5\n",
        "0.605"
       ]
      },
      {
       "output_type": "stream",
       "stream": "stdout",
       "text": [
        " 46 3.5\n",
        "0.832"
       ]
      },
      {
       "output_type": "stream",
       "stream": "stdout",
       "text": [
        " 46 3.5\n",
        "0.617"
       ]
      },
      {
       "output_type": "stream",
       "stream": "stdout",
       "text": [
        " 46 3.5\n",
        "\n",
        "Dog_3 0.277108433735 552 1440\n",
        "Dog_3 0.047619047619 12 240\n",
        "0.848"
       ]
      },
      {
       "output_type": "stream",
       "stream": "stdout",
       "text": [
        " 46 3.5\n",
        "0.880"
       ]
      },
      {
       "output_type": "stream",
       "stream": "stdout",
       "text": [
        " 46 3.5\n",
        "0.873"
       ]
      },
      {
       "output_type": "stream",
       "stream": "stdout",
       "text": [
        " 46 3.5\n",
        "0.630"
       ]
      },
      {
       "output_type": "stream",
       "stream": "stdout",
       "text": [
        " 46 3.5\n",
        "0.770"
       ]
      },
      {
       "output_type": "stream",
       "stream": "stdout",
       "text": [
        " 46 3.5\n",
        "0.791"
       ]
      },
      {
       "output_type": "stream",
       "stream": "stdout",
       "text": [
        " 46 3.5\n",
        "0.858"
       ]
      },
      {
       "output_type": "stream",
       "stream": "stdout",
       "text": [
        " 46 3.5\n",
        "0.893"
       ]
      },
      {
       "output_type": "stream",
       "stream": "stdout",
       "text": [
        " 46 3.5\n",
        "0.976"
       ]
      },
      {
       "output_type": "stream",
       "stream": "stdout",
       "text": [
        " 46 3.5\n",
        "0.670"
       ]
      },
      {
       "output_type": "stream",
       "stream": "stdout",
       "text": [
        " 46 3.5\n",
        "0.653"
       ]
      },
      {
       "output_type": "stream",
       "stream": "stdout",
       "text": [
        " 46 3.5\n",
        "0.797"
       ]
      },
      {
       "output_type": "stream",
       "stream": "stdout",
       "text": [
        " 46 3.5\n",
        "0.807"
       ]
      },
      {
       "output_type": "stream",
       "stream": "stdout",
       "text": [
        " 46 3.5\n",
        "0.705"
       ]
      },
      {
       "output_type": "stream",
       "stream": "stdout",
       "text": [
        " 46 3.5\n",
        "0.563"
       ]
      },
      {
       "output_type": "stream",
       "stream": "stdout",
       "text": [
        " 46 3.5\n",
        "1.000"
       ]
      },
      {
       "output_type": "stream",
       "stream": "stdout",
       "text": [
        " 46 3.5\n",
        "1.000"
       ]
      },
      {
       "output_type": "stream",
       "stream": "stdout",
       "text": [
        " 46 3.5\n",
        "1.000"
       ]
      },
      {
       "output_type": "stream",
       "stream": "stdout",
       "text": [
        " 46 3.5\n",
        "1.000"
       ]
      },
      {
       "output_type": "stream",
       "stream": "stdout",
       "text": [
        " 46 3.5\n",
        "1.000"
       ]
      },
      {
       "output_type": "stream",
       "stream": "stdout",
       "text": [
        " 46 3.5\n",
        "0.999"
       ]
      },
      {
       "output_type": "stream",
       "stream": "stdout",
       "text": [
        " 46 3.5\n",
        "0.872"
       ]
      },
      {
       "output_type": "stream",
       "stream": "stdout",
       "text": [
        " 46 3.5\n",
        "0.984"
       ]
      },
      {
       "output_type": "stream",
       "stream": "stdout",
       "text": [
        " 46 3.5\n",
        "0.963"
       ]
      },
      {
       "output_type": "stream",
       "stream": "stdout",
       "text": [
        " 46 3.5\n",
        "0.601"
       ]
      },
      {
       "output_type": "stream",
       "stream": "stdout",
       "text": [
        " 46 3.5\n",
        "0.493"
       ]
      },
      {
       "output_type": "stream",
       "stream": "stdout",
       "text": [
        " 46 3.5\n",
        "0.566"
       ]
      },
      {
       "output_type": "stream",
       "stream": "stdout",
       "text": [
        " 46 3.5\n",
        "0.604"
       ]
      },
      {
       "output_type": "stream",
       "stream": "stdout",
       "text": [
        " 46 3.5\n",
        "0.522"
       ]
      },
      {
       "output_type": "stream",
       "stream": "stdout",
       "text": [
        " 46 3.5\n",
        "0.548"
       ]
      },
      {
       "output_type": "stream",
       "stream": "stdout",
       "text": [
        " 46 3.5\n",
        "0.753"
       ]
      },
      {
       "output_type": "stream",
       "stream": "stdout",
       "text": [
        " 46 3.5\n",
        "0.620"
       ]
      },
      {
       "output_type": "stream",
       "stream": "stdout",
       "text": [
        " 46 3.5\n",
        "0.597"
       ]
      },
      {
       "output_type": "stream",
       "stream": "stdout",
       "text": [
        " 46 3.5\n",
        "0.456"
       ]
      },
      {
       "output_type": "stream",
       "stream": "stdout",
       "text": [
        " 46 3.5\n",
        "0.609"
       ]
      },
      {
       "output_type": "stream",
       "stream": "stdout",
       "text": [
        " 46 3.5\n",
        "0.532"
       ]
      },
      {
       "output_type": "stream",
       "stream": "stdout",
       "text": [
        " 46 3.5\n",
        "\n",
        "Dog_4 0.478260869565 737 804\n",
        "Dog_4 0.112582781457 17 134\n",
        "0.922"
       ]
      },
      {
       "output_type": "stream",
       "stream": "stdout",
       "text": [
        " 46 3.5\n",
        "0.949"
       ]
      },
      {
       "output_type": "stream",
       "stream": "stdout",
       "text": [
        " 46 3.5\n",
        "0.964"
       ]
      },
      {
       "output_type": "stream",
       "stream": "stdout",
       "text": [
        " 46 3.5\n",
        "0.571"
       ]
      },
      {
       "output_type": "stream",
       "stream": "stdout",
       "text": [
        " 46 3.5\n",
        "0.600"
       ]
      },
      {
       "output_type": "stream",
       "stream": "stdout",
       "text": [
        " 46 3.5\n",
        "0.274"
       ]
      },
      {
       "output_type": "stream",
       "stream": "stdout",
       "text": [
        " 46 3.5\n",
        "0.568"
       ]
      },
      {
       "output_type": "stream",
       "stream": "stdout",
       "text": [
        " 46 3.5\n",
        "0.651"
       ]
      },
      {
       "output_type": "stream",
       "stream": "stdout",
       "text": [
        " 46 3.5\n",
        "0.754"
       ]
      },
      {
       "output_type": "stream",
       "stream": "stdout",
       "text": [
        " 46 3.5\n",
        "0.576"
       ]
      },
      {
       "output_type": "stream",
       "stream": "stdout",
       "text": [
        " 37 4.0\n",
        "0.751"
       ]
      },
      {
       "output_type": "stream",
       "stream": "stdout",
       "text": [
        " 37 4.0\n",
        "0.674"
       ]
      },
      {
       "output_type": "stream",
       "stream": "stdout",
       "text": [
        " 37 4.0\n",
        "0.623"
       ]
      },
      {
       "output_type": "stream",
       "stream": "stdout",
       "text": [
        " 19 5.0\n",
        "0.573"
       ]
      },
      {
       "output_type": "stream",
       "stream": "stdout",
       "text": [
        " 19 5.0\n",
        "0.654"
       ]
      },
      {
       "output_type": "stream",
       "stream": "stdout",
       "text": [
        " 19 5.0\n",
        "0.862"
       ]
      },
      {
       "output_type": "stream",
       "stream": "stdout",
       "text": [
        " 46 3.5\n",
        "0.672"
       ]
      },
      {
       "output_type": "stream",
       "stream": "stdout",
       "text": [
        " 46 3.5\n",
        "0.980"
       ]
      },
      {
       "output_type": "stream",
       "stream": "stdout",
       "text": [
        " 46 3.5\n",
        "0.716"
       ]
      },
      {
       "output_type": "stream",
       "stream": "stdout",
       "text": [
        " 46 3.5\n",
        "0.616"
       ]
      },
      {
       "output_type": "stream",
       "stream": "stdout",
       "text": [
        " 46 3.5\n",
        "0.492"
       ]
      },
      {
       "output_type": "stream",
       "stream": "stdout",
       "text": [
        " 46 3.5\n",
        "0.764"
       ]
      },
      {
       "output_type": "stream",
       "stream": "stdout",
       "text": [
        " 37 4.0\n",
        "0.810"
       ]
      },
      {
       "output_type": "stream",
       "stream": "stdout",
       "text": [
        " 37 4.0\n",
        "0.654"
       ]
      },
      {
       "output_type": "stream",
       "stream": "stdout",
       "text": [
        " 37 4.0\n",
        "0.240"
       ]
      },
      {
       "output_type": "stream",
       "stream": "stdout",
       "text": [
        " 46 3.5\n",
        "0.542"
       ]
      },
      {
       "output_type": "stream",
       "stream": "stdout",
       "text": [
        " 46 3.5\n",
        "0.152"
       ]
      },
      {
       "output_type": "stream",
       "stream": "stdout",
       "text": [
        " 46 3.5\n",
        "0.419"
       ]
      },
      {
       "output_type": "stream",
       "stream": "stdout",
       "text": [
        " 46 3.5\n",
        "0.380"
       ]
      },
      {
       "output_type": "stream",
       "stream": "stdout",
       "text": [
        " 46 3.5\n",
        "0.508"
       ]
      },
      {
       "output_type": "stream",
       "stream": "stdout",
       "text": [
        " 46 3.5\n",
        "0.502"
       ]
      },
      {
       "output_type": "stream",
       "stream": "stdout",
       "text": [
        " 46 3.5\n",
        "0.466"
       ]
      },
      {
       "output_type": "stream",
       "stream": "stdout",
       "text": [
        " 46 3.5\n",
        "0.193"
       ]
      },
      {
       "output_type": "stream",
       "stream": "stdout",
       "text": [
        " 46 3.5\n",
        "0.947"
       ]
      },
      {
       "output_type": "stream",
       "stream": "stdout",
       "text": [
        " 46 3.5\n",
        "0.953"
       ]
      },
      {
       "output_type": "stream",
       "stream": "stdout",
       "text": [
        " 46 3.5\n",
        "0.731"
       ]
      },
      {
       "output_type": "stream",
       "stream": "stdout",
       "text": [
        " 46 3.5\n",
        "0.452"
       ]
      },
      {
       "output_type": "stream",
       "stream": "stdout",
       "text": [
        " 46 3.5\n",
        "0.895"
       ]
      },
      {
       "output_type": "stream",
       "stream": "stdout",
       "text": [
        " 46 3.5\n",
        "0.274"
       ]
      },
      {
       "output_type": "stream",
       "stream": "stdout",
       "text": [
        " 46 3.5\n",
        "0.621"
       ]
      },
      {
       "output_type": "stream",
       "stream": "stdout",
       "text": [
        " 46 3.5\n",
        "0.333"
       ]
      },
      {
       "output_type": "stream",
       "stream": "stdout",
       "text": [
        " 46 3.5\n",
        "0.682"
       ]
      },
      {
       "output_type": "stream",
       "stream": "stdout",
       "text": [
        " 46 3.5\n",
        "0.811"
       ]
      },
      {
       "output_type": "stream",
       "stream": "stdout",
       "text": [
        " 46 3.5\n",
        "0.536"
       ]
      },
      {
       "output_type": "stream",
       "stream": "stdout",
       "text": [
        " 46 3.5\n",
        "0.457"
       ]
      },
      {
       "output_type": "stream",
       "stream": "stdout",
       "text": [
        " 46 3.5\n",
        "0.320"
       ]
      },
      {
       "output_type": "stream",
       "stream": "stdout",
       "text": [
        " 46 3.5\n",
        "0.298"
       ]
      },
      {
       "output_type": "stream",
       "stream": "stdout",
       "text": [
        " 46 3.5\n",
        "0.380"
       ]
      },
      {
       "output_type": "stream",
       "stream": "stdout",
       "text": [
        " 46 3.5\n",
        "0.292"
       ]
      },
      {
       "output_type": "stream",
       "stream": "stdout",
       "text": [
        " 46 3.5\n",
        "0.501"
       ]
      },
      {
       "output_type": "stream",
       "stream": "stdout",
       "text": [
        " 46 3.5\n",
        "0.552"
       ]
      },
      {
       "output_type": "stream",
       "stream": "stdout",
       "text": [
        " 46 3.5\n",
        "\n",
        "Dog_5 0.338235294118 230 450\n",
        "Dog_5 0.0625 5 75\n",
        "0.839"
       ]
      },
      {
       "output_type": "stream",
       "stream": "stdout",
       "text": [
        " 46 3.5\n",
        "0.965"
       ]
      },
      {
       "output_type": "stream",
       "stream": "stdout",
       "text": [
        " 46 3.5\n",
        "0.843"
       ]
      },
      {
       "output_type": "stream",
       "stream": "stdout",
       "text": [
        " 46 3.5\n",
        "0.973"
       ]
      },
      {
       "output_type": "stream",
       "stream": "stdout",
       "text": [
        " 46 3.5\n",
        "0.914"
       ]
      },
      {
       "output_type": "stream",
       "stream": "stdout",
       "text": [
        " 46 3.5\n",
        "0.961"
       ]
      },
      {
       "output_type": "stream",
       "stream": "stdout",
       "text": [
        " 46 3.5\n",
        "1.000"
       ]
      },
      {
       "output_type": "stream",
       "stream": "stdout",
       "text": [
        " 46 3.5\n",
        "1.000"
       ]
      },
      {
       "output_type": "stream",
       "stream": "stdout",
       "text": [
        " 46 3.5\n",
        "1.000"
       ]
      },
      {
       "output_type": "stream",
       "stream": "stdout",
       "text": [
        " 46 3.5\n",
        "1.000"
       ]
      },
      {
       "output_type": "stream",
       "stream": "stdout",
       "text": [
        " 46 3.5\n",
        "1.000"
       ]
      },
      {
       "output_type": "stream",
       "stream": "stdout",
       "text": [
        " 46 3.5\n",
        "0.995"
       ]
      },
      {
       "output_type": "stream",
       "stream": "stdout",
       "text": [
        " 46 3.5\n",
        "0.907"
       ]
      },
      {
       "output_type": "stream",
       "stream": "stdout",
       "text": [
        " 46 3.5\n",
        "0.853"
       ]
      },
      {
       "output_type": "stream",
       "stream": "stdout",
       "text": [
        " 46 3.5\n",
        "0.820"
       ]
      },
      {
       "output_type": "stream",
       "stream": "stdout",
       "text": [
        " 46 3.5\n",
        "\n",
        "Patient_1 0.734042553191 138 50\n",
        "Patient_1 0.25 3 9\n",
        "0.149"
       ]
      },
      {
       "output_type": "stream",
       "stream": "stdout",
       "text": [
        " 46 3.5\n",
        "0.565"
       ]
      },
      {
       "output_type": "stream",
       "stream": "stdout",
       "text": [
        " 46 3.5\n",
        "0.419"
       ]
      },
      {
       "output_type": "stream",
       "stream": "stdout",
       "text": [
        " 46 3.5\n",
        "1.000"
       ]
      },
      {
       "output_type": "stream",
       "stream": "stdout",
       "text": [
        " 46 3.5\n",
        "1.000"
       ]
      },
      {
       "output_type": "stream",
       "stream": "stdout",
       "text": [
        " 46 3.5\n",
        "1.000"
       ]
      },
      {
       "output_type": "stream",
       "stream": "stdout",
       "text": [
        " 46 3.5\n",
        "0.784"
       ]
      },
      {
       "output_type": "stream",
       "stream": "stdout",
       "text": [
        " 46 3.5\n",
        "0.731"
       ]
      },
      {
       "output_type": "stream",
       "stream": "stdout",
       "text": [
        " 46 3.5\n",
        "0.709"
       ]
      },
      {
       "output_type": "stream",
       "stream": "stdout",
       "text": [
        " 46 3.5\n",
        "\n",
        "Patient_2 0.766666666667 138 42\n",
        "Patient_2 0.3 3 7\n",
        "1.000"
       ]
      },
      {
       "output_type": "stream",
       "stream": "stdout",
       "text": [
        " 46 3.5\n",
        "1.000"
       ]
      },
      {
       "output_type": "stream",
       "stream": "stdout",
       "text": [
        " 46 3.5\n",
        "0.946"
       ]
      },
      {
       "output_type": "stream",
       "stream": "stdout",
       "text": [
        " 46 3.5\n",
        "0.996"
       ]
      },
      {
       "output_type": "stream",
       "stream": "stdout",
       "text": [
        " 46 3.5\n",
        "0.995"
       ]
      },
      {
       "output_type": "stream",
       "stream": "stdout",
       "text": [
        " 46 3.5\n",
        "0.995"
       ]
      },
      {
       "output_type": "stream",
       "stream": "stdout",
       "text": [
        " 46 3.5\n",
        "0.808"
       ]
      },
      {
       "output_type": "stream",
       "stream": "stdout",
       "text": [
        " 46 3.5\n",
        "0.547"
       ]
      },
      {
       "output_type": "stream",
       "stream": "stdout",
       "text": [
        " 46 3.5\n",
        "1.000"
       ]
      },
      {
       "output_type": "stream",
       "stream": "stdout",
       "text": [
        " 46 3.5\n",
        "\n"
       ]
      }
     ],
     "prompt_number": 9
    },
    {
     "cell_type": "code",
     "collapsed": false,
     "input": [
      "fname = '../data-cache/140926-CV.%s%s.pkl'%(suffix, FEATURES)\n",
      "with open(fname,'wb') as fp:\n",
      "    pickle.dump(target2iter2ys,fp,-1)"
     ],
     "language": "python",
     "metadata": {},
     "outputs": [],
     "prompt_number": 10
    },
    {
     "cell_type": "code",
     "collapsed": false,
     "input": [
      "fname"
     ],
     "language": "python",
     "metadata": {},
     "outputs": [
      {
       "metadata": {},
       "output_type": "pyout",
       "prompt_number": 11,
       "text": [
        "'../data-cache/140926-CV.max_depth5gen-8_medianwindow-bands2-usf-w10-hammingP2-b0.2-b4-b8-b12-b30-b70-0.1-0.5-0.9.pkl'"
       ]
      }
     ],
     "prompt_number": 11
    },
    {
     "cell_type": "markdown",
     "metadata": {},
     "source": [
      "Generate a single AUC score"
     ]
    },
    {
     "cell_type": "code",
     "collapsed": false,
     "input": [
      "def p(a,b):\n",
      "    return '%d E%d'%(1000*a,1000*b)\n",
      "\n",
      "for f in [\n",
      "            'max_depth5gen-8_medianwindow-bands2-usf-w10-hammingP2-b0.2-b4-b8-b12-b30-b70-0.1-0.5-0.9',\n",
      "            'max_depth10gen-8_medianwindow-bandsI2-usf-w60-b0.2-b4-b8-b12-b30-b50-b75-b100-b117-0.1-0.5-0.9',\n",
      "            'max_depth5gen-8_medianwindow-bandsI2-usf-w60-b0.2-b4-b8-b12-b30-b50-b75-b100-b117-0.1-0.5-0.9',\n",
      "            'max_depth5.min_samples_leaf4.gen-8_medianwindow-bands2-usf-w60-b0.2-b4-b8-b12-b30-b70-0.1-0.5-0.9',\n",
      "            'max_depth5.gen-8_medianwindow-bands2-usf-w60-b0.2-b4-b8-b12-b30-b70-0.1-0.5-0.9',\n",
      "        ]:\n",
      "    all_ytest = all_y_proba =None\n",
      "    all_aucs = []\n",
      "    with open('../data-cache/140926-CV.%s.pkl'%f,'rb') as fp:\n",
      "        target2iter2ys = pickle.load(fp)\n",
      "    for target, iter2ys in target2iter2ys.iteritems():\n",
      "        target_ytest = target_y_proba =None\n",
      "        target_aucs = []\n",
      "        print target,\n",
      "        for ys in iter2ys.itervalues():\n",
      "            ytest = y_proba =None\n",
      "            aucs = []\n",
      "            for y in ys:\n",
      "                yt, yp = y\n",
      "                ytest = yt if ytest is None else np.concatenate((ytest,yt))\n",
      "                y_proba = yp if y_proba is None else np.concatenate((y_proba,yp))\n",
      "                aucs.append(roc_auc_score(yt, yp))\n",
      "            print p(roc_auc_score(ytest, y_proba), np.mean(aucs)),\n",
      "            target_aucs += aucs\n",
      "            target_ytest = ytest if target_ytest is None else np.concatenate((target_ytest,ytest))\n",
      "            target_y_proba = y_proba if target_y_proba is None else np.concatenate((target_y_proba,y_proba))\n",
      "        print target,p(roc_auc_score(target_ytest, target_y_proba),np.mean(target_aucs))\n",
      "        all_aucs += target_aucs        \n",
      "        all_ytest = target_ytest if all_ytest is None else np.concatenate((all_ytest,target_ytest))\n",
      "        all_y_proba = target_y_proba if all_y_proba is None else np.concatenate((all_y_proba,target_y_proba))\n",
      "#         if target == 'Dog_3':\n",
      "#             pl.hist(target_aucs,alpha=0.5)\n",
      "    print f,p(roc_auc_score(all_ytest, all_y_proba),np.mean(all_aucs))\n",
      "    print\n"
     ],
     "language": "python",
     "metadata": {},
     "outputs": [
      {
       "output_type": "stream",
       "stream": "stdout",
       "text": [
        "Dog_2 887 E921 919 E955 895 E922 Dog_2 899 E933\n",
        "Dog_3 733 E758 738 E760 738 E767 Dog_3 737 E762\n",
        "Dog_1 612 E615 598 E622 618 E638 Dog_1 611 E625\n",
        "Dog_4 592 E600 "
       ]
      },
      {
       "output_type": "stream",
       "stream": "stdout",
       "text": [
        "599 E619 537 E551 Dog_4 577 E590\n",
        "Dog_5 939 E943 940 E946 913 E923 Dog_5 931 E937\n",
        "Patient_2 894 E934 840 E847 914 E980 Patient_2 884 E920\n",
        "Patient_1 705 E644 778 E765 757 E709 Patient_1 747 E706\n",
        "max_depth5gen-8_medianwindow-bands2-usf-w10-hammingP2-b0.2-b4-b8-b12-b30-b70-0.1-0.5-0.9 763 E740\n",
        "\n",
        "Dog_2 885 E910 894 E927 888 E915 Dog_2 888 E917\n",
        "Dog_3 "
       ]
      },
      {
       "output_type": "stream",
       "stream": "stdout",
       "text": [
        "744 E751 767 E773 722 E723 Dog_3 744 E749\n",
        "Dog_1 621 E585 706 E711 672 E663 Dog_1 667 E653\n",
        "Dog_4 516 E502 581 E590 533 E563 Dog_4 545 E552\n",
        "Dog_5 929 E929 "
       ]
      },
      {
       "output_type": "stream",
       "stream": "stdout",
       "text": [
        "912 E916 946 E961 Dog_5 927 E935\n",
        "Patient_2 754 E708 916 E883 806 E788 Patient_2 821 E793\n",
        "Patient_1 709 E686 651 E604 850 E892 Patient_1 734 E727\n",
        "max_depth10gen-8_medianwindow-bandsI2-usf-w60-b0.2-b4-b8-b12-b30-b50-b75-b100-b117-0.1-0.5-0.9 755 E718\n",
        "\n",
        "Dog_2 872 E912 854 E889 864 E895 Dog_2 864 E898\n",
        "Dog_3 790 E798 768 E777 "
       ]
      },
      {
       "output_type": "stream",
       "stream": "stdout",
       "text": [
        "742 E765 Dog_3 766 E780\n",
        "Dog_1 676 E682 640 E651 589 E606 Dog_1 635 E646\n",
        "Dog_4 591 E611 636 E684 531 E533 Dog_4 585 E609\n",
        "Dog_5 961 E967 927 E918 "
       ]
      },
      {
       "output_type": "stream",
       "stream": "stdout",
       "text": [
        "946 E934 Dog_5 945 E940\n",
        "Patient_2 968 E953 808 E972 784 E684 Patient_2 850 E870\n",
        "Patient_1 637 E667 856 E857 907 E860 Patient_1 779 E795\n",
        "max_depth5gen-8_medianwindow-bandsI2-usf-w60-b0.2-b4-b8-b12-b30-b50-b75-b100-b117-0.1-0.5-0.9 765 E751\n",
        "\n",
        "Dog_2 861 E895 861 E909 879 E916 Dog_2 866 E907\n",
        "Dog_3 716 E750 "
       ]
      },
      {
       "output_type": "stream",
       "stream": "stdout",
       "text": [
        "753 E756 738 E714 Dog_3 734 E740\n",
        "Dog_1 617 E628 552 E562 563 E594 Dog_1 575 E595\n",
        "Dog_4 617 E643 591 E605 540 E567 Dog_4 581 E605\n",
        "Dog_5 905 E893 902 E923 "
       ]
      },
      {
       "output_type": "stream",
       "stream": "stdout",
       "text": [
        "957 E958 Dog_5 920 E925\n",
        "Patient_2 868 E958 792 E727 676 E668 Patient_2 797 E784\n",
        "Patient_1 722 E735 872 E862 706 E694 Patient_1 766 E764\n",
        "max_depth5.min_samples_leaf4.gen-8_medianwindow-bands2-usf-w60-b0.2-b4-b8-b12-b30-b70-0.1-0.5-0.9 750 E729\n",
        "\n",
        "Dog_2 889 E919 908 E954 875 E914 Dog_2 890 E929\n",
        "Dog_3 794 E818 766 E787 "
       ]
      },
      {
       "output_type": "stream",
       "stream": "stdout",
       "text": [
        "771 E777 Dog_3 777 E794\n",
        "Dog_1 605 E605 538 E524 603 E605 Dog_1 581 E578\n",
        "Dog_4 595 E610 565 E569 556 E583 Dog_4 571 E587\n",
        "Dog_5 937 E926 908 E901 947 E951 Dog_5 930 E926\n",
        "Patient_2 991 E992 977 E949 858 E973 Patient_2 936 E972\n",
        "Patient_1 "
       ]
      },
      {
       "output_type": "stream",
       "stream": "stdout",
       "text": [
        "819 E807 886 E866 695 E636 Patient_1 797 E770\n",
        "max_depth5.gen-8_medianwindow-bands2-usf-w60-b0.2-b4-b8-b12-b30-b70-0.1-0.5-0.9 767 E749\n",
        "\n"
       ]
      }
     ],
     "prompt_number": 12
    },
    {
     "cell_type": "code",
     "collapsed": false,
     "input": [],
     "language": "python",
     "metadata": {},
     "outputs": []
    }
   ],
   "metadata": {}
  }
 ]
}