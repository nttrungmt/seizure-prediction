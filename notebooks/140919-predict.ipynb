{
 "metadata": {
  "name": "",
  "signature": "sha256:158a69396e29321cf407975a3f84a8e39bb722fa666719a0e1f37b0ec9e08901"
 },
 "nbformat": 3,
 "nbformat_minor": 0,
 "worksheets": [
  {
   "cells": [
    {
     "cell_type": "code",
     "collapsed": false,
     "input": [
      "%matplotlib inline\n",
      "from matplotlib import pylab as pl\n",
      "import cPickle as pickle\n",
      "import pandas as pd\n",
      "import numpy as np\n",
      "import os\n",
      "import random"
     ],
     "language": "python",
     "metadata": {},
     "outputs": [],
     "prompt_number": 56
    },
    {
     "cell_type": "code",
     "collapsed": false,
     "input": [
      "import sys\n",
      "sys.path.append('..')"
     ],
     "language": "python",
     "metadata": {},
     "outputs": [],
     "prompt_number": 57
    },
    {
     "cell_type": "heading",
     "level": 1,
     "metadata": {},
     "source": [
      "Read precomputed features"
     ]
    },
    {
     "cell_type": "markdown",
     "metadata": {},
     "source": [
      "uncommoent the relevant pipeline in `../seizure_detection.py` and run\n",
      "```bash\n",
      "cd ..\n",
      "./doall data\n",
      "```\n",
      "or\n",
      "```bash\n",
      "./doall td\n",
      "./doall tt\n",
      "```"
     ]
    },
    {
     "cell_type": "code",
     "collapsed": false,
     "input": [
      "FEATURES = 'gen8_medianwindow-fft-with-time-freq-cov2-1-48-r400-usf-w600'"
     ],
     "language": "python",
     "metadata": {},
     "outputs": [],
     "prompt_number": 58
    },
    {
     "cell_type": "code",
     "collapsed": false,
     "input": [
      "from common.data import CachedDataLoader\n",
      "cached_data_loader = CachedDataLoader('../data-cache')"
     ],
     "language": "python",
     "metadata": {},
     "outputs": [],
     "prompt_number": 59
    },
    {
     "cell_type": "code",
     "collapsed": false,
     "input": [
      "def read_data(target, data_type):\n",
      "    fname = 'data_%s_%s_%s'%(data_type,target,FEATURES)\n",
      "    print fname\n",
      "    return cached_data_loader.load(fname,None)"
     ],
     "language": "python",
     "metadata": {},
     "outputs": [],
     "prompt_number": 60
    },
    {
     "cell_type": "heading",
     "level": 1,
     "metadata": {},
     "source": [
      "Predict"
     ]
    },
    {
     "cell_type": "code",
     "collapsed": false,
     "input": [
      "from sklearn.ensemble import RandomForestClassifier\n",
      "from sklearn.cross_validation import StratifiedKFold\n",
      "from sklearn.metrics import roc_auc_score\n",
      "from sklearn.linear_model import LogisticRegression as LR\n",
      "\n",
      "clf = RandomForestClassifier(n_estimators=3000, min_samples_split=1, max_depth=10,bootstrap=False,\n",
      "                             n_jobs=-1)"
     ],
     "language": "python",
     "metadata": {},
     "outputs": [],
     "prompt_number": 61
    },
    {
     "cell_type": "code",
     "collapsed": false,
     "input": [
      "fpout = open('../submissions/140921-predict.5.csv','w')\n",
      "print >>fpout,'clip,preictal'"
     ],
     "language": "python",
     "metadata": {},
     "outputs": [],
     "prompt_number": 62
    },
    {
     "cell_type": "code",
     "collapsed": false,
     "input": [
      "for target in ['Dog_1', 'Dog_2', 'Dog_3', 'Dog_4', 'Dog_5', 'Patient_1', 'Patient_2']:\n",
      "    pdata = read_data(target, 'preictal') # positive examples\n",
      "    ndata = read_data(target, 'interictal') # negative examples\n",
      "    X = np.concatenate((pdata.X, ndata.X))\n",
      "    y = np.zeros(X.shape[0])\n",
      "    y[:pdata.X.shape[0]] = 1\n",
      "    # shuffle\n",
      "    idxs=range(len(y))\n",
      "    random.shuffle(idxs)\n",
      "    X = X[idxs,:]\n",
      "    y = y[idxs]\n",
      "    # model\n",
      "    clf.fit(X,y)\n",
      "    # predict\n",
      "    tdata = read_data(target, 'test') # test examples\n",
      "    y_proba = clf.predict_proba(tdata.X)[:,1]\n",
      "    # write results\n",
      "    for i,p in enumerate(y_proba):\n",
      "        print >>fpout,'%s_test_segment_%04d.mat,%.15f' % (target, i+1, p)"
     ],
     "language": "python",
     "metadata": {},
     "outputs": [
      {
       "output_type": "stream",
       "stream": "stdout",
       "text": [
        "data_preictal_Dog_1_gen8_medianwindow-fft-with-time-freq-cov2-1-48-r400-usf-w600\n",
        "data_interictal_Dog_1_gen8_medianwindow-fft-with-time-freq-cov2-1-48-r400-usf-w600\n",
        "data_test_Dog_1_gen8_medianwindow-fft-with-time-freq-cov2-1-48-r400-usf-w600"
       ]
      },
      {
       "output_type": "stream",
       "stream": "stdout",
       "text": [
        "\n",
        "data_preictal_Dog_2_gen8_medianwindow-fft-with-time-freq-cov2-1-48-r400-usf-w600"
       ]
      },
      {
       "output_type": "stream",
       "stream": "stdout",
       "text": [
        "\n",
        "data_interictal_Dog_2_gen8_medianwindow-fft-with-time-freq-cov2-1-48-r400-usf-w600\n",
        "data_test_Dog_2_gen8_medianwindow-fft-with-time-freq-cov2-1-48-r400-usf-w600"
       ]
      },
      {
       "output_type": "stream",
       "stream": "stdout",
       "text": [
        "\n",
        "data_preictal_Dog_3_gen8_medianwindow-fft-with-time-freq-cov2-1-48-r400-usf-w600"
       ]
      },
      {
       "output_type": "stream",
       "stream": "stdout",
       "text": [
        "\n",
        "data_interictal_Dog_3_gen8_medianwindow-fft-with-time-freq-cov2-1-48-r400-usf-w600\n",
        "data_test_Dog_3_gen8_medianwindow-fft-with-time-freq-cov2-1-48-r400-usf-w600"
       ]
      },
      {
       "output_type": "stream",
       "stream": "stdout",
       "text": [
        "\n",
        "data_preictal_Dog_4_gen8_medianwindow-fft-with-time-freq-cov2-1-48-r400-usf-w600"
       ]
      },
      {
       "output_type": "stream",
       "stream": "stdout",
       "text": [
        "\n",
        "data_interictal_Dog_4_gen8_medianwindow-fft-with-time-freq-cov2-1-48-r400-usf-w600\n",
        "data_test_Dog_4_gen8_medianwindow-fft-with-time-freq-cov2-1-48-r400-usf-w600"
       ]
      },
      {
       "output_type": "stream",
       "stream": "stdout",
       "text": [
        "\n",
        "data_preictal_Dog_5_gen8_medianwindow-fft-with-time-freq-cov2-1-48-r400-usf-w600"
       ]
      },
      {
       "output_type": "stream",
       "stream": "stdout",
       "text": [
        "\n",
        "data_interictal_Dog_5_gen8_medianwindow-fft-with-time-freq-cov2-1-48-r400-usf-w600\n",
        "data_test_Dog_5_gen8_medianwindow-fft-with-time-freq-cov2-1-48-r400-usf-w600"
       ]
      },
      {
       "output_type": "stream",
       "stream": "stdout",
       "text": [
        "\n",
        "data_preictal_Patient_1_gen8_medianwindow-fft-with-time-freq-cov2-1-48-r400-usf-w600"
       ]
      },
      {
       "output_type": "stream",
       "stream": "stdout",
       "text": [
        "\n",
        "data_interictal_Patient_1_gen8_medianwindow-fft-with-time-freq-cov2-1-48-r400-usf-w600\n",
        "data_test_Patient_1_gen8_medianwindow-fft-with-time-freq-cov2-1-48-r400-usf-w600"
       ]
      },
      {
       "output_type": "stream",
       "stream": "stdout",
       "text": [
        "\n",
        "data_preictal_Patient_2_gen8_medianwindow-fft-with-time-freq-cov2-1-48-r400-usf-w600"
       ]
      },
      {
       "output_type": "stream",
       "stream": "stdout",
       "text": [
        "\n",
        "data_interictal_Patient_2_gen8_medianwindow-fft-with-time-freq-cov2-1-48-r400-usf-w600\n",
        "data_test_Patient_2_gen8_medianwindow-fft-with-time-freq-cov2-1-48-r400-usf-w600"
       ]
      },
      {
       "output_type": "stream",
       "stream": "stdout",
       "text": [
        "\n"
       ]
      }
     ],
     "prompt_number": 63
    },
    {
     "cell_type": "code",
     "collapsed": false,
     "input": [
      "fpout.close()"
     ],
     "language": "python",
     "metadata": {},
     "outputs": [],
     "prompt_number": 64
    },
    {
     "cell_type": "code",
     "collapsed": false,
     "input": [],
     "language": "python",
     "metadata": {},
     "outputs": [],
     "prompt_number": 64
    }
   ],
   "metadata": {}
  }
 ]
}