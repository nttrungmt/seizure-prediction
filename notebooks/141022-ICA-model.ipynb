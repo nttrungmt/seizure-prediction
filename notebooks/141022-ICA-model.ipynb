{
 "metadata": {
  "name": "",
  "signature": "sha256:5a1513c05ff7f02dd505a2505aa5beb064e57e845e863686f89fc67af43f84c5"
 },
 "nbformat": 3,
 "nbformat_minor": 0,
 "worksheets": [
  {
   "cells": [
    {
     "cell_type": "code",
     "collapsed": false,
     "input": [
      "import sklearn\n",
      "sklearn.__version__"
     ],
     "language": "python",
     "metadata": {},
     "outputs": [
      {
       "metadata": {},
       "output_type": "pyout",
       "prompt_number": 1,
       "text": [
        "'0.15.2'"
       ]
      }
     ],
     "prompt_number": 1
    },
    {
     "cell_type": "code",
     "collapsed": false,
     "input": [
      "import cPickle as pickle\n",
      "import hickle as hkl\n",
      "import os"
     ],
     "language": "python",
     "metadata": {},
     "outputs": [],
     "prompt_number": 2
    },
    {
     "cell_type": "code",
     "collapsed": false,
     "input": [
      "import sys\n",
      "sys.path.append('..')\n",
      "import seizure.tasks\n",
      "seizure.tasks.task_predict = True\n",
      "\n",
      "from seizure.tasks import load_mat_data, count_mat_data"
     ],
     "language": "python",
     "metadata": {},
     "outputs": [],
     "prompt_number": 3
    },
    {
     "cell_type": "code",
     "collapsed": false,
     "input": [
      "skip = 20"
     ],
     "language": "python",
     "metadata": {},
     "outputs": [],
     "prompt_number": 4
    },
    {
     "cell_type": "code",
     "collapsed": false,
     "input": [
      "data_dir='../filtered-seizure-data'\n",
      "out_dir ='../data-cache'"
     ],
     "language": "python",
     "metadata": {},
     "outputs": [],
     "prompt_number": 5
    },
    {
     "cell_type": "code",
     "collapsed": false,
     "input": [
      "for target in ['Dog_1', 'Dog_2', 'Dog_3', 'Dog_4', 'Dog_5', 'Patient_1', 'Patient_2']:\n",
      "    print target\n",
      "    # input size\n",
      "    data_types = ['preictal', 'interictal']\n",
      "    Ns = 0\n",
      "    for data_type in data_types:\n",
      "        for i in count_mat_data(data_dir, target, data_type):\n",
      "            Ns += 1\n",
      "    print 'Number of segments', Ns\n",
      "    \n",
      "    # sample input\n",
      "    Nf = None\n",
      "    i = 0\n",
      "    scount = 0\n",
      "    for data_type in data_types:\n",
      "        mat_data = load_mat_data(data_dir, target, data_type)\n",
      "        for segment in mat_data:\n",
      "            for key in segment.keys():\n",
      "                if not key.startswith('_'):\n",
      "                    break\n",
      "            data = segment[key]['data'][0,0]\n",
      "            if Nf is None:\n",
      "                Nf, N0 = data[:,::skip].shape\n",
      "                N = Ns*N0\n",
      "                print 'Number of channels', Nf, N\n",
      "                X = np.empty((N, Nf))\n",
      "            X[i:i+N0,:] = data[:,::skip].T\n",
      "            i += N0\n",
      "            \n",
      "    # build model from sampled data\n",
      "    import sklearn.decomposition\n",
      "    m = sklearn.decomposition.FastICA(n_components=8, whiten=True)\n",
      "    #m.fit(X) # m is huge because of the sources_ field which will be removed in scikit-learn 0.16.0    \n",
      "    m._fit(X) # temporary workaround\n",
      "    fname = os.path.join(out_dir,'141022-ICA-model.%s.pkl'%target)\n",
      "    with open(fname, 'wb') as fp:\n",
      "        pickle.dump(m, fp, -1)\n",
      "    !ls -l {fname}"
     ],
     "language": "python",
     "metadata": {},
     "outputs": [
      {
       "output_type": "stream",
       "stream": "stdout",
       "text": [
        "Dog_1\n",
        "Number of segments 504\n",
        "Number of channels"
       ]
      },
      {
       "output_type": "stream",
       "stream": "stdout",
       "text": [
        " 16 6042456\n",
        "-rw-r--r--  1 udi  staff  3669 Oct 22 08:57 ../data-cache/141022-ICA-model.Dog_1.pkl\r\n"
       ]
      },
      {
       "output_type": "stream",
       "stream": "stdout",
       "text": [
        "Dog_2\n",
        "Number of segments 542\n",
        "Number of channels"
       ]
      },
      {
       "output_type": "stream",
       "stream": "stdout",
       "text": [
        " 16 6498038\n",
        "-rw-r--r--  1 udi  staff  3669 Oct 22 08:59 ../data-cache/141022-ICA-model.Dog_2.pkl\r\n"
       ]
      },
      {
       "output_type": "stream",
       "stream": "stdout",
       "text": [
        "Dog_3\n",
        "Number of segments"
       ]
      },
      {
       "output_type": "stream",
       "stream": "stdout",
       "text": [
        " 1512\n",
        "Number of channels"
       ]
      },
      {
       "output_type": "stream",
       "stream": "stdout",
       "text": [
        " 16 18127368\n",
        "-rw-r--r--  1 udi  staff  3669 Oct 22 09:06 ../data-cache/141022-ICA-model.Dog_3.pkl\r\n"
       ]
      },
      {
       "output_type": "stream",
       "stream": "stdout",
       "text": [
        "Dog_4\n",
        "Number of segments"
       ]
      },
      {
       "output_type": "stream",
       "stream": "stdout",
       "text": [
        " 901\n",
        "Number of channels"
       ]
      },
      {
       "output_type": "stream",
       "stream": "stdout",
       "text": [
        " 16 10802089\n"
       ]
      },
      {
       "output_type": "stream",
       "stream": "stdout",
       "text": [
        "-rw-r--r--  1 udi  staff  3669 Oct 22 09:10 ../data-cache/141022-ICA-model.Dog_4.pkl\r\n"
       ]
      },
      {
       "output_type": "stream",
       "stream": "stdout",
       "text": [
        "Dog_5\n",
        "Number of segments"
       ]
      },
      {
       "output_type": "stream",
       "stream": "stdout",
       "text": [
        " 480\n",
        "Number of channels"
       ]
      },
      {
       "output_type": "stream",
       "stream": "stdout",
       "text": [
        " 15 5754720\n"
       ]
      },
      {
       "output_type": "stream",
       "stream": "stdout",
       "text": [
        "-rw-r--r--  1 udi  staff  3469 Oct 22 09:13 ../data-cache/141022-ICA-model.Dog_5.pkl\r\n"
       ]
      },
      {
       "output_type": "stream",
       "stream": "stdout",
       "text": [
        "Patient_1\n",
        "Number of segments 68\n",
        "Number of channels"
       ]
      },
      {
       "output_type": "stream",
       "stream": "stdout",
       "text": [
        " 15 815252\n",
        "-rw-r--r--  1 udi  staff  3469 Oct 22 09:13 ../data-cache/141022-ICA-model.Patient_1.pkl\r\n"
       ]
      },
      {
       "output_type": "stream",
       "stream": "stdout",
       "text": [
        "Patient_2\n",
        "Number of segments 60\n",
        "Number of channels"
       ]
      },
      {
       "output_type": "stream",
       "stream": "stdout",
       "text": [
        " 24 719340\n",
        "-rw-r--r--  1 udi  staff  5269 Oct 22 09:14 ../data-cache/141022-ICA-model.Patient_2.pkl\r\n"
       ]
      }
     ],
     "prompt_number": 6
    }
   ],
   "metadata": {}
  }
 ]
}