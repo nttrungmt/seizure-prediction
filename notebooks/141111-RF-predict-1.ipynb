{
 "metadata": {
  "name": "",
  "signature": "sha256:465b1a93416b5c3bd55ade071f2706bcf4e54a34c392abea0522f7fe793a5722"
 },
 "nbformat": 3,
 "nbformat_minor": 0,
 "worksheets": [
  {
   "cells": [
    {
     "cell_type": "code",
     "collapsed": false,
     "input": [
      "%matplotlib inline\n",
      "from matplotlib import pylab as pl\n",
      "import cPickle as pickle\n",
      "import pandas as pd\n",
      "import numpy as np\n",
      "import os\n",
      "import random"
     ],
     "language": "python",
     "metadata": {},
     "outputs": [],
     "prompt_number": 1
    },
    {
     "cell_type": "code",
     "collapsed": false,
     "input": [
      "import sys \n",
      "sys.path.append('..')"
     ],
     "language": "python",
     "metadata": {},
     "outputs": [],
     "prompt_number": 2
    },
    {
     "cell_type": "heading",
     "level": 1,
     "metadata": {},
     "source": [
      "Read precomputed features"
     ]
    },
    {
     "cell_type": "markdown",
     "metadata": {},
     "source": [
      "uncommoent the relevant pipeline in `../seizure_detection.py` and run\n",
      "```bash\n",
      "cd ..\n",
      "./doall data\n",
      "```\n",
      "or\n",
      "```bash\n",
      "./doall td\n",
      "./doall tt\n",
      "```"
     ]
    },
    {
     "cell_type": "code",
     "collapsed": false,
     "input": [
      "FEATURES = ['gen-8_allbands2-usf-w60-b0.2-b4-b8-b12-b30-b70','gen-8_alltimecorr-usf-w60']"
     ],
     "language": "python",
     "metadata": {},
     "outputs": [],
     "prompt_number": 3
    },
    {
     "cell_type": "code",
     "collapsed": false,
     "input": [
      "MASKS = ['gen-8_maxdiff-60', None]"
     ],
     "language": "python",
     "metadata": {},
     "outputs": [],
     "prompt_number": 4
    },
    {
     "cell_type": "code",
     "collapsed": false,
     "input": [
      "PERCENTILES =[[0.05, 0.95], [0.5,0.8,0.95]]"
     ],
     "language": "python",
     "metadata": {},
     "outputs": [],
     "prompt_number": 5
    },
    {
     "cell_type": "code",
     "collapsed": false,
     "input": [
      "nbands = 0\n",
      "nwindows = 0\n",
      "for p in FEATURES[0].split('-'):\n",
      "    if p[0] == 'b':\n",
      "        nbands += 1\n",
      "    elif p[0] == 'w':\n",
      "        nwindows = int(p[1:])\n",
      "\n",
      "nbands -= 1\n",
      "nbands, nwindows"
     ],
     "language": "python",
     "metadata": {},
     "outputs": [
      {
       "metadata": {},
       "output_type": "pyout",
       "prompt_number": 6,
       "text": [
        "(5, 60)"
       ]
      }
     ],
     "prompt_number": 6
    },
    {
     "cell_type": "code",
     "collapsed": false,
     "input": [
      "NUNITS = 2"
     ],
     "language": "python",
     "metadata": {},
     "outputs": [],
     "prompt_number": 7
    },
    {
     "cell_type": "code",
     "collapsed": false,
     "input": [
      "from common.data import CachedDataLoader\n",
      "cached_data_loader = CachedDataLoader('../data-cache')"
     ],
     "language": "python",
     "metadata": {},
     "outputs": [],
     "prompt_number": 8
    },
    {
     "cell_type": "code",
     "collapsed": false,
     "input": [
      "def read_data(target, data_type, features=FEATURES):\n",
      "    fname = 'data_%s_%s_%s'%(data_type,target,features)\n",
      "    print fname\n",
      "    return cached_data_loader.load(fname,None)"
     ],
     "language": "python",
     "metadata": {},
     "outputs": [],
     "prompt_number": 9
    },
    {
     "cell_type": "heading",
     "level": 1,
     "metadata": {},
     "source": [
      "Predict"
     ]
    },
    {
     "cell_type": "code",
     "collapsed": false,
     "input": [
      "from sklearn.ensemble import RandomForestClassifier\n",
      "clf = RandomForestClassifier(n_estimators=3000, min_samples_split=1, bootstrap=False,max_depth=10,\n",
      "                             n_jobs=-1)#"
     ],
     "language": "python",
     "metadata": {},
     "outputs": [],
     "prompt_number": 10
    },
    {
     "cell_type": "code",
     "collapsed": false,
     "input": [
      "fpout = open('../submissions/141111-predict.13.csv','w')\n",
      "print >>fpout,'clip,preictal'"
     ],
     "language": "python",
     "metadata": {},
     "outputs": [],
     "prompt_number": 11
    },
    {
     "cell_type": "code",
     "collapsed": false,
     "input": [
      "def process(X, X1, percentile=[0.05, 0.95], nunits=NUNITS):\n",
      "    N, Nf = X.shape\n",
      "    print '# samples',N,'# power points', Nf\n",
      "    if X1 is not None:\n",
      "        nchannels = X1.shape[1]/nwindows\n",
      "        print '# channels', nchannels\n",
      "    nb = Nf / nwindows\n",
      "    print '# features per window', nb\n",
      "\n",
      "    newX = []\n",
      "    for i in range(N):\n",
      "        nw = nwindows//nunits\n",
      "        windows = X[i,:].reshape((nunits,nw,-1))\n",
      "        if X1 is not None:\n",
      "            mask = X1[i,:].reshape((nunits,nw,-1)) # max value for each channel\n",
      "            for j in range(nunits):\n",
      "                for k in range(nchannels):\n",
      "                    m = mask[j,:,k] > 5000 # find large windows\n",
      "                    if np.any(m):\n",
      "    #                     print 'FIX', sum(m)\n",
      "                        if not np.all(m): # make sure we had at least one good window so we can re use its values\n",
      "                            # replace the bands of a large windows with the mean of the bands in all other windows\n",
      "                            windows[j,m,k*nb:(k+1)*nb] = np.mean(windows[j,~m,k*nb:(k+1)*nb], axis=0)\n",
      "        if percentile is not None:\n",
      "            sorted_windows = np.sort(windows, axis=1)\n",
      "            features = np.concatenate([sorted_windows[:,int(p*nw),:] for p in percentile], axis=-1)\n",
      "        else:\n",
      "            features =  windows\n",
      "        newX.append(features.ravel())\n",
      "    newX = np.array(newX)\n",
      "\n",
      "    return newX"
     ],
     "language": "python",
     "metadata": {},
     "outputs": [],
     "prompt_number": 12
    },
    {
     "cell_type": "code",
     "collapsed": false,
     "input": [
      "for target in ['Dog_1', 'Dog_2', 'Dog_3', 'Dog_4', 'Dog_5', 'Patient_1', 'Patient_2']:\n",
      "    allX = []\n",
      "    for features, mask, percentile in zip(FEATURES, MASKS, PERCENTILES):\n",
      "        pdata = read_data(target, 'preictal',features) # positive examples\n",
      "        ndata = read_data(target, 'interictal',features) # negative examples\n",
      "        X = np.concatenate((pdata.X, ndata.X))\n",
      "\n",
      "        if mask is not None:\n",
      "            pdatam = read_data(target, 'preictal', mask) # positive examples\n",
      "            ndatam = read_data(target, 'interictal', mask) # negative examples\n",
      "            Xm = np.concatenate((pdatam.X, ndatam.X))\n",
      "        else:\n",
      "            Xm = None\n",
      "\n",
      "        allX.append(process(X, Xm))\n",
      "    X = np.hstack(allX)\n",
      "    \n",
      "    y = np.zeros(X.shape[0])\n",
      "    y[:pdata.X.shape[0]] = 1\n",
      "    \n",
      "    # shuffle\n",
      "    idxs=range(len(y))\n",
      "    random.shuffle(idxs)\n",
      "    X = X[idxs,:]\n",
      "    y = y[idxs]\n",
      " \n",
      "    clf.fit(X,y)\n",
      "    \n",
      "    allXt = []\n",
      "    for features, mask, percentile in zip(FEATURES, MASKS, PERCENTILES):\n",
      "        tdata = read_data(target, 'test', features) # test examples\n",
      "        X = tdata.X\n",
      "\n",
      "        if mask is not None:\n",
      "            tdatam = read_data(target, 'test', mask) # positive examples\n",
      "            Xm = tdatam.X\n",
      "        else:\n",
      "            Xm = None\n",
      "\n",
      "        allXt.append(process(X, Xm))\n",
      "    Xt = np.hstack(allXt)\n",
      "    \n",
      "    y_proba = clf.predict_proba(Xt)[:,1]\n",
      "    \n",
      "    # write results\n",
      "    for i,p in enumerate(y_proba):\n",
      "        print >>fpout,'%s_test_segment_%04d.mat,%.15f' % (target, i+1, p)"
     ],
     "language": "python",
     "metadata": {},
     "outputs": [
      {
       "output_type": "stream",
       "stream": "stdout",
       "text": [
        "data_preictal_Dog_1_gen-8_allbands2-usf-w60-b0.2-b4-b8-b12-b30-b70\n",
        "data_interictal_Dog_1_gen-8_allbands2-usf-w60-b0.2-b4-b8-b12-b30-b70\n",
        "data_preictal_Dog_1_gen-8_maxdiff-60\n",
        "data_interictal_Dog_1_gen-8_maxdiff-60\n",
        "# samples 664 # power points 4800\n",
        "# channels 16\n",
        "# features per window 80\n",
        "data_preictal_Dog_1_gen-8_alltimecorr-usf-w60"
       ]
      },
      {
       "output_type": "stream",
       "stream": "stdout",
       "text": [
        "\n",
        "data_interictal_Dog_1_gen-8_alltimecorr-usf-w60\n",
        "# samples 664 # power points 8160\n",
        "# features per window 136\n",
        "data_test_Dog_1_gen-8_allbands2-usf-w60-b0.2-b4-b8-b12-b30-b70"
       ]
      },
      {
       "output_type": "stream",
       "stream": "stdout",
       "text": [
        "\n",
        "data_test_Dog_1_gen-8_maxdiff-60\n",
        "# samples 502 # power points 4800\n",
        "# channels 16\n",
        "# features per window 80\n",
        "data_test_Dog_1_gen-8_alltimecorr-usf-w60"
       ]
      },
      {
       "output_type": "stream",
       "stream": "stdout",
       "text": [
        "\n",
        "# samples"
       ]
      },
      {
       "output_type": "stream",
       "stream": "stdout",
       "text": [
        " 502 # power points 8160\n",
        "# features per window 136\n",
        "data_preictal_Dog_2_gen-8_allbands2-usf-w60-b0.2-b4-b8-b12-b30-b70"
       ]
      },
      {
       "output_type": "stream",
       "stream": "stdout",
       "text": [
        "\n",
        "data_interictal_Dog_2_gen-8_allbands2-usf-w60-b0.2-b4-b8-b12-b30-b70\n",
        "data_preictal_Dog_2_gen-8_maxdiff-60"
       ]
      },
      {
       "output_type": "stream",
       "stream": "stdout",
       "text": [
        "\n",
        "data_interictal_Dog_2_gen-8_maxdiff-60\n",
        "# samples 822 # power points 4800\n",
        "# channels 16\n",
        "# features per window 80\n",
        "data_preictal_Dog_2_gen-8_alltimecorr-usf-w60"
       ]
      },
      {
       "output_type": "stream",
       "stream": "stdout",
       "text": [
        "\n",
        "data_interictal_Dog_2_gen-8_alltimecorr-usf-w60\n",
        "# samples"
       ]
      },
      {
       "output_type": "stream",
       "stream": "stdout",
       "text": [
        " 822 # power points 8160\n",
        "# features per window 136\n",
        "data_test_Dog_2_gen-8_allbands2-usf-w60-b0.2-b4-b8-b12-b30-b70"
       ]
      },
      {
       "output_type": "stream",
       "stream": "stdout",
       "text": [
        "\n",
        "data_test_Dog_2_gen-8_maxdiff-60"
       ]
      },
      {
       "output_type": "stream",
       "stream": "stdout",
       "text": [
        "\n",
        "# samples 1000 # power points 4800\n",
        "# channels 16\n",
        "# features per window 80\n",
        "data_test_Dog_2_gen-8_alltimecorr-usf-w60"
       ]
      },
      {
       "output_type": "stream",
       "stream": "stdout",
       "text": [
        "\n",
        "# samples"
       ]
      },
      {
       "output_type": "stream",
       "stream": "stdout",
       "text": [
        " 1000 # power points 8160\n",
        "# features per window 136\n",
        "data_preictal_Dog_3_gen-8_allbands2-usf-w60-b0.2-b4-b8-b12-b30-b70"
       ]
      },
      {
       "output_type": "stream",
       "stream": "stdout",
       "text": [
        "\n",
        "data_interictal_Dog_3_gen-8_allbands2-usf-w60-b0.2-b4-b8-b12-b30-b70"
       ]
      },
      {
       "output_type": "stream",
       "stream": "stdout",
       "text": [
        "\n",
        "data_preictal_Dog_3_gen-8_maxdiff-60"
       ]
      },
      {
       "output_type": "stream",
       "stream": "stdout",
       "text": [
        "\n",
        "data_interictal_Dog_3_gen-8_maxdiff-60\n",
        "# samples"
       ]
      },
      {
       "output_type": "stream",
       "stream": "stdout",
       "text": [
        " 1992 # power points 4800\n",
        "# channels 16\n",
        "# features per window 80\n",
        "data_preictal_Dog_3_gen-8_alltimecorr-usf-w60"
       ]
      },
      {
       "output_type": "stream",
       "stream": "stdout",
       "text": [
        "\n",
        "data_interictal_Dog_3_gen-8_alltimecorr-usf-w60\n",
        "# samples"
       ]
      },
      {
       "output_type": "stream",
       "stream": "stdout",
       "text": [
        " 1992 # power points 8160\n",
        "# features per window 136\n",
        "data_test_Dog_3_gen-8_allbands2-usf-w60-b0.2-b4-b8-b12-b30-b70"
       ]
      },
      {
       "output_type": "stream",
       "stream": "stdout",
       "text": [
        "\n",
        "data_test_Dog_3_gen-8_maxdiff-60"
       ]
      },
      {
       "output_type": "stream",
       "stream": "stdout",
       "text": [
        "\n",
        "# samples 907 # power points 4800\n",
        "# channels 16\n",
        "# features per window 80\n",
        "data_test_Dog_3_gen-8_alltimecorr-usf-w60"
       ]
      },
      {
       "output_type": "stream",
       "stream": "stdout",
       "text": [
        "\n",
        "# samples 907 # power points 8160\n",
        "# features per window 136\n",
        "data_preictal_Dog_4_gen-8_allbands2-usf-w60-b0.2-b4-b8-b12-b30-b70"
       ]
      },
      {
       "output_type": "stream",
       "stream": "stdout",
       "text": [
        "\n",
        "data_interictal_Dog_4_gen-8_allbands2-usf-w60-b0.2-b4-b8-b12-b30-b70"
       ]
      },
      {
       "output_type": "stream",
       "stream": "stdout",
       "text": [
        "\n",
        "data_preictal_Dog_4_gen-8_maxdiff-60"
       ]
      },
      {
       "output_type": "stream",
       "stream": "stdout",
       "text": [
        "\n",
        "data_interictal_Dog_4_gen-8_maxdiff-60\n",
        "# samples 1541 # power points 4800\n",
        "# channels 16\n",
        "# features per window 80\n",
        "data_preictal_Dog_4_gen-8_alltimecorr-usf-w60"
       ]
      },
      {
       "output_type": "stream",
       "stream": "stdout",
       "text": [
        "\n",
        "data_interictal_Dog_4_gen-8_alltimecorr-usf-w60"
       ]
      },
      {
       "output_type": "stream",
       "stream": "stdout",
       "text": [
        "\n",
        "# samples"
       ]
      },
      {
       "output_type": "stream",
       "stream": "stdout",
       "text": [
        " 1541 # power points 8160\n",
        "# features per window 136\n",
        "data_test_Dog_4_gen-8_allbands2-usf-w60-b0.2-b4-b8-b12-b30-b70"
       ]
      },
      {
       "output_type": "stream",
       "stream": "stdout",
       "text": [
        "\n",
        "data_test_Dog_4_gen-8_maxdiff-60"
       ]
      },
      {
       "output_type": "stream",
       "stream": "stdout",
       "text": [
        "\n",
        "# samples 990 # power points 4800\n",
        "# channels 16\n",
        "# features per window 80\n",
        "data_test_Dog_4_gen-8_alltimecorr-usf-w60"
       ]
      },
      {
       "output_type": "stream",
       "stream": "stdout",
       "text": [
        "\n",
        "# samples"
       ]
      },
      {
       "output_type": "stream",
       "stream": "stdout",
       "text": [
        " 990 # power points 8160\n",
        "# features per window 136\n",
        "data_preictal_Dog_5_gen-8_allbands2-usf-w60-b0.2-b4-b8-b12-b30-b70"
       ]
      },
      {
       "output_type": "stream",
       "stream": "stdout",
       "text": [
        "\n",
        "data_interictal_Dog_5_gen-8_allbands2-usf-w60-b0.2-b4-b8-b12-b30-b70\n",
        "data_preictal_Dog_5_gen-8_maxdiff-60"
       ]
      },
      {
       "output_type": "stream",
       "stream": "stdout",
       "text": [
        "\n",
        "data_interictal_Dog_5_gen-8_maxdiff-60\n",
        "# samples 680 # power points 4500\n",
        "# channels 15\n",
        "# features per window 75\n",
        "data_preictal_Dog_5_gen-8_alltimecorr-usf-w60"
       ]
      },
      {
       "output_type": "stream",
       "stream": "stdout",
       "text": [
        "\n",
        "data_interictal_Dog_5_gen-8_alltimecorr-usf-w60\n",
        "# samples 680 # power points 7200\n",
        "# features per window 120\n",
        "data_test_Dog_5_gen-8_allbands2-usf-w60-b0.2-b4-b8-b12-b30-b70"
       ]
      },
      {
       "output_type": "stream",
       "stream": "stdout",
       "text": [
        "\n",
        "data_test_Dog_5_gen-8_maxdiff-60\n",
        "# samples 191 # power points 4500\n",
        "# channels 15\n",
        "# features per window 75\n",
        "data_test_Dog_5_gen-8_alltimecorr-usf-w60"
       ]
      },
      {
       "output_type": "stream",
       "stream": "stdout",
       "text": [
        "\n",
        "# samples 191 # power points 7200\n",
        "# features per window 120\n",
        "data_preictal_Patient_1_gen-8_allbands2-usf-w60-b0.2-b4-b8-b12-b30-b70"
       ]
      },
      {
       "output_type": "stream",
       "stream": "stdout",
       "text": [
        "\n",
        "data_interictal_Patient_1_gen-8_allbands2-usf-w60-b0.2-b4-b8-b12-b30-b70\n",
        "data_preictal_Patient_1_gen-8_maxdiff-60\n",
        "data_interictal_Patient_1_gen-8_maxdiff-60\n",
        "# samples 188 # power points 4500\n",
        "# channels 15\n",
        "# features per window 75\n",
        "data_preictal_Patient_1_gen-8_alltimecorr-usf-w60"
       ]
      },
      {
       "output_type": "stream",
       "stream": "stdout",
       "text": [
        "\n",
        "data_interictal_Patient_1_gen-8_alltimecorr-usf-w60\n",
        "# samples 188 # power points 7200\n",
        "# features per window 120\n",
        "data_test_Patient_1_gen-8_allbands2-usf-w60-b0.2-b4-b8-b12-b30-b70"
       ]
      },
      {
       "output_type": "stream",
       "stream": "stdout",
       "text": [
        "\n",
        "data_test_Patient_1_gen-8_maxdiff-60\n",
        "# samples 195 # power points 4500\n",
        "# channels 15\n",
        "# features per window 75\n",
        "data_test_Patient_1_gen-8_alltimecorr-usf-w60"
       ]
      },
      {
       "output_type": "stream",
       "stream": "stdout",
       "text": [
        "\n",
        "# samples 195 # power points 7200\n",
        "# features per window 120\n",
        "data_preictal_Patient_2_gen-8_allbands2-usf-w60-b0.2-b4-b8-b12-b30-b70"
       ]
      },
      {
       "output_type": "stream",
       "stream": "stdout",
       "text": [
        "\n",
        "data_interictal_Patient_2_gen-8_allbands2-usf-w60-b0.2-b4-b8-b12-b30-b70\n",
        "data_preictal_Patient_2_gen-8_maxdiff-60\n",
        "data_interictal_Patient_2_gen-8_maxdiff-60\n",
        "# samples"
       ]
      },
      {
       "output_type": "stream",
       "stream": "stdout",
       "text": [
        " 180 # power points 7200\n",
        "# channels 24\n",
        "# features per window 120\n",
        "data_preictal_Patient_2_gen-8_alltimecorr-usf-w60"
       ]
      },
      {
       "output_type": "stream",
       "stream": "stdout",
       "text": [
        "\n",
        "data_interictal_Patient_2_gen-8_alltimecorr-usf-w60\n",
        "# samples 180 # power points 18000\n",
        "# features per window 300\n",
        "data_test_Patient_2_gen-8_allbands2-usf-w60-b0.2-b4-b8-b12-b30-b70"
       ]
      },
      {
       "output_type": "stream",
       "stream": "stdout",
       "text": [
        "\n",
        "data_test_Patient_2_gen-8_maxdiff-60\n",
        "# samples 150 # power points 7200\n",
        "# channels 24\n",
        "# features per window 120\n",
        "data_test_Patient_2_gen-8_alltimecorr-usf-w60"
       ]
      },
      {
       "output_type": "stream",
       "stream": "stdout",
       "text": [
        "\n",
        "# samples 150 # power points 18000\n",
        "# features per window 300\n"
       ]
      }
     ],
     "prompt_number": 14
    },
    {
     "cell_type": "code",
     "collapsed": false,
     "input": [
      "fpout.close()"
     ],
     "language": "python",
     "metadata": {},
     "outputs": [],
     "prompt_number": 15
    },
    {
     "cell_type": "code",
     "collapsed": false,
     "input": [],
     "language": "python",
     "metadata": {},
     "outputs": [],
     "prompt_number": 41
    }
   ],
   "metadata": {}
  }
 ]
}