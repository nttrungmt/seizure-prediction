{
 "metadata": {
  "name": "",
  "signature": "sha256:0785e26dfcfc99dd248633523be306eb597acd43a637668497eb44cf8b89250d"
 },
 "nbformat": 3,
 "nbformat_minor": 0,
 "worksheets": [
  {
   "cells": [
    {
     "cell_type": "code",
     "collapsed": false,
     "input": [
      "%matplotlib inline\n",
      "from matplotlib import pylab as pl\n",
      "import cPickle as pickle\n",
      "import pandas as pd\n",
      "import numpy as np\n",
      "import os\n",
      "import random"
     ],
     "language": "python",
     "metadata": {},
     "outputs": [],
     "prompt_number": 1
    },
    {
     "cell_type": "code",
     "collapsed": false,
     "input": [
      "import sys \n",
      "sys.path.append('..')"
     ],
     "language": "python",
     "metadata": {},
     "outputs": [],
     "prompt_number": 2
    },
    {
     "cell_type": "heading",
     "level": 1,
     "metadata": {},
     "source": [
      "Read precomputed features"
     ]
    },
    {
     "cell_type": "markdown",
     "metadata": {},
     "source": [
      "uncommoent the relevant pipeline in `../seizure_detection.py` and run\n",
      "```bash\n",
      "cd ..\n",
      "./doall data\n",
      "```\n",
      "or\n",
      "```bash\n",
      "./doall td\n",
      "./doall tt\n",
      "```"
     ]
    },
    {
     "cell_type": "code",
     "collapsed": false,
     "input": [
      "FEATURES = 'gen-8_allbands2-usf-w60-b0.2-b4-b8-b12-b30-b70'"
     ],
     "language": "python",
     "metadata": {},
     "outputs": [],
     "prompt_number": 3
    },
    {
     "cell_type": "code",
     "collapsed": false,
     "input": [
      "FEATURES1 = 'gen-8_maxdiff-60'"
     ],
     "language": "python",
     "metadata": {},
     "outputs": [],
     "prompt_number": 4
    },
    {
     "cell_type": "code",
     "collapsed": false,
     "input": [
      "nbands = 0\n",
      "nwindows = 0\n",
      "for p in FEATURES.split('-'):\n",
      "    if p[0] == 'b':\n",
      "        nbands += 1\n",
      "    elif p[0] == 'w':\n",
      "        nwindows = int(p[1:])\n",
      "\n",
      "nbands -= 1\n",
      "nbands, nwindows"
     ],
     "language": "python",
     "metadata": {},
     "outputs": [
      {
       "metadata": {},
       "output_type": "pyout",
       "prompt_number": 5,
       "text": [
        "(5, 60)"
       ]
      }
     ],
     "prompt_number": 5
    },
    {
     "cell_type": "code",
     "collapsed": false,
     "input": [
      "NUNITS = 2"
     ],
     "language": "python",
     "metadata": {},
     "outputs": [],
     "prompt_number": 6
    },
    {
     "cell_type": "code",
     "collapsed": false,
     "input": [
      "from common.data import CachedDataLoader\n",
      "cached_data_loader = CachedDataLoader('../data-cache')"
     ],
     "language": "python",
     "metadata": {},
     "outputs": [],
     "prompt_number": 7
    },
    {
     "cell_type": "code",
     "collapsed": false,
     "input": [
      "def read_data(target, data_type, features=FEATURES):\n",
      "    fname = 'data_%s_%s_%s'%(data_type,target,features)\n",
      "    print fname\n",
      "    return cached_data_loader.load(fname,None)"
     ],
     "language": "python",
     "metadata": {},
     "outputs": [],
     "prompt_number": 8
    },
    {
     "cell_type": "heading",
     "level": 1,
     "metadata": {},
     "source": [
      "Predict"
     ]
    },
    {
     "cell_type": "code",
     "collapsed": false,
     "input": [
      "from sklearn.ensemble import RandomForestClassifier\n",
      "clf = RandomForestClassifier(n_estimators=3000, min_samples_split=1, bootstrap=False,max_depth=10,\n",
      "                             n_jobs=-1)#"
     ],
     "language": "python",
     "metadata": {},
     "outputs": [],
     "prompt_number": 9
    },
    {
     "cell_type": "code",
     "collapsed": false,
     "input": [
      "fpout = open('../submissions/141112-predict.2.csv','w')\n",
      "print >>fpout,'clip,preictal'"
     ],
     "language": "python",
     "metadata": {},
     "outputs": [],
     "prompt_number": 10
    },
    {
     "cell_type": "code",
     "collapsed": false,
     "input": [
      "def process(X, X1, percentile=[0.05,0.95], nunits=NUNITS, nwindows=nwindows):\n",
      "    N, Nf = X.shape\n",
      "    print '# samples',N,'# power points', Nf\n",
      "    nchannels = Nf / (nbands*nwindows)\n",
      "    print '# channels', nchannels\n",
      "\n",
      "    newX = []\n",
      "    for i in range(N):\n",
      "        nw = nwindows//nunits\n",
      "        windows = X[i,:].reshape((nunits,nw,-1))\n",
      "        mask = X1[i,:].reshape((nunits,nw,-1)) # max value for each channel\n",
      "        for j in range(nunits):\n",
      "            for k in range(nchannels):\n",
      "                m = mask[j,:,k] > 5000 # find large windows\n",
      "                if np.any(m):\n",
      "#                     print 'FIX', sum(m)\n",
      "                    if not np.all(m): # make sure we had at least one good window so we can re use its values\n",
      "                        # replace the bands of a large windows with the mean of the bands in all other windows\n",
      "                        windows[j,m,k*nbands:(k+1)*nbands] = np.mean(windows[j,~m,k*nbands:(k+1)*nbands], axis=0)\n",
      "        sorted_windows = np.sort(windows, axis=1)\n",
      "        features = np.concatenate([sorted_windows[:,int(p*nw),:] for p in percentile], axis=-1)\n",
      "        newX.append(features.ravel())\n",
      "    newX = np.array(newX)\n",
      "\n",
      "    return newX"
     ],
     "language": "python",
     "metadata": {},
     "outputs": [],
     "prompt_number": 11
    },
    {
     "cell_type": "code",
     "collapsed": false,
     "input": [
      "def bunch(X,nwindows=nwindows):\n",
      "    N, Nf = X.shape\n",
      "    X = X.reshape((N,nwindows,-1))\n",
      "    Y = X[:,:-2,:]*X[:,1:-1,:]*X[:,2:,:]\n",
      "    Y = np.concatenate((Y,Y[:,-2:,:]),axis=1)\n",
      "    return Y.reshape((N,-1))"
     ],
     "language": "python",
     "metadata": {},
     "outputs": [],
     "prompt_number": 23
    },
    {
     "cell_type": "code",
     "collapsed": false,
     "input": [
      "for target in ['Dog_1', 'Dog_2', 'Dog_3', 'Dog_4', 'Dog_5', 'Patient_1', 'Patient_2']:\n",
      "    pdata = read_data(target, 'preictal') # positive examples\n",
      "    ndata = read_data(target, 'interictal') # negative examples\n",
      "    X0 = np.concatenate((pdata.X, ndata.X))\n",
      "    X1 = bunch(X0,nwindows)\n",
      "\n",
      "    pdata1 = read_data(target, 'preictal', FEATURES1) # positive examples\n",
      "    ndata1 = read_data(target, 'interictal', FEATURES1) # negative examples\n",
      "    Xm = np.concatenate((pdata1.X, ndata1.X))\n",
      "\n",
      "    X0 = process(X0, Xm)\n",
      "    X1 = process(X1, Xm)\n",
      "    X = np.hstack((X0, X1))\n",
      "    \n",
      "    y = np.zeros(X.shape[0])\n",
      "    y[:pdata.X.shape[0]] = 1\n",
      "    \n",
      "    # shuffle\n",
      "    idxs=range(len(y))\n",
      "    random.shuffle(idxs)\n",
      "    X = X[idxs,:]\n",
      "    y = y[idxs]\n",
      " \n",
      "    clf.fit(X,y)\n",
      "    # predict\n",
      "    tdata = read_data(target, 'test') # test examples\n",
      "    Xt0 = tdata.X\n",
      "    Xt1 = bunch(Xt0,nwindows)\n",
      "    \n",
      "    tdata1 = read_data(target, 'test', FEATURES1) # test examples\n",
      "    Xtm = tdata1.X\n",
      "\n",
      "    Xt = np.hstack((process(Xt0, Xtm), process(Xt1, Xtm)))\n",
      "    \n",
      "    y_proba = clf.predict_proba(Xt)[:,1]\n",
      "    \n",
      "    # write results\n",
      "    for i,p in enumerate(y_proba):\n",
      "        print >>fpout,'%s_test_segment_%04d.mat,%.15f' % (target, i+1, p)"
     ],
     "language": "python",
     "metadata": {},
     "outputs": [
      {
       "output_type": "stream",
       "stream": "stdout",
       "text": [
        "data_preictal_Dog_1_gen-8_allbands2-usf-w60-b0.2-b4-b8-b12-b30-b70\n",
        "data_interictal_Dog_1_gen-8_allbands2-usf-w60-b0.2-b4-b8-b12-b30-b70\n",
        "data_preictal_Dog_1_gen-8_maxdiff-60"
       ]
      },
      {
       "output_type": "stream",
       "stream": "stdout",
       "text": [
        "\n",
        "data_interictal_Dog_1_gen-8_maxdiff-60\n",
        "# samples 664 # power points 4800\n",
        "# channels 16\n",
        "# samples"
       ]
      },
      {
       "output_type": "stream",
       "stream": "stdout",
       "text": [
        " 664 # power points 4800\n",
        "# channels 16\n",
        "data_test_Dog_1_gen-8_allbands2-usf-w60-b0.2-b4-b8-b12-b30-b70"
       ]
      },
      {
       "output_type": "stream",
       "stream": "stdout",
       "text": [
        "\n",
        "data_test_Dog_1_gen-8_maxdiff-60"
       ]
      },
      {
       "output_type": "stream",
       "stream": "stdout",
       "text": [
        "\n",
        "# samples 502 # power points 4800\n",
        "# channels 16\n",
        "# samples"
       ]
      },
      {
       "output_type": "stream",
       "stream": "stdout",
       "text": [
        " 502 # power points 4800\n",
        "# channels 16\n",
        "data_preictal_Dog_2_gen-8_allbands2-usf-w60-b0.2-b4-b8-b12-b30-b70"
       ]
      },
      {
       "output_type": "stream",
       "stream": "stdout",
       "text": [
        "\n",
        "data_interictal_Dog_2_gen-8_allbands2-usf-w60-b0.2-b4-b8-b12-b30-b70\n",
        "data_preictal_Dog_2_gen-8_maxdiff-60"
       ]
      },
      {
       "output_type": "stream",
       "stream": "stdout",
       "text": [
        "\n",
        "data_interictal_Dog_2_gen-8_maxdiff-60\n",
        "# samples 822 # power points 4800\n",
        "# channels 16\n",
        "# samples"
       ]
      },
      {
       "output_type": "stream",
       "stream": "stdout",
       "text": [
        " 822 # power points 4800\n",
        "# channels 16\n",
        "data_test_Dog_2_gen-8_allbands2-usf-w60-b0.2-b4-b8-b12-b30-b70"
       ]
      },
      {
       "output_type": "stream",
       "stream": "stdout",
       "text": [
        "\n",
        "data_test_Dog_2_gen-8_maxdiff-60"
       ]
      },
      {
       "output_type": "stream",
       "stream": "stdout",
       "text": [
        "\n",
        "# samples 1000 # power points 4800\n",
        "# channels 16\n",
        "# samples"
       ]
      },
      {
       "output_type": "stream",
       "stream": "stdout",
       "text": [
        " 1000 # power points 4800\n",
        "# channels 16\n",
        "data_preictal_Dog_3_gen-8_allbands2-usf-w60-b0.2-b4-b8-b12-b30-b70"
       ]
      },
      {
       "output_type": "stream",
       "stream": "stdout",
       "text": [
        "\n",
        "data_interictal_Dog_3_gen-8_allbands2-usf-w60-b0.2-b4-b8-b12-b30-b70"
       ]
      },
      {
       "output_type": "stream",
       "stream": "stdout",
       "text": [
        "\n",
        "data_preictal_Dog_3_gen-8_maxdiff-60"
       ]
      },
      {
       "output_type": "stream",
       "stream": "stdout",
       "text": [
        "\n",
        "data_interictal_Dog_3_gen-8_maxdiff-60\n",
        "# samples"
       ]
      },
      {
       "output_type": "stream",
       "stream": "stdout",
       "text": [
        " 1992 # power points 4800\n",
        "# channels 16\n",
        "# samples"
       ]
      },
      {
       "output_type": "stream",
       "stream": "stdout",
       "text": [
        " 1992 # power points 4800\n",
        "# channels 16\n",
        "data_test_Dog_3_gen-8_allbands2-usf-w60-b0.2-b4-b8-b12-b30-b70"
       ]
      },
      {
       "output_type": "stream",
       "stream": "stdout",
       "text": [
        "\n",
        "data_test_Dog_3_gen-8_maxdiff-60"
       ]
      },
      {
       "output_type": "stream",
       "stream": "stdout",
       "text": [
        "\n",
        "# samples 907 # power points 4800\n",
        "# channels 16\n",
        "# samples"
       ]
      },
      {
       "output_type": "stream",
       "stream": "stdout",
       "text": [
        " 907 # power points 4800\n",
        "# channels 16\n",
        "data_preictal_Dog_4_gen-8_allbands2-usf-w60-b0.2-b4-b8-b12-b30-b70"
       ]
      },
      {
       "output_type": "stream",
       "stream": "stdout",
       "text": [
        "\n",
        "data_interictal_Dog_4_gen-8_allbands2-usf-w60-b0.2-b4-b8-b12-b30-b70"
       ]
      },
      {
       "output_type": "stream",
       "stream": "stdout",
       "text": [
        "\n",
        "data_preictal_Dog_4_gen-8_maxdiff-60"
       ]
      },
      {
       "output_type": "stream",
       "stream": "stdout",
       "text": [
        "\n",
        "data_interictal_Dog_4_gen-8_maxdiff-60\n",
        "# samples"
       ]
      },
      {
       "output_type": "stream",
       "stream": "stdout",
       "text": [
        " 1541 # power points 4800\n",
        "# channels 16\n",
        "# samples"
       ]
      },
      {
       "output_type": "stream",
       "stream": "stdout",
       "text": [
        " 1541 # power points 4800\n",
        "# channels 16\n",
        "data_test_Dog_4_gen-8_allbands2-usf-w60-b0.2-b4-b8-b12-b30-b70"
       ]
      },
      {
       "output_type": "stream",
       "stream": "stdout",
       "text": [
        "\n",
        "data_test_Dog_4_gen-8_maxdiff-60"
       ]
      },
      {
       "output_type": "stream",
       "stream": "stdout",
       "text": [
        "\n",
        "# samples 990 # power points 4800\n",
        "# channels 16\n",
        "# samples"
       ]
      },
      {
       "output_type": "stream",
       "stream": "stdout",
       "text": [
        " 990 # power points 4800\n",
        "# channels 16\n",
        "data_preictal_Dog_5_gen-8_allbands2-usf-w60-b0.2-b4-b8-b12-b30-b70"
       ]
      },
      {
       "output_type": "stream",
       "stream": "stdout",
       "text": [
        "\n",
        "data_interictal_Dog_5_gen-8_allbands2-usf-w60-b0.2-b4-b8-b12-b30-b70\n",
        "data_preictal_Dog_5_gen-8_maxdiff-60"
       ]
      },
      {
       "output_type": "stream",
       "stream": "stdout",
       "text": [
        "\n",
        "data_interictal_Dog_5_gen-8_maxdiff-60\n",
        "# samples 680 # power points 4500\n",
        "# channels 15\n",
        "# samples"
       ]
      },
      {
       "output_type": "stream",
       "stream": "stdout",
       "text": [
        " 680 # power points 4500\n",
        "# channels 15\n",
        "data_test_Dog_5_gen-8_allbands2-usf-w60-b0.2-b4-b8-b12-b30-b70"
       ]
      },
      {
       "output_type": "stream",
       "stream": "stdout",
       "text": [
        "\n",
        "data_test_Dog_5_gen-8_maxdiff-60\n",
        "# samples "
       ]
      },
      {
       "output_type": "stream",
       "stream": "stdout",
       "text": [
        "191 # power points 4500\n",
        "# channels 15\n",
        "# samples"
       ]
      },
      {
       "output_type": "stream",
       "stream": "stdout",
       "text": [
        " 191 # power points 4500\n",
        "# channels 15\n",
        "data_preictal_Patient_1_gen-8_allbands2-usf-w60-b0.2-b4-b8-b12-b30-b70"
       ]
      },
      {
       "output_type": "stream",
       "stream": "stdout",
       "text": [
        "\n",
        "data_interictal_Patient_1_gen-8_allbands2-usf-w60-b0.2-b4-b8-b12-b30-b70\n",
        "data_preictal_Patient_1_gen-8_maxdiff-60"
       ]
      },
      {
       "output_type": "stream",
       "stream": "stdout",
       "text": [
        "\n",
        "data_interictal_Patient_1_gen-8_maxdiff-60\n",
        "# samples 188 # power points 4500\n",
        "# channels 15\n",
        "# samples"
       ]
      },
      {
       "output_type": "stream",
       "stream": "stdout",
       "text": [
        " 188 # power points 4500\n",
        "# channels 15\n",
        "data_test_Patient_1_gen-8_allbands2-usf-w60-b0.2-b4-b8-b12-b30-b70"
       ]
      },
      {
       "output_type": "stream",
       "stream": "stdout",
       "text": [
        "\n",
        "data_test_Patient_1_gen-8_maxdiff-60\n",
        "# samples 195 # power points 4500\n",
        "# channels 15\n",
        "# samples"
       ]
      },
      {
       "output_type": "stream",
       "stream": "stdout",
       "text": [
        " 195 # power points 4500\n",
        "# channels 15\n",
        "data_preictal_Patient_2_gen-8_allbands2-usf-w60-b0.2-b4-b8-b12-b30-b70"
       ]
      },
      {
       "output_type": "stream",
       "stream": "stdout",
       "text": [
        "\n",
        "data_interictal_Patient_2_gen-8_allbands2-usf-w60-b0.2-b4-b8-b12-b30-b70\n",
        "data_preictal_Patient_2_gen-8_maxdiff-60"
       ]
      },
      {
       "output_type": "stream",
       "stream": "stdout",
       "text": [
        "\n",
        "data_interictal_Patient_2_gen-8_maxdiff-60\n",
        "# samples 180 # power points 7200\n",
        "# channels 24\n",
        "# samples"
       ]
      },
      {
       "output_type": "stream",
       "stream": "stdout",
       "text": [
        " 180 # power points 7200\n",
        "# channels 24\n",
        "data_test_Patient_2_gen-8_allbands2-usf-w60-b0.2-b4-b8-b12-b30-b70"
       ]
      },
      {
       "output_type": "stream",
       "stream": "stdout",
       "text": [
        "\n",
        "data_test_Patient_2_gen-8_maxdiff-60\n",
        "# samples 150 # power points 7200\n",
        "# channels 24\n",
        "# samples"
       ]
      },
      {
       "output_type": "stream",
       "stream": "stdout",
       "text": [
        " 150 # power points 7200\n",
        "# channels 24\n"
       ]
      }
     ],
     "prompt_number": 26
    },
    {
     "cell_type": "code",
     "collapsed": false,
     "input": [
      "fpout.close()"
     ],
     "language": "python",
     "metadata": {},
     "outputs": [],
     "prompt_number": 27
    },
    {
     "cell_type": "code",
     "collapsed": false,
     "input": [],
     "language": "python",
     "metadata": {},
     "outputs": []
    }
   ],
   "metadata": {}
  }
 ]
}