{
 "metadata": {
  "name": "",
  "signature": "sha256:2a20c248cb1e372b53e06a46c305fe8845d2f54dd11984c7fbd5fc4310869b6e"
 },
 "nbformat": 3,
 "nbformat_minor": 0,
 "worksheets": [
  {
   "cells": [
    {
     "cell_type": "code",
     "collapsed": false,
     "input": [
      "%matplotlib inline\n",
      "from matplotlib import pylab as pl\n",
      "import cPickle as pickle\n",
      "import pandas as pd\n",
      "import numpy as np\n",
      "import os\n",
      "import random"
     ],
     "language": "python",
     "metadata": {},
     "outputs": [],
     "prompt_number": 1
    },
    {
     "cell_type": "code",
     "collapsed": false,
     "input": [
      "import sys\n",
      "sys.path.append('..')"
     ],
     "language": "python",
     "metadata": {},
     "outputs": [],
     "prompt_number": 2
    },
    {
     "cell_type": "code",
     "collapsed": false,
     "input": [
      "!ls -l /vol2/data/"
     ],
     "language": "python",
     "metadata": {},
     "outputs": [
      {
       "output_type": "stream",
       "stream": "stdout",
       "text": [
        "total 512\r\n",
        "drwxrwxr-x 2 ubuntu ubuntu  69632 Aug 21 20:57 Dog_1\r\n",
        "drwxrwxr-x 2 ubuntu ubuntu  90112 Aug 21 19:16 Dog_2\r\n",
        "drwxrwxr-x 2 ubuntu ubuntu 139264 Aug 22 18:14 Dog_3\r\n",
        "drwxrwxr-x 2 ubuntu ubuntu 126976 Aug 22 18:10 Dog_4\r\n",
        "drwxrwxr-x 2 ubuntu ubuntu  40960 Aug 21 17:30 Dog_5\r\n",
        "drwxrwxr-x 2 ubuntu ubuntu  20480 Aug 21 20:09 Patient_1\r\n",
        "drwxrwxr-x 2 ubuntu ubuntu  20480 Aug 21 20:50 Patient_2\r\n"
       ]
      }
     ],
     "prompt_number": 3
    },
    {
     "cell_type": "code",
     "collapsed": false,
     "input": [
      "targets = ['Dog_1', 'Dog_2', 'Dog_3', 'Dog_4', 'Dog_5', 'Patient_1', 'Patient_2']"
     ],
     "language": "python",
     "metadata": {},
     "outputs": [],
     "prompt_number": 4
    },
    {
     "cell_type": "code",
     "collapsed": false,
     "input": [
      "data_types = ['preictal', 'interictal', 'test']"
     ],
     "language": "python",
     "metadata": {},
     "outputs": [],
     "prompt_number": 5
    },
    {
     "cell_type": "code",
     "collapsed": false,
     "input": [
      "target = targets[-1]\n",
      "data_type = data_types[-1]"
     ],
     "language": "python",
     "metadata": {},
     "outputs": [],
     "prompt_number": 6
    },
    {
     "cell_type": "code",
     "collapsed": false,
     "input": [
      "import scipy.io\n",
      "\n",
      "ld = []\n",
      "start = 1\n",
      "for segment in range(start,1000000):\n",
      "    print segment\n",
      "    fname = '/vol2/data/%s/%s_%s_segment_%04d.mat'%(target,target,data_type,segment)\n",
      "    try:\n",
      "        data = scipy.io.loadmat(fname)\n",
      "        k = '%s_segment_%d'%(data_type,segment)\n",
      "        d = data[k]['data'][0,0]\n",
      "        try:\n",
      "            sequence = data[k]['sequence'][0,0][0,0]\n",
      "        except:\n",
      "            sequence = -1 # test data\n",
      "\n",
      "        if str(d.dtype)=='int32':\n",
      "            mask = np.abs(d) < 5000\n",
      "        print sequence, str(d.dtype), np.std(d,axis=-1)\n",
      "        break\n",
      "        ld.append(d)\n",
      "#         if segment == start+6:\n",
      "#             break\n",
      "    except:\n",
      "        break"
     ],
     "language": "python",
     "metadata": {},
     "outputs": [
      {
       "output_type": "stream",
       "stream": "stdout",
       "text": [
        "1\n",
        "-1"
       ]
      },
      {
       "output_type": "stream",
       "stream": "stdout",
       "text": [
        " int32 "
       ]
      },
      {
       "output_type": "stream",
       "stream": "stdout",
       "text": [
        "[ 1838.1697136   1856.4808117   1707.65446307  2073.54280569  2122.28749349\n",
        "  2069.87491901  1914.98810589  1893.14812928  2673.19547638  2710.01879429\n",
        "  2630.47860132  2662.1464223   2668.09612018  2659.46453313  2646.50684396\n",
        "  2671.61148503  2645.36988517  2640.86556984  2671.97818948  2639.4673828\n",
        "  2652.83860578  2662.35483781  2638.88633509  2614.89188297]\n"
       ]
      }
     ],
     "prompt_number": 7
    },
    {
     "cell_type": "code",
     "collapsed": false,
     "input": [
      "mask = np.abs(d) < 5000"
     ],
     "language": "python",
     "metadata": {},
     "outputs": [],
     "prompt_number": 8
    },
    {
     "cell_type": "code",
     "collapsed": false,
     "input": [
      "pl.hist(d[3,mask[3,:]],bins=50);"
     ],
     "language": "python",
     "metadata": {},
     "outputs": [
      {
       "metadata": {},
       "output_type": "display_data",
       "png": "[encoded data removed]",
       "text": [
        "<matplotlib.figure.Figure at 0x7fa5a3ec7810>"
       ]
      }
     ],
     "prompt_number": 9
    },
    {
     "cell_type": "code",
     "collapsed": false,
     "input": [
      "pl.plot(d[3,:])"
     ],
     "language": "python",
     "metadata": {},
     "outputs": [
      {
       "metadata": {},
       "output_type": "pyout",
       "prompt_number": 11,
       "text": [
        "[<matplotlib.lines.Line2D at 0x7fa59ec7e190>]"
       ]
      },
      {
       "metadata": {},
       "output_type": "display_data",
       "png": "[encoded data removed]",
       "text": [
        "<matplotlib.figure.Figure at 0x7fa59ebc8950>"
       ]
      }
     ],
     "prompt_number": 11
    },
    {
     "cell_type": "code",
     "collapsed": false,
     "input": [
      "pl.plot((d[3,:])[367619:367630])"
     ],
     "language": "python",
     "metadata": {},
     "outputs": [
      {
       "metadata": {},
       "output_type": "pyout",
       "prompt_number": 10,
       "text": [
        "[<matplotlib.lines.Line2D at 0x7fa59ec113d0>]"
       ]
      },
      {
       "metadata": {},
       "output_type": "display_data",
       "png": "[encoded data removed]",
       "text": [
        "<matplotlib.figure.Figure at 0x7fa59ecd4bd0>"
       ]
      }
     ],
     "prompt_number": 10
    },
    {
     "cell_type": "code",
     "collapsed": false,
     "input": [
      "x = d[3,:].copy()\n",
      "len(x)"
     ],
     "language": "python",
     "metadata": {},
     "outputs": [
      {
       "metadata": {},
       "output_type": "pyout",
       "prompt_number": 12,
       "text": [
        "3000000"
       ]
      }
     ],
     "prompt_number": 12
    },
    {
     "cell_type": "code",
     "collapsed": false,
     "input": [
      "s = np.zeros(len(x)-1)\n",
      "dif = x[1:] - x[:-1]\n",
      "pl.hist(np.clip(dif,-20,20),bins=500);"
     ],
     "language": "python",
     "metadata": {},
     "outputs": [
      {
       "metadata": {},
       "output_type": "display_data",
       "png": "[encoded data removed]",
       "text": [
        "<matplotlib.figure.Figure at 0x7fa59ecfe490>"
       ]
      }
     ],
     "prompt_number": 14
    },
    {
     "cell_type": "code",
     "collapsed": false,
     "input": [
      "def ExpMovingAverage(values, window):\n",
      "    weights = np.exp(np.linspace(-1., 0., window))\n",
      "    weights /= weights.sum()\n",
      "\n",
      "    # Here, we will just allow the default since it is an EMA\n",
      "    a =  np.convolve(values, weights)\n",
      "    a[:window] = a[window]\n",
      "    w = (window+1)//2\n",
      "    a = a[w:w+len(values)]\n",
      "    return a #again, as a numpy array.\n",
      "sdif = ExpMovingAverage(dif,50)\n",
      "# mask = (dif > 50) |(dif < -50)\n",
      "# sdif[mask] = dif[mask]"
     ],
     "language": "python",
     "metadata": {},
     "outputs": [],
     "prompt_number": 112
    },
    {
     "cell_type": "code",
     "collapsed": false,
     "input": [
      "lasts = x[0]\n",
      "N = len(dif)\n",
      "y = np.empty(N+1)\n",
      "weights = np.exp(np.clip(-np.abs(dif)/20.,-5,-0.05))\n",
      "y[0] = lasts\n",
      "for i in xrange(N):\n",
      "    w = weights[i]\n",
      "    lasts = lasts*w + (1.-w)*x[i+1]\n",
      "    y[i+1] = lasts"
     ],
     "language": "python",
     "metadata": {},
     "outputs": [],
     "prompt_number": 211
    },
    {
     "cell_type": "code",
     "collapsed": false,
     "input": [
      "pl.plot((x-y)[367619-10000:367630+50000])\n",
      "pl.plot(x[367619-10000:367630+50000]/1000.)\n",
      "#pl.plot(sdif)"
     ],
     "language": "python",
     "metadata": {},
     "outputs": [
      {
       "metadata": {},
       "output_type": "pyout",
       "prompt_number": 212,
       "text": [
        "[<matplotlib.lines.Line2D at 0x7fa543673550>]"
       ]
      },
      {
       "metadata": {},
       "output_type": "display_data",
       "png": "[encoded data removed]",
       "text": [
        "<matplotlib.figure.Figure at 0x7fa5432ffad0>"
       ]
      }
     ],
     "prompt_number": 212
    },
    {
     "cell_type": "code",
     "collapsed": false,
     "input": [
      "np.std((x-y))"
     ],
     "language": "python",
     "metadata": {},
     "outputs": [
      {
       "metadata": {},
       "output_type": "pyout",
       "prompt_number": 207,
       "text": [
        "12.424809454869132"
       ]
      }
     ],
     "prompt_number": 207
    },
    {
     "cell_type": "code",
     "collapsed": false,
     "input": [],
     "language": "python",
     "metadata": {},
     "outputs": []
    }
   ],
   "metadata": {}
  }
 ]
}