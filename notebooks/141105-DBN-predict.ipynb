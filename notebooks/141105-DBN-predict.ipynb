{
 "metadata": {
  "name": "",
  "signature": "sha256:bddd7f1ad0f7288a6751f0dc7642131159b3ba965dad7130f235c2077fc34efd"
 },
 "nbformat": 3,
 "nbformat_minor": 0,
 "worksheets": [
  {
   "cells": [
    {
     "cell_type": "markdown",
     "metadata": {},
     "source": [
      "Use nolearn's DBN https://pythonhosted.org/nolearn/dbn.html"
     ]
    },
    {
     "cell_type": "code",
     "collapsed": false,
     "input": [
      "%matplotlib inline\n",
      "from matplotlib import pylab as pl\n",
      "import cPickle as pickle\n",
      "import pandas as pd\n",
      "import numpy as np\n",
      "import os\n",
      "import random"
     ],
     "language": "python",
     "metadata": {},
     "outputs": [],
     "prompt_number": 30
    },
    {
     "cell_type": "code",
     "collapsed": false,
     "input": [
      "import sys\n",
      "sys.path.append('..')"
     ],
     "language": "python",
     "metadata": {},
     "outputs": [],
     "prompt_number": 31
    },
    {
     "cell_type": "heading",
     "level": 1,
     "metadata": {},
     "source": [
      "Read precomputed features"
     ]
    },
    {
     "cell_type": "markdown",
     "metadata": {},
     "source": [
      "uncommoent the relevant pipeline in `../seizure_detection.py` and run\n",
      "```bash\n",
      "cd ..\n",
      "./doall data\n",
      "```\n",
      "or\n",
      "```bash\n",
      "./doall td\n",
      "./doall tt\n",
      "```"
     ]
    },
    {
     "cell_type": "code",
     "collapsed": false,
     "input": [
      "FEATURES = 'gen-8_allbands2-usf-w60-b0.2-b4-b8-b12-b30-b70'"
     ],
     "language": "python",
     "metadata": {},
     "outputs": [],
     "prompt_number": 32
    },
    {
     "cell_type": "code",
     "collapsed": false,
     "input": [
      "nbands = 0\n",
      "nwindows = 0\n",
      "for p in FEATURES.split('-'):\n",
      "    if p[0] == 'b':\n",
      "        nbands += 1\n",
      "    elif p[0] == 'w':\n",
      "        nwindows = int(p[1:])\n",
      "\n",
      "nbands -= 1\n",
      "nbands, nwindows"
     ],
     "language": "python",
     "metadata": {},
     "outputs": [
      {
       "metadata": {},
       "output_type": "pyout",
       "prompt_number": 33,
       "text": [
        "(5, 60)"
       ]
      }
     ],
     "prompt_number": 33
    },
    {
     "cell_type": "code",
     "collapsed": false,
     "input": [
      "NUNITS = 1"
     ],
     "language": "python",
     "metadata": {},
     "outputs": [],
     "prompt_number": 34
    },
    {
     "cell_type": "code",
     "collapsed": false,
     "input": [
      "from common.data import CachedDataLoader\n",
      "cached_data_loader = CachedDataLoader('../data-cache')"
     ],
     "language": "python",
     "metadata": {},
     "outputs": [],
     "prompt_number": 35
    },
    {
     "cell_type": "code",
     "collapsed": false,
     "input": [
      "def read_data(target, data_type):\n",
      "    fname = 'data_%s_%s_%s'%(data_type,target,FEATURES)\n",
      "    print fname\n",
      "    return cached_data_loader.load(fname,None)"
     ],
     "language": "python",
     "metadata": {},
     "outputs": [],
     "prompt_number": 36
    },
    {
     "cell_type": "heading",
     "level": 1,
     "metadata": {},
     "source": [
      "Predict"
     ]
    },
    {
     "cell_type": "code",
     "collapsed": false,
     "input": [
      "def process(X, percentile=[0.1,0.5,0.9],nunits=NUNITS):\n",
      "    N, Nf = X.shape\n",
      "    print '# samples',N,'# power points', Nf\n",
      "    print '# channels', Nf / (nbands*nwindows)\n",
      "    \n",
      "    newX = []\n",
      "    for i in range(N):\n",
      "        nw = nwindows//nunits\n",
      "        windows = X[i,:].reshape((nunits,nw,-1))\n",
      "        sorted_windows = np.sort(windows, axis=1)\n",
      "        features = np.concatenate([sorted_windows[:,int(p*nw),:] for p in percentile], axis=-1)\n",
      "        newX.append(features.ravel())\n",
      "    newX = np.array(newX)\n",
      "\n",
      "    return newX"
     ],
     "language": "python",
     "metadata": {},
     "outputs": [],
     "prompt_number": 37
    },
    {
     "cell_type": "code",
     "collapsed": false,
     "input": [
      "from sklearn import preprocessing\n",
      "from nolearn.dbn import DBN\n",
      "from sklearn.pipeline import Pipeline\n",
      "from sklearn.preprocessing import StandardScaler\n",
      "\n",
      "scale = StandardScaler()\n",
      "\n",
      "min_max_scaler = preprocessing.MinMaxScaler() # scale features to be [0..1] which is DBN requirement\n",
      "\n",
      "dbn = DBN(\n",
      "    [-1, 300, -1], # first layer has size X.shape[1], hidden layer(s), last layer will have number of classes in y (2))\n",
      "    learn_rates=0.3,\n",
      "    learn_rate_decays=0.9,\n",
      "    epochs=500,\n",
      "    dropouts=[0.1,0.5],\n",
      "    verbose=0,\n",
      "    )\n",
      "\n",
      "clf = Pipeline([('min_max_scaler', min_max_scaler), ('dbn', dbn)])"
     ],
     "language": "python",
     "metadata": {},
     "outputs": [],
     "prompt_number": 40
    },
    {
     "cell_type": "code",
     "collapsed": false,
     "input": [
      "fpout = open('../submissions/141105-predict.3.csv','w')\n",
      "print >>fpout,'clip,preictal'"
     ],
     "language": "python",
     "metadata": {},
     "outputs": [],
     "prompt_number": 41
    },
    {
     "cell_type": "code",
     "collapsed": false,
     "input": [
      "for target in ['Dog_1', 'Dog_2', 'Dog_3', 'Dog_4', 'Dog_5', 'Patient_1', 'Patient_2']:\n",
      "    pdata = read_data(target, 'preictal') # positive examples\n",
      "    ndata = read_data(target, 'interictal') # negative examples\n",
      "    X = np.concatenate((pdata.X, ndata.X))\n",
      "    X = process(X)\n",
      "    _, NF = X.shape\n",
      "    \n",
      "    X = scale.fit_transform(X)\n",
      "    X = np.clip(X,-3,5)\n",
      "    \n",
      "    clf.set_params(dbn__layer_sizes=[NF,300,2]) # we need to reset each time because NF is different\n",
      "    y = np.zeros(X.shape[0])\n",
      "    y[:pdata.X.shape[0]] = 1\n",
      "    # shuffle\n",
      "    idxs=range(len(y))\n",
      "    random.shuffle(idxs)\n",
      "    X = X[idxs,:]\n",
      "    y = y[idxs]\n",
      "    # model\n",
      "    clf.fit(X,y)\n",
      "    # predict\n",
      "    tdata = read_data(target, 'test') # test examples\n",
      "    Xt = process(tdata.X)\n",
      "    \n",
      "    Xt = scale.transform(Xt)\n",
      "    Xt = np.clip(Xt,-3,5)\n",
      "    \n",
      "    y_proba = clf.predict_proba(Xt)[:,1]\n",
      "    # write results\n",
      "    for i,p in enumerate(y_proba):\n",
      "        print >>fpout,'%s_test_segment_%04d.mat,%.15f' % (target, i+1, p)"
     ],
     "language": "python",
     "metadata": {},
     "outputs": [
      {
       "output_type": "stream",
       "stream": "stdout",
       "text": [
        "data_preictal_Dog_1_gen-8_allbands2-usf-w60-b0.2-b4-b8-b12-b30-b70\n",
        "data_interictal_Dog_1_gen-8_allbands2-usf-w60-b0.2-b4-b8-b12-b30-b70\n",
        "# samples 664 # power points 4800\n",
        "# channels 16\n",
        "data_test_Dog_1_gen-8_allbands2-usf-w60-b0.2-b4-b8-b12-b30-b70"
       ]
      },
      {
       "output_type": "stream",
       "stream": "stdout",
       "text": [
        "\n",
        "# samples 502 # power points 4800\n",
        "# channels 16\n",
        "data_preictal_Dog_2_gen-8_allbands2-usf-w60-b0.2-b4-b8-b12-b30-b70"
       ]
      },
      {
       "output_type": "stream",
       "stream": "stdout",
       "text": [
        "\n",
        "data_interictal_Dog_2_gen-8_allbands2-usf-w60-b0.2-b4-b8-b12-b30-b70\n",
        "# samples 822 # power points 4800\n",
        "# channels 16\n",
        "data_test_Dog_2_gen-8_allbands2-usf-w60-b0.2-b4-b8-b12-b30-b70"
       ]
      },
      {
       "output_type": "stream",
       "stream": "stdout",
       "text": [
        "\n",
        "# samples 1000 # power points 4800\n",
        "# channels 16\n",
        "data_preictal_Dog_3_gen-8_allbands2-usf-w60-b0.2-b4-b8-b12-b30-b70"
       ]
      },
      {
       "output_type": "stream",
       "stream": "stdout",
       "text": [
        "\n",
        "data_interictal_Dog_3_gen-8_allbands2-usf-w60-b0.2-b4-b8-b12-b30-b70\n",
        "# samples"
       ]
      },
      {
       "output_type": "stream",
       "stream": "stdout",
       "text": [
        " 1992 # power points 4800\n",
        "# channels 16\n",
        "data_test_Dog_3_gen-8_allbands2-usf-w60-b0.2-b4-b8-b12-b30-b70"
       ]
      },
      {
       "output_type": "stream",
       "stream": "stdout",
       "text": [
        "\n",
        "# samples 907 # power points 4800\n",
        "# channels 16\n",
        "data_preictal_Dog_4_gen-8_allbands2-usf-w60-b0.2-b4-b8-b12-b30-b70"
       ]
      },
      {
       "output_type": "stream",
       "stream": "stdout",
       "text": [
        "\n",
        "data_interictal_Dog_4_gen-8_allbands2-usf-w60-b0.2-b4-b8-b12-b30-b70\n",
        "# samples"
       ]
      },
      {
       "output_type": "stream",
       "stream": "stdout",
       "text": [
        " 1541 # power points 4800\n",
        "# channels 16\n",
        "data_test_Dog_4_gen-8_allbands2-usf-w60-b0.2-b4-b8-b12-b30-b70"
       ]
      },
      {
       "output_type": "stream",
       "stream": "stdout",
       "text": [
        "\n",
        "# samples 990 # power points 4800\n",
        "# channels 16\n",
        "data_preictal_Dog_5_gen-8_allbands2-usf-w60-b0.2-b4-b8-b12-b30-b70"
       ]
      },
      {
       "output_type": "stream",
       "stream": "stdout",
       "text": [
        "\n",
        "data_interictal_Dog_5_gen-8_allbands2-usf-w60-b0.2-b4-b8-b12-b30-b70\n",
        "# samples 680 # power points 4500\n",
        "# channels 15\n",
        "data_test_Dog_5_gen-8_allbands2-usf-w60-b0.2-b4-b8-b12-b30-b70"
       ]
      },
      {
       "output_type": "stream",
       "stream": "stdout",
       "text": [
        "\n",
        "# samples 191 # power points 4500\n",
        "# channels 15\n",
        "data_preictal_Patient_1_gen-8_allbands2-usf-w60-b0.2-b4-b8-b12-b30-b70"
       ]
      },
      {
       "output_type": "stream",
       "stream": "stdout",
       "text": [
        "\n",
        "data_interictal_Patient_1_gen-8_allbands2-usf-w60-b0.2-b4-b8-b12-b30-b70\n",
        "# samples 188 # power points 4500\n",
        "# channels 15\n",
        "data_test_Patient_1_gen-8_allbands2-usf-w60-b0.2-b4-b8-b12-b30-b70"
       ]
      },
      {
       "output_type": "stream",
       "stream": "stdout",
       "text": [
        "\n",
        "# samples 195 # power points 4500\n",
        "# channels 15\n",
        "data_preictal_Patient_2_gen-8_allbands2-usf-w60-b0.2-b4-b8-b12-b30-b70"
       ]
      },
      {
       "output_type": "stream",
       "stream": "stdout",
       "text": [
        "\n",
        "data_interictal_Patient_2_gen-8_allbands2-usf-w60-b0.2-b4-b8-b12-b30-b70\n",
        "# samples 180 # power points 7200\n",
        "# channels 24\n",
        "data_test_Patient_2_gen-8_allbands2-usf-w60-b0.2-b4-b8-b12-b30-b70"
       ]
      },
      {
       "output_type": "stream",
       "stream": "stdout",
       "text": [
        "\n",
        "# samples 150 # power points 7200\n",
        "# channels 24\n"
       ]
      },
      {
       "metadata": {},
       "output_type": "display_data",
       "png": "[encoded data removed]",
       "text": [
        "<matplotlib.figure.Figure at 0x1131194d0>"
       ]
      }
     ],
     "prompt_number": 27
    },
    {
     "cell_type": "code",
     "collapsed": false,
     "input": [
      "fpout.close()"
     ],
     "language": "python",
     "metadata": {},
     "outputs": [],
     "prompt_number": 28
    },
    {
     "cell_type": "code",
     "collapsed": false,
     "input": [
      "pl.hist(Xt.ravel(),bins=50)"
     ],
     "language": "python",
     "metadata": {},
     "outputs": [
      {
       "metadata": {},
       "output_type": "pyout",
       "prompt_number": 29,
       "text": [
        "(array([  757.,    44.,    46.,    59.,    76.,    92.,   148.,   182.,\n",
        "          212.,   267.,   375.,   475.,   632.,   795.,  1005.,  1272.,\n",
        "         1586.,  2093.,  2300.,  2492.,  2541.,  2519.,  2542.,  2454.,\n",
        "         2403.,  2202.,  2112.,  2118.,  2105.,  1982.,  1774.,  1722.,\n",
        "         1599.,  1409.,  1284.,  1195.,   997.,   838.,   716.,   589.,\n",
        "          558.,   491.,   358.,   317.,   274.,   208.,   193.,   174.,\n",
        "          112.,  1306.]),\n",
        " array([-3.  , -2.84, -2.68, -2.52, -2.36, -2.2 , -2.04, -1.88, -1.72,\n",
        "        -1.56, -1.4 , -1.24, -1.08, -0.92, -0.76, -0.6 , -0.44, -0.28,\n",
        "        -0.12,  0.04,  0.2 ,  0.36,  0.52,  0.68,  0.84,  1.  ,  1.16,\n",
        "         1.32,  1.48,  1.64,  1.8 ,  1.96,  2.12,  2.28,  2.44,  2.6 ,\n",
        "         2.76,  2.92,  3.08,  3.24,  3.4 ,  3.56,  3.72,  3.88,  4.04,\n",
        "         4.2 ,  4.36,  4.52,  4.68,  4.84,  5.  ]),\n",
        " <a list of 50 Patch objects>)"
       ]
      },
      {
       "metadata": {},
       "output_type": "display_data",
       "png": "[encoded data removed]",
       "text": [
        "<matplotlib.figure.Figure at 0x115559110>"
       ]
      }
     ],
     "prompt_number": 29
    },
    {
     "cell_type": "code",
     "collapsed": false,
     "input": [],
     "language": "python",
     "metadata": {},
     "outputs": []
    }
   ],
   "metadata": {}
  }
 ]
}