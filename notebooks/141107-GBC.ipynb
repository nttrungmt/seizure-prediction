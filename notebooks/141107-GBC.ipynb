{
 "metadata": {
  "name": "",
  "signature": "sha256:2b71390e18766eaa2f3ed63db32a560b339b2245552e8b520652d92f8c53e5ea"
 },
 "nbformat": 3,
 "nbformat_minor": 0,
 "worksheets": [
  {
   "cells": [
    {
     "cell_type": "markdown",
     "metadata": {},
     "source": [
      "Manually run this notebooks on all targets"
     ]
    },
    {
     "cell_type": "code",
     "collapsed": false,
     "input": [
      "target = 'Patient_2'"
     ],
     "language": "python",
     "metadata": {},
     "outputs": [],
     "prompt_number": 38
    },
    {
     "cell_type": "code",
     "collapsed": false,
     "input": [
      "%matplotlib inline\n",
      "from matplotlib import pylab as pl\n",
      "import cPickle as pickle\n",
      "import pandas as pd\n",
      "import numpy as np\n",
      "import os\n",
      "import re\n",
      "import math\n",
      "import sys\n",
      "import random\n",
      "from collections import defaultdict"
     ],
     "language": "python",
     "metadata": {},
     "outputs": [],
     "prompt_number": 39
    },
    {
     "cell_type": "code",
     "collapsed": false,
     "input": [
      "import sys\n",
      "sys.path.append('..')\n",
      "from common.data import CachedDataLoader\n",
      "cached_data_loader = CachedDataLoader('../data-cache')\n",
      "def read_data(target, data_type, features):\n",
      "    return cached_data_loader.load('data_%s_%s_%s'%(data_type,target,features),None)"
     ],
     "language": "python",
     "metadata": {},
     "outputs": [],
     "prompt_number": 40
    },
    {
     "cell_type": "heading",
     "level": 1,
     "metadata": {},
     "source": [
      "Read data"
     ]
    },
    {
     "cell_type": "code",
     "collapsed": false,
     "input": [
      "FEATURES = 'gen-8_allbands2-usf-w60-b0.2-b4-b8-b12-b30-b70'\n",
      "FEATURES1 = 'gen-8_maxdiff-60'\n",
      "\n",
      "nbands = 0\n",
      "nwindows = 0\n",
      "for p in FEATURES.split('-'):\n",
      "    if p[0] == 'b':\n",
      "        nbands += 1\n",
      "    elif p[0] == 'w':\n",
      "        nwindows = int(p[1:])\n",
      "\n",
      "nbands -= 1\n",
      "nbands, nwindows"
     ],
     "language": "python",
     "metadata": {},
     "outputs": [
      {
       "metadata": {},
       "output_type": "pyout",
       "prompt_number": 41,
       "text": [
        "(5, 60)"
       ]
      }
     ],
     "prompt_number": 41
    },
    {
     "cell_type": "markdown",
     "metadata": {},
     "source": [
      "each target receive a different model"
     ]
    },
    {
     "cell_type": "markdown",
     "metadata": {},
     "source": [
      "positive examples. The positive examles were upsampled (using `gen_ictal=-8`)"
     ]
    },
    {
     "cell_type": "code",
     "collapsed": false,
     "input": [
      "from common.data import CachedDataLoader\n",
      "cached_data_loader = CachedDataLoader('../data-cache')\n",
      "\n",
      "def read_data(target, data_type, features=FEATURES):\n",
      "    fname = 'data_%s_%s_%s'%(data_type,target,features)\n",
      "    print fname\n",
      "    return cached_data_loader.load(fname,None)\n",
      "\n",
      "def process(X, X1, percentile=[0.05,0.95], nunits=2, mask_level=7000):\n",
      "    N, Nf = X.shape\n",
      "    print '# samples',N,'# power points', Nf\n",
      "    nchannels = Nf / (nbands*nwindows)\n",
      "    print '# channels', nchannels\n",
      "\n",
      "    fix = defaultdict(int)\n",
      "    newX = []\n",
      "    for i in range(N):\n",
      "        nw = nwindows//nunits\n",
      "        windows = X[i,:].reshape((nunits,nw,-1))\n",
      "        mask = X1[i,:].reshape((nunits,nw,-1)) # max value for each channel\n",
      "        for j in range(nunits):\n",
      "            for k in range(nchannels):\n",
      "                m = mask[j,:,k] > mask_level # find large windows\n",
      "                if np.any(m):\n",
      "#                     print 'FIX', sum(m)\n",
      "                    fix[sum(m)] += 1\n",
      "                    if not np.all(m): # make sure we had at least one good window so we can re use its values\n",
      "                        # replace the bands of a large windows with the mean of the bands in all other windows\n",
      "                        windows[j,m,k*nbands:(k+1)*nbands] = np.mean(windows[j,~m,k*nbands:(k+1)*nbands], axis=0)\n",
      "        sorted_windows = np.sort(windows, axis=1)\n",
      "        features = np.concatenate([sorted_windows[:,int(p*nw),:] for p in percentile], axis=-1)\n",
      "        newX.append(features.ravel())\n",
      "    newX = np.array(newX)\n",
      "    print sorted(fix.items())\n",
      "    return newX\n",
      "\n",
      "def getsegments(pdata):\n",
      "    segments = []\n",
      "    start = 0\n",
      "    last_l = 0\n",
      "    for i,l in enumerate(pdata.latencies):\n",
      "        if l<last_l:\n",
      "            segments.append(range(start,i))\n",
      "            start = i\n",
      "        last_l = l\n",
      "    segments.append(range(start,i+1))\n",
      "    return segments\n",
      "\n",
      "def getdata():\n",
      "    pdata = read_data(target, 'preictal') # positive examples\n",
      "    Np, _ = pdata.X.shape\n",
      "    print 'Positive examples',Np,\n",
      "    psegments = getsegments(pdata)\n",
      "    Nps = len(psegments)\n",
      "    print 'sequences:',Nps\n",
      "    \n",
      "\n",
      "    ndata = read_data(target, 'interictal') # negative examples\n",
      "    Nn, _ = ndata.X.shape\n",
      "    print 'Negative',Nn,\n",
      "    nsegments = getsegments(ndata)\n",
      "    Nns = len(nsegments)\n",
      "    print 'sequences:',Nns\n",
      "\n",
      "    X = np.concatenate((pdata.X, ndata.X))\n",
      "    print 'p-ratio',float(Np)/(Np+Nn), 'sequences p-ratio:',float(Nps)/(Nps+Nns)\n",
      "    nsegments = [[s+Np for s in ns] for ns in nsegments]\n",
      "    latencies = np.concatenate((pdata.latencies,ndata.latencies))\n",
      "\n",
      "    pdata1 = read_data(target, 'preictal', FEATURES1) # positive examples\n",
      "    ndata1 = read_data(target, 'interictal', FEATURES1) # negative examples\n",
      "    X1 = np.concatenate((pdata1.X, ndata1.X))\n",
      "\n",
      "    print 'Training:'\n",
      "    X = process(X, X1)\n",
      "    \n",
      "    \n",
      "    y = np.zeros(X.shape[0])\n",
      "    y[:Np] = 1\n",
      "    \n",
      "    print 'Test:'\n",
      "    tdata = read_data(target, 'test') # test examples\n",
      "    tdata1 = read_data(target, 'test', FEATURES1) # test examples\n",
      "    Xt = process(tdata.X, tdata1.X)\n",
      "    \n",
      "    return X,y,Xt,psegments,nsegments,latencies"
     ],
     "language": "python",
     "metadata": {},
     "outputs": [],
     "prompt_number": 42
    },
    {
     "cell_type": "markdown",
     "metadata": {},
     "source": [
      "data is broken into segments that should be taken together when splitting to training and validation"
     ]
    },
    {
     "cell_type": "code",
     "collapsed": false,
     "input": [
      "X,y,Xt,psegments,nsegments,latencies = getdata()"
     ],
     "language": "python",
     "metadata": {},
     "outputs": [
      {
       "output_type": "stream",
       "stream": "stdout",
       "text": [
        "data_preictal_Patient_2_gen-8_allbands2-usf-w60-b0.2-b4-b8-b12-b30-b70\n",
        "Positive examples 138 sequences: 3\n",
        "data_interictal_Patient_2_gen-8_allbands2-usf-w60-b0.2-b4-b8-b12-b30-b70\n",
        "Negative 42 sequences: 7\n",
        "p-ratio 0.766666666667 sequences p-ratio: 0.3\n",
        "data_preictal_Patient_2_gen-8_maxdiff-60\n",
        "data_interictal_Patient_2_gen-8_maxdiff-60\n",
        "Training:\n",
        "# samples 180 # power points 7200\n",
        "# channels 24\n",
        "[(1, 189)]"
       ]
      },
      {
       "output_type": "stream",
       "stream": "stdout",
       "text": [
        "\n",
        "Test:\n",
        "data_test_Patient_2_gen-8_allbands2-usf-w60-b0.2-b4-b8-b12-b30-b70\n",
        "data_test_Patient_2_gen-8_maxdiff-60\n",
        "# samples 150 # power points 7200\n",
        "# channels 24\n",
        "[(1, 3), (2, 1), (3, 5), (4, 2), (5, 4), (6, 4), (7, 6), (8, 9), (9, 4), (10, 5), (12, 3), (13, 3), (14, 12), (16, 4)]"
       ]
      },
      {
       "output_type": "stream",
       "stream": "stdout",
       "text": [
        "\n"
       ]
      }
     ],
     "prompt_number": 43
    },
    {
     "cell_type": "code",
     "collapsed": false,
     "input": [
      "N, NF = X.shape\n",
      "N, NF"
     ],
     "language": "python",
     "metadata": {},
     "outputs": [
      {
       "metadata": {},
       "output_type": "pyout",
       "prompt_number": 44,
       "text": [
        "(180, 480)"
       ]
      }
     ],
     "prompt_number": 44
    },
    {
     "cell_type": "heading",
     "level": 1,
     "metadata": {},
     "source": [
      "Feature Importance"
     ]
    },
    {
     "cell_type": "heading",
     "level": 2,
     "metadata": {},
     "source": [
      "Positive/Negative feature importance"
     ]
    },
    {
     "cell_type": "markdown",
     "metadata": {},
     "source": [
      "I am using RF because it needs very little (hyper) parameter tuning. On purpose I am using a small depth, because I am not interested in the best prediction (which is already high) but with the feature importance after taking into account pair interactions."
     ]
    },
    {
     "cell_type": "code",
     "collapsed": false,
     "input": [
      "from sklearn.ensemble import RandomForestClassifier\n",
      "\n",
      "rf = RandomForestClassifier(n_estimators=1000, n_jobs=-1, oob_score=True, max_depth=2)\n",
      "rf.fit(X, y)"
     ],
     "language": "python",
     "metadata": {},
     "outputs": [
      {
       "metadata": {},
       "output_type": "pyout",
       "prompt_number": 45,
       "text": [
        "RandomForestClassifier(bootstrap=True, compute_importances=None,\n",
        "            criterion='gini', max_depth=2, max_features='auto',\n",
        "            max_leaf_nodes=None, min_density=None, min_samples_leaf=1,\n",
        "            min_samples_split=2, n_estimators=1000, n_jobs=-1,\n",
        "            oob_score=True, random_state=None, verbose=0)"
       ]
      }
     ],
     "prompt_number": 45
    },
    {
     "cell_type": "code",
     "collapsed": false,
     "input": [
      "rf.oob_score_"
     ],
     "language": "python",
     "metadata": {},
     "outputs": [
      {
       "metadata": {},
       "output_type": "pyout",
       "prompt_number": 46,
       "text": [
        "0.8833333333333333"
       ]
      }
     ],
     "prompt_number": 46
    },
    {
     "cell_type": "code",
     "collapsed": false,
     "input": [
      "pnweights = rf.feature_importances_\n",
      "pn_importance_order = pnweights.argsort()[::-1]\n",
      "pl.plot(rf.feature_importances_[pn_importance_order])"
     ],
     "language": "python",
     "metadata": {},
     "outputs": [
      {
       "metadata": {},
       "output_type": "pyout",
       "prompt_number": 47,
       "text": [
        "[<matplotlib.lines.Line2D at 0x114791f10>]"
       ]
      },
      {
       "metadata": {},
       "output_type": "display_data",
       "png": "[encoded data removed]",
       "text": [
        "<matplotlib.figure.Figure at 0x116b7cf10>"
       ]
      }
     ],
     "prompt_number": 47
    },
    {
     "cell_type": "heading",
     "level": 1,
     "metadata": {},
     "source": [
      "Classification"
     ]
    },
    {
     "cell_type": "heading",
     "level": 2,
     "metadata": {},
     "source": [
      "hyperopt"
     ]
    },
    {
     "cell_type": "markdown",
     "metadata": {},
     "source": [
      "we will use [Gradient Boosting Classifier](http://scikit-learn.org/stable/modules/generated/sklearn.ensemble.GradientBoostingClassifier.html) which usually gives better results than L1 or RF. In addition, like RF, it does not require normalization or PCA. However, unlike RF or L1 it has many hyper parameters that can effect its performance. In addition we need to decide how many features we want to use which is another hyper-parameter. Instead of manually guessing, we can use the [hyperopt](http://hyperopt.github.io/hyperopt/) to do the guesing for us"
     ]
    },
    {
     "cell_type": "markdown",
     "metadata": {},
     "source": [
      "we will perform several hyperopt search in parallel each running on a different bootstrap sample of the data"
     ]
    },
    {
     "cell_type": "heading",
     "level": 3,
     "metadata": {},
     "source": [
      "shared memory"
     ]
    },
    {
     "cell_type": "markdown",
     "metadata": {},
     "source": [
      "The data itself is identical so there is no need to duplicate it for each process and we will use shared memory (shmem)"
     ]
    },
    {
     "cell_type": "code",
     "collapsed": false,
     "input": [
      "!rm /tmp/X.mmap\n",
      "mmX = np.memmap('/tmp/X.mmap', shape=X.shape, dtype=np.float32, mode='w+')\n",
      "mmX[:,:] = X[:,pn_importance_order]\n",
      "del mmX # flush to disk"
     ],
     "language": "python",
     "metadata": {},
     "outputs": [],
     "prompt_number": 48
    },
    {
     "cell_type": "heading",
     "level": 3,
     "metadata": {},
     "source": [
      "parallel"
     ]
    },
    {
     "cell_type": "markdown",
     "metadata": {},
     "source": [
      "We will use ipython parallel processing infrastructure. Visit [Clusters tab in the Home page of ipython](../tree#clusters) and start 8 engines (or as many cores you have on your machine) from the default profile"
     ]
    },
    {
     "cell_type": "markdown",
     "metadata": {},
     "source": [
      "OR you can run the command line:"
     ]
    },
    {
     "cell_type": "markdown",
     "metadata": {},
     "source": [
      "```bash\n",
      "ipcluster start --n=8\n",
      "```"
     ]
    },
    {
     "cell_type": "markdown",
     "metadata": {},
     "source": [
      "wait a little bit (otherwise you will get an error on next cell)"
     ]
    },
    {
     "cell_type": "code",
     "collapsed": false,
     "input": [
      "#!sleep 30"
     ],
     "language": "python",
     "metadata": {},
     "outputs": [],
     "prompt_number": 49
    },
    {
     "cell_type": "code",
     "collapsed": false,
     "input": [
      "from IPython.parallel import Client\n",
      "client = Client()\n",
      "lv = client.load_balanced_view()\n",
      "#lv.set_flags(block = False, retries = 0)\n",
      "clients=client[:]\n",
      "Ncores = len(clients)\n",
      "Ncores"
     ],
     "language": "python",
     "metadata": {},
     "outputs": [
      {
       "metadata": {},
       "output_type": "pyout",
       "prompt_number": 50,
       "text": [
        "8"
       ]
      }
     ],
     "prompt_number": 50
    },
    {
     "cell_type": "markdown",
     "metadata": {},
     "source": [
      "copy some information to all engines"
     ]
    },
    {
     "cell_type": "code",
     "collapsed": false,
     "input": [
      "clients['X_shape'] = X.shape\n",
      "clients['y'] = y\n",
      "clients['psegments'] = psegments\n",
      "clients['nsegments'] = nsegments"
     ],
     "language": "python",
     "metadata": {},
     "outputs": [],
     "prompt_number": 51
    },
    {
     "cell_type": "markdown",
     "metadata": {},
     "source": [
      "load the shared memory on all engines"
     ]
    },
    {
     "cell_type": "code",
     "collapsed": false,
     "input": [
      "%%px\n",
      "import numpy as np\n",
      "N, NF = X_shape\n",
      "X = np.memmap('/tmp/X.mmap', shape=X_shape, dtype=np.float32, mode='r')"
     ],
     "language": "python",
     "metadata": {},
     "outputs": [],
     "prompt_number": 52
    },
    {
     "cell_type": "code",
     "collapsed": false,
     "input": [
      "%%px\n",
      "import random, itertools\n",
      "def random_train_validation_split(psegments=psegments, nsegments=nsegments, N=N, pratio=1):\n",
      "    \"\"\"Randomly pick one positive segment for validation and a matching number of negative segments\"\"\"\n",
      "    Nps = len(psegments)\n",
      "    assert Nps > 1\n",
      "    Nns = len(nsegments)\n",
      "    assert Nns > 1\n",
      "    npsratio = float(Nns)/Nps\n",
      "    Ntrainps = 1\n",
      "    Ntrainns = min(max(1,int(Ntrainps*npsratio+0.5)), Nns-1) # make sure we have something to train\n",
      "    \n",
      "    s = random.choice(psegments)\n",
      "    ns = random.sample(nsegments,Ntrainns) # sequence based\n",
      "    n = list(itertools.chain(*ns)) # .ravel does not work - elements of nsegments are not of equal length\n",
      "    sample_validate = s + n\n",
      "    random.shuffle(sample_validate)\n",
      "    \n",
      "    \n",
      "    all_p = list(itertools.chain(*psegments))\n",
      "    all_n = list(itertools.chain(*nsegments))\n",
      "\n",
      "    testp = list(set(all_p) - set(s))\n",
      "    if pratio != 1:\n",
      "        testp *= pratio\n",
      "#         ntestp = len(testp)\n",
      "#         boot_ntestp = int(ntestp*pratio)\n",
      "#         w = np.ones(ntestp)/float(ntestp)\n",
      "#         testp = [testp[i] for i, n in enumerate(np.random.multinomial(boot_ntestp, w))\n",
      "#                  for k in xrange(n)]\n",
      "        \n",
      "    testn = list(set(all_n) - set(n))\n",
      "    sample_test = testp + testn\n",
      "    random.shuffle(sample_test)\n",
      "\n",
      "    return sample_test, sample_validate"
     ],
     "language": "python",
     "metadata": {},
     "outputs": [],
     "prompt_number": 53
    },
    {
     "cell_type": "markdown",
     "metadata": {},
     "source": [
      "We will optimize AUC"
     ]
    },
    {
     "cell_type": "code",
     "collapsed": false,
     "input": [
      "%%px\n",
      "from gradient_boost_loss import NAUC\n",
      "import os\n",
      "def hyperopt_work(args):\n",
      "    from lockfile import LockFile\n",
      "    space = args.get('space')\n",
      "    pratio = int(space['pratio'])\n",
      "    sample_train, sample_validate = random_train_validation_split(pratio=pratio)    \n",
      "\n",
      "    X_trn = X[sample_train,:]\n",
      "    y_trn = y[sample_train]\n",
      "    assert y_trn.mean() > 0.01 and y_trn.mean() < 0.99\n",
      "\n",
      "    X_val = X[sample_validate,:]\n",
      "    y_val = y[sample_validate]\n",
      "    \n",
      "    def t_est(args):\n",
      "        try:\n",
      "            from sklearn.ensemble import GradientBoostingClassifier \n",
      "            est = GradientBoostingClassifier()\n",
      "            params = dict((k,int(v) if isinstance(v, float) and abs(v - int(v)) < 1e-3 else v)\n",
      "                          for k, v in args.iteritems() if k not in ['nf', 'pratio'])\n",
      "            est.set_params(**params)\n",
      "#             est.loss__ = NAUC(2)\n",
      "\n",
      "            nf = int(args['nf'])\n",
      "            est.fit(X_trn[:,:nf], y_trn)\n",
      "            \n",
      "            y_train = est.predict_proba(X_trn[:,:nf])[:,1]\n",
      "            y_validate = est.predict_proba(X_val[:,:nf])[:,1]\n",
      "            \n",
      "            from sklearn.metrics import roc_auc_score\n",
      "            train_score = roc_auc_score(y_trn, y_train)\n",
      "            validate_score = roc_auc_score(y_val, y_validate)\n",
      "            \n",
      "            lock = LockFile('.lock')\n",
      "            with lock:\n",
      "                with open('../data-cache/hyperopt.txt','a') as fp:\n",
      "                    print >>fp, validate_score, train_score, os.getpid(), args\n",
      "            from hyperopt import STATUS_OK\n",
      "            return {'loss':1.-validate_score, 'status':STATUS_OK, 'pid':os.getpid(),\n",
      "                    'train_score':train_score, 'validate_score':validate_score}\n",
      "        except Exception as e:\n",
      "            lock = LockFile('.lock')\n",
      "            with lock:\n",
      "                with open('../data-cache/hyperopt.txt','a') as fp:\n",
      "                    print >>fp, 'failed', e, args\n",
      "            from hyperopt import STATUS_FAIL\n",
      "            return {'status':STATUS_FAIL, 'loss':1.} # 'loss' is mandatory\n",
      "            \n",
      "    \n",
      "    max_evals = args.get('max_evals', 100)\n",
      "    from hyperopt import fmin, tpe, Trials\n",
      "#     trials = Trials()\n",
      "    best = fmin( t_est, space, algo=tpe.suggest, max_evals=max_evals) #, trials=trials)\n",
      "#     import cPickle as pickle\n",
      "#     lock = LockFile('.lock')\n",
      "#     with lock:\n",
      "#         with open('../data-cache/hyperopt.spkl','ab') as fp:\n",
      "#                 pickle.dump(trials, fp, -1)\n",
      "    return best"
     ],
     "language": "python",
     "metadata": {},
     "outputs": [],
     "prompt_number": 54
    },
    {
     "cell_type": "markdown",
     "metadata": {},
     "source": [
      "Define statistical space in which we will do our hyper-parameter search"
     ]
    },
    {
     "cell_type": "code",
     "collapsed": false,
     "input": [
      "%%px\n",
      "from hyperopt import hp\n",
      "from math import log\n",
      "space = {\n",
      "    'n_estimators': 1000,\n",
      "    'pratio': 1,\n",
      "    'learning_rate': hp.loguniform('learning_rate', np.log(0.001), np.log(1.)),\n",
      "    'nf': hp.quniform( 'nf', 10, NF, 1),\n",
      "    'max_features': hp.quniform( 'max_features', 10, 30, 1),\n",
      "    'max_depth': hp.quniform( 'max_depth', 2, 18, 1),\n",
      "    'min_samples_leaf': hp.quniform( 'min_samples_leaf', 2, 30, 1),\n",
      "#     'subsample': hp.uniform( 'subsample', 0.2, 0.9),\n",
      "}"
     ],
     "language": "python",
     "metadata": {},
     "outputs": [],
     "prompt_number": 55
    },
    {
     "cell_type": "code",
     "collapsed": false,
     "input": [
      "!rm ../data-cache/hyperopt.*"
     ],
     "language": "python",
     "metadata": {},
     "outputs": [],
     "prompt_number": 56
    },
    {
     "cell_type": "markdown",
     "metadata": {},
     "source": [
      "run hyperopt searches in parallel on all cores.\n",
      "Each hyperopt search will do 100 evaluations of the hyper parameters."
     ]
    },
    {
     "cell_type": "code",
     "collapsed": false,
     "input": [
      "%%px\n",
      "hyperopt_work({'space':space, 'max_evals':100})"
     ],
     "language": "python",
     "metadata": {},
     "outputs": [
      {
       "metadata": {},
       "output_type": "display_data",
       "text": [
        "\u001b[0;31mOut[0:46]: \u001b[0m\n",
        "{'learning_rate': 0.016273346783129052,\n",
        " 'max_depth': 6.0,\n",
        " 'max_features': 14.0,\n",
        " 'min_samples_leaf': 3.0,\n",
        " 'nf': 172.0}"
       ]
      },
      {
       "metadata": {},
       "output_type": "display_data",
       "text": [
        "\u001b[0;31mOut[1:46]: \u001b[0m\n",
        "{'learning_rate': 0.7477400914297095,\n",
        " 'max_depth': 6.0,\n",
        " 'max_features': 18.0,\n",
        " 'min_samples_leaf': 8.0,\n",
        " 'nf': 153.0}"
       ]
      },
      {
       "metadata": {},
       "output_type": "display_data",
       "text": [
        "\u001b[0;31mOut[2:46]: \u001b[0m\n",
        "{'learning_rate': 0.056923904333768996,\n",
        " 'max_depth': 6.0,\n",
        " 'max_features': 10.0,\n",
        " 'min_samples_leaf': 14.0,\n",
        " 'nf': 11.0}"
       ]
      },
      {
       "metadata": {},
       "output_type": "display_data",
       "text": [
        "\u001b[0;31mOut[3:46]: \u001b[0m\n",
        "{'learning_rate': 0.035907527443119265,\n",
        " 'max_depth': 14.0,\n",
        " 'max_features': 18.0,\n",
        " 'min_samples_leaf': 18.0,\n",
        " 'nf': 18.0}"
       ]
      },
      {
       "metadata": {},
       "output_type": "display_data",
       "text": [
        "\u001b[0;31mOut[4:46]: \u001b[0m\n",
        "{'learning_rate': 0.26840910401979023,\n",
        " 'max_depth': 10.0,\n",
        " 'max_features': 23.0,\n",
        " 'min_samples_leaf': 21.0,\n",
        " 'nf': 121.0}"
       ]
      },
      {
       "metadata": {},
       "output_type": "display_data",
       "text": [
        "\u001b[0;31mOut[5:46]: \u001b[0m\n",
        "{'learning_rate': 0.833610267905131,\n",
        " 'max_depth': 3.0,\n",
        " 'max_features': 22.0,\n",
        " 'min_samples_leaf': 10.0,\n",
        " 'nf': 278.0}"
       ]
      },
      {
       "metadata": {},
       "output_type": "display_data",
       "text": [
        "\u001b[0;31mOut[6:46]: \u001b[0m\n",
        "{'learning_rate': 0.0074829147858297045,\n",
        " 'max_depth': 9.0,\n",
        " 'max_features': 10.0,\n",
        " 'min_samples_leaf': 23.0,\n",
        " 'nf': 15.0}"
       ]
      },
      {
       "metadata": {},
       "output_type": "display_data",
       "text": [
        "\u001b[0;31mOut[7:46]: \u001b[0m\n",
        "{'learning_rate': 0.743130006310607,\n",
        " 'max_depth': 6.0,\n",
        " 'max_features': 16.0,\n",
        " 'min_samples_leaf': 22.0,\n",
        " 'nf': 96.0}"
       ]
      }
     ],
     "prompt_number": 57
    },
    {
     "cell_type": "markdown",
     "metadata": {},
     "source": [
      "wait for the jobs to end. This will take some time. Also your computer can get really hot, so use the time to arange some cooling to it."
     ]
    },
    {
     "cell_type": "code",
     "collapsed": false,
     "input": [
      "!sort -n -r ../data-cache/hyperopt.txt > ../data-cache/hyperopt.sort.txt\n",
      "!head -n 5 ../data-cache/hyperopt.sort.txt"
     ],
     "language": "python",
     "metadata": {},
     "outputs": [
      {
       "output_type": "stream",
       "stream": "stdout",
       "text": [
        "1.0 1.0 1387 {'n_estimators': 1000, 'pratio': 1, 'max_features': 16.0, 'learning_rate': 0.743130006310607, 'max_depth': 6.0, 'nf': 96.0, 'min_samples_leaf': 22.0}\r\n",
        "1.0 1.0 1377 {'n_estimators': 1000, 'pratio': 1, 'max_features': 23.0, 'learning_rate': 0.26840910401979023, 'max_depth': 10.0, 'nf': 121.0, 'min_samples_leaf': 21.0}\r\n",
        "1.0 1.0 1372 {'n_estimators': 1000, 'pratio': 1, 'max_features': 14.0, 'learning_rate': 0.016273346783129052, 'max_depth': 6.0, 'nf': 172.0, 'min_samples_leaf': 3.0}\r\n",
        "0.998188405797 1.0 1386 {'n_estimators': 1000, 'pratio': 1, 'max_features': 10.0, 'learning_rate': 0.0074829147858297045, 'max_depth': 9.0, 'nf': 15.0, 'min_samples_leaf': 23.0}\r\n",
        "0.998188405797 1.0 1377 {'n_estimators': 1000, 'pratio': 1, 'max_features': 22.0, 'learning_rate': 0.08421933314518218, 'max_depth': 15.0, 'nf': 176.0, 'min_samples_leaf': 26.0}\r\n"
       ]
      }
     ],
     "prompt_number": 58
    },
    {
     "cell_type": "code",
     "collapsed": false,
     "input": [
      "fp = open('../data-cache/hyperopt.sort.txt')\n",
      "hyeropt_results = []\n",
      "for l in fp:\n",
      "    if l.startswith('failed'):\n",
      "        continue\n",
      "    l = l.split()\n",
      "    validate_score = float(l[0])\n",
      "    train_score = float(l[1])\n",
      "    pid = int(l[2])\n",
      "    args = eval(''.join(l[3:]))\n",
      "    hyeropt_results.append((validate_score, train_score, pid, args))\n",
      "fp.close()\n",
      "len(hyeropt_results)"
     ],
     "language": "python",
     "metadata": {},
     "outputs": [
      {
       "metadata": {},
       "output_type": "pyout",
       "prompt_number": 59,
       "text": [
        "774"
       ]
      }
     ],
     "prompt_number": 59
    },
    {
     "cell_type": "heading",
     "level": 2,
     "metadata": {},
     "source": [
      "Predicition/Bagging/Validation"
     ]
    },
    {
     "cell_type": "code",
     "collapsed": false,
     "input": [
      "Nt, NFF = Xt.shape\n",
      "assert NF == NFF\n",
      "Nt, NFF"
     ],
     "language": "python",
     "metadata": {},
     "outputs": [
      {
       "metadata": {},
       "output_type": "pyout",
       "prompt_number": 60,
       "text": [
        "(150, 480)"
       ]
      }
     ],
     "prompt_number": 60
    },
    {
     "cell_type": "code",
     "collapsed": false,
     "input": [
      "!rm /tmp/Xt.mmap\n",
      "Xt_shape = (Nt, NF)\n",
      "mmXt = np.memmap('/tmp/Xt.mmap', shape=Xt_shape, dtype=np.float32, mode='w+')\n",
      "mmXt[:,:] = Xt[:,pn_importance_order]\n",
      "del mmXt # flush to disk"
     ],
     "language": "python",
     "metadata": {},
     "outputs": [],
     "prompt_number": 61
    },
    {
     "cell_type": "code",
     "collapsed": false,
     "input": [
      "clients['Xt_shape'] = Xt_shape\n",
      "clients['target'] = target"
     ],
     "language": "python",
     "metadata": {},
     "outputs": [],
     "prompt_number": 62
    },
    {
     "cell_type": "code",
     "collapsed": false,
     "input": [
      "%%px\n",
      "Xt = np.memmap('/tmp/Xt.mmap', shape=Xt_shape, dtype=np.float32, mode='r')"
     ],
     "language": "python",
     "metadata": {},
     "outputs": [],
     "prompt_number": 63
    },
    {
     "cell_type": "code",
     "collapsed": false,
     "input": [
      "def predict_work(args):\n",
      "    from lockfile import LockFile\n",
      "    from sklearn.ensemble import GradientBoostingClassifier \n",
      "    import cPickle as pickle\n",
      "\n",
      "    N = X_shape[0]\n",
      "    NF = int(args.get('nf', X_shape[1]))\n",
      "    pratio = int(args.get('pratio',1))\n",
      "    # use out-of-bag samples to estimate the generalization error\n",
      "    sample_train, sample_validate = random_train_validation_split(pratio=pratio)    \n",
      "\n",
      "    X_trn = X[sample_train,:NF]\n",
      "    y_trn = y[sample_train]\n",
      "    \n",
      "    X_val = X[sample_validate,:NF]\n",
      "    y_val = y[sample_validate]\n",
      "    \n",
      "    X_test = Xt[:,:NF]\n",
      "    \n",
      "\n",
      "    from sklearn.ensemble import GradientBoostingClassifier \n",
      "    est = GradientBoostingClassifier()\n",
      "\n",
      "    params = dict((k,int(v) if isinstance(v, float) and abs(v - int(v)) < 1e-3 else v)\n",
      "                          for k, v in args.iteritems() if k not in ['nf', 'pratio'])\n",
      "    est.set_params(**params)\n",
      "#     est.loss__ = NAUC(2)\n",
      "    try:\n",
      "        est.fit(X_trn, y_trn)\n",
      "\n",
      "        y_val_est = est.predict_proba(X_val)[:,1]\n",
      "        \n",
      "        y_test_est = est.predict_proba(X_test)[:,1]\n",
      "\n",
      "        lock = LockFile('.lock')\n",
      "        with lock:\n",
      "            with open('../data-cache/validate.spkl','ab') as fp:\n",
      "                # in a later stage we will use the OOB samples to make predictions on all samples\n",
      "                # so keep a record of the index of each OOB sample\n",
      "                pickle.dump((sample_validate,y_val_est), fp, -1)\n",
      "            with open('../data-cache/%s_test.spkl'%target,'ab') as fp:\n",
      "                # in a later stage we will use the OOB samples to make predictions on all samples\n",
      "                # so keep a record of the index of each OOB sample\n",
      "                pickle.dump(y_test_est, fp, -1)\n",
      "    except Exception as e:\n",
      "        return e\n",
      "    from sklearn.metrics import roc_auc_score\n",
      "    #  (their p_ratio will be different) so this error measure is not completely accurate\n",
      "    return roc_auc_score(y_val, y_val_est)"
     ],
     "language": "python",
     "metadata": {},
     "outputs": [],
     "prompt_number": 64
    },
    {
     "cell_type": "code",
     "collapsed": false,
     "input": [
      "!rm ../data-cache/validate.spkl\n",
      "!rm ../data-cache/{target}_test.spkl"
     ],
     "language": "python",
     "metadata": {},
     "outputs": [],
     "prompt_number": 65
    },
    {
     "cell_type": "code",
     "collapsed": false,
     "input": [
      "from collections import defaultdict\n",
      "pid2args_list = defaultdict(list)\n",
      "for res in hyeropt_results:\n",
      "    validation_score = res[0]\n",
      "    test_score = res[1]\n",
      "    pid = res[2]\n",
      "    args = res[3]\n",
      "    pid2args_list[pid].append((validation_score, args))"
     ],
     "language": "python",
     "metadata": {},
     "outputs": [],
     "prompt_number": 66
    },
    {
     "cell_type": "code",
     "collapsed": false,
     "input": [
      "args_list = []\n",
      "for v in pid2args_list.values():\n",
      "    print v[1]\n",
      "    for vv in v[:4]:\n",
      "        args_list.append(vv[1])"
     ],
     "language": "python",
     "metadata": {},
     "outputs": [
      {
       "output_type": "stream",
       "stream": "stdout",
       "text": [
        "(0.923913043478, {'learning_rate': 0.3127277707970103, 'nf': 16.0, 'min_samples_leaf': 14.0, 'n_estimators': 1000, 'pratio': 1, 'max_features': 12.0, 'max_depth': 18.0})\n",
        "(0.998188405797, {'learning_rate': 0.08421933314518218, 'nf': 176.0, 'min_samples_leaf': 26.0, 'n_estimators': 1000, 'pratio': 1, 'max_features': 22.0, 'max_depth': 15.0})\n",
        "(0.86231884058, {'learning_rate': 0.0051556466791173195, 'nf': 300.0, 'min_samples_leaf': 2.0, 'n_estimators': 1000, 'pratio': 1, 'max_features': 26.0, 'max_depth': 7.0})\n",
        "(0.996376811594, {'learning_rate': 0.009379599636176498, 'nf': 16.0, 'min_samples_leaf': 25.0, 'n_estimators': 1000, 'pratio': 1, 'max_features': 15.0, 'max_depth': 9.0})\n",
        "(0.994565217391, {'learning_rate': 0.16266020779091664, 'nf': 158.0, 'min_samples_leaf': 20.0, 'n_estimators': 1000, 'pratio': 1, 'max_features': 18.0, 'max_depth': 10.0})\n",
        "(0.998188405797, {'learning_rate': 0.012325309500310029, 'nf': 177.0, 'min_samples_leaf': 5.0, 'n_estimators': 1000, 'pratio': 1, 'max_features': 17.0, 'max_depth': 3.0})\n",
        "(0.965579710145, {'learning_rate': 0.9885380412204035, 'nf': 151.0, 'min_samples_leaf': 14.0, 'n_estimators': 1000, 'pratio': 1, 'max_features': 18.0, 'max_depth': 7.0})\n",
        "(0.916666666667, {'learning_rate': 0.4339857336888007, 'nf': 27.0, 'min_samples_leaf': 15.0, 'n_estimators': 1000, 'pratio': 1, 'max_features': 10.0, 'max_depth': 14.0})\n"
       ]
      }
     ],
     "prompt_number": 67
    },
    {
     "cell_type": "code",
     "collapsed": false,
     "input": [
      "args_list"
     ],
     "language": "python",
     "metadata": {},
     "outputs": [
      {
       "metadata": {},
       "output_type": "pyout",
       "prompt_number": 68,
       "text": [
        "[{'learning_rate': 0.035907527443119265,\n",
        "  'max_depth': 14.0,\n",
        "  'max_features': 18.0,\n",
        "  'min_samples_leaf': 18.0,\n",
        "  'n_estimators': 1000,\n",
        "  'nf': 18.0,\n",
        "  'pratio': 1},\n",
        " {'learning_rate': 0.3127277707970103,\n",
        "  'max_depth': 18.0,\n",
        "  'max_features': 12.0,\n",
        "  'min_samples_leaf': 14.0,\n",
        "  'n_estimators': 1000,\n",
        "  'nf': 16.0,\n",
        "  'pratio': 1},\n",
        " {'learning_rate': 0.05785381661813288,\n",
        "  'max_depth': 6.0,\n",
        "  'max_features': 17.0,\n",
        "  'min_samples_leaf': 14.0,\n",
        "  'n_estimators': 1000,\n",
        "  'nf': 20.0,\n",
        "  'pratio': 1},\n",
        " {'learning_rate': 0.2015009395794558,\n",
        "  'max_depth': 18.0,\n",
        "  'max_features': 14.0,\n",
        "  'min_samples_leaf': 12.0,\n",
        "  'n_estimators': 1000,\n",
        "  'nf': 15.0,\n",
        "  'pratio': 1},\n",
        " {'learning_rate': 0.26840910401979023,\n",
        "  'max_depth': 10.0,\n",
        "  'max_features': 23.0,\n",
        "  'min_samples_leaf': 21.0,\n",
        "  'n_estimators': 1000,\n",
        "  'nf': 121.0,\n",
        "  'pratio': 1},\n",
        " {'learning_rate': 0.08421933314518218,\n",
        "  'max_depth': 15.0,\n",
        "  'max_features': 22.0,\n",
        "  'min_samples_leaf': 26.0,\n",
        "  'n_estimators': 1000,\n",
        "  'nf': 176.0,\n",
        "  'pratio': 1},\n",
        " {'learning_rate': 0.014994719213255552,\n",
        "  'max_depth': 7.0,\n",
        "  'max_features': 29.0,\n",
        "  'min_samples_leaf': 23.0,\n",
        "  'n_estimators': 1000,\n",
        "  'nf': 164.0,\n",
        "  'pratio': 1},\n",
        " {'learning_rate': 0.06586998196882567,\n",
        "  'max_depth': 7.0,\n",
        "  'max_features': 25.0,\n",
        "  'min_samples_leaf': 20.0,\n",
        "  'n_estimators': 1000,\n",
        "  'nf': 220.0,\n",
        "  'pratio': 1},\n",
        " {'learning_rate': 0.833610267905131,\n",
        "  'max_depth': 3.0,\n",
        "  'max_features': 22.0,\n",
        "  'min_samples_leaf': 10.0,\n",
        "  'n_estimators': 1000,\n",
        "  'nf': 278.0,\n",
        "  'pratio': 1},\n",
        " {'learning_rate': 0.0051556466791173195,\n",
        "  'max_depth': 7.0,\n",
        "  'max_features': 26.0,\n",
        "  'min_samples_leaf': 2.0,\n",
        "  'n_estimators': 1000,\n",
        "  'nf': 300.0,\n",
        "  'pratio': 1},\n",
        " {'learning_rate': 0.003708153712561447,\n",
        "  'max_depth': 10.0,\n",
        "  'max_features': 26.0,\n",
        "  'min_samples_leaf': 2.0,\n",
        "  'n_estimators': 1000,\n",
        "  'nf': 272.0,\n",
        "  'pratio': 1},\n",
        " {'learning_rate': 0.011131561641445346,\n",
        "  'max_depth': 7.0,\n",
        "  'max_features': 26.0,\n",
        "  'min_samples_leaf': 2.0,\n",
        "  'n_estimators': 1000,\n",
        "  'nf': 280.0,\n",
        "  'pratio': 1},\n",
        " {'learning_rate': 0.0074829147858297045,\n",
        "  'max_depth': 9.0,\n",
        "  'max_features': 10.0,\n",
        "  'min_samples_leaf': 23.0,\n",
        "  'n_estimators': 1000,\n",
        "  'nf': 15.0,\n",
        "  'pratio': 1},\n",
        " {'learning_rate': 0.009379599636176498,\n",
        "  'max_depth': 9.0,\n",
        "  'max_features': 15.0,\n",
        "  'min_samples_leaf': 25.0,\n",
        "  'n_estimators': 1000,\n",
        "  'nf': 16.0,\n",
        "  'pratio': 1},\n",
        " {'learning_rate': 0.012415662877131658,\n",
        "  'max_depth': 7.0,\n",
        "  'max_features': 11.0,\n",
        "  'min_samples_leaf': 20.0,\n",
        "  'n_estimators': 1000,\n",
        "  'nf': 13.0,\n",
        "  'pratio': 1},\n",
        " {'learning_rate': 0.004753262257803044,\n",
        "  'max_depth': 6.0,\n",
        "  'max_features': 15.0,\n",
        "  'min_samples_leaf': 27.0,\n",
        "  'n_estimators': 1000,\n",
        "  'nf': 17.0,\n",
        "  'pratio': 1},\n",
        " {'learning_rate': 0.743130006310607,\n",
        "  'max_depth': 6.0,\n",
        "  'max_features': 16.0,\n",
        "  'min_samples_leaf': 22.0,\n",
        "  'n_estimators': 1000,\n",
        "  'nf': 96.0,\n",
        "  'pratio': 1},\n",
        " {'learning_rate': 0.16266020779091664,\n",
        "  'max_depth': 10.0,\n",
        "  'max_features': 18.0,\n",
        "  'min_samples_leaf': 20.0,\n",
        "  'n_estimators': 1000,\n",
        "  'nf': 158.0,\n",
        "  'pratio': 1},\n",
        " {'learning_rate': 0.5194164418581994,\n",
        "  'max_depth': 6.0,\n",
        "  'max_features': 26.0,\n",
        "  'min_samples_leaf': 19.0,\n",
        "  'n_estimators': 1000,\n",
        "  'nf': 115.0,\n",
        "  'pratio': 1},\n",
        " {'learning_rate': 0.26961474915074457,\n",
        "  'max_depth': 7.0,\n",
        "  'max_features': 15.0,\n",
        "  'min_samples_leaf': 20.0,\n",
        "  'n_estimators': 1000,\n",
        "  'nf': 91.0,\n",
        "  'pratio': 1},\n",
        " {'learning_rate': 0.016273346783129052,\n",
        "  'max_depth': 6.0,\n",
        "  'max_features': 14.0,\n",
        "  'min_samples_leaf': 3.0,\n",
        "  'n_estimators': 1000,\n",
        "  'nf': 172.0,\n",
        "  'pratio': 1},\n",
        " {'learning_rate': 0.012325309500310029,\n",
        "  'max_depth': 3.0,\n",
        "  'max_features': 17.0,\n",
        "  'min_samples_leaf': 5.0,\n",
        "  'n_estimators': 1000,\n",
        "  'nf': 177.0,\n",
        "  'pratio': 1},\n",
        " {'learning_rate': 0.2099907912434229,\n",
        "  'max_depth': 14.0,\n",
        "  'max_features': 12.0,\n",
        "  'min_samples_leaf': 4.0,\n",
        "  'n_estimators': 1000,\n",
        "  'nf': 99.0,\n",
        "  'pratio': 1},\n",
        " {'learning_rate': 0.01139410422156201,\n",
        "  'max_depth': 3.0,\n",
        "  'max_features': 22.0,\n",
        "  'min_samples_leaf': 3.0,\n",
        "  'n_estimators': 1000,\n",
        "  'nf': 229.0,\n",
        "  'pratio': 1},\n",
        " {'learning_rate': 0.7477400914297095,\n",
        "  'max_depth': 6.0,\n",
        "  'max_features': 18.0,\n",
        "  'min_samples_leaf': 8.0,\n",
        "  'n_estimators': 1000,\n",
        "  'nf': 153.0,\n",
        "  'pratio': 1},\n",
        " {'learning_rate': 0.9885380412204035,\n",
        "  'max_depth': 7.0,\n",
        "  'max_features': 18.0,\n",
        "  'min_samples_leaf': 14.0,\n",
        "  'n_estimators': 1000,\n",
        "  'nf': 151.0,\n",
        "  'pratio': 1},\n",
        " {'learning_rate': 0.833610267905131,\n",
        "  'max_depth': 3.0,\n",
        "  'max_features': 22.0,\n",
        "  'min_samples_leaf': 10.0,\n",
        "  'n_estimators': 1000,\n",
        "  'nf': 278.0,\n",
        "  'pratio': 1},\n",
        " {'learning_rate': 0.3578316550030738,\n",
        "  'max_depth': 6.0,\n",
        "  'max_features': 16.0,\n",
        "  'min_samples_leaf': 19.0,\n",
        "  'n_estimators': 1000,\n",
        "  'nf': 28.0,\n",
        "  'pratio': 1},\n",
        " {'learning_rate': 0.056923904333768996,\n",
        "  'max_depth': 6.0,\n",
        "  'max_features': 10.0,\n",
        "  'min_samples_leaf': 14.0,\n",
        "  'n_estimators': 1000,\n",
        "  'nf': 11.0,\n",
        "  'pratio': 1},\n",
        " {'learning_rate': 0.4339857336888007,\n",
        "  'max_depth': 14.0,\n",
        "  'max_features': 10.0,\n",
        "  'min_samples_leaf': 15.0,\n",
        "  'n_estimators': 1000,\n",
        "  'nf': 27.0,\n",
        "  'pratio': 1},\n",
        " {'learning_rate': 0.05429269285657218,\n",
        "  'max_depth': 7.0,\n",
        "  'max_features': 10.0,\n",
        "  'min_samples_leaf': 20.0,\n",
        "  'n_estimators': 1000,\n",
        "  'nf': 11.0,\n",
        "  'pratio': 1},\n",
        " {'learning_rate': 0.04928345549155947,\n",
        "  'max_depth': 3.0,\n",
        "  'max_features': 15.0,\n",
        "  'min_samples_leaf': 19.0,\n",
        "  'n_estimators': 1000,\n",
        "  'nf': 40.0,\n",
        "  'pratio': 1}]"
       ]
      }
     ],
     "prompt_number": 68
    },
    {
     "cell_type": "code",
     "collapsed": false,
     "input": [
      "results = lv.map(predict_work, args_list*Ncores)"
     ],
     "language": "python",
     "metadata": {},
     "outputs": [],
     "prompt_number": 69
    },
    {
     "cell_type": "code",
     "collapsed": false,
     "input": [
      "import IPython\n",
      "itr = results.__iter__()\n",
      "while True:\n",
      "    try:\n",
      "        r = itr.next()\n",
      "    except StopIteration:\n",
      "        print 'stopped'\n",
      "        break\n",
      "    except IPython.parallel.error.RemoteError as e:\n",
      "        print e\n",
      "        continue\n",
      "    except Exception as e:\n",
      "        print e.__class__\n",
      "        continue\n",
      "    print r"
     ],
     "language": "python",
     "metadata": {},
     "outputs": [
      {
       "output_type": "stream",
       "stream": "stdout",
       "text": [
        "0.965579710145\n",
        "0.880434782609\n",
        "0.990942028986\n",
        "0.891304347826\n",
        "0.686594202899\n",
        "0.115942028986\n",
        "0.75"
       ]
      },
      {
       "output_type": "stream",
       "stream": "stdout",
       "text": [
        "\n",
        "0.967391304348\n",
        "0.266304347826\n",
        "0.182971014493"
       ]
      },
      {
       "output_type": "stream",
       "stream": "stdout",
       "text": [
        "\n",
        "0.974637681159"
       ]
      },
      {
       "output_type": "stream",
       "stream": "stdout",
       "text": [
        "\n",
        "0.836956521739\n",
        "0.856884057971\n",
        "0.945652173913\n",
        "1.0\n",
        "0.740942028986\n",
        "0.545289855072\n",
        "0.972826086957\n",
        "0.826086956522\n",
        "0.563405797101\n",
        "0.971014492754\n",
        "0.980072463768\n",
        "0.905797101449\n",
        "0.650362318841\n",
        "0.786231884058\n",
        "0.295289855072\n",
        "0.184782608696\n",
        "0.505434782609\n",
        "0.938405797101\n",
        "0.26268115942\n",
        "0.855072463768\n",
        "0.833333333333\n",
        "0.675724637681\n",
        "0.842391304348\n",
        "0.938405797101\n",
        "0.659420289855\n",
        "0.771739130435\n",
        "0.0326086956522\n",
        "0.480072463768\n",
        "0.971014492754\n",
        "0.579710144928\n",
        "0.989130434783"
       ]
      },
      {
       "output_type": "stream",
       "stream": "stdout",
       "text": [
        "\n",
        "0.235507246377"
       ]
      },
      {
       "output_type": "stream",
       "stream": "stdout",
       "text": [
        "\n",
        "0.143115942029\n",
        "0.871376811594\n",
        "0.998188405797\n",
        "0.688405797101\n",
        "0.646739130435\n",
        "0.530797101449\n",
        "0.648550724638\n",
        "0.217391304348\n",
        "0.523550724638\n",
        "0.632246376812\n",
        "0.184782608696\n",
        "0.721014492754\n",
        "0.54347826087\n",
        "0.724637681159\n",
        "0.695652173913\n",
        "0.463768115942\n",
        "0.608695652174\n",
        "0.485507246377\n",
        "0.860507246377\n",
        "0.884963768116\n",
        "0.759057971014\n",
        "0.882246376812\n",
        "0.972826086957\n",
        "1.0\n",
        "0.842391304348\n",
        "0.833333333333\n",
        "0.858695652174\n",
        "0.994565217391\n",
        "0.54347826087\n",
        "0.885869565217\n",
        "0.253623188406"
       ]
      },
      {
       "output_type": "stream",
       "stream": "stdout",
       "text": [
        "\n",
        "0.833333333333"
       ]
      },
      {
       "output_type": "stream",
       "stream": "stdout",
       "text": [
        "\n",
        "0.833333333333\n",
        "0.275362318841\n",
        "1.0\n",
        "1.0\n",
        "0.983695652174\n",
        "0.967391304348\n",
        "0.742753623188\n",
        "0.452898550725\n",
        "0.619565217391\n",
        "0.550724637681\n",
        "0.822463768116\n",
        "0.963768115942\n",
        "0.990942028986\n",
        "0.54347826087\n",
        "0.594202898551\n",
        "0.150362318841\n",
        "0.226449275362\n",
        "0.574275362319\n",
        "0.980072463768\n",
        "0.657608695652\n",
        "0.717391304348\n",
        "0.889492753623\n",
        "0.692028985507\n",
        "0.143115942029\n",
        "0.869565217391\n",
        "0.827898550725\n",
        "0.726449275362\n",
        "0.467391304348\n",
        "0.815217391304\n",
        "0.679347826087\n",
        "0.541666666667"
       ]
      },
      {
       "output_type": "stream",
       "stream": "stdout",
       "text": [
        "\n",
        "0.400362318841"
       ]
      },
      {
       "output_type": "stream",
       "stream": "stdout",
       "text": [
        "\n",
        "0.547101449275\n",
        "0.79347826087\n",
        "0.951086956522\n",
        "0.949275362319\n",
        "0.248188405797\n",
        "0.731884057971\n",
        "0.981884057971\n",
        "0.822463768116\n",
        "0.992753623188\n",
        "0.650362318841\n",
        "0.530797101449\n",
        "0.856884057971\n",
        "0.527173913043\n",
        "0.684782608696\n",
        "0.889492753623\n",
        "0.958333333333\n",
        "0.985507246377\n",
        "0.846014492754\n",
        "0.902173913043\n",
        "0.853260869565\n",
        "0.751811594203\n",
        "0.925724637681\n",
        "0.784420289855\n",
        "0.972826086957\n",
        "0.773550724638\n",
        "0.733695652174\n",
        "0.0724637681159\n",
        "0.68115942029\n",
        "0.188405797101\n",
        "0.516304347826\n",
        "0.856884057971"
       ]
      },
      {
       "output_type": "stream",
       "stream": "stdout",
       "text": [
        "\n",
        "0.927536231884"
       ]
      },
      {
       "output_type": "stream",
       "stream": "stdout",
       "text": [
        "\n",
        "0.217391304348\n",
        "0.672101449275\n",
        "0.961956521739\n",
        "0.998188405797\n",
        "0.916666666667\n",
        "0.626811594203\n",
        "0.43115942029\n",
        "0.936594202899\n",
        "0.846014492754\n",
        "0.539855072464\n",
        "0.876811594203\n",
        "0.161231884058\n",
        "0.653985507246\n",
        "0.860507246377\n",
        "0.652173913043\n",
        "0.746376811594\n",
        "1.0\n",
        "0.884057971014\n",
        "0.846014492754\n",
        "1.0\n",
        "0.610507246377\n",
        "0.461956521739\n",
        "0.95652173913\n",
        "0.969202898551\n",
        "0.465579710145\n",
        "0.289855072464\n",
        "1.0\n",
        "0.746376811594\n",
        "0.942028985507\n",
        "0.541666666667\n",
        "0.925724637681"
       ]
      },
      {
       "output_type": "stream",
       "stream": "stdout",
       "text": [
        "\n",
        "0.91847826087"
       ]
      },
      {
       "output_type": "stream",
       "stream": "stdout",
       "text": [
        "\n",
        "0.342391304348\n",
        "0.996376811594\n",
        "0.949275362319\n",
        "0.742753623188\n",
        "0.869565217391\n",
        "0.978260869565\n",
        "0.878623188406\n",
        "0.965579710145\n",
        "0.813405797101\n",
        "0.452898550725\n",
        "0.748188405797\n",
        "0.764492753623\n",
        "0.976449275362\n",
        "0.88768115942\n",
        "0.530797101449\n",
        "0.13768115942\n",
        "0.692028985507\n",
        "0.798913043478\n",
        "0.771739130435\n",
        "0.967391304348\n",
        "0.58152173913\n",
        "0.900362318841\n",
        "0.753623188406\n",
        "0.13768115942\n",
        "0.684782608696\n",
        "0.780797101449\n",
        "0.971014492754\n",
        "0.920289855072\n",
        "0.480072463768\n",
        "0.628623188406\n",
        "0.83152173913"
       ]
      },
      {
       "output_type": "stream",
       "stream": "stdout",
       "text": [
        "\n",
        "0.186594202899"
       ]
      },
      {
       "output_type": "stream",
       "stream": "stdout",
       "text": [
        "\n",
        "0.992753623188\n",
        "0.969202898551\n",
        "0.786231884058\n",
        "0.753623188406\n",
        "0.659420289855\n",
        "0.573369565217\n",
        "0.992753623188\n",
        "0.934782608696\n",
        "0.989130434783\n",
        "1.0\n",
        "0.5\n",
        "0.385869565217\n",
        "0.135869565217\n",
        "0.768115942029\n",
        "0.289855072464\n",
        "0.690217391304\n",
        "0.95652173913\n",
        "0.677536231884\n",
        "0.869565217391\n",
        "0.670289855072\n",
        "0.994565217391\n",
        "0.940217391304\n",
        "0.784420289855\n",
        "0.335144927536\n",
        "0.98731884058\n",
        "0.297101449275\n",
        "0.596014492754\n",
        "0.711956521739\n",
        "0.0108695652174\n",
        "0.467391304348\n",
        "0.867753623188"
       ]
      },
      {
       "output_type": "stream",
       "stream": "stdout",
       "text": [
        "\n",
        "0.740942028986"
       ]
      },
      {
       "output_type": "stream",
       "stream": "stdout",
       "text": [
        "\n",
        "0.708333333333\n",
        "0.829710144928\n",
        "0.920289855072\n",
        "0.75\n",
        "0.989130434783\n",
        "0.472826086957\n",
        "0.534420289855\n",
        "0.161231884058\n",
        "0.536231884058\n",
        "0.518115942029\n",
        "0.798913043478\n",
        "0.672101449275\n",
        "0.985507246377\n",
        "0.630434782609\n",
        "1.0\n",
        "0.0615942028986\n",
        "0.590579710145\n",
        "0.474637681159\n",
        "0.811594202899\n",
        "0.922101449275\n",
        "0.454710144928\n",
        "stopped\n"
       ]
      }
     ],
     "prompt_number": 70
    },
    {
     "cell_type": "code",
     "collapsed": false,
     "input": [
      "fp = open('../data-cache/validate.spkl','rb')\n",
      "count = 0\n",
      "y_est = np.zeros(N)\n",
      "y_count = np.zeros(N)\n",
      "vals = []\n",
      "while True:\n",
      "    try:\n",
      "        sample_validate,y_val_est = pickle.load(fp)\n",
      "    except:\n",
      "        break\n",
      "    count += 1\n",
      "    y_est[sample_validate] += y_val_est\n",
      "    y_count[sample_validate] += 1\n",
      "\n",
      "    idx = y_val_est.argsort()[::-1]\n",
      "    n = len(y_val_est)\n",
      "    val_recall_support = np.zeros(n)\n",
      "    p_sum = 0.\n",
      "    for i,j in enumerate(idx):\n",
      "        p_sum += float(y[sample_validate[j]])\n",
      "        val_recall_support[i] = p_sum\n",
      "    val_x = np.linspace(0.,100.,n)\n",
      "    vals.append((val_x, val_recall_support))\n",
      "\n",
      "y_est /= y_count"
     ],
     "language": "python",
     "metadata": {},
     "outputs": [],
     "prompt_number": 71
    },
    {
     "cell_type": "code",
     "collapsed": false,
     "input": [
      "np.sum(y_count == 0)"
     ],
     "language": "python",
     "metadata": {},
     "outputs": [
      {
       "metadata": {},
       "output_type": "pyout",
       "prompt_number": 72,
       "text": [
        "0"
       ]
      }
     ],
     "prompt_number": 72
    },
    {
     "cell_type": "code",
     "collapsed": false,
     "input": [
      "from sklearn.metrics import roc_auc_score\n",
      "y_no_overlap = [r for r,l in zip(y, latencies) if abs(l-int(l)) < 0.01]\n",
      "y_est_no_overlap = [r for r,l in zip(y_est, latencies) if abs(l-int(l)) < 0.01]\n",
      "roc_auc_score(y_no_overlap, y_est_no_overlap)"
     ],
     "language": "python",
     "metadata": {},
     "outputs": [
      {
       "metadata": {},
       "output_type": "pyout",
       "prompt_number": 73,
       "text": [
        "0.74867724867724872"
       ]
      }
     ],
     "prompt_number": 73
    },
    {
     "cell_type": "code",
     "collapsed": false,
     "input": [
      "with open('../data-cache/%s_predict.spkl'%target,'wb') as fp:\n",
      "    pickle.dump((y_no_overlap, y_est_no_overlap), fp, -1)"
     ],
     "language": "python",
     "metadata": {},
     "outputs": [],
     "prompt_number": 74
    },
    {
     "cell_type": "markdown",
     "metadata": {},
     "source": [
      "after running the entire notebook, again and again, on all targets - continue to 141107-GBC-combine"
     ]
    },
    {
     "cell_type": "code",
     "collapsed": false,
     "input": [],
     "language": "python",
     "metadata": {},
     "outputs": []
    }
   ],
   "metadata": {}
  }
 ]
}