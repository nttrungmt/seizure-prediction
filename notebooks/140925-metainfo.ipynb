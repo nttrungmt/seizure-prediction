{
 "metadata": {
  "name": "",
  "signature": "sha256:11c8b322042d63da93e0d0f22d857a80e466aff22b9c28979a8a9e5a077557c6"
 },
 "nbformat": 3,
 "nbformat_minor": 0,
 "worksheets": [
  {
   "cells": [
    {
     "cell_type": "code",
     "collapsed": false,
     "input": [
      "%matplotlib inline\n",
      "from matplotlib import pylab as pl\n",
      "import cPickle as pickle\n",
      "import pandas as pd\n",
      "import numpy as np\n",
      "import os\n",
      "import random\n",
      "from collections import defaultdict"
     ],
     "language": "python",
     "metadata": {},
     "outputs": [],
     "prompt_number": 1
    },
    {
     "cell_type": "code",
     "collapsed": false,
     "input": [
      "import sys\n",
      "sys.path.append('..')"
     ],
     "language": "python",
     "metadata": {},
     "outputs": [],
     "prompt_number": 2
    },
    {
     "cell_type": "markdown",
     "metadata": {},
     "source": [
      "Compute AUC for each target separatly"
     ]
    },
    {
     "cell_type": "code",
     "collapsed": false,
     "input": [
      "import scipy.io\n",
      "target2metainfo = defaultdict(dict)\n",
      "for target in ['Dog_1', 'Dog_2', 'Dog_3', 'Dog_4', 'Dog_5', 'Patient_1', 'Patient_2']:\n",
      "    print target\n",
      "    \n",
      "    last_sequence = last_data_length_sec = last_Fs = last_channels = last_d_shape = None\n",
      "    for data_type in ['preictal', 'interictal', 'test']:\n",
      "        print data_type\n",
      "        \n",
      "        first_sequence = last_sequence = last_data_length_sec = last_Fs = last_channels = last_d_shape = None\n",
      "        sequences = []\n",
      "        for segment in range(1,10000):\n",
      "            fname = '../seizure-data/%s/%s_%s_segment_%04d.mat'%(target,target,data_type,segment)\n",
      "            try:\n",
      "                data = scipy.io.loadmat(fname)\n",
      "            except:\n",
      "                break\n",
      "            k = '%s_segment_%d'%(data_type, segment)\n",
      "            data_length_sec = data[k]['data_length_sec'][0,0][0,0]\n",
      "            target2metainfo[target]['data_length_sec'] = data_length_sec\n",
      "            try:\n",
      "                sequence = data[k]['sequence'][0,0][0,0]\n",
      "            except:\n",
      "                sequence = 1 # test data\n",
      "            Fs = float(data[k]['sampling_frequency'][0,0][0,0])\n",
      "            target2metainfo[target]['Fs'] = Fs\n",
      "            channels = [t[0] for t in data[k]['channels'][0,0][0]]\n",
      "            target2metainfo[target]['channels'] = channels\n",
      "            d = data[k]['data'][0,0]\n",
      "#             print segment,data_length_sec,sequence,Fs,d.shape\n",
      "\n",
      "            assert len(channels) == d.shape[0]\n",
      "            assert int(Fs*data_length_sec + 0.5) == d.shape[1],int(Fs*data_length_sec + 0.5)\n",
      "            assert last_data_length_sec is None or last_data_length_sec == data_length_sec\n",
      "            last_data_length_sec = data_length_sec\n",
      "            assert last_Fs is None or last_Fs == Fs\n",
      "            last_Fs = Fs\n",
      "            assert last_channels is None or all(c1==c2 for c1,c2 in zip(last_channels, channels))\n",
      "            last_channels = channels\n",
      "            assert last_d_shape is None or last_d_shape == d.shape\n",
      "            last_d_shape = d.shape\n",
      "\n",
      "            if last_sequence is None:\n",
      "                first_sequence = sequence\n",
      "            elif last_sequence+1 != sequence:\n",
      "                sequences.append((first_sequence, last_sequence))\n",
      "                first_sequence = sequence\n",
      "            last_sequence = sequence\n",
      "        sequences.append((first_sequence, last_sequence))\n",
      "        target2metainfo[target][data_type + '_nsegments'] = segment-1\n",
      "        target2metainfo[target][data_type + '_sequences'] = sequences\n",
      "        print segment-1, len(sequences)\n"
     ],
     "language": "python",
     "metadata": {},
     "outputs": [
      {
       "output_type": "stream",
       "stream": "stdout",
       "text": [
        "Dog_1\n",
        "preictal\n",
        "24"
       ]
      },
      {
       "output_type": "stream",
       "stream": "stdout",
       "text": [
        " 4\n",
        "interictal\n",
        "480"
       ]
      },
      {
       "output_type": "stream",
       "stream": "stdout",
       "text": [
        " 80\n",
        "test\n",
        "502"
       ]
      },
      {
       "output_type": "stream",
       "stream": "stdout",
       "text": [
        " 502\n",
        "Dog_2\n",
        "preictal\n",
        "42"
       ]
      },
      {
       "output_type": "stream",
       "stream": "stdout",
       "text": [
        " 7\n",
        "interictal\n",
        "500"
       ]
      },
      {
       "output_type": "stream",
       "stream": "stdout",
       "text": [
        " 84\n",
        "test\n",
        "1000"
       ]
      },
      {
       "output_type": "stream",
       "stream": "stdout",
       "text": [
        " 1000\n",
        "Dog_3\n",
        "preictal\n",
        "72"
       ]
      },
      {
       "output_type": "stream",
       "stream": "stdout",
       "text": [
        " 12\n",
        "interictal\n",
        "1440"
       ]
      },
      {
       "output_type": "stream",
       "stream": "stdout",
       "text": [
        " 240\n",
        "test\n",
        "907"
       ]
      },
      {
       "output_type": "stream",
       "stream": "stdout",
       "text": [
        " 907\n",
        "Dog_4\n",
        "preictal\n",
        "97"
       ]
      },
      {
       "output_type": "stream",
       "stream": "stdout",
       "text": [
        " 17\n",
        "interictal\n",
        "804"
       ]
      },
      {
       "output_type": "stream",
       "stream": "stdout",
       "text": [
        " 134\n",
        "test\n",
        "990"
       ]
      },
      {
       "output_type": "stream",
       "stream": "stdout",
       "text": [
        " 990\n",
        "Dog_5\n",
        "preictal\n",
        "30"
       ]
      },
      {
       "output_type": "stream",
       "stream": "stdout",
       "text": [
        " 5\n",
        "interictal\n",
        "450"
       ]
      },
      {
       "output_type": "stream",
       "stream": "stdout",
       "text": [
        " 75\n",
        "test\n",
        "191"
       ]
      },
      {
       "output_type": "stream",
       "stream": "stdout",
       "text": [
        " 191\n",
        "Patient_1\n",
        "preictal\n",
        "18"
       ]
      },
      {
       "output_type": "stream",
       "stream": "stdout",
       "text": [
        " 3\n",
        "interictal\n",
        "50"
       ]
      },
      {
       "output_type": "stream",
       "stream": "stdout",
       "text": [
        " 9\n",
        "test\n",
        "195"
       ]
      },
      {
       "output_type": "stream",
       "stream": "stdout",
       "text": [
        " 195\n",
        "Patient_2\n",
        "preictal\n",
        "18"
       ]
      },
      {
       "output_type": "stream",
       "stream": "stdout",
       "text": [
        " 3\n",
        "interictal\n",
        "42"
       ]
      },
      {
       "output_type": "stream",
       "stream": "stdout",
       "text": [
        " 7\n",
        "test\n",
        "150"
       ]
      },
      {
       "output_type": "stream",
       "stream": "stdout",
       "text": [
        " 150\n"
       ]
      }
     ],
     "prompt_number": 3
    },
    {
     "cell_type": "code",
     "collapsed": false,
     "input": [],
     "language": "python",
     "metadata": {},
     "outputs": [],
     "prompt_number": 3
    },
    {
     "cell_type": "code",
     "collapsed": false,
     "input": [
      "with open('../data-cache/140925-metainfo.pkl','wb') as fp:\n",
      "    pickle.dump(target2metainfo, fp, -1)"
     ],
     "language": "python",
     "metadata": {},
     "outputs": [],
     "prompt_number": 5
    },
    {
     "cell_type": "code",
     "collapsed": false,
     "input": [
      "dict((t,len(target2metainfo[t]['channels'])) for t in target2metainfo.iterkeys())"
     ],
     "language": "python",
     "metadata": {},
     "outputs": [
      {
       "metadata": {},
       "output_type": "pyout",
       "prompt_number": 9,
       "text": [
        "{'Dog_1': 16,\n",
        " 'Dog_2': 16,\n",
        " 'Dog_3': 16,\n",
        " 'Dog_4': 16,\n",
        " 'Dog_5': 15,\n",
        " 'Patient_1': 15,\n",
        " 'Patient_2': 24}"
       ]
      }
     ],
     "prompt_number": 9
    },
    {
     "cell_type": "code",
     "collapsed": false,
     "input": [
      "for target, metainfo in target2metainfo.iteritems():\n",
      "    pnsegments = metainfo['preictal_nsegments']\n",
      "    nsegments = pnsegments + metainfo['interictal_nsegments']\n",
      "    pnsequences = len(metainfo['preictal_sequences'])\n",
      "    nsequences = pnsequences + len(metainfo['interictal_sequences'])\n",
      "    print target,100.*pnsegments/nsegments,100.*pnsequences/nsequences"
     ],
     "language": "python",
     "metadata": {},
     "outputs": [
      {
       "output_type": "stream",
       "stream": "stdout",
       "text": [
        "Dog_2 7.74907749077 7.69230769231\n",
        "Dog_3 4.7619047619 4.7619047619\n",
        "Dog_1 4.7619047619 4.7619047619\n",
        "Dog_4 10.7658157603 11.2582781457\n",
        "Dog_5 6.25 6.25\n",
        "Patient_2 30.0 30.0\n",
        "Patient_1 26.4705882353 25.0\n"
       ]
      }
     ],
     "prompt_number": 11
    },
    {
     "cell_type": "code",
     "collapsed": false,
     "input": [],
     "language": "python",
     "metadata": {},
     "outputs": []
    }
   ],
   "metadata": {}
  }
 ]
}